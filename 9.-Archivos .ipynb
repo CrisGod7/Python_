{
 "cells": [
  {
   "cell_type": "markdown",
   "id": "3f723dd1-7f92-4ab8-923e-98de3a1db9fb",
   "metadata": {},
   "source": [
    "# 9.- Archivos"
   ]
  },
  {
   "cell_type": "markdown",
   "id": "d43b7e5b-7609-4259-9bdb-5cbb52f30d79",
   "metadata": {},
   "source": [
    "## 9.2.-Archivos TXT"
   ]
  },
  {
   "cell_type": "markdown",
   "id": "2aae30a5-95f2-4e6f-8fe5-b40c43766518",
   "metadata": {},
   "source": [
    "Lo primero que haremos será escribir a un archivo de texto con información extraordinariamente importante. \n",
    "\n",
    "A continuación los 4 influencers con más seguidores en tiktok del mundo (Febrero 2021)\n",
    "\n",
    "@charlidamelio D’Amelio 108.1\n",
    "@addisonre Addison 76.4\n",
    "@zachking Zach 56.6\n",
    "@bellapoarch Bella 56.3"
   ]
  },
  {
   "cell_type": "code",
   "id": "3b645420-c1cd-4977-b392-37fde45251c2",
   "metadata": {
    "ExecuteTime": {
     "end_time": "2024-07-04T21:25:08.543843Z",
     "start_time": "2024-07-04T21:25:08.538763Z"
    }
   },
   "source": [
    "with open('seguidores.txt', mode='w') as seguidores:\n",
    "    seguidores.write('@charlidamelio D’Amelio 108.1\\n')\n",
    "    seguidores.write('@addisonre Addison 76.4\\n')\n",
    "    seguidores.write('@zachking Zach 56.6\\n')\n",
    "    seguidores.write('@bellapoarch Bella 56.3\\n')"
   ],
   "outputs": [],
   "execution_count": 6
  },
  {
   "cell_type": "markdown",
   "id": "280440b0-730b-42a1-bf2d-14e57a25f019",
   "metadata": {},
   "source": [
    "Ahora revisaremos los contenidos en python con el siguiente código:"
   ]
  },
  {
   "cell_type": "code",
   "id": "a573ef82-eb54-4fcb-85b6-b398a6eb8576",
   "metadata": {
    "ExecuteTime": {
     "end_time": "2024-07-04T21:31:31.834784Z",
     "start_time": "2024-07-04T21:31:31.829185Z"
    }
   },
   "source": [
    "with open('seguidores.txt', mode='r') as seguidores:\n",
    "    print(f'{\"Handle\":<20}{\"Name\":<10}{\"Followers\":<10}')\n",
    "    for record in seguidores:\n",
    "        handle, name, followers = record.split()\n",
    "        print(f'{handle:<20}{name:<10}{followers:<10}')"
   ],
   "outputs": [
    {
     "name": "stdout",
     "output_type": "stream",
     "text": [
      "Handle              Name      Followers \n",
      "@charlidamelio      D’Amelio  108.1     \n",
      "@addisonre          Addison   76.4      \n",
      "@zachking           Zach      56.6      \n",
      "@bellapoarch        Bella     56.3      \n"
     ]
    }
   ],
   "execution_count": 37
  },
  {
   "cell_type": "markdown",
   "id": "01d17b73-6e87-4f8a-a923-6501929e7e3a",
   "metadata": {},
   "source": [
    "Que pasa si queremos modificar el carhivo desde python? Es un problema"
   ]
  },
  {
   "cell_type": "code",
   "id": "347ba2e9-2241-403d-b485-c5e6fe88b03c",
   "metadata": {
    "ExecuteTime": {
     "end_time": "2024-07-04T21:37:34.749422Z",
     "start_time": "2024-07-04T21:37:34.743635Z"
    }
   },
   "source": [
    "seguidores = open('seguidores.txt', mode='r')\n",
    "seguidores_temporal = open('seguidores_temporal.txt', mode='w')\n",
    "\n",
    "with seguidores , seguidores_temporal:\n",
    "    for record in seguidores:\n",
    "        handle, name, followers = record.split()\n",
    "        if handle != '@charlidamelio Zach 56.6':\n",
    "            seguidores_temporal.write(record)\n",
    "        else:\n",
    "            new_name = \" \".join([handle, \"Charlie\", followers])\n",
    "            seguidores_temporal.write(new_name + \"\\n\")"
   ],
   "outputs": [],
   "execution_count": 40
  },
  {
   "cell_type": "markdown",
   "id": "9e9fd794-614b-4af9-8e19-ecf187e7096e",
   "metadata": {},
   "source": [
    "## 9.3.- Archivos JSON"
   ]
  },
  {
   "cell_type": "markdown",
   "id": "b2f0e150-64e6-4a0c-bf9a-01b14b0474e5",
   "metadata": {},
   "source": [
    "Consideremos el siguiente diccionario que habla de tiktok\n",
    "\n",
    "seguidores_dicc={'seguidores\\n':[\n",
    " {'handle':'@charlidamelio', 'name':'Charlie', 'num_seg':108.1},\n",
    " {'handle':'@addisonre', 'name':'Addison', 'num_seg':76.4},\n",
    " {'handle':'@zachking', 'name':'Zach', 'num_seg':56.6},\n",
    " {'handle':'@bellapoarch', 'name':'Bella', 'num_seg':56.3}]}\n"
   ]
  },
  {
   "cell_type": "code",
   "id": "03037689-e74d-4a37-a700-e7e8bb4548a4",
   "metadata": {
    "ExecuteTime": {
     "end_time": "2024-07-04T21:38:56.546365Z",
     "start_time": "2024-07-04T21:38:56.542093Z"
    }
   },
   "source": "as",
   "outputs": [
    {
     "name": "stdout",
     "output_type": "stream",
     "text": [
      "<_io.TextIOWrapper name='seguidores_temporal.txt' mode='w' encoding='cp1252'>\n"
     ]
    }
   ],
   "execution_count": 41
  },
  {
   "cell_type": "code",
   "execution_count": null,
   "id": "4cc74381-4415-4e2d-a6e9-22ab5cbe564a",
   "metadata": {},
   "outputs": [],
   "source": []
  },
  {
   "cell_type": "markdown",
   "id": "ad19770f-e6b3-45cd-a0f2-cabdac51d79b",
   "metadata": {},
   "source": [
    "Para escribir este objeto con el formato JSON"
   ]
  },
  {
   "cell_type": "code",
   "execution_count": null,
   "id": "47e2a67a-3f55-418d-8808-f496fcbaa2b3",
   "metadata": {},
   "outputs": [],
   "source": []
  },
  {
   "cell_type": "code",
   "execution_count": null,
   "id": "669a083d-9292-492c-9025-ae504add8ac4",
   "metadata": {},
   "outputs": [],
   "source": []
  },
  {
   "cell_type": "markdown",
   "id": "024fa392-219c-4b12-ae18-a42ee73dcfe7",
   "metadata": {},
   "source": [
    "Ahora recuperemos los datos del archivo JSON con la función load"
   ]
  },
  {
   "cell_type": "code",
   "execution_count": null,
   "id": "c7a73524-4bd7-49d2-802d-c9ae25d47984",
   "metadata": {},
   "outputs": [],
   "source": []
  },
  {
   "cell_type": "code",
   "execution_count": null,
   "id": "ed9d27d0-34f0-463d-95d8-8cf689b4a5bf",
   "metadata": {},
   "outputs": [],
   "source": []
  },
  {
   "cell_type": "markdown",
   "id": "9ca654fe-7bc1-49c0-977d-6ad05e6bcca6",
   "metadata": {},
   "source": [
    "Ahora accede al diccionario asociada a la llave seguidores"
   ]
  },
  {
   "cell_type": "code",
   "execution_count": null,
   "id": "265f88a2-fc60-468a-9989-443bafae1ea4",
   "metadata": {},
   "outputs": [],
   "source": []
  },
  {
   "cell_type": "markdown",
   "id": "d1401405-df57-4c3d-9dee-dd2ec443becb",
   "metadata": {},
   "source": [
    "Y obten registros indivudales de 0 y 3"
   ]
  },
  {
   "cell_type": "code",
   "execution_count": null,
   "id": "89b6cefd-6244-452a-864f-811ef39b4def",
   "metadata": {},
   "outputs": [],
   "source": []
  },
  {
   "cell_type": "markdown",
   "id": "e3e7b792-4db7-433e-ab92-a4fd8193306d",
   "metadata": {},
   "source": [
    "## 9.4.- Manipulación de Excepciones"
   ]
  },
  {
   "cell_type": "markdown",
   "id": "bba13d6b-9e2a-4c81-9810-3d20c568c47a",
   "metadata": {},
   "source": [
    "Una excepción es un error, como dividir entre 0"
   ]
  },
  {
   "cell_type": "code",
   "execution_count": null,
   "id": "4a421606-3126-4ff3-8348-cfc8535d0ce9",
   "metadata": {},
   "outputs": [],
   "source": []
  },
  {
   "cell_type": "markdown",
   "id": "bf2a3d29-582b-41f9-a1c7-caefa291c04c",
   "metadata": {},
   "source": [
    "Y la excepción d etipo value error, que ocurre cuando intentas convertir una cadena en entero"
   ]
  },
  {
   "cell_type": "code",
   "execution_count": null,
   "id": "f307efbc-744b-49f6-8668-a001dfffcf11",
   "metadata": {},
   "outputs": [],
   "source": []
  },
  {
   "cell_type": "markdown",
   "id": "2768f4e8-9601-4128-8f43-d07955f6d81d",
   "metadata": {},
   "source": [
    "Que pasa si quiero dar continuidad a la ejecución dle programa?"
   ]
  },
  {
   "cell_type": "markdown",
   "id": "2316123b-0545-4495-ad05-954857d1e1f6",
   "metadata": {},
   "source": [
    "Vamos a hacer un programa que divida por 0 - vamos a necesitar usar While, trye, except, except y else"
   ]
  },
  {
   "cell_type": "code",
   "execution_count": null,
   "id": "9a5aaf89-dd98-41d9-ac2c-0ecc044423f7",
   "metadata": {},
   "outputs": [],
   "source": []
  },
  {
   "cell_type": "markdown",
   "id": "0cdf6156-1396-490e-97b5-c167ef49ed0f",
   "metadata": {},
   "source": [
    "## 9.5.- Archivos CSV"
   ]
  },
  {
   "cell_type": "markdown",
   "id": "85a3ebe3-34b3-422c-b548-0f96d6c95c05",
   "metadata": {},
   "source": [
    "Primero crearemos un archivo CSV con los seguidores de TikTok"
   ]
  },
  {
   "cell_type": "code",
   "id": "660d8b15-c380-4860-9714-ea7b920a6ce7",
   "metadata": {
    "ExecuteTime": {
     "end_time": "2024-07-04T21:46:26.210703Z",
     "start_time": "2024-07-04T21:46:26.205654Z"
    }
   },
   "source": [
    "import csv \n",
    "with open('seguidoress.csv', mode='w', newline='') as seguidores:\n",
    "    writer = csv.writer(seguidores)\n",
    "    writer.writerow(['@charlidamelio', 'D’Amelio', '108.1'])\n",
    "    "
   ],
   "outputs": [],
   "execution_count": 47
  },
  {
   "cell_type": "markdown",
   "id": "b2fc2084-25bd-40ca-9bf9-21ee576efa9c",
   "metadata": {},
   "source": [
    "Ahora leeremos nuestro mismo archivo"
   ]
  },
  {
   "cell_type": "code",
   "id": "8bd1e7ef-09ae-4b45-b59b-8fdb593eb3a0",
   "metadata": {
    "ExecuteTime": {
     "end_time": "2024-07-04T21:48:14.407265Z",
     "start_time": "2024-07-04T21:48:14.396909Z"
    }
   },
   "source": [
    "with open('seguidoress.csv', mode='r', newline='') as seguidores:\n",
    "    print(f'{\"Handle\":<20}{\"Name\":<10}{\"Followers\":<10}')\n",
    "    lectura = csv.reader(seguidores)\n",
    "    for record in lectura:\n",
    "        handle, name, followers = record\n",
    "        print(f'{handle:<20}{name:<10}{followers:<10}')\n"
   ],
   "outputs": [
    {
     "name": "stdout",
     "output_type": "stream",
     "text": [
      "Handle              Name      Followers \n",
      "@charlidamelio      D’Amelio  108.1     \n"
     ]
    }
   ],
   "execution_count": 48
  },
  {
   "cell_type": "markdown",
   "id": "14e192c6-1b56-47ea-8e8b-7afbb0e6ddc8",
   "metadata": {},
   "source": [
    "## 9.6.- Lectura de CSV con DataFrame de Pandas"
   ]
  },
  {
   "cell_type": "markdown",
   "id": "6cfe35de-8e30-4e9d-8bc5-9e9d2d013c62",
   "metadata": {},
   "source": [
    "Vamos a leer el archivo del gimnasio"
   ]
  },
  {
   "cell_type": "code",
   "id": "b1e961ac-5542-4c45-ab76-3b500b99caf4",
   "metadata": {
    "ExecuteTime": {
     "end_time": "2024-07-04T21:50:35.192618Z",
     "start_time": "2024-07-04T21:50:35.176597Z"
    }
   },
   "source": [
    "import pandas as pd\n",
    "followers = pd.read_csv('datos_gimnasio.csv')\n",
    "followers.head()"
   ],
   "outputs": [
    {
     "data": {
      "text/plain": [
       "  codigo_user Género   Peso  Cintura  Pulso  Lagartijas  Sentadillas  Saltos\n",
       "0    usuario1      M  86.64    91.44     50           5          162      60\n",
       "1    usuario2      M  85.73    93.98     52           2          110      60\n",
       "2    usuario3      M  87.54    96.52     58          12          101     101\n",
       "3    usuario4      F  73.48    88.90     62          12          105      37\n",
       "4    usuario5      M  85.73    88.90     46          13          155      58"
      ],
      "text/html": [
       "<div>\n",
       "<style scoped>\n",
       "    .dataframe tbody tr th:only-of-type {\n",
       "        vertical-align: middle;\n",
       "    }\n",
       "\n",
       "    .dataframe tbody tr th {\n",
       "        vertical-align: top;\n",
       "    }\n",
       "\n",
       "    .dataframe thead th {\n",
       "        text-align: right;\n",
       "    }\n",
       "</style>\n",
       "<table border=\"1\" class=\"dataframe\">\n",
       "  <thead>\n",
       "    <tr style=\"text-align: right;\">\n",
       "      <th></th>\n",
       "      <th>codigo_user</th>\n",
       "      <th>Género</th>\n",
       "      <th>Peso</th>\n",
       "      <th>Cintura</th>\n",
       "      <th>Pulso</th>\n",
       "      <th>Lagartijas</th>\n",
       "      <th>Sentadillas</th>\n",
       "      <th>Saltos</th>\n",
       "    </tr>\n",
       "  </thead>\n",
       "  <tbody>\n",
       "    <tr>\n",
       "      <th>0</th>\n",
       "      <td>usuario1</td>\n",
       "      <td>M</td>\n",
       "      <td>86.64</td>\n",
       "      <td>91.44</td>\n",
       "      <td>50</td>\n",
       "      <td>5</td>\n",
       "      <td>162</td>\n",
       "      <td>60</td>\n",
       "    </tr>\n",
       "    <tr>\n",
       "      <th>1</th>\n",
       "      <td>usuario2</td>\n",
       "      <td>M</td>\n",
       "      <td>85.73</td>\n",
       "      <td>93.98</td>\n",
       "      <td>52</td>\n",
       "      <td>2</td>\n",
       "      <td>110</td>\n",
       "      <td>60</td>\n",
       "    </tr>\n",
       "    <tr>\n",
       "      <th>2</th>\n",
       "      <td>usuario3</td>\n",
       "      <td>M</td>\n",
       "      <td>87.54</td>\n",
       "      <td>96.52</td>\n",
       "      <td>58</td>\n",
       "      <td>12</td>\n",
       "      <td>101</td>\n",
       "      <td>101</td>\n",
       "    </tr>\n",
       "    <tr>\n",
       "      <th>3</th>\n",
       "      <td>usuario4</td>\n",
       "      <td>F</td>\n",
       "      <td>73.48</td>\n",
       "      <td>88.90</td>\n",
       "      <td>62</td>\n",
       "      <td>12</td>\n",
       "      <td>105</td>\n",
       "      <td>37</td>\n",
       "    </tr>\n",
       "    <tr>\n",
       "      <th>4</th>\n",
       "      <td>usuario5</td>\n",
       "      <td>M</td>\n",
       "      <td>85.73</td>\n",
       "      <td>88.90</td>\n",
       "      <td>46</td>\n",
       "      <td>13</td>\n",
       "      <td>155</td>\n",
       "      <td>58</td>\n",
       "    </tr>\n",
       "  </tbody>\n",
       "</table>\n",
       "</div>"
      ]
     },
     "execution_count": 52,
     "metadata": {},
     "output_type": "execute_result"
    }
   ],
   "execution_count": 52
  },
  {
   "cell_type": "code",
   "execution_count": null,
   "id": "0897eddd-3cf6-4c3c-a843-29aa4ab72b64",
   "metadata": {},
   "outputs": [],
   "source": []
  },
  {
   "cell_type": "markdown",
   "id": "7d1c9c3c-1303-479d-9e38-21aa11d88a84",
   "metadata": {},
   "source": [
    "Ahora mostraremos oslo las últimas 5 filas"
   ]
  },
  {
   "cell_type": "code",
   "id": "cf33d841-1a3b-42ca-84c7-7a947cbf99c8",
   "metadata": {
    "ExecuteTime": {
     "end_time": "2024-07-04T21:52:07.766787Z",
     "start_time": "2024-07-04T21:52:07.725723Z"
    }
   },
   "source": "",
   "outputs": [
    {
     "ename": "OptionError",
     "evalue": "Pattern matched multiple keys",
     "output_type": "error",
     "traceback": [
      "\u001B[1;31m---------------------------------------------------------------------------\u001B[0m",
      "\u001B[1;31mOptionError\u001B[0m                               Traceback (most recent call last)",
      "Cell \u001B[1;32mIn[58], line 1\u001B[0m\n\u001B[1;32m----> 1\u001B[0m pd\u001B[38;5;241m.\u001B[39mset_option(\u001B[38;5;124m'\u001B[39m\u001B[38;5;124mprecision\u001B[39m\u001B[38;5;124m'\u001B[39m, \u001B[38;5;241m1\u001B[39m)\n",
      "File \u001B[1;32m~\\miniconda3\\Lib\\site-packages\\pandas\\_config\\config.py:274\u001B[0m, in \u001B[0;36mCallableDynamicDoc.__call__\u001B[1;34m(self, *args, **kwds)\u001B[0m\n\u001B[0;32m    273\u001B[0m \u001B[38;5;28;01mdef\u001B[39;00m \u001B[38;5;21m__call__\u001B[39m(\u001B[38;5;28mself\u001B[39m, \u001B[38;5;241m*\u001B[39margs, \u001B[38;5;241m*\u001B[39m\u001B[38;5;241m*\u001B[39mkwds) \u001B[38;5;241m-\u001B[39m\u001B[38;5;241m>\u001B[39m T:\n\u001B[1;32m--> 274\u001B[0m     \u001B[38;5;28;01mreturn\u001B[39;00m \u001B[38;5;28mself\u001B[39m\u001B[38;5;241m.\u001B[39m\u001B[38;5;18m__func__\u001B[39m(\u001B[38;5;241m*\u001B[39margs, \u001B[38;5;241m*\u001B[39m\u001B[38;5;241m*\u001B[39mkwds)\n",
      "File \u001B[1;32m~\\miniconda3\\Lib\\site-packages\\pandas\\_config\\config.py:167\u001B[0m, in \u001B[0;36m_set_option\u001B[1;34m(*args, **kwargs)\u001B[0m\n\u001B[0;32m    164\u001B[0m     \u001B[38;5;28;01mraise\u001B[39;00m \u001B[38;5;167;01mTypeError\u001B[39;00m(\u001B[38;5;124mf\u001B[39m\u001B[38;5;124m'\u001B[39m\u001B[38;5;124m_set_option() got an unexpected keyword argument \u001B[39m\u001B[38;5;124m\"\u001B[39m\u001B[38;5;132;01m{\u001B[39;00mkwarg\u001B[38;5;132;01m}\u001B[39;00m\u001B[38;5;124m\"\u001B[39m\u001B[38;5;124m'\u001B[39m)\n\u001B[0;32m    166\u001B[0m \u001B[38;5;28;01mfor\u001B[39;00m k, v \u001B[38;5;129;01min\u001B[39;00m \u001B[38;5;28mzip\u001B[39m(args[::\u001B[38;5;241m2\u001B[39m], args[\u001B[38;5;241m1\u001B[39m::\u001B[38;5;241m2\u001B[39m]):\n\u001B[1;32m--> 167\u001B[0m     key \u001B[38;5;241m=\u001B[39m _get_single_key(k, silent)\n\u001B[0;32m    169\u001B[0m     o \u001B[38;5;241m=\u001B[39m _get_registered_option(key)\n\u001B[0;32m    170\u001B[0m     \u001B[38;5;28;01mif\u001B[39;00m o \u001B[38;5;129;01mand\u001B[39;00m o\u001B[38;5;241m.\u001B[39mvalidator:\n",
      "File \u001B[1;32m~\\miniconda3\\Lib\\site-packages\\pandas\\_config\\config.py:134\u001B[0m, in \u001B[0;36m_get_single_key\u001B[1;34m(pat, silent)\u001B[0m\n\u001B[0;32m    132\u001B[0m     \u001B[38;5;28;01mraise\u001B[39;00m OptionError(\u001B[38;5;124mf\u001B[39m\u001B[38;5;124m\"\u001B[39m\u001B[38;5;124mNo such keys(s): \u001B[39m\u001B[38;5;132;01m{\u001B[39;00m\u001B[38;5;28mrepr\u001B[39m(pat)\u001B[38;5;132;01m}\u001B[39;00m\u001B[38;5;124m\"\u001B[39m)\n\u001B[0;32m    133\u001B[0m \u001B[38;5;28;01mif\u001B[39;00m \u001B[38;5;28mlen\u001B[39m(keys) \u001B[38;5;241m>\u001B[39m \u001B[38;5;241m1\u001B[39m:\n\u001B[1;32m--> 134\u001B[0m     \u001B[38;5;28;01mraise\u001B[39;00m OptionError(\u001B[38;5;124m\"\u001B[39m\u001B[38;5;124mPattern matched multiple keys\u001B[39m\u001B[38;5;124m\"\u001B[39m)\n\u001B[0;32m    135\u001B[0m key \u001B[38;5;241m=\u001B[39m keys[\u001B[38;5;241m0\u001B[39m]\n\u001B[0;32m    137\u001B[0m \u001B[38;5;28;01mif\u001B[39;00m \u001B[38;5;129;01mnot\u001B[39;00m silent:\n",
      "\u001B[1;31mOptionError\u001B[0m: Pattern matched multiple keys"
     ]
    }
   ],
   "execution_count": 58
  },
  {
   "cell_type": "code",
   "execution_count": null,
   "id": "305a1d3d-0b99-44e3-9a51-cea3873b5b08",
   "metadata": {},
   "outputs": [],
   "source": []
  },
  {
   "cell_type": "markdown",
   "id": "04c2d5ed-d6f6-4e10-8c6e-a232315d5d88",
   "metadata": {},
   "source": [
    "Vamos a modificar los encabezados del data frame"
   ]
  },
  {
   "cell_type": "code",
   "id": "fa4d4a03-8ec1-4e35-85dd-9a58bb15f77f",
   "metadata": {
    "ExecuteTime": {
     "end_time": "2024-07-04T21:53:28.030794Z",
     "start_time": "2024-07-04T21:53:28.026424Z"
    }
   },
   "source": "followers.columns = [\"Codigo\",\"Genero\",\"Peso\",\"Cintura\",\"Pulso\",\"Lagartijas\",\"Sentadillas\",\"Salto\"]",
   "outputs": [],
   "execution_count": 59
  },
  {
   "cell_type": "code",
   "id": "2745e7b4-42c3-45a2-b1f4-ee28da9eac50",
   "metadata": {
    "ExecuteTime": {
     "end_time": "2024-07-04T21:53:35.197177Z",
     "start_time": "2024-07-04T21:53:35.185894Z"
    }
   },
   "source": "followers.head()",
   "outputs": [
    {
     "data": {
      "text/plain": [
       "     Codigo Genero   Peso  Cintura  Pulso  Lagartijas  Sentadillas  Salto\n",
       "0  usuario1      M  86.64    91.44     50           5          162     60\n",
       "1  usuario2      M  85.73    93.98     52           2          110     60\n",
       "2  usuario3      M  87.54    96.52     58          12          101    101\n",
       "3  usuario4      F  73.48    88.90     62          12          105     37\n",
       "4  usuario5      M  85.73    88.90     46          13          155     58"
      ],
      "text/html": [
       "<div>\n",
       "<style scoped>\n",
       "    .dataframe tbody tr th:only-of-type {\n",
       "        vertical-align: middle;\n",
       "    }\n",
       "\n",
       "    .dataframe tbody tr th {\n",
       "        vertical-align: top;\n",
       "    }\n",
       "\n",
       "    .dataframe thead th {\n",
       "        text-align: right;\n",
       "    }\n",
       "</style>\n",
       "<table border=\"1\" class=\"dataframe\">\n",
       "  <thead>\n",
       "    <tr style=\"text-align: right;\">\n",
       "      <th></th>\n",
       "      <th>Codigo</th>\n",
       "      <th>Genero</th>\n",
       "      <th>Peso</th>\n",
       "      <th>Cintura</th>\n",
       "      <th>Pulso</th>\n",
       "      <th>Lagartijas</th>\n",
       "      <th>Sentadillas</th>\n",
       "      <th>Salto</th>\n",
       "    </tr>\n",
       "  </thead>\n",
       "  <tbody>\n",
       "    <tr>\n",
       "      <th>0</th>\n",
       "      <td>usuario1</td>\n",
       "      <td>M</td>\n",
       "      <td>86.64</td>\n",
       "      <td>91.44</td>\n",
       "      <td>50</td>\n",
       "      <td>5</td>\n",
       "      <td>162</td>\n",
       "      <td>60</td>\n",
       "    </tr>\n",
       "    <tr>\n",
       "      <th>1</th>\n",
       "      <td>usuario2</td>\n",
       "      <td>M</td>\n",
       "      <td>85.73</td>\n",
       "      <td>93.98</td>\n",
       "      <td>52</td>\n",
       "      <td>2</td>\n",
       "      <td>110</td>\n",
       "      <td>60</td>\n",
       "    </tr>\n",
       "    <tr>\n",
       "      <th>2</th>\n",
       "      <td>usuario3</td>\n",
       "      <td>M</td>\n",
       "      <td>87.54</td>\n",
       "      <td>96.52</td>\n",
       "      <td>58</td>\n",
       "      <td>12</td>\n",
       "      <td>101</td>\n",
       "      <td>101</td>\n",
       "    </tr>\n",
       "    <tr>\n",
       "      <th>3</th>\n",
       "      <td>usuario4</td>\n",
       "      <td>F</td>\n",
       "      <td>73.48</td>\n",
       "      <td>88.90</td>\n",
       "      <td>62</td>\n",
       "      <td>12</td>\n",
       "      <td>105</td>\n",
       "      <td>37</td>\n",
       "    </tr>\n",
       "    <tr>\n",
       "      <th>4</th>\n",
       "      <td>usuario5</td>\n",
       "      <td>M</td>\n",
       "      <td>85.73</td>\n",
       "      <td>88.90</td>\n",
       "      <td>46</td>\n",
       "      <td>13</td>\n",
       "      <td>155</td>\n",
       "      <td>58</td>\n",
       "    </tr>\n",
       "  </tbody>\n",
       "</table>\n",
       "</div>"
      ]
     },
     "execution_count": 60,
     "metadata": {},
     "output_type": "execute_result"
    }
   ],
   "execution_count": 60
  },
  {
   "cell_type": "markdown",
   "id": "90eefa92-6541-4252-bafb-e960a4775172",
   "metadata": {},
   "source": [
    "Y ahora usamos describe para obtener un resumen de las estadisticas de los datos"
   ]
  },
  {
   "cell_type": "code",
   "id": "6bd1e60f-3a68-4303-a621-506093fd26bf",
   "metadata": {
    "ExecuteTime": {
     "end_time": "2024-07-04T21:54:45.809708Z",
     "start_time": "2024-07-04T21:54:45.801335Z"
    }
   },
   "source": "(followers.Genero == 'F').describe()",
   "outputs": [
    {
     "data": {
      "text/plain": [
       "count       20\n",
       "unique       2\n",
       "top       True\n",
       "freq        11\n",
       "Name: Genero, dtype: object"
      ]
     },
     "execution_count": 61,
     "metadata": {},
     "output_type": "execute_result"
    }
   ],
   "execution_count": 61
  },
  {
   "cell_type": "markdown",
   "id": "f6b07c8b-6397-4a0b-884f-22a93923c09a",
   "metadata": {},
   "source": [
    "Que tal que solo queremos estadisticas de mujeres? 👩🏻"
   ]
  },
  {
   "cell_type": "code",
   "execution_count": null,
   "id": "be9d607d-efe9-40fb-b9fe-a858d3bb43ae",
   "metadata": {},
   "outputs": [],
   "source": []
  },
  {
   "cell_type": "markdown",
   "id": "f1ad722c-5b9c-43e7-816c-d09df3828f57",
   "metadata": {},
   "source": [
    "Hagamos una grafica de los datos del gym 📊"
   ]
  },
  {
   "cell_type": "code",
   "execution_count": null,
   "id": "82d8101d-a51e-470b-929e-e09fadf7f58d",
   "metadata": {},
   "outputs": [],
   "source": "import matplotlib.pyplot as plt"
  },
  {
   "cell_type": "code",
   "id": "83a71029-77cd-45de-9734-bcee327e7b41",
   "metadata": {
    "ExecuteTime": {
     "end_time": "2024-07-04T21:56:59.209065Z",
     "start_time": "2024-07-04T21:56:59.037854Z"
    }
   },
   "source": "histogram = followers.hist()",
   "outputs": [
    {
     "data": {
      "text/plain": [
       "<Figure size 640x480 with 1 Axes>"
      ],
      "image/png": "[encoded data removed]"
     },
     "metadata": {},
     "output_type": "display_data"
    }
   ],
   "execution_count": 63
  },
  {
   "cell_type": "code",
   "execution_count": null,
   "id": "b2afc686-8bd6-4760-a7cb-ca6e44191144",
   "metadata": {},
   "outputs": [],
   "source": []
  }
 ],
 "metadata": {
  "kernelspec": {
   "display_name": "Python 3",
   "language": "python",
   "name": "python3"
  },
  "language_info": {
   "codemirror_mode": {
    "name": "ipython",
    "version": 3
   },
   "file_extension": ".py",
   "mimetype": "text/x-python",
   "name": "python",
   "nbconvert_exporter": "python",
   "pygments_lexer": "ipython3",
   "version": "3.8.8"
  }
 },
 "nbformat": 4,
 "nbformat_minor": 5
}
