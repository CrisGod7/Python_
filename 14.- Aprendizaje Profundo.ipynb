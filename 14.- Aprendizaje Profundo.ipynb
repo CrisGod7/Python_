{
 "cells": [
  {
   "cell_type": "markdown",
   "id": "effa394c-d3a8-4dc1-82a0-a410b4576d10",
   "metadata": {},
   "source": [
    "## Clasificación Múltiple con el Dataset MINST"
   ]
  },
  {
   "cell_type": "markdown",
   "id": "7dbe36b3-6f98-42ce-bc6b-8abf22aa4356",
   "metadata": {},
   "source": [
    "### Cargar el Dataset de MINST"
   ]
  },
  {
   "cell_type": "markdown",
   "id": "2ec99d1e-acda-47f7-ba5b-3e34ca925729",
   "metadata": {},
   "source": [
    "IMportemos el mdoulo de MINST desde keras"
   ]
  },
  {
   "cell_type": "code",
   "id": "bd902d6e-b4e4-4333-9504-4f9a972a8f76",
   "metadata": {
    "ExecuteTime": {
     "end_time": "2024-07-22T00:08:42.529116Z",
     "start_time": "2024-07-22T00:08:37.260697Z"
    }
   },
   "source": "from keras.api.datasets import mnist",
   "outputs": [],
   "execution_count": 1
  },
  {
   "cell_type": "markdown",
   "id": "0d8c1cd0-9791-4b18-8308-ec2e6c95c410",
   "metadata": {},
   "source": [
    "Carguemos los datos a nuestras tuplas clásicas de Train y test"
   ]
  },
  {
   "cell_type": "code",
   "id": "8ef48c18-bd69-4955-b384-5cd5e9e7f05e",
   "metadata": {
    "ExecuteTime": {
     "end_time": "2024-07-22T00:08:42.781810Z",
     "start_time": "2024-07-22T00:08:42.531127Z"
    }
   },
   "source": "(X_train, y_train), (X_test, y_test) = mnist.load_data()",
   "outputs": [],
   "execution_count": 2
  },
  {
   "cell_type": "markdown",
   "id": "6fc7aeb2-bab8-41b2-9467-61ce0f467c3b",
   "metadata": {},
   "source": [
    "### Exploración de Datos"
   ]
  },
  {
   "cell_type": "markdown",
   "id": "655bc987-bd1b-477c-8770-f9d0326c8181",
   "metadata": {},
   "source": [
    "Obten el Shape de XTrain"
   ]
  },
  {
   "cell_type": "code",
   "id": "60113bf6-0316-41be-8f7a-73c83dada43b",
   "metadata": {
    "ExecuteTime": {
     "end_time": "2024-07-22T00:08:42.790541Z",
     "start_time": "2024-07-22T00:08:42.782323Z"
    }
   },
   "source": "X_train.shape",
   "outputs": [
    {
     "data": {
      "text/plain": [
       "(60000, 28, 28)"
      ]
     },
     "execution_count": 3,
     "metadata": {},
     "output_type": "execute_result"
    }
   ],
   "execution_count": 3
  },
  {
   "cell_type": "markdown",
   "id": "c20cb0a2-9f1f-42b7-a941-4d1c80545f25",
   "metadata": {},
   "source": [
    "Obten el Shape de yTrain"
   ]
  },
  {
   "cell_type": "code",
   "id": "86cabfda-faca-479f-8473-1996bad3c10e",
   "metadata": {
    "ExecuteTime": {
     "end_time": "2024-07-22T00:08:42.796857Z",
     "start_time": "2024-07-22T00:08:42.791550Z"
    }
   },
   "source": "y_train.shape",
   "outputs": [
    {
     "data": {
      "text/plain": [
       "(60000,)"
      ]
     },
     "execution_count": 4,
     "metadata": {},
     "output_type": "execute_result"
    }
   ],
   "execution_count": 4
  },
  {
   "cell_type": "markdown",
   "id": "f6a146ad-bc01-4c09-a1a5-8a688a2d76fd",
   "metadata": {},
   "source": [
    "Obten el Shape de XTest"
   ]
  },
  {
   "cell_type": "code",
   "id": "916ef597-192b-4b70-9ee1-ddc58e6863b2",
   "metadata": {
    "ExecuteTime": {
     "end_time": "2024-07-22T00:08:42.802997Z",
     "start_time": "2024-07-22T00:08:42.797866Z"
    }
   },
   "source": "X_test.shape",
   "outputs": [
    {
     "data": {
      "text/plain": [
       "(10000, 28, 28)"
      ]
     },
     "execution_count": 5,
     "metadata": {},
     "output_type": "execute_result"
    }
   ],
   "execution_count": 5
  },
  {
   "cell_type": "markdown",
   "id": "6e66d2d4-ab44-4b5b-82cb-b2fe1cf8321c",
   "metadata": {},
   "source": [
    "Obten el Shape de yTrain"
   ]
  },
  {
   "cell_type": "code",
   "id": "479392af-6df1-456d-b8ce-e6a50a2c6c79",
   "metadata": {
    "ExecuteTime": {
     "end_time": "2024-07-22T00:08:42.809721Z",
     "start_time": "2024-07-22T00:08:42.804006Z"
    }
   },
   "source": "y_test.shape",
   "outputs": [
    {
     "data": {
      "text/plain": [
       "(10000,)"
      ]
     },
     "execution_count": 6,
     "metadata": {},
     "output_type": "execute_result"
    }
   ],
   "execution_count": 6
  },
  {
   "cell_type": "markdown",
   "id": "c643450f-2bc6-4f8f-a13a-bc3910e13c6c",
   "metadata": {},
   "source": [
    "Activa Matplotlib inline"
   ]
  },
  {
   "cell_type": "code",
   "id": "2c87d195-9e50-4f25-8d98-b9d93b62774e",
   "metadata": {
    "ExecuteTime": {
     "end_time": "2024-07-22T00:08:42.832764Z",
     "start_time": "2024-07-22T00:08:42.810728Z"
    }
   },
   "source": "%matplotlib inline",
   "outputs": [],
   "execution_count": 7
  },
  {
   "cell_type": "markdown",
   "id": "08035ef9-acb5-42fe-b5ea-5a0346cb48f6",
   "metadata": {},
   "source": [
    "Importa matplotlib como plt"
   ]
  },
  {
   "cell_type": "code",
   "id": "24e071b8-2403-4225-a5a0-5ca3585a4cb0",
   "metadata": {
    "ExecuteTime": {
     "end_time": "2024-07-22T00:08:42.837738Z",
     "start_time": "2024-07-22T00:08:42.833771Z"
    }
   },
   "source": "import matplotlib.pyplot as plt",
   "outputs": [],
   "execution_count": 8
  },
  {
   "cell_type": "markdown",
   "id": "ad511334-ab4e-496d-8bc9-9958a38018f6",
   "metadata": {},
   "source": [
    "Importa Seaborn"
   ]
  },
  {
   "cell_type": "code",
   "id": "55d5f04b-ab0d-4d7a-bed1-6aa61c57eae1",
   "metadata": {
    "ExecuteTime": {
     "end_time": "2024-07-22T00:08:42.843728Z",
     "start_time": "2024-07-22T00:08:42.838745Z"
    }
   },
   "source": "import seaborn as sns",
   "outputs": [],
   "execution_count": 9
  },
  {
   "cell_type": "markdown",
   "id": "59d1e48b-4417-4a04-afa2-e3c41ed55fcb",
   "metadata": {},
   "source": [
    "Pon su escala a 2"
   ]
  },
  {
   "cell_type": "code",
   "id": "609e2364-6c72-4990-af16-935799ba66b9",
   "metadata": {
    "ExecuteTime": {
     "end_time": "2024-07-22T00:08:42.849805Z",
     "start_time": "2024-07-22T00:08:42.844736Z"
    }
   },
   "source": "sns.set(font_scale=2)",
   "outputs": [],
   "execution_count": 10
  },
  {
   "cell_type": "markdown",
   "id": "09f6ab82-af4c-44ff-bba4-afdc275ab1a8",
   "metadata": {},
   "source": [
    "Importa Numpy"
   ]
  },
  {
   "cell_type": "code",
   "id": "21911cc9-1236-440d-84b2-92539b6fa561",
   "metadata": {
    "ExecuteTime": {
     "end_time": "2024-07-22T00:08:42.854981Z",
     "start_time": "2024-07-22T00:08:42.850812Z"
    }
   },
   "source": "import numpy as np",
   "outputs": [],
   "execution_count": 11
  },
  {
   "cell_type": "markdown",
   "id": "ff06b5bf-fa97-4900-a818-768ddc84131b",
   "metadata": {},
   "source": [
    "Ahora armate un programa que muestre 24 digitos"
   ]
  },
  {
   "cell_type": "code",
   "id": "5cfe49de-bf24-4e66-8537-60da981c7132",
   "metadata": {
    "ExecuteTime": {
     "end_time": "2024-07-22T00:08:42.862509Z",
     "start_time": "2024-07-22T00:08:42.855989Z"
    }
   },
   "source": "indice = np.random.choice(np.arange(len(X_train)), 24, replace=False)",
   "outputs": [],
   "execution_count": 12
  },
  {
   "cell_type": "code",
   "id": "a26a18dd-e7de-4199-9a7a-cfad3aa7f4d8",
   "metadata": {
    "ExecuteTime": {
     "end_time": "2024-07-22T00:08:42.869269Z",
     "start_time": "2024-07-22T00:08:42.863518Z"
    }
   },
   "source": "indice",
   "outputs": [
    {
     "data": {
      "text/plain": [
       "array([56651, 37293, 52275, 52852,  5366,  6812,  1924,  4968,  2556,\n",
       "       33408, 35894, 43293, 45986, 15317,  2139, 12951, 59971, 51410,\n",
       "       30660, 15909,  6317, 12332, 13893,  8732])"
      ]
     },
     "execution_count": 13,
     "metadata": {},
     "output_type": "execute_result"
    }
   ],
   "execution_count": 13
  },
  {
   "cell_type": "code",
   "id": "a4c4fcce-6dff-453b-ae92-172e0668bafd",
   "metadata": {
    "ExecuteTime": {
     "end_time": "2024-07-22T00:08:44.236139Z",
     "start_time": "2024-07-22T00:08:42.874278Z"
    }
   },
   "source": [
    "figure , axes = plt.subplots(nrows=4, ncols=6, figsize=(16,9))\n",
    "for item in zip(axes.ravel(), X_train[indice], y_train[indice]):\n",
    "    axes , image, target = item\n",
    "    axes.imshow(image, cmap = plt.cm.gray_r)\n",
    "    axes.set_xticks([])\n",
    "    axes.set_yticks([])\n",
    "    axes.set_title(target)\n",
    "plt.tight_layout()\n",
    "    "
   ],
   "outputs": [
    {
     "data": {
      "text/plain": [
       "<Figure size 1600x900 with 24 Axes>"
      ],
      "image/png": "[encoded data removed]"
     },
     "metadata": {},
     "output_type": "display_data"
    }
   ],
   "execution_count": 14
  },
  {
   "cell_type": "code",
   "id": "a180de8e-268c-4e90-94d0-59ae8fe87893",
   "metadata": {
    "ExecuteTime": {
     "end_time": "2024-07-22T00:08:44.240157Z",
     "start_time": "2024-07-22T00:08:44.237148Z"
    }
   },
   "source": [],
   "outputs": [],
   "execution_count": 14
  },
  {
   "cell_type": "markdown",
   "id": "e848d250-7181-4ce9-b482-71c9c6d82857",
   "metadata": {},
   "source": [
    "### Preparar los datos"
   ]
  },
  {
   "cell_type": "markdown",
   "id": "28bc2386-45d0-45b3-b95d-610e19a80a2f",
   "metadata": {},
   "source": [
    "Cambia la figura de Xtrain a 60000 x 28 x 28 x 1"
   ]
  },
  {
   "cell_type": "code",
   "id": "4eb4494e-12b3-4a0d-86a2-dfbee1853907",
   "metadata": {
    "ExecuteTime": {
     "end_time": "2024-07-22T00:08:44.245150Z",
     "start_time": "2024-07-22T00:08:44.241164Z"
    }
   },
   "source": "X_train = X_train.reshape(60000,28,28,1)",
   "outputs": [],
   "execution_count": 15
  },
  {
   "cell_type": "markdown",
   "id": "07fd91c2-c4f2-458f-a815-9de4b9b86250",
   "metadata": {},
   "source": [
    "Checa su shape"
   ]
  },
  {
   "cell_type": "code",
   "id": "3853d775-bb30-4ca7-92ad-dc36d10dd117",
   "metadata": {
    "ExecuteTime": {
     "end_time": "2024-07-22T00:08:44.252480Z",
     "start_time": "2024-07-22T00:08:44.246157Z"
    }
   },
   "source": "X_train.shape",
   "outputs": [
    {
     "data": {
      "text/plain": [
       "(60000, 28, 28, 1)"
      ]
     },
     "execution_count": 16,
     "metadata": {},
     "output_type": "execute_result"
    }
   ],
   "execution_count": 16
  },
  {
   "cell_type": "markdown",
   "id": "d74c336f-0462-4a99-babb-d348b99c72cd",
   "metadata": {},
   "source": [
    "Cambia la figura de Xshape a 10000 x 28 x 28 x 1"
   ]
  },
  {
   "cell_type": "code",
   "id": "bae501d9-d1a3-4a9b-80ba-c3382c270443",
   "metadata": {
    "ExecuteTime": {
     "end_time": "2024-07-22T00:08:44.258515Z",
     "start_time": "2024-07-22T00:08:44.253488Z"
    }
   },
   "source": "X_test = X_test.reshape(10000, 28,28,1)",
   "outputs": [],
   "execution_count": 17
  },
  {
   "cell_type": "markdown",
   "id": "260f8ff9-bda8-4a83-9dad-f23ce7b7a0d9",
   "metadata": {},
   "source": [
    "Checa su Shape"
   ]
  },
  {
   "cell_type": "code",
   "id": "a8ad2896-9f03-4d85-867b-21857e138265",
   "metadata": {
    "ExecuteTime": {
     "end_time": "2024-07-22T00:08:44.265155Z",
     "start_time": "2024-07-22T00:08:44.259522Z"
    }
   },
   "source": "X_test.shape",
   "outputs": [
    {
     "data": {
      "text/plain": [
       "(10000, 28, 28, 1)"
      ]
     },
     "execution_count": 18,
     "metadata": {},
     "output_type": "execute_result"
    }
   ],
   "execution_count": 18
  },
  {
   "cell_type": "markdown",
   "id": "a6ac6b59-a54a-4a24-a005-6b0a9fa8a91c",
   "metadata": {},
   "source": [
    "Normaliza con astype Xtrain"
   ]
  },
  {
   "cell_type": "code",
   "id": "b9b26a6c-ba06-4cd4-9814-ab43b7ad62ba",
   "metadata": {
    "ExecuteTime": {
     "end_time": "2024-07-22T00:08:44.410307Z",
     "start_time": "2024-07-22T00:08:44.266161Z"
    }
   },
   "source": "X_train = X_train.astype('float32')/255",
   "outputs": [],
   "execution_count": 19
  },
  {
   "cell_type": "markdown",
   "id": "139fa20c-abd7-463f-b4dd-aedd354e0f35",
   "metadata": {},
   "source": [
    "Normaliza con astype Xtest"
   ]
  },
  {
   "cell_type": "code",
   "id": "e8c5e76f-29c7-4047-a6a9-b06304faaa88",
   "metadata": {
    "ExecuteTime": {
     "end_time": "2024-07-22T00:08:44.436692Z",
     "start_time": "2024-07-22T00:08:44.411313Z"
    }
   },
   "source": "X_test = X_test.astype('float32')/255",
   "outputs": [],
   "execution_count": 20
  },
  {
   "cell_type": "markdown",
   "id": "7cee3b47-e1df-4835-91e0-90a5ecc9a38a",
   "metadata": {},
   "source": [
    "Desde tensorflow importa to_categorical"
   ]
  },
  {
   "cell_type": "code",
   "id": "9a115845-b19b-4593-919e-2e19b91c7ad1",
   "metadata": {
    "ExecuteTime": {
     "end_time": "2024-07-22T00:08:44.442197Z",
     "start_time": "2024-07-22T00:08:44.437703Z"
    }
   },
   "source": "from keras.api.utils import to_categorical",
   "outputs": [],
   "execution_count": 21
  },
  {
   "cell_type": "markdown",
   "id": "79aa6046-521b-4516-8fb3-a3dc5dd9d3c1",
   "metadata": {},
   "source": [
    "aplicalo a Y_train"
   ]
  },
  {
   "cell_type": "code",
   "id": "1a15cfc6-a827-4f10-9267-9f881029c18d",
   "metadata": {
    "ExecuteTime": {
     "end_time": "2024-07-22T00:08:44.453133Z",
     "start_time": "2024-07-22T00:08:44.443204Z"
    }
   },
   "source": "y_train = to_categorical(y_train)",
   "outputs": [],
   "execution_count": 22
  },
  {
   "cell_type": "markdown",
   "id": "cc7ae7e4-a8b5-43f9-a3e1-a45ba2e21945",
   "metadata": {},
   "source": [
    "Checa su shape"
   ]
  },
  {
   "cell_type": "code",
   "id": "6f06f02a-507c-44e0-a3f2-eb08868034e7",
   "metadata": {
    "ExecuteTime": {
     "end_time": "2024-07-22T00:08:44.460600Z",
     "start_time": "2024-07-22T00:08:44.455141Z"
    }
   },
   "source": "y_train.shape",
   "outputs": [
    {
     "data": {
      "text/plain": [
       "(60000, 10)"
      ]
     },
     "execution_count": 23,
     "metadata": {},
     "output_type": "execute_result"
    }
   ],
   "execution_count": 23
  },
  {
   "cell_type": "markdown",
   "id": "7686fa07-1aa6-415e-af15-a218612f0642",
   "metadata": {},
   "source": [
    "Checa el primer dato de Y_train"
   ]
  },
  {
   "cell_type": "code",
   "id": "810b786b-eafe-4b58-90ae-cdb782adb6bc",
   "metadata": {
    "ExecuteTime": {
     "end_time": "2024-07-22T00:08:44.467999Z",
     "start_time": "2024-07-22T00:08:44.461607Z"
    }
   },
   "source": "y_train[0]",
   "outputs": [
    {
     "data": {
      "text/plain": [
       "array([0., 0., 0., 0., 0., 1., 0., 0., 0., 0.])"
      ]
     },
     "execution_count": 24,
     "metadata": {},
     "output_type": "execute_result"
    }
   ],
   "execution_count": 24
  },
  {
   "cell_type": "markdown",
   "id": "a9ad08cf-1e68-4153-b4c8-2217cdc219c2",
   "metadata": {},
   "source": [
    "Aplica to_categorical a Y-test"
   ]
  },
  {
   "cell_type": "code",
   "id": "efcd16b6-1216-4ae3-85a3-7a702a18b459",
   "metadata": {
    "ExecuteTime": {
     "end_time": "2024-07-22T00:08:44.473981Z",
     "start_time": "2024-07-22T00:08:44.469007Z"
    }
   },
   "source": "y_test = to_categorical(y_test)",
   "outputs": [],
   "execution_count": 25
  },
  {
   "cell_type": "markdown",
   "id": "c8bbcaed-7500-418e-b59d-3e0e015b0429",
   "metadata": {},
   "source": [
    "Checa su figura"
   ]
  },
  {
   "cell_type": "code",
   "id": "4ade61b0-e453-4395-95c9-9ec9840bc1a3",
   "metadata": {
    "ExecuteTime": {
     "end_time": "2024-07-22T00:08:44.486345Z",
     "start_time": "2024-07-22T00:08:44.474987Z"
    }
   },
   "source": "y_test.shape",
   "outputs": [
    {
     "data": {
      "text/plain": [
       "(10000, 10)"
      ]
     },
     "execution_count": 26,
     "metadata": {},
     "output_type": "execute_result"
    }
   ],
   "execution_count": 26
  },
  {
   "cell_type": "markdown",
   "id": "a10a678a-7843-4cc8-bcd1-43909c2d589a",
   "metadata": {},
   "source": [
    "### Crear la Red Neuronal"
   ]
  },
  {
   "cell_type": "markdown",
   "id": "e0192ecc-3739-4e08-95e8-dfc8beeef1ea",
   "metadata": {},
   "source": [
    "Importa Sequential desde tf"
   ]
  },
  {
   "cell_type": "code",
   "id": "6207963f-634f-41f2-bf59-365c492f76c1",
   "metadata": {
    "ExecuteTime": {
     "end_time": "2024-07-22T00:08:44.492858Z",
     "start_time": "2024-07-22T00:08:44.488352Z"
    }
   },
   "source": "from keras.api.models import Sequential",
   "outputs": [],
   "execution_count": 27
  },
  {
   "cell_type": "markdown",
   "id": "fb8bfb91-da1a-481a-bd04-c3b6c10d6a0f",
   "metadata": {},
   "source": [
    "Crea tu objeto cnn"
   ]
  },
  {
   "cell_type": "code",
   "id": "13659451-101b-46c2-81a4-f0d60b67c740",
   "metadata": {
    "ExecuteTime": {
     "end_time": "2024-07-22T00:08:44.502046Z",
     "start_time": "2024-07-22T00:08:44.494864Z"
    }
   },
   "source": "cnn = Sequential()",
   "outputs": [],
   "execution_count": 28
  },
  {
   "cell_type": "markdown",
   "id": "f10c9340-2f81-4937-b114-56d1ae545fa8",
   "metadata": {},
   "source": [
    "importa las capas que necesitaras desde tf"
   ]
  },
  {
   "cell_type": "code",
   "id": "e7ded461-34f9-4a7a-b1aa-f5a4f56846f1",
   "metadata": {
    "ExecuteTime": {
     "end_time": "2024-07-22T00:08:44.507500Z",
     "start_time": "2024-07-22T00:08:44.503057Z"
    }
   },
   "source": "from keras.api.layers import Dense, Flatten, Conv2D, MaxPooling2D",
   "outputs": [],
   "execution_count": 29
  },
  {
   "cell_type": "markdown",
   "id": "070c565e-911c-44bf-8c1d-67c8a0b8914f",
   "metadata": {},
   "source": [
    "agrega la capa de Conv2d"
   ]
  },
  {
   "cell_type": "code",
   "id": "22d28712-60a5-4f70-8288-fd4c8348f12b",
   "metadata": {
    "ExecuteTime": {
     "end_time": "2024-07-22T00:08:44.576840Z",
     "start_time": "2024-07-22T00:08:44.508507Z"
    }
   },
   "source": "cnn.add(Conv2D(filters=64,kernel_size=(3,3),activation='relu', input_shape=(28,28,1))) #Image pequeña 64 filtros, kernel depende del tamaño de la imagen",
   "outputs": [
    {
     "name": "stderr",
     "output_type": "stream",
     "text": [
      "C:\\Users\\crist\\miniconda3\\Lib\\site-packages\\keras\\src\\layers\\convolutional\\base_conv.py:107: UserWarning: Do not pass an `input_shape`/`input_dim` argument to a layer. When using Sequential models, prefer using an `Input(shape)` object as the first layer in the model instead.\n",
      "  super().__init__(activity_regularizer=activity_regularizer, **kwargs)\n"
     ]
    }
   ],
   "execution_count": 30
  },
  {
   "cell_type": "markdown",
   "id": "9fae62b9-85f1-4f19-a265-8e6f36d07dc3",
   "metadata": {},
   "source": [
    "Ahora agrega una capa de Pooling2d"
   ]
  },
  {
   "cell_type": "code",
   "id": "f2db3659-b658-40bd-b857-d3845316aeec",
   "metadata": {
    "ExecuteTime": {
     "end_time": "2024-07-22T00:08:44.586764Z",
     "start_time": "2024-07-22T00:08:44.578355Z"
    }
   },
   "source": "cnn.add(MaxPooling2D(pool_size=(2,2)))",
   "outputs": [],
   "execution_count": 31
  },
  {
   "cell_type": "markdown",
   "id": "dda0b019-1c3a-4a9d-ae3c-f4ff0c810a2d",
   "metadata": {},
   "source": [
    "Agrega otra caba de Conv2D"
   ]
  },
  {
   "cell_type": "code",
   "id": "132d2600-2788-450a-aeaf-9f62350ac98d",
   "metadata": {
    "ExecuteTime": {
     "end_time": "2024-07-22T00:08:44.604734Z",
     "start_time": "2024-07-22T00:08:44.587771Z"
    }
   },
   "source": "cnn.add(Conv2D(filters=128,kernel_size=(3,3),activation='relu'))",
   "outputs": [],
   "execution_count": 32
  },
  {
   "cell_type": "markdown",
   "id": "b08c80e7-d5cc-4184-9d73-41de58820303",
   "metadata": {},
   "source": [
    "Y otra de Pooling"
   ]
  },
  {
   "cell_type": "code",
   "id": "3a3c7f8f-6f8d-460e-9c9f-ba7d380d3609",
   "metadata": {
    "ExecuteTime": {
     "end_time": "2024-07-22T00:08:44.617907Z",
     "start_time": "2024-07-22T00:08:44.607742Z"
    }
   },
   "source": "cnn.add(MaxPooling2D(pool_size=(2,2)))",
   "outputs": [],
   "execution_count": 33
  },
  {
   "cell_type": "markdown",
   "id": "cd53350b-2020-4d7e-ac74-010ef79a2a94",
   "metadata": {},
   "source": [
    "Aplana los resultados"
   ]
  },
  {
   "cell_type": "code",
   "id": "ae0e8c3e-63b2-49fd-b00c-e5a20fd87ddc",
   "metadata": {
    "ExecuteTime": {
     "end_time": "2024-07-22T00:08:44.630604Z",
     "start_time": "2024-07-22T00:08:44.619915Z"
    }
   },
   "source": [
    "cnn.add(Flatten())"
   ],
   "outputs": [],
   "execution_count": 34
  },
  {
   "cell_type": "markdown",
   "id": "1a453f93-5e1b-4c55-9e7e-8b6085f7fc17",
   "metadata": {},
   "source": [
    "Agrega una capa DENSE"
   ]
  },
  {
   "cell_type": "code",
   "id": "0c644d94-0134-490a-8f9d-a25d2045daff",
   "metadata": {
    "ExecuteTime": {
     "end_time": "2024-07-22T00:08:44.650036Z",
     "start_time": "2024-07-22T00:08:44.633057Z"
    }
   },
   "source": "cnn.add(Dense(units=128,activation='relu'))",
   "outputs": [],
   "execution_count": 35
  },
  {
   "cell_type": "markdown",
   "id": "cf347883-1b66-497e-b440-b5774dd6b993",
   "metadata": {},
   "source": [
    "Y otra DENSE"
   ]
  },
  {
   "cell_type": "code",
   "id": "273232b8-db59-403d-b178-7ac4c5c990ca",
   "metadata": {
    "ExecuteTime": {
     "end_time": "2024-07-22T00:08:44.667954Z",
     "start_time": "2024-07-22T00:08:44.652045Z"
    }
   },
   "source": "cnn.add(Dense(units=10,activation='softmax'))",
   "outputs": [],
   "execution_count": 36
  },
  {
   "cell_type": "markdown",
   "id": "daf5fb6e-d085-43db-853f-53c29a7cf6f2",
   "metadata": {},
   "source": [
    "Imprime el resultado en un resumen"
   ]
  },
  {
   "cell_type": "code",
   "id": "6c5c36a7-1c02-4737-90aa-df029cd13589",
   "metadata": {
    "ExecuteTime": {
     "end_time": "2024-07-22T00:08:44.699639Z",
     "start_time": "2024-07-22T00:08:44.669962Z"
    }
   },
   "source": "cnn.summary()",
   "outputs": [
    {
     "data": {
      "text/plain": [
       "\u001B[1mModel: \"sequential\"\u001B[0m\n"
      ],
      "text/html": [
       "<pre style=\"white-space:pre;overflow-x:auto;line-height:normal;font-family:Menlo,'DejaVu Sans Mono',consolas,'Courier New',monospace\"><span style=\"font-weight: bold\">Model: \"sequential\"</span>\n",
       "</pre>\n"
      ]
     },
     "metadata": {},
     "output_type": "display_data"
    },
    {
     "data": {
      "text/plain": [
       "┏━━━━━━━━━━━━━━━━━━━━━━━━━━━━━━━━━┳━━━━━━━━━━━━━━━━━━━━━━━━┳━━━━━━━━━━━━━━━┓\n",
       "┃\u001B[1m \u001B[0m\u001B[1mLayer (type)                   \u001B[0m\u001B[1m \u001B[0m┃\u001B[1m \u001B[0m\u001B[1mOutput Shape          \u001B[0m\u001B[1m \u001B[0m┃\u001B[1m \u001B[0m\u001B[1m      Param #\u001B[0m\u001B[1m \u001B[0m┃\n",
       "┡━━━━━━━━━━━━━━━━━━━━━━━━━━━━━━━━━╇━━━━━━━━━━━━━━━━━━━━━━━━╇━━━━━━━━━━━━━━━┩\n",
       "│ conv2d (\u001B[38;5;33mConv2D\u001B[0m)                 │ (\u001B[38;5;45mNone\u001B[0m, \u001B[38;5;34m26\u001B[0m, \u001B[38;5;34m26\u001B[0m, \u001B[38;5;34m64\u001B[0m)     │           \u001B[38;5;34m640\u001B[0m │\n",
       "├─────────────────────────────────┼────────────────────────┼───────────────┤\n",
       "│ max_pooling2d (\u001B[38;5;33mMaxPooling2D\u001B[0m)    │ (\u001B[38;5;45mNone\u001B[0m, \u001B[38;5;34m13\u001B[0m, \u001B[38;5;34m13\u001B[0m, \u001B[38;5;34m64\u001B[0m)     │             \u001B[38;5;34m0\u001B[0m │\n",
       "├─────────────────────────────────┼────────────────────────┼───────────────┤\n",
       "│ conv2d_1 (\u001B[38;5;33mConv2D\u001B[0m)               │ (\u001B[38;5;45mNone\u001B[0m, \u001B[38;5;34m11\u001B[0m, \u001B[38;5;34m11\u001B[0m, \u001B[38;5;34m128\u001B[0m)    │        \u001B[38;5;34m73,856\u001B[0m │\n",
       "├─────────────────────────────────┼────────────────────────┼───────────────┤\n",
       "│ max_pooling2d_1 (\u001B[38;5;33mMaxPooling2D\u001B[0m)  │ (\u001B[38;5;45mNone\u001B[0m, \u001B[38;5;34m5\u001B[0m, \u001B[38;5;34m5\u001B[0m, \u001B[38;5;34m128\u001B[0m)      │             \u001B[38;5;34m0\u001B[0m │\n",
       "├─────────────────────────────────┼────────────────────────┼───────────────┤\n",
       "│ flatten (\u001B[38;5;33mFlatten\u001B[0m)               │ (\u001B[38;5;45mNone\u001B[0m, \u001B[38;5;34m3200\u001B[0m)           │             \u001B[38;5;34m0\u001B[0m │\n",
       "├─────────────────────────────────┼────────────────────────┼───────────────┤\n",
       "│ dense (\u001B[38;5;33mDense\u001B[0m)                   │ (\u001B[38;5;45mNone\u001B[0m, \u001B[38;5;34m128\u001B[0m)            │       \u001B[38;5;34m409,728\u001B[0m │\n",
       "├─────────────────────────────────┼────────────────────────┼───────────────┤\n",
       "│ dense_1 (\u001B[38;5;33mDense\u001B[0m)                 │ (\u001B[38;5;45mNone\u001B[0m, \u001B[38;5;34m10\u001B[0m)             │         \u001B[38;5;34m1,290\u001B[0m │\n",
       "└─────────────────────────────────┴────────────────────────┴───────────────┘\n"
      ],
      "text/html": [
       "<pre style=\"white-space:pre;overflow-x:auto;line-height:normal;font-family:Menlo,'DejaVu Sans Mono',consolas,'Courier New',monospace\">┏━━━━━━━━━━━━━━━━━━━━━━━━━━━━━━━━━┳━━━━━━━━━━━━━━━━━━━━━━━━┳━━━━━━━━━━━━━━━┓\n",
       "┃<span style=\"font-weight: bold\"> Layer (type)                    </span>┃<span style=\"font-weight: bold\"> Output Shape           </span>┃<span style=\"font-weight: bold\">       Param # </span>┃\n",
       "┡━━━━━━━━━━━━━━━━━━━━━━━━━━━━━━━━━╇━━━━━━━━━━━━━━━━━━━━━━━━╇━━━━━━━━━━━━━━━┩\n",
       "│ conv2d (<span style=\"color: #0087ff; text-decoration-color: #0087ff\">Conv2D</span>)                 │ (<span style=\"color: #00d7ff; text-decoration-color: #00d7ff\">None</span>, <span style=\"color: #00af00; text-decoration-color: #00af00\">26</span>, <span style=\"color: #00af00; text-decoration-color: #00af00\">26</span>, <span style=\"color: #00af00; text-decoration-color: #00af00\">64</span>)     │           <span style=\"color: #00af00; text-decoration-color: #00af00\">640</span> │\n",
       "├─────────────────────────────────┼────────────────────────┼───────────────┤\n",
       "│ max_pooling2d (<span style=\"color: #0087ff; text-decoration-color: #0087ff\">MaxPooling2D</span>)    │ (<span style=\"color: #00d7ff; text-decoration-color: #00d7ff\">None</span>, <span style=\"color: #00af00; text-decoration-color: #00af00\">13</span>, <span style=\"color: #00af00; text-decoration-color: #00af00\">13</span>, <span style=\"color: #00af00; text-decoration-color: #00af00\">64</span>)     │             <span style=\"color: #00af00; text-decoration-color: #00af00\">0</span> │\n",
       "├─────────────────────────────────┼────────────────────────┼───────────────┤\n",
       "│ conv2d_1 (<span style=\"color: #0087ff; text-decoration-color: #0087ff\">Conv2D</span>)               │ (<span style=\"color: #00d7ff; text-decoration-color: #00d7ff\">None</span>, <span style=\"color: #00af00; text-decoration-color: #00af00\">11</span>, <span style=\"color: #00af00; text-decoration-color: #00af00\">11</span>, <span style=\"color: #00af00; text-decoration-color: #00af00\">128</span>)    │        <span style=\"color: #00af00; text-decoration-color: #00af00\">73,856</span> │\n",
       "├─────────────────────────────────┼────────────────────────┼───────────────┤\n",
       "│ max_pooling2d_1 (<span style=\"color: #0087ff; text-decoration-color: #0087ff\">MaxPooling2D</span>)  │ (<span style=\"color: #00d7ff; text-decoration-color: #00d7ff\">None</span>, <span style=\"color: #00af00; text-decoration-color: #00af00\">5</span>, <span style=\"color: #00af00; text-decoration-color: #00af00\">5</span>, <span style=\"color: #00af00; text-decoration-color: #00af00\">128</span>)      │             <span style=\"color: #00af00; text-decoration-color: #00af00\">0</span> │\n",
       "├─────────────────────────────────┼────────────────────────┼───────────────┤\n",
       "│ flatten (<span style=\"color: #0087ff; text-decoration-color: #0087ff\">Flatten</span>)               │ (<span style=\"color: #00d7ff; text-decoration-color: #00d7ff\">None</span>, <span style=\"color: #00af00; text-decoration-color: #00af00\">3200</span>)           │             <span style=\"color: #00af00; text-decoration-color: #00af00\">0</span> │\n",
       "├─────────────────────────────────┼────────────────────────┼───────────────┤\n",
       "│ dense (<span style=\"color: #0087ff; text-decoration-color: #0087ff\">Dense</span>)                   │ (<span style=\"color: #00d7ff; text-decoration-color: #00d7ff\">None</span>, <span style=\"color: #00af00; text-decoration-color: #00af00\">128</span>)            │       <span style=\"color: #00af00; text-decoration-color: #00af00\">409,728</span> │\n",
       "├─────────────────────────────────┼────────────────────────┼───────────────┤\n",
       "│ dense_1 (<span style=\"color: #0087ff; text-decoration-color: #0087ff\">Dense</span>)                 │ (<span style=\"color: #00d7ff; text-decoration-color: #00d7ff\">None</span>, <span style=\"color: #00af00; text-decoration-color: #00af00\">10</span>)             │         <span style=\"color: #00af00; text-decoration-color: #00af00\">1,290</span> │\n",
       "└─────────────────────────────────┴────────────────────────┴───────────────┘\n",
       "</pre>\n"
      ]
     },
     "metadata": {},
     "output_type": "display_data"
    },
    {
     "data": {
      "text/plain": [
       "\u001B[1m Total params: \u001B[0m\u001B[38;5;34m485,514\u001B[0m (1.85 MB)\n"
      ],
      "text/html": [
       "<pre style=\"white-space:pre;overflow-x:auto;line-height:normal;font-family:Menlo,'DejaVu Sans Mono',consolas,'Courier New',monospace\"><span style=\"font-weight: bold\"> Total params: </span><span style=\"color: #00af00; text-decoration-color: #00af00\">485,514</span> (1.85 MB)\n",
       "</pre>\n"
      ]
     },
     "metadata": {},
     "output_type": "display_data"
    },
    {
     "data": {
      "text/plain": [
       "\u001B[1m Trainable params: \u001B[0m\u001B[38;5;34m485,514\u001B[0m (1.85 MB)\n"
      ],
      "text/html": [
       "<pre style=\"white-space:pre;overflow-x:auto;line-height:normal;font-family:Menlo,'DejaVu Sans Mono',consolas,'Courier New',monospace\"><span style=\"font-weight: bold\"> Trainable params: </span><span style=\"color: #00af00; text-decoration-color: #00af00\">485,514</span> (1.85 MB)\n",
       "</pre>\n"
      ]
     },
     "metadata": {},
     "output_type": "display_data"
    },
    {
     "data": {
      "text/plain": [
       "\u001B[1m Non-trainable params: \u001B[0m\u001B[38;5;34m0\u001B[0m (0.00 B)\n"
      ],
      "text/html": [
       "<pre style=\"white-space:pre;overflow-x:auto;line-height:normal;font-family:Menlo,'DejaVu Sans Mono',consolas,'Courier New',monospace\"><span style=\"font-weight: bold\"> Non-trainable params: </span><span style=\"color: #00af00; text-decoration-color: #00af00\">0</span> (0.00 B)\n",
       "</pre>\n"
      ]
     },
     "metadata": {},
     "output_type": "display_data"
    }
   ],
   "execution_count": 37
  },
  {
   "cell_type": "markdown",
   "id": "11060745-95e9-44b6-9ee5-857ee40c5280",
   "metadata": {},
   "source": [
    "Visualiza la estructura del modelo"
   ]
  },
  {
   "cell_type": "code",
   "id": "be278372-88d6-47ec-9c49-36cb76f9f7dd",
   "metadata": {
    "ExecuteTime": {
     "end_time": "2024-07-22T00:08:46.151025Z",
     "start_time": "2024-07-22T00:08:44.701151Z"
    }
   },
   "source": [
    "from keras.api.utils import plot_model\n",
    "from IPython.display import Image\n",
    "\n",
    "plot_model(cnn, to_file='a.png',show_shapes=True, show_layer_names=True)\n",
    "Image(filename=\"a.png\")"
   ],
   "outputs": [
    {
     "name": "stdout",
     "output_type": "stream",
     "text": [
      "You must install pydot (`pip install pydot`) for `plot_model` to work.\n"
     ]
    },
    {
     "ename": "FileNotFoundError",
     "evalue": "[Errno 2] No such file or directory: 'a.png'",
     "output_type": "error",
     "traceback": [
      "\u001B[1;31m---------------------------------------------------------------------------\u001B[0m",
      "\u001B[1;31mFileNotFoundError\u001B[0m                         Traceback (most recent call last)",
      "Cell \u001B[1;32mIn[38], line 5\u001B[0m\n\u001B[0;32m      2\u001B[0m \u001B[38;5;28;01mfrom\u001B[39;00m \u001B[38;5;21;01mIPython\u001B[39;00m\u001B[38;5;21;01m.\u001B[39;00m\u001B[38;5;21;01mdisplay\u001B[39;00m \u001B[38;5;28;01mimport\u001B[39;00m Image\n\u001B[0;32m      4\u001B[0m plot_model(cnn, to_file\u001B[38;5;241m=\u001B[39m\u001B[38;5;124m'\u001B[39m\u001B[38;5;124ma.png\u001B[39m\u001B[38;5;124m'\u001B[39m,show_shapes\u001B[38;5;241m=\u001B[39m\u001B[38;5;28;01mTrue\u001B[39;00m, show_layer_names\u001B[38;5;241m=\u001B[39m\u001B[38;5;28;01mTrue\u001B[39;00m)\n\u001B[1;32m----> 5\u001B[0m Image(filename\u001B[38;5;241m=\u001B[39m\u001B[38;5;124m\"\u001B[39m\u001B[38;5;124ma.png\u001B[39m\u001B[38;5;124m\"\u001B[39m)\n",
      "File \u001B[1;32m~\\miniconda3\\Lib\\site-packages\\IPython\\core\\display.py:970\u001B[0m, in \u001B[0;36mImage.__init__\u001B[1;34m(self, data, url, filename, format, embed, width, height, retina, unconfined, metadata, alt)\u001B[0m\n\u001B[0;32m    968\u001B[0m \u001B[38;5;28mself\u001B[39m\u001B[38;5;241m.\u001B[39munconfined \u001B[38;5;241m=\u001B[39m unconfined\n\u001B[0;32m    969\u001B[0m \u001B[38;5;28mself\u001B[39m\u001B[38;5;241m.\u001B[39malt \u001B[38;5;241m=\u001B[39m alt\n\u001B[1;32m--> 970\u001B[0m \u001B[38;5;28msuper\u001B[39m(Image, \u001B[38;5;28mself\u001B[39m)\u001B[38;5;241m.\u001B[39m\u001B[38;5;21m__init__\u001B[39m(data\u001B[38;5;241m=\u001B[39mdata, url\u001B[38;5;241m=\u001B[39murl, filename\u001B[38;5;241m=\u001B[39mfilename,\n\u001B[0;32m    971\u001B[0m         metadata\u001B[38;5;241m=\u001B[39mmetadata)\n\u001B[0;32m    973\u001B[0m \u001B[38;5;28;01mif\u001B[39;00m \u001B[38;5;28mself\u001B[39m\u001B[38;5;241m.\u001B[39mwidth \u001B[38;5;129;01mis\u001B[39;00m \u001B[38;5;28;01mNone\u001B[39;00m \u001B[38;5;129;01mand\u001B[39;00m \u001B[38;5;28mself\u001B[39m\u001B[38;5;241m.\u001B[39mmetadata\u001B[38;5;241m.\u001B[39mget(\u001B[38;5;124m'\u001B[39m\u001B[38;5;124mwidth\u001B[39m\u001B[38;5;124m'\u001B[39m, {}):\n\u001B[0;32m    974\u001B[0m     \u001B[38;5;28mself\u001B[39m\u001B[38;5;241m.\u001B[39mwidth \u001B[38;5;241m=\u001B[39m metadata[\u001B[38;5;124m'\u001B[39m\u001B[38;5;124mwidth\u001B[39m\u001B[38;5;124m'\u001B[39m]\n",
      "File \u001B[1;32m~\\miniconda3\\Lib\\site-packages\\IPython\\core\\display.py:327\u001B[0m, in \u001B[0;36mDisplayObject.__init__\u001B[1;34m(self, data, url, filename, metadata)\u001B[0m\n\u001B[0;32m    324\u001B[0m \u001B[38;5;28;01melif\u001B[39;00m \u001B[38;5;28mself\u001B[39m\u001B[38;5;241m.\u001B[39mmetadata \u001B[38;5;129;01mis\u001B[39;00m \u001B[38;5;28;01mNone\u001B[39;00m:\n\u001B[0;32m    325\u001B[0m     \u001B[38;5;28mself\u001B[39m\u001B[38;5;241m.\u001B[39mmetadata \u001B[38;5;241m=\u001B[39m {}\n\u001B[1;32m--> 327\u001B[0m \u001B[38;5;28mself\u001B[39m\u001B[38;5;241m.\u001B[39mreload()\n\u001B[0;32m    328\u001B[0m \u001B[38;5;28mself\u001B[39m\u001B[38;5;241m.\u001B[39m_check_data()\n",
      "File \u001B[1;32m~\\miniconda3\\Lib\\site-packages\\IPython\\core\\display.py:1005\u001B[0m, in \u001B[0;36mImage.reload\u001B[1;34m(self)\u001B[0m\n\u001B[0;32m   1003\u001B[0m \u001B[38;5;250m\u001B[39m\u001B[38;5;124;03m\"\"\"Reload the raw data from file or URL.\"\"\"\u001B[39;00m\n\u001B[0;32m   1004\u001B[0m \u001B[38;5;28;01mif\u001B[39;00m \u001B[38;5;28mself\u001B[39m\u001B[38;5;241m.\u001B[39membed:\n\u001B[1;32m-> 1005\u001B[0m     \u001B[38;5;28msuper\u001B[39m(Image,\u001B[38;5;28mself\u001B[39m)\u001B[38;5;241m.\u001B[39mreload()\n\u001B[0;32m   1006\u001B[0m     \u001B[38;5;28;01mif\u001B[39;00m \u001B[38;5;28mself\u001B[39m\u001B[38;5;241m.\u001B[39mretina:\n\u001B[0;32m   1007\u001B[0m         \u001B[38;5;28mself\u001B[39m\u001B[38;5;241m.\u001B[39m_retina_shape()\n",
      "File \u001B[1;32m~\\miniconda3\\Lib\\site-packages\\IPython\\core\\display.py:353\u001B[0m, in \u001B[0;36mDisplayObject.reload\u001B[1;34m(self)\u001B[0m\n\u001B[0;32m    351\u001B[0m \u001B[38;5;28;01mif\u001B[39;00m \u001B[38;5;28mself\u001B[39m\u001B[38;5;241m.\u001B[39mfilename \u001B[38;5;129;01mis\u001B[39;00m \u001B[38;5;129;01mnot\u001B[39;00m \u001B[38;5;28;01mNone\u001B[39;00m:\n\u001B[0;32m    352\u001B[0m     encoding \u001B[38;5;241m=\u001B[39m \u001B[38;5;28;01mNone\u001B[39;00m \u001B[38;5;28;01mif\u001B[39;00m \u001B[38;5;124m\"\u001B[39m\u001B[38;5;124mb\u001B[39m\u001B[38;5;124m\"\u001B[39m \u001B[38;5;129;01min\u001B[39;00m \u001B[38;5;28mself\u001B[39m\u001B[38;5;241m.\u001B[39m_read_flags \u001B[38;5;28;01melse\u001B[39;00m \u001B[38;5;124m\"\u001B[39m\u001B[38;5;124mutf-8\u001B[39m\u001B[38;5;124m\"\u001B[39m\n\u001B[1;32m--> 353\u001B[0m     \u001B[38;5;28;01mwith\u001B[39;00m \u001B[38;5;28mopen\u001B[39m(\u001B[38;5;28mself\u001B[39m\u001B[38;5;241m.\u001B[39mfilename, \u001B[38;5;28mself\u001B[39m\u001B[38;5;241m.\u001B[39m_read_flags, encoding\u001B[38;5;241m=\u001B[39mencoding) \u001B[38;5;28;01mas\u001B[39;00m f:\n\u001B[0;32m    354\u001B[0m         \u001B[38;5;28mself\u001B[39m\u001B[38;5;241m.\u001B[39mdata \u001B[38;5;241m=\u001B[39m f\u001B[38;5;241m.\u001B[39mread()\n\u001B[0;32m    355\u001B[0m \u001B[38;5;28;01melif\u001B[39;00m \u001B[38;5;28mself\u001B[39m\u001B[38;5;241m.\u001B[39murl \u001B[38;5;129;01mis\u001B[39;00m \u001B[38;5;129;01mnot\u001B[39;00m \u001B[38;5;28;01mNone\u001B[39;00m:\n\u001B[0;32m    356\u001B[0m     \u001B[38;5;66;03m# Deferred import\u001B[39;00m\n",
      "\u001B[1;31mFileNotFoundError\u001B[0m: [Errno 2] No such file or directory: 'a.png'"
     ]
    }
   ],
   "execution_count": 38
  },
  {
   "cell_type": "markdown",
   "id": "29617e38-d74f-4259-9c74-2672297630b8",
   "metadata": {},
   "source": [
    "Compila tu modelo"
   ]
  },
  {
   "metadata": {},
   "cell_type": "code",
   "source": "",
   "id": "9fe4329a351e9663",
   "outputs": [],
   "execution_count": null
  },
  {
   "cell_type": "code",
   "id": "055671d7-4211-42e4-84a8-1a3213876a62",
   "metadata": {
    "ExecuteTime": {
     "end_time": "2024-07-22T00:09:01.651872Z",
     "start_time": "2024-07-22T00:09:01.638837Z"
    }
   },
   "source": "cnn.compile(optimizer='adam', loss='categorical_crossentropy', metrics=['accuracy'])",
   "outputs": [],
   "execution_count": 39
  },
  {
   "cell_type": "markdown",
   "id": "3e677d3c-75c5-4301-9c53-70b343903101",
   "metadata": {},
   "source": [
    "### Entrenar y Evaluar el modelo"
   ]
  },
  {
   "cell_type": "markdown",
   "id": "f3ab9d31-bb3c-4472-997c-03ec97966032",
   "metadata": {},
   "source": [
    "Entrena tu modelo con fit"
   ]
  },
  {
   "cell_type": "code",
   "id": "1b8d88d4-abc0-4c62-a05a-c5461aef2207",
   "metadata": {
    "ExecuteTime": {
     "end_time": "2024-07-22T00:11:10.174712Z",
     "start_time": "2024-07-22T00:09:46.103109Z"
    }
   },
   "source": "cnn.fit(X_train, y_train, epochs=5, batch_size=64,validation_split=0.1)",
   "outputs": [
    {
     "name": "stdout",
     "output_type": "stream",
     "text": [
      "Epoch 1/5\n",
      "\u001B[1m844/844\u001B[0m \u001B[32m━━━━━━━━━━━━━━━━━━━━\u001B[0m\u001B[37m\u001B[0m \u001B[1m18s\u001B[0m 20ms/step - accuracy: 0.8967 - loss: 0.3423 - val_accuracy: 0.9838 - val_loss: 0.0553\n",
      "Epoch 2/5\n",
      "\u001B[1m844/844\u001B[0m \u001B[32m━━━━━━━━━━━━━━━━━━━━\u001B[0m\u001B[37m\u001B[0m \u001B[1m16s\u001B[0m 19ms/step - accuracy: 0.9873 - loss: 0.0438 - val_accuracy: 0.9888 - val_loss: 0.0411\n",
      "Epoch 3/5\n",
      "\u001B[1m844/844\u001B[0m \u001B[32m━━━━━━━━━━━━━━━━━━━━\u001B[0m\u001B[37m\u001B[0m \u001B[1m16s\u001B[0m 19ms/step - accuracy: 0.9912 - loss: 0.0276 - val_accuracy: 0.9905 - val_loss: 0.0347\n",
      "Epoch 4/5\n",
      "\u001B[1m844/844\u001B[0m \u001B[32m━━━━━━━━━━━━━━━━━━━━\u001B[0m\u001B[37m\u001B[0m \u001B[1m17s\u001B[0m 20ms/step - accuracy: 0.9932 - loss: 0.0198 - val_accuracy: 0.9895 - val_loss: 0.0339\n",
      "Epoch 5/5\n",
      "\u001B[1m844/844\u001B[0m \u001B[32m━━━━━━━━━━━━━━━━━━━━\u001B[0m\u001B[37m\u001B[0m \u001B[1m16s\u001B[0m 19ms/step - accuracy: 0.9954 - loss: 0.0135 - val_accuracy: 0.9913 - val_loss: 0.0307\n"
     ]
    },
    {
     "data": {
      "text/plain": [
       "<keras.src.callbacks.history.History at 0x2638a222660>"
      ]
     },
     "execution_count": 40,
     "metadata": {},
     "output_type": "execute_result"
    }
   ],
   "execution_count": 40
  },
  {
   "cell_type": "markdown",
   "id": "fe9cd8d5-94f0-43af-8812-7e37aa1a5e4f",
   "metadata": {},
   "source": [
    "Evalua le modelo con Evaluate"
   ]
  },
  {
   "cell_type": "code",
   "id": "d9d042a3-d4a9-4401-b22f-99d3438ceb24",
   "metadata": {
    "ExecuteTime": {
     "end_time": "2024-07-22T00:13:12.851554Z",
     "start_time": "2024-07-22T00:13:11.468298Z"
    }
   },
   "source": "loss , accuracy = cnn.evaluate(X_test, y_test)",
   "outputs": [
    {
     "name": "stdout",
     "output_type": "stream",
     "text": [
      "\u001B[1m313/313\u001B[0m \u001B[32m━━━━━━━━━━━━━━━━━━━━\u001B[0m\u001B[37m\u001B[0m \u001B[1m1s\u001B[0m 4ms/step - accuracy: 0.9869 - loss: 0.0427\n"
     ]
    }
   ],
   "execution_count": 41
  },
  {
   "cell_type": "code",
   "id": "82d5fef6-6547-47ef-98e7-0c7a41825caa",
   "metadata": {
    "ExecuteTime": {
     "end_time": "2024-07-22T00:13:26.254135Z",
     "start_time": "2024-07-22T00:13:26.249791Z"
    }
   },
   "source": "loss",
   "outputs": [
    {
     "data": {
      "text/plain": [
       "0.03129778429865837"
      ]
     },
     "execution_count": 42,
     "metadata": {},
     "output_type": "execute_result"
    }
   ],
   "execution_count": 42
  },
  {
   "cell_type": "code",
   "id": "fe7d6467-7eb8-414b-bb53-36414b309749",
   "metadata": {
    "ExecuteTime": {
     "end_time": "2024-07-22T00:13:31.981988Z",
     "start_time": "2024-07-22T00:13:31.976661Z"
    }
   },
   "source": "accuracy",
   "outputs": [
    {
     "data": {
      "text/plain": [
       "0.9907000064849854"
      ]
     },
     "execution_count": 43,
     "metadata": {},
     "output_type": "execute_result"
    }
   ],
   "execution_count": 43
  },
  {
   "cell_type": "markdown",
   "id": "cb6ffc06-88b3-4f3b-97c4-82bb3baf3569",
   "metadata": {},
   "source": [
    "Vamos a hacer predicciones"
   ]
  },
  {
   "cell_type": "code",
   "id": "d29935c7-c685-4dcb-afef-5229b4d2b39f",
   "metadata": {
    "ExecuteTime": {
     "end_time": "2024-07-22T00:14:27.102748Z",
     "start_time": "2024-07-22T00:14:25.535482Z"
    }
   },
   "source": "predictions = cnn.predict(X_test)",
   "outputs": [
    {
     "name": "stdout",
     "output_type": "stream",
     "text": [
      "\u001B[1m313/313\u001B[0m \u001B[32m━━━━━━━━━━━━━━━━━━━━\u001B[0m\u001B[37m\u001B[0m \u001B[1m1s\u001B[0m 4ms/step\n"
     ]
    }
   ],
   "execution_count": 44
  },
  {
   "cell_type": "markdown",
   "id": "5b9a6377-c5eb-4ce6-ab41-7abe6a10b404",
   "metadata": {},
   "source": [
    "checa que dice el primer elemento de ytest"
   ]
  },
  {
   "cell_type": "code",
   "id": "d38424d7-6c6e-4af3-ac25-c4fb61b17dee",
   "metadata": {
    "ExecuteTime": {
     "end_time": "2024-07-22T00:14:41.672702Z",
     "start_time": "2024-07-22T00:14:41.667585Z"
    }
   },
   "source": "y_test[0]",
   "outputs": [
    {
     "data": {
      "text/plain": [
       "array([0., 0., 0., 0., 0., 0., 0., 1., 0., 0.])"
      ]
     },
     "execution_count": 45,
     "metadata": {},
     "output_type": "execute_result"
    }
   ],
   "execution_count": 45
  },
  {
   "cell_type": "markdown",
   "id": "3bd1394d-6c57-4b5e-956d-2f8f8a1f6d39",
   "metadata": {},
   "source": [
    "Y ahora que dice el primer elemento del modelo"
   ]
  },
  {
   "cell_type": "code",
   "id": "f4b1b3db-57a3-445f-ae64-9db2aff22439",
   "metadata": {
    "ExecuteTime": {
     "end_time": "2024-07-22T00:21:01.787726Z",
     "start_time": "2024-07-22T00:21:01.783285Z"
    }
   },
   "source": [
    "for index, probability in enumerate(predictions[0]):\n",
    "    print(f'{index}: {probability:.10%}')"
   ],
   "outputs": [
    {
     "name": "stdout",
     "output_type": "stream",
     "text": [
      "0: 0.0000013927%\n",
      "1: 0.0000000408%\n",
      "2: 0.0000013458%\n",
      "3: 0.0000001125%\n",
      "4: 0.0000000003%\n",
      "5: 0.0000000032%\n",
      "6: 0.0000000000%\n",
      "7: 99.9999880791%\n",
      "8: 0.0000000096%\n",
      "9: 0.0000110899%\n"
     ]
    }
   ],
   "execution_count": 50
  },
  {
   "cell_type": "markdown",
   "id": "d0f7943f-bfdb-4230-a261-7c14d046289b",
   "metadata": {},
   "source": [
    "Ubiquemos las predicciones incorreectas"
   ]
  },
  {
   "cell_type": "code",
   "id": "a9c8d00b-140e-4b03-9c6a-2626f9198481",
   "metadata": {
    "ExecuteTime": {
     "end_time": "2024-07-22T00:21:03.523682Z",
     "start_time": "2024-07-22T00:21:03.520234Z"
    }
   },
   "source": [
    "imges = X_test.reshape((10000,28,28))\n",
    "incorrect_predictions = []"
   ],
   "outputs": [],
   "execution_count": 51
  },
  {
   "cell_type": "code",
   "id": "9086dec0-0a7b-46ce-afca-4f0f2310d238",
   "metadata": {
    "ExecuteTime": {
     "end_time": "2024-07-22T00:21:34.172309Z",
     "start_time": "2024-07-22T00:21:34.120449Z"
    }
   },
   "source": [
    "for i , (p,e) in enumerate(zip(predictions, y_test)):\n",
    "    predicted, expected = np.argmax(p), np.argmax(e)\n",
    "    \n",
    "    if predicted != expected:\n",
    "        incorrect_predictions.append((i,imges[i],predicted,expected))"
   ],
   "outputs": [],
   "execution_count": 54
  },
  {
   "cell_type": "markdown",
   "id": "80577a6c-e804-4eac-8ec6-f78438425828",
   "metadata": {},
   "source": [
    "Obten el largo de esa lista"
   ]
  },
  {
   "cell_type": "code",
   "id": "f9e6f74b-dbf1-425a-8552-4a18db2774dc",
   "metadata": {
    "ExecuteTime": {
     "end_time": "2024-07-22T00:21:47.742699Z",
     "start_time": "2024-07-22T00:21:47.737326Z"
    }
   },
   "source": "len(incorrect_predictions)",
   "outputs": [
    {
     "data": {
      "text/plain": [
       "93"
      ]
     },
     "execution_count": 55,
     "metadata": {},
     "output_type": "execute_result"
    }
   ],
   "execution_count": 55
  },
  {
   "cell_type": "markdown",
   "id": "16baeca6-fea3-43cc-8ce4-9b9cdba7be00",
   "metadata": {},
   "source": [
    "Visualiza las predicciones incorrectas"
   ]
  },
  {
   "cell_type": "code",
   "id": "2a4b6272-3d1c-46db-b814-341331852edc",
   "metadata": {
    "ExecuteTime": {
     "end_time": "2024-07-22T00:26:46.753495Z",
     "start_time": "2024-07-22T00:26:45.505030Z"
    }
   },
   "source": [
    "figure, axes = plt.subplots(nrows=4,ncols=6,figsize=(16,12))\n",
    "for axes, item in zip(axes.ravel(), incorrect_predictions):\n",
    "    index, image, predicted, expected = item\n",
    "    axes.imshow(image,cmap=plt.cm.gray_r)\n",
    "    axes.set_xticks([])\n",
    "    axes.set_yticks([])\n",
    "    axes.set_title(f'index:{index}\\np:{predicted}\\ne:{expected}')\n",
    "plt.tight_layout()"
   ],
   "outputs": [
    {
     "data": {
      "text/plain": [
       "<Figure size 1600x1200 with 24 Axes>"
      ],
      "image/png": "[encoded data removed]"
     },
     "metadata": {},
     "output_type": "display_data"
    }
   ],
   "execution_count": 57
  },
  {
   "cell_type": "markdown",
   "id": "1bded1e9-a959-4f41-ad79-c20ea20d4706",
   "metadata": {},
   "source": [
    "Arma una funcion que genere un listado de las probabilidades para predicciones incorrectas"
   ]
  },
  {
   "cell_type": "code",
   "id": "9cc934ea-981e-48ce-84f5-898d732cee43",
   "metadata": {
    "ExecuteTime": {
     "end_time": "2024-07-22T00:29:44.567305Z",
     "start_time": "2024-07-22T00:29:44.563009Z"
    }
   },
   "source": [
    "def show_pron(predictions):\n",
    "    for index , probability, in enumerate(predictions):\n",
    "        print(f'{index}: {probability:.10%}')"
   ],
   "outputs": [],
   "execution_count": 58
  },
  {
   "cell_type": "markdown",
   "id": "f3765a74-0de3-40d6-9ca0-4a862bbd875b",
   "metadata": {},
   "source": [
    "Muestra una que otra predicción incorrecta a detalles"
   ]
  },
  {
   "cell_type": "code",
   "id": "5a2974b7-7fc4-4937-8c7c-dbb5f247ab70",
   "metadata": {
    "ExecuteTime": {
     "end_time": "2024-07-22T00:31:04.045640Z",
     "start_time": "2024-07-22T00:31:04.041176Z"
    }
   },
   "source": "show_pron(predictions[582])",
   "outputs": [
    {
     "name": "stdout",
     "output_type": "stream",
     "text": [
      "0: 0.0002924429%\n",
      "1: 0.0009958465%\n",
      "2: 71.0952281952%\n",
      "3: 3.5155374557%\n",
      "4: 0.0007382585%\n",
      "5: 0.0000483838%\n",
      "6: 0.0001239924%\n",
      "7: 0.0001096087%\n",
      "8: 25.3869205713%\n",
      "9: 0.0000015634%\n"
     ]
    }
   ],
   "execution_count": 62
  },
  {
   "cell_type": "markdown",
   "id": "e9c29f76-72b3-4f0b-aafc-ba625108e756",
   "metadata": {},
   "source": [
    "### Guardar tu Modelo"
   ]
  },
  {
   "cell_type": "code",
   "id": "294e984d-d848-432e-86d1-8ad319731436",
   "metadata": {
    "ExecuteTime": {
     "end_time": "2024-07-22T00:33:41.753187Z",
     "start_time": "2024-07-22T00:33:41.707489Z"
    }
   },
   "source": "cnn.save(\"mnist_cnn2.keras\")",
   "outputs": [],
   "execution_count": 66
  },
  {
   "cell_type": "code",
   "id": "5f63b3f1-f7ce-45f9-8fef-4ef5f57efa8f",
   "metadata": {
    "ExecuteTime": {
     "end_time": "2024-07-22T00:34:58.631422Z",
     "start_time": "2024-07-22T00:34:58.627106Z"
    }
   },
   "source": [
    "#para cargar el modelo\n",
    "from keras.api.models import load_model"
   ],
   "outputs": [],
   "execution_count": 68
  },
  {
   "cell_type": "code",
   "id": "9c3c7490-8ff9-46e1-b13a-ed5df3eeb1b2",
   "metadata": {
    "ExecuteTime": {
     "end_time": "2024-07-22T00:35:19.330117Z",
     "start_time": "2024-07-22T00:35:19.274594Z"
    }
   },
   "source": "cnn = load_model(\"mnist_cnn2.h5\")",
   "outputs": [
    {
     "name": "stderr",
     "output_type": "stream",
     "text": [
      "WARNING:absl:Compiled the loaded model, but the compiled metrics have yet to be built. `model.compile_metrics` will be empty until you train or evaluate the model.\n"
     ]
    }
   ],
   "execution_count": 70
  },
  {
   "cell_type": "markdown",
   "id": "3bd26c94-294c-434b-b80c-cbd5c2c93ae8",
   "metadata": {},
   "source": [
    "## Analisis de Sentimientos con Redes Neuronales - IMDB"
   ]
  },
  {
   "cell_type": "markdown",
   "id": "468e7db1-8efb-4695-ac70-4a68f430f158",
   "metadata": {},
   "source": [
    "### Cargar el dataset de IMBD"
   ]
  },
  {
   "cell_type": "markdown",
   "id": "cb7f2d03-95f1-4f5c-be0d-33fcde74258a",
   "metadata": {},
   "source": [
    "Import el dataset de imdb desde tensorlfow.keras.datasets"
   ]
  },
  {
   "cell_type": "code",
   "id": "1da741cb-176d-4e40-83a4-7433ea48d1f8",
   "metadata": {
    "ExecuteTime": {
     "end_time": "2024-07-22T00:34:27.643496Z",
     "start_time": "2024-07-22T00:34:27.640570Z"
    }
   },
   "source": "from keras.api.datasets import imdb",
   "outputs": [],
   "execution_count": 67
  },
  {
   "cell_type": "markdown",
   "id": "7c72e076-26ca-4296-8859-fdfd8e26ff76",
   "metadata": {},
   "source": [
    "Carga las 10000 palabras que mas ocurren"
   ]
  },
  {
   "cell_type": "code",
   "id": "2eea9e77-4b3d-4aec-b542-9cbeaac58b70",
   "metadata": {
    "ExecuteTime": {
     "end_time": "2024-07-22T00:43:33.336907Z",
     "start_time": "2024-07-22T00:43:33.334141Z"
    }
   },
   "source": "number_words = 10000",
   "outputs": [],
   "execution_count": 83
  },
  {
   "cell_type": "markdown",
   "id": "71239f38-381d-474b-ab25-8adebca85352",
   "metadata": {},
   "source": [
    "Carga tus palabras en tus datasets X_train y X_test y asi"
   ]
  },
  {
   "cell_type": "code",
   "id": "2b5682a1-3298-4a99-b327-2004b6d1fef4",
   "metadata": {
    "ExecuteTime": {
     "end_time": "2024-07-22T00:43:39.044257Z",
     "start_time": "2024-07-22T00:43:35.286659Z"
    }
   },
   "source": "(x_train, y_train), (x_test, y_test) = imdb.load_data(num_words=number_words)",
   "outputs": [],
   "execution_count": 84
  },
  {
   "cell_type": "markdown",
   "id": "327923f4-f66d-4edd-a0a5-0f4049c499b4",
   "metadata": {},
   "source": [
    "### Exploracion de Datos"
   ]
  },
  {
   "cell_type": "markdown",
   "id": "6ff05689-beb1-4552-9a17-1855fa7c54e3",
   "metadata": {},
   "source": [
    "Figura de X_train"
   ]
  },
  {
   "cell_type": "code",
   "id": "f48d87b8-45d5-427a-87f2-b6a39f37f83c",
   "metadata": {
    "ExecuteTime": {
     "end_time": "2024-07-22T00:45:20.246604Z",
     "start_time": "2024-07-22T00:45:20.241644Z"
    }
   },
   "source": "X_train.shape\n",
   "outputs": [
    {
     "data": {
      "text/plain": [
       "(60000, 28, 28, 1)"
      ]
     },
     "execution_count": 96,
     "metadata": {},
     "output_type": "execute_result"
    }
   ],
   "execution_count": 96
  },
  {
   "cell_type": "markdown",
   "id": "2f53adf6-7e86-495f-ba18-d82170e7c77f",
   "metadata": {},
   "source": [
    "Figura de Y_train"
   ]
  },
  {
   "cell_type": "code",
   "id": "a3f768f8-71af-4132-92a0-8b14251fbd8d",
   "metadata": {
    "ExecuteTime": {
     "end_time": "2024-07-22T00:43:51.404033Z",
     "start_time": "2024-07-22T00:43:51.399890Z"
    }
   },
   "source": "y_train.shape",
   "outputs": [
    {
     "data": {
      "text/plain": [
       "(25000,)"
      ]
     },
     "execution_count": 86,
     "metadata": {},
     "output_type": "execute_result"
    }
   ],
   "execution_count": 86
  },
  {
   "cell_type": "markdown",
   "id": "d2bba90f-a255-44aa-9da6-28eb3bf93412",
   "metadata": {},
   "source": [
    "Figura de X_test"
   ]
  },
  {
   "cell_type": "code",
   "id": "9b857e90-bca4-4d38-b780-39d4f81418cf",
   "metadata": {
    "ExecuteTime": {
     "end_time": "2024-07-22T00:43:57.463165Z",
     "start_time": "2024-07-22T00:43:57.457935Z"
    }
   },
   "source": "x_test.shape",
   "outputs": [
    {
     "data": {
      "text/plain": [
       "(25000,)"
      ]
     },
     "execution_count": 87,
     "metadata": {},
     "output_type": "execute_result"
    }
   ],
   "execution_count": 87
  },
  {
   "cell_type": "markdown",
   "id": "3dd934d2-7a2e-45d4-86fb-dc2854f8bae2",
   "metadata": {},
   "source": [
    "Figura de y_test"
   ]
  },
  {
   "cell_type": "code",
   "id": "6eaa46b4-61e4-48c5-997b-a95b6ae41006",
   "metadata": {
    "ExecuteTime": {
     "end_time": "2024-07-22T00:44:03.232853Z",
     "start_time": "2024-07-22T00:44:03.227731Z"
    }
   },
   "source": "y_test.shape",
   "outputs": [
    {
     "data": {
      "text/plain": [
       "(25000,)"
      ]
     },
     "execution_count": 88,
     "metadata": {},
     "output_type": "execute_result"
    }
   ],
   "execution_count": 88
  },
  {
   "cell_type": "markdown",
   "id": "e4ff036e-ec9e-4e40-85ee-4d2b387c07de",
   "metadata": {},
   "source": [
    "Apaga pretty print"
   ]
  },
  {
   "cell_type": "code",
   "id": "1ec1a6fb-b6ca-4159-86e0-6d39d713dcd5",
   "metadata": {
    "ExecuteTime": {
     "end_time": "2024-07-22T00:45:41.961941Z",
     "start_time": "2024-07-22T00:45:41.957931Z"
    }
   },
   "source": "%pprint",
   "outputs": [
    {
     "name": "stdout",
     "output_type": "stream",
     "text": [
      "Pretty printing has been turned OFF\n"
     ]
    }
   ],
   "execution_count": 97
  },
  {
   "cell_type": "markdown",
   "id": "0d5d5526-4ecc-4111-9c61-6ccb273ff9e4",
   "metadata": {},
   "source": [
    "Checa un elemento cualquiera de X_train"
   ]
  },
  {
   "cell_type": "code",
   "id": "eb12be4a-a304-4c28-9fb9-52d9ea09fc44",
   "metadata": {
    "ExecuteTime": {
     "end_time": "2024-07-22T00:46:09.342389Z",
     "start_time": "2024-07-22T00:46:09.331327Z"
    }
   },
   "source": "X_train[1500]",
   "outputs": [
    {
     "data": {
      "text/plain": [
       "array([[[0.        ],\n",
       "        [0.        ],\n",
       "        [0.        ],\n",
       "        [0.        ],\n",
       "        [0.        ],\n",
       "        [0.        ],\n",
       "        [0.        ],\n",
       "        [0.        ],\n",
       "        [0.        ],\n",
       "        [0.        ],\n",
       "        [0.        ],\n",
       "        [0.        ],\n",
       "        [0.        ],\n",
       "        [0.        ],\n",
       "        [0.        ],\n",
       "        [0.        ],\n",
       "        [0.        ],\n",
       "        [0.        ],\n",
       "        [0.        ],\n",
       "        [0.        ],\n",
       "        [0.        ],\n",
       "        [0.        ],\n",
       "        [0.        ],\n",
       "        [0.        ],\n",
       "        [0.        ],\n",
       "        [0.        ],\n",
       "        [0.        ],\n",
       "        [0.        ]],\n",
       "\n",
       "       [[0.        ],\n",
       "        [0.        ],\n",
       "        [0.        ],\n",
       "        [0.        ],\n",
       "        [0.        ],\n",
       "        [0.        ],\n",
       "        [0.        ],\n",
       "        [0.        ],\n",
       "        [0.        ],\n",
       "        [0.        ],\n",
       "        [0.        ],\n",
       "        [0.        ],\n",
       "        [0.        ],\n",
       "        [0.        ],\n",
       "        [0.        ],\n",
       "        [0.        ],\n",
       "        [0.        ],\n",
       "        [0.        ],\n",
       "        [0.        ],\n",
       "        [0.        ],\n",
       "        [0.        ],\n",
       "        [0.        ],\n",
       "        [0.        ],\n",
       "        [0.        ],\n",
       "        [0.        ],\n",
       "        [0.        ],\n",
       "        [0.        ],\n",
       "        [0.        ]],\n",
       "\n",
       "       [[0.        ],\n",
       "        [0.        ],\n",
       "        [0.        ],\n",
       "        [0.        ],\n",
       "        [0.        ],\n",
       "        [0.        ],\n",
       "        [0.        ],\n",
       "        [0.        ],\n",
       "        [0.        ],\n",
       "        [0.        ],\n",
       "        [0.        ],\n",
       "        [0.        ],\n",
       "        [0.        ],\n",
       "        [0.        ],\n",
       "        [0.        ],\n",
       "        [0.        ],\n",
       "        [0.        ],\n",
       "        [0.        ],\n",
       "        [0.        ],\n",
       "        [0.        ],\n",
       "        [0.        ],\n",
       "        [0.        ],\n",
       "        [0.        ],\n",
       "        [0.        ],\n",
       "        [0.        ],\n",
       "        [0.        ],\n",
       "        [0.        ],\n",
       "        [0.        ]],\n",
       "\n",
       "       [[0.        ],\n",
       "        [0.        ],\n",
       "        [0.        ],\n",
       "        [0.        ],\n",
       "        [0.        ],\n",
       "        [0.        ],\n",
       "        [0.        ],\n",
       "        [0.        ],\n",
       "        [0.        ],\n",
       "        [0.        ],\n",
       "        [0.        ],\n",
       "        [0.        ],\n",
       "        [0.        ],\n",
       "        [0.        ],\n",
       "        [0.        ],\n",
       "        [0.        ],\n",
       "        [0.        ],\n",
       "        [0.        ],\n",
       "        [0.        ],\n",
       "        [0.        ],\n",
       "        [0.        ],\n",
       "        [0.        ],\n",
       "        [0.        ],\n",
       "        [0.        ],\n",
       "        [0.        ],\n",
       "        [0.        ],\n",
       "        [0.        ],\n",
       "        [0.        ]],\n",
       "\n",
       "       [[0.        ],\n",
       "        [0.        ],\n",
       "        [0.        ],\n",
       "        [0.        ],\n",
       "        [0.        ],\n",
       "        [0.        ],\n",
       "        [0.        ],\n",
       "        [0.        ],\n",
       "        [0.        ],\n",
       "        [0.        ],\n",
       "        [0.        ],\n",
       "        [0.        ],\n",
       "        [0.        ],\n",
       "        [0.        ],\n",
       "        [0.        ],\n",
       "        [0.        ],\n",
       "        [0.        ],\n",
       "        [0.        ],\n",
       "        [0.        ],\n",
       "        [0.        ],\n",
       "        [0.        ],\n",
       "        [0.        ],\n",
       "        [0.        ],\n",
       "        [0.        ],\n",
       "        [0.        ],\n",
       "        [0.        ],\n",
       "        [0.        ],\n",
       "        [0.        ]],\n",
       "\n",
       "       [[0.        ],\n",
       "        [0.        ],\n",
       "        [0.        ],\n",
       "        [0.        ],\n",
       "        [0.        ],\n",
       "        [0.        ],\n",
       "        [0.        ],\n",
       "        [0.        ],\n",
       "        [0.        ],\n",
       "        [0.        ],\n",
       "        [0.        ],\n",
       "        [0.        ],\n",
       "        [0.        ],\n",
       "        [0.        ],\n",
       "        [0.        ],\n",
       "        [0.        ],\n",
       "        [0.        ],\n",
       "        [0.        ],\n",
       "        [0.        ],\n",
       "        [0.        ],\n",
       "        [0.        ],\n",
       "        [0.        ],\n",
       "        [0.        ],\n",
       "        [0.        ],\n",
       "        [0.        ],\n",
       "        [0.        ],\n",
       "        [0.        ],\n",
       "        [0.        ]],\n",
       "\n",
       "       [[0.        ],\n",
       "        [0.        ],\n",
       "        [0.        ],\n",
       "        [0.        ],\n",
       "        [0.        ],\n",
       "        [0.        ],\n",
       "        [0.        ],\n",
       "        [0.        ],\n",
       "        [0.        ],\n",
       "        [0.        ],\n",
       "        [0.        ],\n",
       "        [0.        ],\n",
       "        [0.        ],\n",
       "        [0.        ],\n",
       "        [0.        ],\n",
       "        [0.        ],\n",
       "        [0.        ],\n",
       "        [0.        ],\n",
       "        [0.        ],\n",
       "        [0.        ],\n",
       "        [0.        ],\n",
       "        [0.        ],\n",
       "        [0.        ],\n",
       "        [0.        ],\n",
       "        [0.        ],\n",
       "        [0.        ],\n",
       "        [0.        ],\n",
       "        [0.        ]],\n",
       "\n",
       "       [[0.        ],\n",
       "        [0.        ],\n",
       "        [0.        ],\n",
       "        [0.        ],\n",
       "        [0.        ],\n",
       "        [0.        ],\n",
       "        [0.        ],\n",
       "        [0.        ],\n",
       "        [0.        ],\n",
       "        [0.        ],\n",
       "        [0.        ],\n",
       "        [0.        ],\n",
       "        [0.04313726],\n",
       "        [0.47058824],\n",
       "        [0.8745098 ],\n",
       "        [0.9764706 ],\n",
       "        [0.8509804 ],\n",
       "        [0.95686275],\n",
       "        [0.42745098],\n",
       "        [0.        ],\n",
       "        [0.        ],\n",
       "        [0.        ],\n",
       "        [0.        ],\n",
       "        [0.        ],\n",
       "        [0.        ],\n",
       "        [0.        ],\n",
       "        [0.        ],\n",
       "        [0.        ]],\n",
       "\n",
       "       [[0.        ],\n",
       "        [0.        ],\n",
       "        [0.        ],\n",
       "        [0.        ],\n",
       "        [0.        ],\n",
       "        [0.        ],\n",
       "        [0.        ],\n",
       "        [0.        ],\n",
       "        [0.        ],\n",
       "        [0.        ],\n",
       "        [0.        ],\n",
       "        [0.04313726],\n",
       "        [0.7294118 ],\n",
       "        [0.99607843],\n",
       "        [0.58431375],\n",
       "        [0.20392157],\n",
       "        [0.        ],\n",
       "        [0.42745098],\n",
       "        [0.9529412 ],\n",
       "        [0.16470589],\n",
       "        [0.        ],\n",
       "        [0.        ],\n",
       "        [0.        ],\n",
       "        [0.        ],\n",
       "        [0.        ],\n",
       "        [0.        ],\n",
       "        [0.        ],\n",
       "        [0.        ]],\n",
       "\n",
       "       [[0.        ],\n",
       "        [0.        ],\n",
       "        [0.        ],\n",
       "        [0.        ],\n",
       "        [0.        ],\n",
       "        [0.        ],\n",
       "        [0.        ],\n",
       "        [0.        ],\n",
       "        [0.        ],\n",
       "        [0.        ],\n",
       "        [0.        ],\n",
       "        [0.8352941 ],\n",
       "        [0.8745098 ],\n",
       "        [0.24705882],\n",
       "        [0.        ],\n",
       "        [0.        ],\n",
       "        [0.        ],\n",
       "        [0.04313726],\n",
       "        [0.89411765],\n",
       "        [0.5686275 ],\n",
       "        [0.        ],\n",
       "        [0.        ],\n",
       "        [0.        ],\n",
       "        [0.        ],\n",
       "        [0.        ],\n",
       "        [0.        ],\n",
       "        [0.        ],\n",
       "        [0.        ]],\n",
       "\n",
       "       [[0.        ],\n",
       "        [0.        ],\n",
       "        [0.        ],\n",
       "        [0.        ],\n",
       "        [0.        ],\n",
       "        [0.        ],\n",
       "        [0.        ],\n",
       "        [0.        ],\n",
       "        [0.        ],\n",
       "        [0.        ],\n",
       "        [0.32941177],\n",
       "        [0.9529412 ],\n",
       "        [0.2627451 ],\n",
       "        [0.        ],\n",
       "        [0.        ],\n",
       "        [0.        ],\n",
       "        [0.        ],\n",
       "        [0.        ],\n",
       "        [0.6901961 ],\n",
       "        [0.5686275 ],\n",
       "        [0.        ],\n",
       "        [0.        ],\n",
       "        [0.        ],\n",
       "        [0.        ],\n",
       "        [0.        ],\n",
       "        [0.        ],\n",
       "        [0.        ],\n",
       "        [0.        ]],\n",
       "\n",
       "       [[0.        ],\n",
       "        [0.        ],\n",
       "        [0.        ],\n",
       "        [0.        ],\n",
       "        [0.        ],\n",
       "        [0.        ],\n",
       "        [0.        ],\n",
       "        [0.        ],\n",
       "        [0.        ],\n",
       "        [0.        ],\n",
       "        [0.77254903],\n",
       "        [0.8117647 ],\n",
       "        [0.        ],\n",
       "        [0.        ],\n",
       "        [0.        ],\n",
       "        [0.        ],\n",
       "        [0.        ],\n",
       "        [0.        ],\n",
       "        [0.5686275 ],\n",
       "        [0.5686275 ],\n",
       "        [0.        ],\n",
       "        [0.        ],\n",
       "        [0.        ],\n",
       "        [0.        ],\n",
       "        [0.        ],\n",
       "        [0.        ],\n",
       "        [0.        ],\n",
       "        [0.        ]],\n",
       "\n",
       "       [[0.        ],\n",
       "        [0.        ],\n",
       "        [0.        ],\n",
       "        [0.        ],\n",
       "        [0.        ],\n",
       "        [0.        ],\n",
       "        [0.        ],\n",
       "        [0.        ],\n",
       "        [0.        ],\n",
       "        [0.        ],\n",
       "        [0.8509804 ],\n",
       "        [0.89411765],\n",
       "        [0.40784314],\n",
       "        [0.5686275 ],\n",
       "        [0.5686275 ],\n",
       "        [0.85490197],\n",
       "        [0.60784316],\n",
       "        [0.        ],\n",
       "        [0.7294118 ],\n",
       "        [0.5686275 ],\n",
       "        [0.        ],\n",
       "        [0.        ],\n",
       "        [0.        ],\n",
       "        [0.        ],\n",
       "        [0.        ],\n",
       "        [0.        ],\n",
       "        [0.        ],\n",
       "        [0.        ]],\n",
       "\n",
       "       [[0.        ],\n",
       "        [0.        ],\n",
       "        [0.        ],\n",
       "        [0.        ],\n",
       "        [0.        ],\n",
       "        [0.        ],\n",
       "        [0.        ],\n",
       "        [0.        ],\n",
       "        [0.        ],\n",
       "        [0.        ],\n",
       "        [0.24705882],\n",
       "        [0.85490197],\n",
       "        [0.8509804 ],\n",
       "        [0.85490197],\n",
       "        [0.6901961 ],\n",
       "        [0.6313726 ],\n",
       "        [0.99607843],\n",
       "        [0.50980395],\n",
       "        [0.8745098 ],\n",
       "        [0.08235294],\n",
       "        [0.        ],\n",
       "        [0.        ],\n",
       "        [0.        ],\n",
       "        [0.        ],\n",
       "        [0.        ],\n",
       "        [0.        ],\n",
       "        [0.        ],\n",
       "        [0.        ]],\n",
       "\n",
       "       [[0.        ],\n",
       "        [0.        ],\n",
       "        [0.        ],\n",
       "        [0.        ],\n",
       "        [0.        ],\n",
       "        [0.        ],\n",
       "        [0.        ],\n",
       "        [0.        ],\n",
       "        [0.        ],\n",
       "        [0.        ],\n",
       "        [0.        ],\n",
       "        [0.        ],\n",
       "        [0.        ],\n",
       "        [0.        ],\n",
       "        [0.        ],\n",
       "        [0.14509805],\n",
       "        [0.99215686],\n",
       "        [0.7921569 ],\n",
       "        [0.34509805],\n",
       "        [0.        ],\n",
       "        [0.        ],\n",
       "        [0.        ],\n",
       "        [0.        ],\n",
       "        [0.        ],\n",
       "        [0.        ],\n",
       "        [0.        ],\n",
       "        [0.        ],\n",
       "        [0.        ]],\n",
       "\n",
       "       [[0.        ],\n",
       "        [0.        ],\n",
       "        [0.        ],\n",
       "        [0.        ],\n",
       "        [0.        ],\n",
       "        [0.        ],\n",
       "        [0.        ],\n",
       "        [0.        ],\n",
       "        [0.        ],\n",
       "        [0.        ],\n",
       "        [0.        ],\n",
       "        [0.        ],\n",
       "        [0.        ],\n",
       "        [0.        ],\n",
       "        [0.        ],\n",
       "        [0.26666668],\n",
       "        [0.99607843],\n",
       "        [0.24705882],\n",
       "        [0.        ],\n",
       "        [0.        ],\n",
       "        [0.        ],\n",
       "        [0.        ],\n",
       "        [0.        ],\n",
       "        [0.        ],\n",
       "        [0.        ],\n",
       "        [0.        ],\n",
       "        [0.        ],\n",
       "        [0.        ]],\n",
       "\n",
       "       [[0.        ],\n",
       "        [0.        ],\n",
       "        [0.        ],\n",
       "        [0.        ],\n",
       "        [0.        ],\n",
       "        [0.        ],\n",
       "        [0.        ],\n",
       "        [0.        ],\n",
       "        [0.        ],\n",
       "        [0.        ],\n",
       "        [0.        ],\n",
       "        [0.        ],\n",
       "        [0.        ],\n",
       "        [0.        ],\n",
       "        [0.        ],\n",
       "        [0.5882353 ],\n",
       "        [0.99215686],\n",
       "        [0.        ],\n",
       "        [0.        ],\n",
       "        [0.        ],\n",
       "        [0.        ],\n",
       "        [0.        ],\n",
       "        [0.        ],\n",
       "        [0.        ],\n",
       "        [0.        ],\n",
       "        [0.        ],\n",
       "        [0.        ],\n",
       "        [0.        ]],\n",
       "\n",
       "       [[0.        ],\n",
       "        [0.        ],\n",
       "        [0.        ],\n",
       "        [0.        ],\n",
       "        [0.        ],\n",
       "        [0.        ],\n",
       "        [0.        ],\n",
       "        [0.        ],\n",
       "        [0.        ],\n",
       "        [0.        ],\n",
       "        [0.        ],\n",
       "        [0.        ],\n",
       "        [0.        ],\n",
       "        [0.        ],\n",
       "        [0.        ],\n",
       "        [0.7137255 ],\n",
       "        [0.8745098 ],\n",
       "        [0.        ],\n",
       "        [0.        ],\n",
       "        [0.        ],\n",
       "        [0.        ],\n",
       "        [0.        ],\n",
       "        [0.        ],\n",
       "        [0.        ],\n",
       "        [0.        ],\n",
       "        [0.        ],\n",
       "        [0.        ],\n",
       "        [0.        ]],\n",
       "\n",
       "       [[0.        ],\n",
       "        [0.        ],\n",
       "        [0.        ],\n",
       "        [0.        ],\n",
       "        [0.        ],\n",
       "        [0.        ],\n",
       "        [0.        ],\n",
       "        [0.        ],\n",
       "        [0.        ],\n",
       "        [0.        ],\n",
       "        [0.        ],\n",
       "        [0.        ],\n",
       "        [0.        ],\n",
       "        [0.        ],\n",
       "        [0.        ],\n",
       "        [0.95686275],\n",
       "        [0.54509807],\n",
       "        [0.        ],\n",
       "        [0.        ],\n",
       "        [0.        ],\n",
       "        [0.        ],\n",
       "        [0.        ],\n",
       "        [0.        ],\n",
       "        [0.        ],\n",
       "        [0.        ],\n",
       "        [0.        ],\n",
       "        [0.        ],\n",
       "        [0.        ]],\n",
       "\n",
       "       [[0.        ],\n",
       "        [0.        ],\n",
       "        [0.        ],\n",
       "        [0.        ],\n",
       "        [0.        ],\n",
       "        [0.        ],\n",
       "        [0.        ],\n",
       "        [0.        ],\n",
       "        [0.        ],\n",
       "        [0.        ],\n",
       "        [0.        ],\n",
       "        [0.        ],\n",
       "        [0.        ],\n",
       "        [0.        ],\n",
       "        [0.49019608],\n",
       "        [1.        ],\n",
       "        [0.14117648],\n",
       "        [0.        ],\n",
       "        [0.        ],\n",
       "        [0.        ],\n",
       "        [0.        ],\n",
       "        [0.        ],\n",
       "        [0.        ],\n",
       "        [0.        ],\n",
       "        [0.        ],\n",
       "        [0.        ],\n",
       "        [0.        ],\n",
       "        [0.        ]],\n",
       "\n",
       "       [[0.        ],\n",
       "        [0.        ],\n",
       "        [0.        ],\n",
       "        [0.        ],\n",
       "        [0.        ],\n",
       "        [0.        ],\n",
       "        [0.        ],\n",
       "        [0.        ],\n",
       "        [0.        ],\n",
       "        [0.        ],\n",
       "        [0.        ],\n",
       "        [0.        ],\n",
       "        [0.        ],\n",
       "        [0.        ],\n",
       "        [0.8117647 ],\n",
       "        [0.8745098 ],\n",
       "        [0.01960784],\n",
       "        [0.        ],\n",
       "        [0.        ],\n",
       "        [0.        ],\n",
       "        [0.        ],\n",
       "        [0.        ],\n",
       "        [0.        ],\n",
       "        [0.        ],\n",
       "        [0.        ],\n",
       "        [0.        ],\n",
       "        [0.        ],\n",
       "        [0.        ]],\n",
       "\n",
       "       [[0.        ],\n",
       "        [0.        ],\n",
       "        [0.        ],\n",
       "        [0.        ],\n",
       "        [0.        ],\n",
       "        [0.        ],\n",
       "        [0.        ],\n",
       "        [0.        ],\n",
       "        [0.        ],\n",
       "        [0.        ],\n",
       "        [0.        ],\n",
       "        [0.        ],\n",
       "        [0.        ],\n",
       "        [0.0627451 ],\n",
       "        [0.9137255 ],\n",
       "        [0.6117647 ],\n",
       "        [0.        ],\n",
       "        [0.        ],\n",
       "        [0.        ],\n",
       "        [0.        ],\n",
       "        [0.        ],\n",
       "        [0.        ],\n",
       "        [0.        ],\n",
       "        [0.        ],\n",
       "        [0.        ],\n",
       "        [0.        ],\n",
       "        [0.        ],\n",
       "        [0.        ]],\n",
       "\n",
       "       [[0.        ],\n",
       "        [0.        ],\n",
       "        [0.        ],\n",
       "        [0.        ],\n",
       "        [0.        ],\n",
       "        [0.        ],\n",
       "        [0.        ],\n",
       "        [0.        ],\n",
       "        [0.        ],\n",
       "        [0.        ],\n",
       "        [0.        ],\n",
       "        [0.        ],\n",
       "        [0.        ],\n",
       "        [0.3882353 ],\n",
       "        [0.99215686],\n",
       "        [0.28627452],\n",
       "        [0.        ],\n",
       "        [0.        ],\n",
       "        [0.        ],\n",
       "        [0.        ],\n",
       "        [0.        ],\n",
       "        [0.        ],\n",
       "        [0.        ],\n",
       "        [0.        ],\n",
       "        [0.        ],\n",
       "        [0.        ],\n",
       "        [0.        ],\n",
       "        [0.        ]],\n",
       "\n",
       "       [[0.        ],\n",
       "        [0.        ],\n",
       "        [0.        ],\n",
       "        [0.        ],\n",
       "        [0.        ],\n",
       "        [0.        ],\n",
       "        [0.        ],\n",
       "        [0.        ],\n",
       "        [0.        ],\n",
       "        [0.        ],\n",
       "        [0.        ],\n",
       "        [0.        ],\n",
       "        [0.04313726],\n",
       "        [0.7529412 ],\n",
       "        [0.9529412 ],\n",
       "        [0.08235294],\n",
       "        [0.        ],\n",
       "        [0.        ],\n",
       "        [0.        ],\n",
       "        [0.        ],\n",
       "        [0.        ],\n",
       "        [0.        ],\n",
       "        [0.        ],\n",
       "        [0.        ],\n",
       "        [0.        ],\n",
       "        [0.        ],\n",
       "        [0.        ],\n",
       "        [0.        ]],\n",
       "\n",
       "       [[0.        ],\n",
       "        [0.        ],\n",
       "        [0.        ],\n",
       "        [0.        ],\n",
       "        [0.        ],\n",
       "        [0.        ],\n",
       "        [0.        ],\n",
       "        [0.        ],\n",
       "        [0.        ],\n",
       "        [0.        ],\n",
       "        [0.        ],\n",
       "        [0.        ],\n",
       "        [0.36862746],\n",
       "        [0.99607843],\n",
       "        [0.46666667],\n",
       "        [0.        ],\n",
       "        [0.        ],\n",
       "        [0.        ],\n",
       "        [0.        ],\n",
       "        [0.        ],\n",
       "        [0.        ],\n",
       "        [0.        ],\n",
       "        [0.        ],\n",
       "        [0.        ],\n",
       "        [0.        ],\n",
       "        [0.        ],\n",
       "        [0.        ],\n",
       "        [0.        ]],\n",
       "\n",
       "       [[0.        ],\n",
       "        [0.        ],\n",
       "        [0.        ],\n",
       "        [0.        ],\n",
       "        [0.        ],\n",
       "        [0.        ],\n",
       "        [0.        ],\n",
       "        [0.        ],\n",
       "        [0.        ],\n",
       "        [0.        ],\n",
       "        [0.        ],\n",
       "        [0.0627451 ],\n",
       "        [0.8352941 ],\n",
       "        [0.77254903],\n",
       "        [0.04313726],\n",
       "        [0.        ],\n",
       "        [0.        ],\n",
       "        [0.        ],\n",
       "        [0.        ],\n",
       "        [0.        ],\n",
       "        [0.        ],\n",
       "        [0.        ],\n",
       "        [0.        ],\n",
       "        [0.        ],\n",
       "        [0.        ],\n",
       "        [0.        ],\n",
       "        [0.        ],\n",
       "        [0.        ]],\n",
       "\n",
       "       [[0.        ],\n",
       "        [0.        ],\n",
       "        [0.        ],\n",
       "        [0.        ],\n",
       "        [0.        ],\n",
       "        [0.        ],\n",
       "        [0.        ],\n",
       "        [0.        ],\n",
       "        [0.        ],\n",
       "        [0.        ],\n",
       "        [0.        ],\n",
       "        [0.14509805],\n",
       "        [0.99215686],\n",
       "        [0.3254902 ],\n",
       "        [0.        ],\n",
       "        [0.        ],\n",
       "        [0.        ],\n",
       "        [0.        ],\n",
       "        [0.        ],\n",
       "        [0.        ],\n",
       "        [0.        ],\n",
       "        [0.        ],\n",
       "        [0.        ],\n",
       "        [0.        ],\n",
       "        [0.        ],\n",
       "        [0.        ],\n",
       "        [0.        ],\n",
       "        [0.        ]],\n",
       "\n",
       "       [[0.        ],\n",
       "        [0.        ],\n",
       "        [0.        ],\n",
       "        [0.        ],\n",
       "        [0.        ],\n",
       "        [0.        ],\n",
       "        [0.        ],\n",
       "        [0.        ],\n",
       "        [0.        ],\n",
       "        [0.        ],\n",
       "        [0.        ],\n",
       "        [0.        ],\n",
       "        [0.        ],\n",
       "        [0.        ],\n",
       "        [0.        ],\n",
       "        [0.        ],\n",
       "        [0.        ],\n",
       "        [0.        ],\n",
       "        [0.        ],\n",
       "        [0.        ],\n",
       "        [0.        ],\n",
       "        [0.        ],\n",
       "        [0.        ],\n",
       "        [0.        ],\n",
       "        [0.        ],\n",
       "        [0.        ],\n",
       "        [0.        ],\n",
       "        [0.        ]]], dtype=float32)"
      ]
     },
     "execution_count": 99,
     "metadata": {},
     "output_type": "execute_result"
    }
   ],
   "execution_count": 99
  },
  {
   "cell_type": "markdown",
   "id": "2d435e34-6a96-40b4-b039-9a2495d67e1c",
   "metadata": {},
   "source": [
    "Llama la función word to index"
   ]
  },
  {
   "cell_type": "code",
   "id": "7bb2e1c1-4925-4035-8203-06f83bd21fff",
   "metadata": {
    "ExecuteTime": {
     "end_time": "2024-07-22T00:47:53.232211Z",
     "start_time": "2024-07-22T00:47:52.563166Z"
    }
   },
   "source": "word_to_index = imdb.get_word_index()",
   "outputs": [
    {
     "name": "stdout",
     "output_type": "stream",
     "text": [
      "Downloading data from https://storage.googleapis.com/tensorflow/tf-keras-datasets/imdb_word_index.json\n",
      "\u001B[1m1641221/1641221\u001B[0m \u001B[32m━━━━━━━━━━━━━━━━━━━━\u001B[0m\u001B[37m\u001B[0m \u001B[1m0s\u001B[0m 0us/step\n"
     ]
    }
   ],
   "execution_count": 100
  },
  {
   "cell_type": "markdown",
   "id": "4616fec2-2ab0-4f98-aa11-063734dd2bfd",
   "metadata": {},
   "source": [
    "Checa el indice de la palabra \"bad\""
   ]
  },
  {
   "cell_type": "code",
   "id": "63b9b812-5d66-4d60-8bbd-02c4daec7a01",
   "metadata": {
    "ExecuteTime": {
     "end_time": "2024-07-22T00:48:19.696115Z",
     "start_time": "2024-07-22T00:48:19.691002Z"
    }
   },
   "source": "word_to_index[\"or\"]",
   "outputs": [
    {
     "data": {
      "text/plain": [
       "39"
      ]
     },
     "execution_count": 104,
     "metadata": {},
     "output_type": "execute_result"
    }
   ],
   "execution_count": 104
  },
  {
   "cell_type": "markdown",
   "id": "e92c3838-c948-476c-976a-5c151cc639cb",
   "metadata": {},
   "source": [
    "Reversa el mapeo del diccionario Word to INdex a Index to Word"
   ]
  },
  {
   "cell_type": "code",
   "id": "4c1a8311-648e-4ab0-b9b5-16ebb25f4115",
   "metadata": {
    "ExecuteTime": {
     "end_time": "2024-07-22T00:49:12.121854Z",
     "start_time": "2024-07-22T00:49:12.107384Z"
    }
   },
   "source": "index_to_word = {index:word for (word, index) in word_to_index.items()}",
   "outputs": [],
   "execution_count": 105
  },
  {
   "cell_type": "code",
   "id": "21ef13b2-3436-45a7-8382-e2a33f8c9bce",
   "metadata": {
    "ExecuteTime": {
     "end_time": "2024-07-22T00:49:27.664222Z",
     "start_time": "2024-07-22T00:49:27.659346Z"
    }
   },
   "source": "index_to_word[39]",
   "outputs": [
    {
     "data": {
      "text/plain": [
       "'or'"
      ]
     },
     "execution_count": 106,
     "metadata": {},
     "output_type": "execute_result"
    }
   ],
   "execution_count": 106
  },
  {
   "cell_type": "markdown",
   "id": "5b91ca62-eabf-4bec-b6a8-f1c49acf0443",
   "metadata": {},
   "source": [
    "Armate una lista para revisar las 50 palabras mas comunes en el diccionario"
   ]
  },
  {
   "cell_type": "code",
   "id": "2fc2f738-3b19-4c29-a42c-f20d39068a31",
   "metadata": {
    "ExecuteTime": {
     "end_time": "2024-07-22T00:50:12.165016Z",
     "start_time": "2024-07-22T00:50:12.160272Z"
    }
   },
   "source": "[index_to_word[i] for i in range(1,51)]",
   "outputs": [
    {
     "data": {
      "text/plain": [
       "['the', 'and', 'a', 'of', 'to', 'is', 'br', 'in', 'it', 'i', 'this', 'that', 'was', 'as', 'for', 'with', 'movie', 'but', 'film', 'on', 'not', 'you', 'are', 'his', 'have', 'he', 'be', 'one', 'all', 'at', 'by', 'an', 'they', 'who', 'so', 'from', 'like', 'her', 'or', 'just', 'about', \"it's\", 'out', 'has', 'if', 'some', 'there', 'what', 'good', 'more']"
      ]
     },
     "execution_count": 107,
     "metadata": {},
     "output_type": "execute_result"
    }
   ],
   "execution_count": 107
  },
  {
   "cell_type": "markdown",
   "id": "77302b74-9035-41de-bc05-d824fe46185c",
   "metadata": {},
   "source": [
    "Ok, ya estamos listos para leer una reseña"
   ]
  },
  {
   "cell_type": "code",
   "id": "ec1e1149-773e-483c-a86c-ba65295fa9e3",
   "metadata": {
    "ExecuteTime": {
     "end_time": "2024-07-22T01:22:04.669444Z",
     "start_time": "2024-07-22T01:22:04.664753Z"
    }
   },
   "source": "\" \".join([index_to_word.get(i-3,\"?\") for i in x_train[123]])",
   "outputs": [
    {
     "data": {
      "text/plain": [
       "'? beautiful and touching movie rich colors great settings good acting and one of the most charming movies i have seen in a while i never saw such an interesting setting when i was in china my wife liked it so much she asked me to ? on and rate it so other would enjoy too'"
      ]
     },
     "execution_count": 110,
     "metadata": {},
     "output_type": "execute_result"
    }
   ],
   "execution_count": 110
  },
  {
   "cell_type": "markdown",
   "id": "a28f4c55-7258-4510-aa6a-42f8af7d4676",
   "metadata": {},
   "source": [
    "Y revisa de Y_train la clasificacion de esta reseña"
   ]
  },
  {
   "cell_type": "code",
   "id": "a69f03ef-73e2-466d-971b-3a6b7749834a",
   "metadata": {
    "ExecuteTime": {
     "end_time": "2024-07-22T01:23:42.199460Z",
     "start_time": "2024-07-22T01:23:42.193940Z"
    }
   },
   "source": "y_train[123]",
   "outputs": [
    {
     "data": {
      "text/plain": [
       "1"
      ]
     },
     "execution_count": 111,
     "metadata": {},
     "output_type": "execute_result"
    }
   ],
   "execution_count": 111
  },
  {
   "cell_type": "markdown",
   "id": "5c4a69f5-ce87-47b6-92d8-1625e93f48d0",
   "metadata": {},
   "source": [
    "### Preparación de datos"
   ]
  },
  {
   "cell_type": "markdown",
   "id": "518719da-d571-40e3-8b0a-258b6ae2add6",
   "metadata": {},
   "source": [
    "Define palabras_por_reseña en 200"
   ]
  },
  {
   "cell_type": "code",
   "id": "0b185fc6-2150-4a22-b240-fb9ec9c54526",
   "metadata": {
    "ExecuteTime": {
     "end_time": "2024-07-22T01:24:49.170019Z",
     "start_time": "2024-07-22T01:24:49.166560Z"
    }
   },
   "source": "num_pal = 200",
   "outputs": [],
   "execution_count": 112
  },
  {
   "cell_type": "markdown",
   "id": "2a3f1449-9197-41d9-8047-7366cca9d6f1",
   "metadata": {},
   "source": [
    "Importa pad_sequences de tensroflow"
   ]
  },
  {
   "cell_type": "code",
   "id": "d87b7d0f-a6c3-412b-a7a8-4a5814670faa",
   "metadata": {
    "ExecuteTime": {
     "end_time": "2024-07-22T01:28:21.059200Z",
     "start_time": "2024-07-22T01:28:21.055458Z"
    }
   },
   "source": "from keras.api.preprocessing.sequence import pad_sequences",
   "outputs": [],
   "execution_count": 120
  },
  {
   "cell_type": "markdown",
   "id": "070faf90-e409-4005-b6a5-0c2a6a2f960f",
   "metadata": {},
   "source": [
    "Define X_train como pad_sequences del viejo X_train"
   ]
  },
  {
   "cell_type": "code",
   "id": "309ed94b-bb46-40d3-a39c-3edcdfcf5306",
   "metadata": {
    "ExecuteTime": {
     "end_time": "2024-07-22T01:28:23.589576Z",
     "start_time": "2024-07-22T01:28:22.799584Z"
    }
   },
   "source": "X_train = pad_sequences(X_train, maxlen=num_pal)",
   "outputs": [],
   "execution_count": 121
  },
  {
   "cell_type": "markdown",
   "id": "20e7343f-944b-4ab9-adad-a17f66fda774",
   "metadata": {},
   "source": [
    "Checa el nuevo shape de X_train"
   ]
  },
  {
   "cell_type": "code",
   "id": "47395757-dce8-4db7-9ea1-dca4a12e0633",
   "metadata": {
    "ExecuteTime": {
     "end_time": "2024-07-22T01:28:25.539279Z",
     "start_time": "2024-07-22T01:28:25.534470Z"
    }
   },
   "source": "X_train.shape",
   "outputs": [
    {
     "data": {
      "text/plain": [
       "(60000, 200, 28, 1)"
      ]
     },
     "execution_count": 122,
     "metadata": {},
     "output_type": "execute_result"
    }
   ],
   "execution_count": 122
  },
  {
   "cell_type": "markdown",
   "id": "a307b8fc-ab1d-483f-952c-66e392ff396a",
   "metadata": {},
   "source": [
    "Hay que reconfigurar X_Test tambien"
   ]
  },
  {
   "cell_type": "code",
   "id": "60ea6388-8882-4a74-84a3-63648c99a737",
   "metadata": {
    "ExecuteTime": {
     "end_time": "2024-07-22T01:28:27.898006Z",
     "start_time": "2024-07-22T01:28:27.811250Z"
    }
   },
   "source": "X_test = pad_sequences(X_test, maxlen=num_pal)",
   "outputs": [],
   "execution_count": 123
  },
  {
   "cell_type": "markdown",
   "id": "1762f64e-2aca-43c9-820b-3b19cbde7fef",
   "metadata": {},
   "source": [
    "Checa su figura"
   ]
  },
  {
   "cell_type": "code",
   "id": "827cf554-1ddd-42a9-9b01-894c33910e2b",
   "metadata": {
    "ExecuteTime": {
     "end_time": "2024-07-22T01:28:29.879071Z",
     "start_time": "2024-07-22T01:28:29.874073Z"
    }
   },
   "source": "X_test.shape",
   "outputs": [
    {
     "data": {
      "text/plain": [
       "(10000, 200, 28, 1)"
      ]
     },
     "execution_count": 124,
     "metadata": {},
     "output_type": "execute_result"
    }
   ],
   "execution_count": 124
  },
  {
   "cell_type": "markdown",
   "id": "fb067c82-ac74-4be6-a176-921990e4f33d",
   "metadata": {},
   "source": [
    "Importa el Train_test_split y definelo sobre tus variables, semilla 11 y tamaño de prueba de .20"
   ]
  },
  {
   "cell_type": "code",
   "id": "f2be9629-c0d4-48ad-b0b1-ab0050b340df",
   "metadata": {
    "ExecuteTime": {
     "end_time": "2024-07-22T01:27:29.589992Z",
     "start_time": "2024-07-22T01:27:28.927792Z"
    }
   },
   "source": "from sklearn.model_selection import train_test_split",
   "outputs": [],
   "execution_count": 118
  },
  {
   "cell_type": "code",
   "id": "ac05b05e-4e61-4d12-ae85-1f7c4e59cee2",
   "metadata": {
    "ExecuteTime": {
     "end_time": "2024-07-22T01:30:44.650257Z",
     "start_time": "2024-07-22T01:30:44.589204Z"
    }
   },
   "source": "X_test, X_val, y_test, y_val = train_test_split(X_test, y_test, test_size=0.20, random_state=11)",
   "outputs": [
    {
     "ename": "ValueError",
     "evalue": "Found input variables with inconsistent numbers of samples: [10000, 25000]",
     "output_type": "error",
     "traceback": [
      "\u001B[1;31m---------------------------------------------------------------------------\u001B[0m",
      "\u001B[1;31mValueError\u001B[0m                                Traceback (most recent call last)",
      "Cell \u001B[1;32mIn[127], line 1\u001B[0m\n\u001B[1;32m----> 1\u001B[0m X_test, X_val, y_test, y_val \u001B[38;5;241m=\u001B[39m train_test_split(X_test, y_test, test_size\u001B[38;5;241m=\u001B[39m\u001B[38;5;241m0.20\u001B[39m, random_state\u001B[38;5;241m=\u001B[39m\u001B[38;5;241m11\u001B[39m)\n",
      "File \u001B[1;32m~\\miniconda3\\Lib\\site-packages\\sklearn\\utils\\_param_validation.py:213\u001B[0m, in \u001B[0;36mvalidate_params.<locals>.decorator.<locals>.wrapper\u001B[1;34m(*args, **kwargs)\u001B[0m\n\u001B[0;32m    207\u001B[0m \u001B[38;5;28;01mtry\u001B[39;00m:\n\u001B[0;32m    208\u001B[0m     \u001B[38;5;28;01mwith\u001B[39;00m config_context(\n\u001B[0;32m    209\u001B[0m         skip_parameter_validation\u001B[38;5;241m=\u001B[39m(\n\u001B[0;32m    210\u001B[0m             prefer_skip_nested_validation \u001B[38;5;129;01mor\u001B[39;00m global_skip_validation\n\u001B[0;32m    211\u001B[0m         )\n\u001B[0;32m    212\u001B[0m     ):\n\u001B[1;32m--> 213\u001B[0m         \u001B[38;5;28;01mreturn\u001B[39;00m func(\u001B[38;5;241m*\u001B[39margs, \u001B[38;5;241m*\u001B[39m\u001B[38;5;241m*\u001B[39mkwargs)\n\u001B[0;32m    214\u001B[0m \u001B[38;5;28;01mexcept\u001B[39;00m InvalidParameterError \u001B[38;5;28;01mas\u001B[39;00m e:\n\u001B[0;32m    215\u001B[0m     \u001B[38;5;66;03m# When the function is just a wrapper around an estimator, we allow\u001B[39;00m\n\u001B[0;32m    216\u001B[0m     \u001B[38;5;66;03m# the function to delegate validation to the estimator, but we replace\u001B[39;00m\n\u001B[0;32m    217\u001B[0m     \u001B[38;5;66;03m# the name of the estimator by the name of the function in the error\u001B[39;00m\n\u001B[0;32m    218\u001B[0m     \u001B[38;5;66;03m# message to avoid confusion.\u001B[39;00m\n\u001B[0;32m    219\u001B[0m     msg \u001B[38;5;241m=\u001B[39m re\u001B[38;5;241m.\u001B[39msub(\n\u001B[0;32m    220\u001B[0m         \u001B[38;5;124mr\u001B[39m\u001B[38;5;124m\"\u001B[39m\u001B[38;5;124mparameter of \u001B[39m\u001B[38;5;124m\\\u001B[39m\u001B[38;5;124mw+ must be\u001B[39m\u001B[38;5;124m\"\u001B[39m,\n\u001B[0;32m    221\u001B[0m         \u001B[38;5;124mf\u001B[39m\u001B[38;5;124m\"\u001B[39m\u001B[38;5;124mparameter of \u001B[39m\u001B[38;5;132;01m{\u001B[39;00mfunc\u001B[38;5;241m.\u001B[39m\u001B[38;5;18m__qualname__\u001B[39m\u001B[38;5;132;01m}\u001B[39;00m\u001B[38;5;124m must be\u001B[39m\u001B[38;5;124m\"\u001B[39m,\n\u001B[0;32m    222\u001B[0m         \u001B[38;5;28mstr\u001B[39m(e),\n\u001B[0;32m    223\u001B[0m     )\n",
      "File \u001B[1;32m~\\miniconda3\\Lib\\site-packages\\sklearn\\model_selection\\_split.py:2657\u001B[0m, in \u001B[0;36mtrain_test_split\u001B[1;34m(test_size, train_size, random_state, shuffle, stratify, *arrays)\u001B[0m\n\u001B[0;32m   2654\u001B[0m \u001B[38;5;28;01mif\u001B[39;00m n_arrays \u001B[38;5;241m==\u001B[39m \u001B[38;5;241m0\u001B[39m:\n\u001B[0;32m   2655\u001B[0m     \u001B[38;5;28;01mraise\u001B[39;00m \u001B[38;5;167;01mValueError\u001B[39;00m(\u001B[38;5;124m\"\u001B[39m\u001B[38;5;124mAt least one array required as input\u001B[39m\u001B[38;5;124m\"\u001B[39m)\n\u001B[1;32m-> 2657\u001B[0m arrays \u001B[38;5;241m=\u001B[39m indexable(\u001B[38;5;241m*\u001B[39marrays)\n\u001B[0;32m   2659\u001B[0m n_samples \u001B[38;5;241m=\u001B[39m _num_samples(arrays[\u001B[38;5;241m0\u001B[39m])\n\u001B[0;32m   2660\u001B[0m n_train, n_test \u001B[38;5;241m=\u001B[39m _validate_shuffle_split(\n\u001B[0;32m   2661\u001B[0m     n_samples, test_size, train_size, default_test_size\u001B[38;5;241m=\u001B[39m\u001B[38;5;241m0.25\u001B[39m\n\u001B[0;32m   2662\u001B[0m )\n",
      "File \u001B[1;32m~\\miniconda3\\Lib\\site-packages\\sklearn\\utils\\validation.py:514\u001B[0m, in \u001B[0;36mindexable\u001B[1;34m(*iterables)\u001B[0m\n\u001B[0;32m    484\u001B[0m \u001B[38;5;250m\u001B[39m\u001B[38;5;124;03m\"\"\"Make arrays indexable for cross-validation.\u001B[39;00m\n\u001B[0;32m    485\u001B[0m \n\u001B[0;32m    486\u001B[0m \u001B[38;5;124;03mChecks consistent length, passes through None, and ensures that everything\u001B[39;00m\n\u001B[1;32m   (...)\u001B[0m\n\u001B[0;32m    510\u001B[0m \u001B[38;5;124;03m[[1, 2, 3], array([2, 3, 4]), None, <3x1 sparse matrix ...>]\u001B[39;00m\n\u001B[0;32m    511\u001B[0m \u001B[38;5;124;03m\"\"\"\u001B[39;00m\n\u001B[0;32m    513\u001B[0m result \u001B[38;5;241m=\u001B[39m [_make_indexable(X) \u001B[38;5;28;01mfor\u001B[39;00m X \u001B[38;5;129;01min\u001B[39;00m iterables]\n\u001B[1;32m--> 514\u001B[0m check_consistent_length(\u001B[38;5;241m*\u001B[39mresult)\n\u001B[0;32m    515\u001B[0m \u001B[38;5;28;01mreturn\u001B[39;00m result\n",
      "File \u001B[1;32m~\\miniconda3\\Lib\\site-packages\\sklearn\\utils\\validation.py:457\u001B[0m, in \u001B[0;36mcheck_consistent_length\u001B[1;34m(*arrays)\u001B[0m\n\u001B[0;32m    455\u001B[0m uniques \u001B[38;5;241m=\u001B[39m np\u001B[38;5;241m.\u001B[39munique(lengths)\n\u001B[0;32m    456\u001B[0m \u001B[38;5;28;01mif\u001B[39;00m \u001B[38;5;28mlen\u001B[39m(uniques) \u001B[38;5;241m>\u001B[39m \u001B[38;5;241m1\u001B[39m:\n\u001B[1;32m--> 457\u001B[0m     \u001B[38;5;28;01mraise\u001B[39;00m \u001B[38;5;167;01mValueError\u001B[39;00m(\n\u001B[0;32m    458\u001B[0m         \u001B[38;5;124m\"\u001B[39m\u001B[38;5;124mFound input variables with inconsistent numbers of samples: \u001B[39m\u001B[38;5;132;01m%r\u001B[39;00m\u001B[38;5;124m\"\u001B[39m\n\u001B[0;32m    459\u001B[0m         \u001B[38;5;241m%\u001B[39m [\u001B[38;5;28mint\u001B[39m(l) \u001B[38;5;28;01mfor\u001B[39;00m l \u001B[38;5;129;01min\u001B[39;00m lengths]\n\u001B[0;32m    460\u001B[0m     )\n",
      "\u001B[1;31mValueError\u001B[0m: Found input variables with inconsistent numbers of samples: [10000, 25000]"
     ]
    }
   ],
   "execution_count": 127
  },
  {
   "cell_type": "markdown",
   "id": "505b2f28-778e-490d-808c-123acfe1aca5",
   "metadata": {},
   "source": [
    "Checa la figura de xtest"
   ]
  },
  {
   "cell_type": "code",
   "id": "006dddf3-7498-4ebf-a64d-3659a3f82199",
   "metadata": {},
   "source": [],
   "outputs": [],
   "execution_count": null
  },
  {
   "cell_type": "markdown",
   "id": "ba089592-e3ef-436b-b190-5a22d7ce314f",
   "metadata": {},
   "source": [
    "Y la de XVal"
   ]
  },
  {
   "cell_type": "code",
   "id": "594b4362-16cd-40a8-b081-a8606aa5c5cc",
   "metadata": {},
   "source": [],
   "outputs": [],
   "execution_count": null
  },
  {
   "cell_type": "code",
   "id": "3750958f-9820-45bb-a4f9-732d4619226f",
   "metadata": {},
   "source": [],
   "outputs": [],
   "execution_count": null
  },
  {
   "cell_type": "markdown",
   "id": "13c1cb2e-7a8d-4aa2-a863-a833740830ec",
   "metadata": {},
   "source": [
    "### Crear la red neuronal"
   ]
  },
  {
   "cell_type": "markdown",
   "id": "2d5ef505-3858-4823-8917-fbea81d983dc",
   "metadata": {},
   "source": [
    "Desde Tensorflow importa Sequencial"
   ]
  },
  {
   "cell_type": "code",
   "id": "395df404-8241-411c-82a6-30b28c41ac83",
   "metadata": {},
   "source": [],
   "outputs": [],
   "execution_count": null
  },
  {
   "cell_type": "markdown",
   "id": "553bb7e8-3ec3-437b-b5b5-dcd7aad84e9a",
   "metadata": {},
   "source": [
    "arma el objeto rnn com oun sequential"
   ]
  },
  {
   "cell_type": "code",
   "id": "9460b67c-0ef0-4ee7-9fae-e0c7fed48679",
   "metadata": {},
   "source": [],
   "outputs": [],
   "execution_count": null
  },
  {
   "cell_type": "markdown",
   "id": "b5d4c846-b572-4655-81a0-1c09639c4ed9",
   "metadata": {},
   "source": [
    "Importa las capas Dense y LSTM"
   ]
  },
  {
   "cell_type": "code",
   "id": "cd16f561-182d-4a0a-bad5-2599e2f7e54f",
   "metadata": {},
   "source": [],
   "outputs": [],
   "execution_count": null
  },
  {
   "cell_type": "markdown",
   "id": "82430225-dbb7-4443-89e2-c7b867e5521e",
   "metadata": {},
   "source": [
    "Importa Embedding"
   ]
  },
  {
   "cell_type": "code",
   "id": "198f5ad2-6183-4077-add3-575cff39655e",
   "metadata": {},
   "source": [],
   "outputs": [],
   "execution_count": null
  },
  {
   "cell_type": "markdown",
   "id": "e800cb76-ee92-475f-ad3c-9496db7c6639",
   "metadata": {},
   "source": [
    "Agrega la capa de Embedding, que salgan 128 dimensiones"
   ]
  },
  {
   "cell_type": "code",
   "id": "b2dc296c-ce8c-48f6-8429-d5956a2c20a1",
   "metadata": {},
   "source": [],
   "outputs": [],
   "execution_count": null
  },
  {
   "cell_type": "markdown",
   "id": "2ec1ed3b-3d5d-460d-a772-33cd2b9acfa1",
   "metadata": {},
   "source": [
    "agrega la capa de LSTM"
   ]
  },
  {
   "cell_type": "code",
   "id": "64f90ccd-7253-4e2c-9f73-401112d7c36e",
   "metadata": {},
   "source": [],
   "outputs": [],
   "execution_count": null
  },
  {
   "cell_type": "markdown",
   "id": "6b58cf40-0030-408f-83aa-3185a9d41234",
   "metadata": {},
   "source": [
    "Agrega una capa DENSE"
   ]
  },
  {
   "cell_type": "code",
   "id": "f8ce47af-3907-48f2-85f9-1c365a0abf7b",
   "metadata": {},
   "source": [],
   "outputs": [],
   "execution_count": null
  },
  {
   "cell_type": "markdown",
   "id": "c8ec5dde-e8b0-4a8f-80a1-20f1477b0032",
   "metadata": {},
   "source": [
    "Compila el RNN"
   ]
  },
  {
   "cell_type": "code",
   "id": "0d9ad69b-c748-465e-b89d-35b0240e926d",
   "metadata": {},
   "source": [],
   "outputs": [],
   "execution_count": null
  },
  {
   "cell_type": "markdown",
   "id": "1a6a71c4-9f62-4ba2-ba37-1409482e4f4f",
   "metadata": {},
   "source": [
    "Y resvisa el resultado de RNN"
   ]
  },
  {
   "cell_type": "code",
   "id": "c284152c-1937-439b-84f0-8270541fe6fe",
   "metadata": {},
   "source": [],
   "outputs": [],
   "execution_count": null
  },
  {
   "cell_type": "markdown",
   "id": "e1794693-7174-414a-b9f2-7489cf090a73",
   "metadata": {},
   "source": [
    "### Entrenar y evaluar el modelo"
   ]
  },
  {
   "cell_type": "markdown",
   "id": "de04a938-4dab-4621-ae19-c3dd519d1e62",
   "metadata": {},
   "source": [
    "Usa Fit para entrenar el mdoelo"
   ]
  },
  {
   "cell_type": "code",
   "id": "d1a60a72-b2d5-4546-98a7-c09f9fa9ec59",
   "metadata": {},
   "source": [],
   "outputs": [],
   "execution_count": null
  },
  {
   "cell_type": "markdown",
   "id": "0254744e-27ef-4441-a727-ffd2cccf874a",
   "metadata": {},
   "source": [
    "Checa tus resultados"
   ]
  },
  {
   "cell_type": "code",
   "id": "9df1c9ea-0d10-4d3f-a8c9-560f8156d445",
   "metadata": {},
   "source": [],
   "outputs": [],
   "execution_count": null
  },
  {
   "cell_type": "markdown",
   "id": "3f98788c-b8e3-425c-8444-e2d75a8882b0",
   "metadata": {},
   "source": [
    "Y revisa el resultado"
   ]
  },
  {
   "cell_type": "code",
   "id": "f8a6c24d-a4d8-4abb-b78c-ac37de7336f7",
   "metadata": {},
   "source": [],
   "outputs": [],
   "execution_count": null
  }
 ],
 "metadata": {
  "kernelspec": {
   "display_name": "Python 3",
   "language": "python",
   "name": "python3"
  },
  "language_info": {
   "codemirror_mode": {
    "name": "ipython",
    "version": 3
   },
   "file_extension": ".py",
   "mimetype": "text/x-python",
   "name": "python",
   "nbconvert_exporter": "python",
   "pygments_lexer": "ipython3",
   "version": "3.8.8"
  }
 },
 "nbformat": 4,
 "nbformat_minor": 5
}
