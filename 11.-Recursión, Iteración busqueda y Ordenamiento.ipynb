{
 "cells": [
  {
   "cell_type": "markdown",
   "id": "c62ad494-a83c-4813-b714-1de3c79b7fe8",
   "metadata": {},
   "source": [
    "# 11.-Recursión, Búsqueda, Ordenamiento, Iteración"
   ]
  },
  {
   "cell_type": "markdown",
   "id": "0ef859f9-42a3-4c99-acf6-4aef58fec780",
   "metadata": {},
   "source": [
    "## 11.2.- Algoritmos iterativos y Recursivos"
   ]
  },
  {
   "cell_type": "markdown",
   "id": "791ef129-54a0-40aa-9177-da4422d09c58",
   "metadata": {},
   "source": [
    "### 11.2.1.- Fibonacci"
   ]
  },
  {
   "cell_type": "markdown",
   "id": "46e9d8f2-9fd2-4f84-9fef-1d45fee9bcc1",
   "metadata": {},
   "source": [
    "Vamos a armar la sucesión de Fibonacci - Comenamos definiendola. Recuerda que los primeros 2 numeros, son 0 y 1, y los numeros subsecuentes son la suma de los 2 anteriores"
   ]
  },
  {
   "cell_type": "code",
   "id": "7221f5f0-f2e3-4c4f-a036-b7c0477a8114",
   "metadata": {
    "ExecuteTime": {
     "end_time": "2024-07-07T23:53:56.082988Z",
     "start_time": "2024-07-07T23:53:28.827560Z"
    }
   },
   "source": [
    "def fibonacci(n):\n",
    "    if n in (0,1):\n",
    "        return n\n",
    "    else:\n",
    "        return fibonacci(n-1)+fibonacci(n-2)\n",
    "fibonacci(3)"
   ],
   "outputs": [
    {
     "data": {
      "text/plain": [
       "2"
      ]
     },
     "execution_count": 29,
     "metadata": {},
     "output_type": "execute_result"
    }
   ],
   "execution_count": 29
  },
  {
   "cell_type": "markdown",
   "id": "3c04859c-cf6d-4850-8e37-addd2a130a09",
   "metadata": {},
   "source": [
    "Ahora vamos a probarla, arma un for que muestre lo valores Fibonacci de 0 a 40. "
   ]
  },
  {
   "cell_type": "code",
   "id": "39156c16-41fa-4aab-ad45-86cc1b8f9e99",
   "metadata": {
    "ExecuteTime": {
     "end_time": "2024-07-08T00:09:35.619112Z",
     "start_time": "2024-07-08T00:06:06.606566Z"
    }
   },
   "source": [
    "for n in range(41):\n",
    "    print(f'k{n}={fibonacci(n)}')"
   ],
   "outputs": [
    {
     "name": "stdout",
     "output_type": "stream",
     "text": [
      "k0=0\n",
      "k1=1\n",
      "k2=1\n",
      "k3=2\n",
      "k4=3\n",
      "k5=5\n",
      "k6=8\n",
      "k7=13\n",
      "k8=21\n",
      "k9=34\n",
      "k10=55\n",
      "k11=89\n",
      "k12=144\n",
      "k13=233\n",
      "k14=377\n",
      "k15=610\n",
      "k16=987\n",
      "k17=1597\n",
      "k18=2584\n",
      "k19=4181\n",
      "k20=6765\n",
      "k21=10946\n",
      "k22=17711\n",
      "k23=28657\n",
      "k24=46368\n",
      "k25=75025\n",
      "k26=121393\n",
      "k27=196418\n",
      "k28=317811\n",
      "k29=514229\n",
      "k30=832040\n",
      "k31=1346269\n",
      "k32=2178309\n",
      "k33=3524578\n",
      "k34=5702887\n",
      "k35=9227465\n",
      "k36=14930352\n",
      "k37=24157817\n",
      "k38=39088169\n",
      "k39=63245986\n",
      "k40=102334155\n"
     ]
    }
   ],
   "execution_count": 42
  },
  {
   "cell_type": "markdown",
   "id": "e6adabe9-b9f8-4b5c-b1c5-886630b83309",
   "metadata": {},
   "source": [
    "#### Por tu cuenta\n",
    "\n",
    "La versión iterativa de fibonacci es el siguiente programa. Usa %timeit para comparar la versión original vs la iterativa para los numeros 32,33 y 34"
   ]
  },
  {
   "cell_type": "markdown",
   "id": "ef2abe5f-a751-45b2-9893-12cf04b99497",
   "metadata": {},
   "source": [
    "def fibonacci_iterativo(n):\n",
    "    resultado = 0\n",
    "    temp = 1\n",
    "    for j in range(0,n):\n",
    "        temp, resultado = resultado, resultado + temp\n",
    "    return resultado"
   ]
  },
  {
   "cell_type": "code",
   "id": "451e92ad-4c45-4cb3-b364-31f494e30289",
   "metadata": {
    "ExecuteTime": {
     "end_time": "2024-07-08T00:09:55.953067Z",
     "start_time": "2024-07-08T00:09:55.948037Z"
    }
   },
   "source": [
    "def fibonacci_iterativo(n):\n",
    "    resultado = 0\n",
    "    temp = 1\n",
    "    for j in range(0,n):\n",
    "        temp, resultado = resultado, resultado + temp\n",
    "    return resultado"
   ],
   "outputs": [],
   "execution_count": 43
  },
  {
   "cell_type": "code",
   "id": "c2627128-e72a-4b18-b0e5-dcac10631f0e",
   "metadata": {
    "ExecuteTime": {
     "end_time": "2024-07-08T00:10:06.212698Z",
     "start_time": "2024-07-08T00:10:03.765765Z"
    }
   },
   "source": "%timeit fibonacci_iterativo(17)",
   "outputs": [
    {
     "name": "stdout",
     "output_type": "stream",
     "text": [
      "3 µs ± 33.3 ns per loop (mean ± std. dev. of 7 runs, 100,000 loops each)\n"
     ]
    }
   ],
   "execution_count": 44
  },
  {
   "cell_type": "code",
   "id": "ebe72ef3-0fdc-4808-8c44-668e9222fee4",
   "metadata": {
    "ExecuteTime": {
     "end_time": "2024-07-08T00:10:39.376162Z",
     "start_time": "2024-07-08T00:10:29.332592Z"
    }
   },
   "source": "%timeit fibonacci(17)",
   "outputs": [
    {
     "name": "stdout",
     "output_type": "stream",
     "text": [
      "1.23 ms ± 7.66 µs per loop (mean ± std. dev. of 7 runs, 1,000 loops each)\n"
     ]
    }
   ],
   "execution_count": 45
  },
  {
   "cell_type": "markdown",
   "id": "c1f5e086-b323-41b4-b4ec-efaa21e2c80a",
   "metadata": {},
   "source": [
    "### 11.2.2.- Series Geometricas"
   ]
  },
  {
   "cell_type": "markdown",
   "id": "cd84dea4-261c-46a9-8cd6-50e2ecd92e0f",
   "metadata": {},
   "source": [
    "Ahora vamos a armar series geometricas. Está tendra a=3, r=1/2 y n=20\n",
    "\n",
    "COmenzamos con la definicion de las variables a y r"
   ]
  },
  {
   "cell_type": "code",
   "id": "66b25640-c0da-4d3e-8b8c-cf8627cf121a",
   "metadata": {
    "ExecuteTime": {
     "end_time": "2024-07-08T00:17:01.400484Z",
     "start_time": "2024-07-08T00:17:01.395045Z"
    }
   },
   "source": [
    "a = 3\n",
    "r = 1/2\n",
    "\n",
    "def serie_geometrica(n):\n",
    "    if n==0:\n",
    "        return a\n",
    "    else:\n",
    "        return serie_geometrica(n-1) + a*r**(n-1)"
   ],
   "outputs": [],
   "execution_count": 55
  },
  {
   "cell_type": "markdown",
   "id": "a461094b-66a3-43a9-8ec1-ff2501752f41",
   "metadata": {},
   "source": [
    "Ahora vamos a la definición de la función serie_geom(n)"
   ]
  },
  {
   "cell_type": "code",
   "id": "2beb023a-1119-499f-b9e4-8d07f6e84bb3",
   "metadata": {
    "ExecuteTime": {
     "end_time": "2024-07-08T00:19:27.882788Z",
     "start_time": "2024-07-08T00:19:27.876462Z"
    }
   },
   "source": "serie_geometrica(10)",
   "outputs": [
    {
     "data": {
      "text/plain": [
       "8.994140625"
      ]
     },
     "execution_count": 63,
     "metadata": {},
     "output_type": "execute_result"
    }
   ],
   "execution_count": 63
  },
  {
   "cell_type": "markdown",
   "id": "4631973e-445c-49a0-9f5e-3c941c8d476e",
   "metadata": {},
   "source": [
    "Y terminamos con la impresión de los resultados del 1 al 10"
   ]
  },
  {
   "cell_type": "code",
   "id": "ff3fe2f4-4586-465a-a82d-e07a8764e742",
   "metadata": {
    "ExecuteTime": {
     "end_time": "2024-07-08T00:18:36.551934Z",
     "start_time": "2024-07-08T00:18:36.545833Z"
    }
   },
   "source": [
    "for n in range(0,11):\n",
    "    print(f'n({n})={serie_geometrica(n)}')"
   ],
   "outputs": [
    {
     "name": "stdout",
     "output_type": "stream",
     "text": [
      "n(0)=3\n",
      "n(1)=6.0\n",
      "n(2)=7.5\n",
      "n(3)=8.25\n",
      "n(4)=8.625\n",
      "n(5)=8.8125\n",
      "n(6)=8.90625\n",
      "n(7)=8.953125\n",
      "n(8)=8.9765625\n",
      "n(9)=8.98828125\n",
      "n(10)=8.994140625\n"
     ]
    }
   ],
   "execution_count": 61
  },
  {
   "cell_type": "code",
   "execution_count": null,
   "id": "9cebeced-064a-41fb-9444-ae95a0f996e6",
   "metadata": {},
   "outputs": [],
   "source": []
  },
  {
   "cell_type": "markdown",
   "id": "9f6abc8f-92e8-480e-8334-4f5d046e41e5",
   "metadata": {},
   "source": [
    "### 11.2.3.- Factorial"
   ]
  },
  {
   "cell_type": "markdown",
   "id": "88784460-c0f8-4893-9e0c-a1363de68e4a",
   "metadata": {},
   "source": [
    "Ahora vamos a ver factoriales, comenzamos definiendo la funcion factorial"
   ]
  },
  {
   "cell_type": "code",
   "id": "074911c2-0ca5-4677-8391-7d77113803bd",
   "metadata": {
    "ExecuteTime": {
     "end_time": "2024-07-08T00:20:46.885351Z",
     "start_time": "2024-07-08T00:20:46.879284Z"
    }
   },
   "source": [
    "def factorial(n):\n",
    "    if n<=0:\n",
    "        return 1\n",
    "    else:\n",
    "        return n*factorial(n-1)\n",
    "factorial(5)"
   ],
   "outputs": [
    {
     "data": {
      "text/plain": [
       "120"
      ]
     },
     "execution_count": 64,
     "metadata": {},
     "output_type": "execute_result"
    }
   ],
   "execution_count": 64
  },
  {
   "cell_type": "markdown",
   "id": "0310758d-7f6b-4f2e-a6e3-13440bede434",
   "metadata": {},
   "source": [
    "E imprimimos del 1 al 20"
   ]
  },
  {
   "cell_type": "code",
   "id": "f087e0b3-ba72-4ec6-ab70-be34ae7a5dff",
   "metadata": {
    "ExecuteTime": {
     "end_time": "2024-07-08T00:21:54.466295Z",
     "start_time": "2024-07-08T00:21:54.460819Z"
    }
   },
   "source": [
    "for n in range(6):\n",
    "    print(f'n({n})! = {factorial(n)}')"
   ],
   "outputs": [
    {
     "name": "stdout",
     "output_type": "stream",
     "text": [
      "n(0)! = 1\n",
      "n(1)! = 1\n",
      "n(2)! = 2\n",
      "n(3)! = 6\n",
      "n(4)! = 24\n",
      "n(5)! = 120\n"
     ]
    }
   ],
   "execution_count": 69
  },
  {
   "cell_type": "markdown",
   "id": "1c737631-a31f-4e71-8b0a-73b14db2ede0",
   "metadata": {},
   "source": [
    "Ahora intenta el factorial de forma iterativa"
   ]
  },
  {
   "cell_type": "code",
   "id": "c52108f1-9148-45b7-9b91-de45ec1e8d82",
   "metadata": {
    "ExecuteTime": {
     "end_time": "2024-07-08T00:25:22.188023Z",
     "start_time": "2024-07-08T00:25:22.180295Z"
    }
   },
   "source": [
    "def factorial_iterativo(n):\n",
    "    fin=n-1\n",
    "    for i in range(fin,1,-1):\n",
    "        n *=i\n",
    "        print(f'n({n})! = {n}\\n fin = {fin}')\n",
    "    return n\n",
    "factorial_iterativo(5)"
   ],
   "outputs": [
    {
     "name": "stdout",
     "output_type": "stream",
     "text": [
      "n(20)! = 20\n",
      " fin = 4\n",
      "n(60)! = 60\n",
      " fin = 4\n",
      "n(120)! = 120\n",
      " fin = 4\n"
     ]
    },
    {
     "data": {
      "text/plain": [
       "120"
      ]
     },
     "execution_count": 78,
     "metadata": {},
     "output_type": "execute_result"
    }
   ],
   "execution_count": 78
  },
  {
   "cell_type": "code",
   "execution_count": null,
   "id": "0155899f-c75d-46a4-9545-c24f723a26b6",
   "metadata": {},
   "outputs": [],
   "source": []
  },
  {
   "cell_type": "code",
   "execution_count": null,
   "id": "d227fe94-d078-4e63-9407-054492dfe310",
   "metadata": {},
   "outputs": [],
   "source": []
  },
  {
   "cell_type": "markdown",
   "id": "f3787b88-147c-4214-a0a3-c54230f31b37",
   "metadata": {},
   "source": [
    "## 11.3.- Búsqueda"
   ]
  },
  {
   "cell_type": "markdown",
   "id": "a78f40fb-d33f-4cca-a8fc-8526fb3cc2c8",
   "metadata": {},
   "source": [
    "### 11.4.- Búsqueda lineal"
   ]
  },
  {
   "cell_type": "markdown",
   "id": "f8735ff0-47f5-400e-aafc-da969723bb96",
   "metadata": {},
   "source": [
    "La busqueda lineal es la mas sencilla y mensa, simplemente va elemento por elemento del arreglo viendo si es el indicado\n",
    "\n",
    "Vamos a comenzar haciendo una función sencilla de búsqueda lineal"
   ]
  },
  {
   "cell_type": "code",
   "execution_count": null,
   "id": "73b1b365-8fb0-45eb-9662-f8d2de69afe0",
   "metadata": {},
   "outputs": [],
   "source": [
    "\n"
   ]
  },
  {
   "cell_type": "code",
   "execution_count": null,
   "id": "a00a757e-e4d8-44b4-bb02-f5b69d47aadf",
   "metadata": {},
   "outputs": [],
   "source": []
  },
  {
   "cell_type": "markdown",
   "id": "0f28350e-a1bc-4578-a979-375dce382971",
   "metadata": {},
   "source": [
    "Luego le damos los datos: \n",
    "    \n",
    "datos = [1.70, 1.65, 1.58, 1.81, 1.84, 1.78, 1.68, 1.72]"
   ]
  },
  {
   "cell_type": "code",
   "execution_count": null,
   "id": "f55c176a-fa2c-489d-9b43-7c4ae5461292",
   "metadata": {},
   "outputs": [],
   "source": []
  },
  {
   "cell_type": "code",
   "execution_count": null,
   "id": "e09c8066-3ad5-4bd6-82f1-7cd3c57df088",
   "metadata": {},
   "outputs": [],
   "source": []
  },
  {
   "cell_type": "markdown",
   "id": "13749123-5a5f-441c-804d-624c8fb74159",
   "metadata": {},
   "source": [
    "Y luego probamos"
   ]
  },
  {
   "cell_type": "code",
   "execution_count": null,
   "id": "16209386-19da-4e5f-82a4-254118a790c2",
   "metadata": {},
   "outputs": [],
   "source": []
  },
  {
   "cell_type": "markdown",
   "id": "b72c7c8c-dae8-4004-a23f-c2858859867d",
   "metadata": {},
   "source": [
    "## 11.4.- Ordenamiento"
   ]
  },
  {
   "cell_type": "markdown",
   "id": "0f18e51a-df67-497a-96a9-e3e665f1d1d4",
   "metadata": {},
   "source": [
    "### 11.4.1.- Ordenamiento por Selección"
   ]
  },
  {
   "cell_type": "markdown",
   "id": "1a6d3ee0-7320-44ef-8bf5-d999a1ee561f",
   "metadata": {},
   "source": [
    "Vamos a comenzar con Ordenamiento por Selección\n",
    "\n",
    "En este ciclo, se reduce la cantidad de elementos, una vez que se ha encontrado el elemento más\n",
    "pequeño y se ubica en la primera posición."
   ]
  },
  {
   "cell_type": "code",
   "execution_count": null,
   "id": "a1205ce9-172f-4584-b801-68832f93fbce",
   "metadata": {},
   "outputs": [],
   "source": []
  },
  {
   "cell_type": "code",
   "execution_count": null,
   "id": "5a2a8ef5-0468-49ee-96e6-4ff6da99b41c",
   "metadata": {},
   "outputs": [],
   "source": []
  },
  {
   "cell_type": "markdown",
   "id": "8d24352c-e131-41cb-afb0-fb1878127bea",
   "metadata": {},
   "source": [
    "En esta parte se identifica el elemento más pequeño, entre los elementos que quedan, y se intercambia de posición con el elemento que tiene el índice más bajo. "
   ]
  },
  {
   "cell_type": "code",
   "execution_count": null,
   "id": "58dfd13a-509d-4006-919d-b5489347001d",
   "metadata": {},
   "outputs": [],
   "source": []
  },
  {
   "cell_type": "markdown",
   "id": "c68a3d0a-aac2-4051-91f8-e85f7ae9049a",
   "metadata": {},
   "source": [
    "Y ahora apliquemos este algoritmo a auna lista que contiene la estatura de 9 personas\n",
    "\n",
    "1.85, 1.70, 1.58, 1.83, 1.80, 1.75, 1.70, 1.90, 1.65"
   ]
  },
  {
   "cell_type": "code",
   "execution_count": null,
   "id": "94996880-1a0f-40a3-ad33-e97191c600a0",
   "metadata": {},
   "outputs": [],
   "source": []
  },
  {
   "cell_type": "code",
   "execution_count": null,
   "id": "16111271-21a0-40ce-bbb4-b3758808d565",
   "metadata": {},
   "outputs": [],
   "source": []
  },
  {
   "cell_type": "code",
   "execution_count": null,
   "id": "71f56ca5-492d-4e01-949a-06fb868e2de8",
   "metadata": {},
   "outputs": [],
   "source": []
  },
  {
   "cell_type": "code",
   "execution_count": null,
   "id": "1f79dc76-a408-450e-a341-c89b90743b34",
   "metadata": {},
   "outputs": [],
   "source": []
  },
  {
   "cell_type": "code",
   "execution_count": null,
   "id": "6b3536e7-a97e-4722-875d-84d5a5207190",
   "metadata": {},
   "outputs": [],
   "source": []
  }
 ],
 "metadata": {
  "kernelspec": {
   "display_name": "Python 3",
   "language": "python",
   "name": "python3"
  },
  "language_info": {
   "codemirror_mode": {
    "name": "ipython",
    "version": 3
   },
   "file_extension": ".py",
   "mimetype": "text/x-python",
   "name": "python",
   "nbconvert_exporter": "python",
   "pygments_lexer": "ipython3",
   "version": "3.8.8"
  }
 },
 "nbformat": 4,
 "nbformat_minor": 5
}
