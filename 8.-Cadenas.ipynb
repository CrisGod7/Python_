{
 "cells": [
  {
   "cell_type": "markdown",
   "id": "24ccd45c-f156-4f17-8203-62cfd2dea1ee",
   "metadata": {},
   "source": [
    "# 8.- Cadenas"
   ]
  },
  {
   "cell_type": "markdown",
   "id": "0a48696e-f0e1-4ab7-9b69-03611bc76ff2",
   "metadata": {},
   "source": [
    "## 8.2.- Dando formato a Cadenas"
   ]
  },
  {
   "cell_type": "markdown",
   "id": "7af77bbe-9069-4c0e-a55a-566d5da7c5b4",
   "metadata": {},
   "source": [
    "### 8.2.1.- Tipos de Presentación"
   ]
  },
  {
   "cell_type": "markdown",
   "id": "2a458ccf-454b-4b93-b773-4749178e818c",
   "metadata": {},
   "source": [
    "Dale formato a 3.141592 a 3 decimales como cadena usando f'"
   ]
  },
  {
   "cell_type": "code",
   "id": "c47ac784-6fe5-4a24-abdc-3d0b2c537233",
   "metadata": {
    "ExecuteTime": {
     "end_time": "2024-07-02T00:07:42.314658Z",
     "start_time": "2024-07-02T00:07:42.309711Z"
    }
   },
   "source": "f'{3.141592:0.4f}'",
   "outputs": [
    {
     "data": {
      "text/plain": [
       "'3.1416'"
      ]
     },
     "execution_count": 5,
     "metadata": {},
     "output_type": "execute_result"
    }
   ],
   "execution_count": 5
  },
  {
   "cell_type": "markdown",
   "id": "68e1738d-d9be-4d08-b4ea-b764dc3a0f41",
   "metadata": {},
   "source": [
    "Enteros, con el tipo de presentación d"
   ]
  },
  {
   "cell_type": "code",
   "id": "93f73be0-08a4-40e6-bd6a-9a2ccd15f2e0",
   "metadata": {
    "ExecuteTime": {
     "end_time": "2024-07-02T00:07:57.492789Z",
     "start_time": "2024-07-02T00:07:57.487663Z"
    }
   },
   "source": "f'{150:d}'",
   "outputs": [
    {
     "data": {
      "text/plain": [
       "'150'"
      ]
     },
     "execution_count": 6,
     "metadata": {},
     "output_type": "execute_result"
    }
   ],
   "execution_count": 6
  },
  {
   "cell_type": "markdown",
   "id": "74c5bcd8-f603-4aff-8c70-e41ba6c042d0",
   "metadata": {},
   "source": [
    "Caracteres con el tipo de presentación c"
   ]
  },
  {
   "cell_type": "code",
   "id": "ee39ec1f-dd90-457c-bcd1-0f6aec52f7ef",
   "metadata": {
    "ExecuteTime": {
     "end_time": "2024-07-02T00:08:22.420995Z",
     "start_time": "2024-07-02T00:08:22.415477Z"
    }
   },
   "source": "f'{66:c}' #formato aski",
   "outputs": [
    {
     "data": {
      "text/plain": [
       "'B'"
      ]
     },
     "execution_count": 7,
     "metadata": {},
     "output_type": "execute_result"
    }
   ],
   "execution_count": 7
  },
  {
   "cell_type": "markdown",
   "id": "5c625417-0ff1-456c-ba13-53a390e8223c",
   "metadata": {},
   "source": [
    "Cadenas (strings) con el tipo de presentación s"
   ]
  },
  {
   "cell_type": "code",
   "id": "174fb779-d902-4c17-a67a-13c768d26265",
   "metadata": {
    "ExecuteTime": {
     "end_time": "2024-07-02T00:09:39.185779Z",
     "start_time": "2024-07-02T00:09:39.181089Z"
    }
   },
   "source": "f'{\"Este curso esta de \":s}{100}'",
   "outputs": [
    {
     "data": {
      "text/plain": [
       "'Este curso esta de 100'"
      ]
     },
     "execution_count": 8,
     "metadata": {},
     "output_type": "execute_result"
    }
   ],
   "execution_count": 8
  },
  {
   "cell_type": "markdown",
   "id": "e55fa6e7-4bc0-4304-9b82-f26dffd0feb0",
   "metadata": {},
   "source": [
    "#### Por tu cuenta\n",
    "\n",
    "Usa el tipo c para mostrar los caracteres que pertenecen a 58,45,41"
   ]
  },
  {
   "cell_type": "code",
   "id": "c30dd78d-a42f-4111-8c7e-9e40e8b6c402",
   "metadata": {
    "ExecuteTime": {
     "end_time": "2024-07-02T00:11:04.344809Z",
     "start_time": "2024-07-02T00:11:04.339802Z"
    }
   },
   "source": "f'{58:c}{45:c}{41:c}'",
   "outputs": [
    {
     "data": {
      "text/plain": [
       "':-)'"
      ]
     },
     "execution_count": 13,
     "metadata": {},
     "output_type": "execute_result"
    }
   ],
   "execution_count": 13
  },
  {
   "cell_type": "markdown",
   "id": "a650b097-f8ff-40ca-82e2-d31edd0bbdf5",
   "metadata": {},
   "source": [
    "### 8.2.2.- Anchos y alineación"
   ]
  },
  {
   "cell_type": "markdown",
   "id": "83a9d37d-8e88-446c-b46a-8a5202b39939",
   "metadata": {},
   "source": [
    "En una cadena f' puedes especificar la alineación y la cantidad de espacios al inicio y al final"
   ]
  },
  {
   "cell_type": "code",
   "id": "913a1c8c-61ea-4ff3-8ea9-f07e02c25a85",
   "metadata": {
    "ExecuteTime": {
     "end_time": "2024-07-02T00:12:06.651155Z",
     "start_time": "2024-07-02T00:12:06.645538Z"
    }
   },
   "source": "f'[{314:10d}]'",
   "outputs": [
    {
     "data": {
      "text/plain": [
       "'[       314]'"
      ]
     },
     "execution_count": 14,
     "metadata": {},
     "output_type": "execute_result"
    }
   ],
   "execution_count": 14
  },
  {
   "cell_type": "code",
   "id": "44a6f0c8-b83c-47ef-a535-94138e443205",
   "metadata": {
    "ExecuteTime": {
     "end_time": "2024-07-02T00:13:11.166797Z",
     "start_time": "2024-07-02T00:13:11.162377Z"
    }
   },
   "source": "f'[{314:10d}]'",
   "outputs": [
    {
     "data": {
      "text/plain": [
       "'[       314]'"
      ]
     },
     "execution_count": 15,
     "metadata": {},
     "output_type": "execute_result"
    }
   ],
   "execution_count": 15
  },
  {
   "cell_type": "code",
   "id": "0ab306c4-75ec-4586-ac09-a117fea3a899",
   "metadata": {
    "ExecuteTime": {
     "end_time": "2024-07-02T19:35:49.775946Z",
     "start_time": "2024-07-02T19:35:49.762851Z"
    }
   },
   "source": "f'[{\"Alineacion\":15}{3.14:10f}]'",
   "outputs": [
    {
     "data": {
      "text/plain": [
       "'[Alineacion     3.140000  ]'"
      ]
     },
     "execution_count": 1,
     "metadata": {},
     "output_type": "execute_result"
    }
   ],
   "execution_count": 1
  },
  {
   "cell_type": "code",
   "execution_count": null,
   "id": "4e706515-938e-4fd2-8639-4fdd1fbb0d8f",
   "metadata": {},
   "outputs": [],
   "source": []
  },
  {
   "cell_type": "code",
   "execution_count": null,
   "id": "36ed4215-16da-4708-9b57-4d795fbc1749",
   "metadata": {},
   "outputs": [],
   "source": []
  },
  {
   "cell_type": "code",
   "execution_count": null,
   "id": "dfcc37b9-cf77-41ac-af98-3e50eac54112",
   "metadata": {},
   "outputs": [],
   "source": []
  },
  {
   "cell_type": "markdown",
   "id": "4e22e800-b810-46ed-84ea-6749ed492332",
   "metadata": {},
   "source": [
    "Pero además de especificar la longitud del campo y la cantidad de decimales, también puedes alinear a la cadena con los símbolos > y <."
   ]
  },
  {
   "cell_type": "code",
   "id": "b614baf4-7774-43cc-a54f-92d15e03cb7f",
   "metadata": {
    "ExecuteTime": {
     "end_time": "2024-07-02T00:58:49.883981Z",
     "start_time": "2024-07-02T00:58:49.879140Z"
    }
   },
   "source": "f'[{\"alineacion\":12}{3.14:<10f}]'",
   "outputs": [
    {
     "data": {
      "text/plain": [
       "'[alineacion  3.140000  ]'"
      ]
     },
     "execution_count": 20,
     "metadata": {},
     "output_type": "execute_result"
    }
   ],
   "execution_count": 20
  },
  {
   "cell_type": "code",
   "execution_count": null,
   "id": "85ad0a07-192f-4f49-920d-49c2fee4dc0a",
   "metadata": {},
   "outputs": [],
   "source": []
  },
  {
   "cell_type": "markdown",
   "id": "a7caa683-95b6-411c-9d7b-87a193001967",
   "metadata": {},
   "source": [
    "Y para centrar, tanto el texto como los valores"
   ]
  },
  {
   "cell_type": "code",
   "execution_count": null,
   "id": "b8de6f4f-af25-44fe-95df-298937ae0171",
   "metadata": {},
   "outputs": [],
   "source": []
  },
  {
   "cell_type": "code",
   "execution_count": null,
   "id": "4dd550df-a874-4969-b99e-49280cafc209",
   "metadata": {},
   "outputs": [],
   "source": []
  },
  {
   "cell_type": "code",
   "execution_count": null,
   "id": "e93a5ccb-efb8-478f-adbf-0a102d38d711",
   "metadata": {},
   "outputs": [],
   "source": []
  },
  {
   "cell_type": "markdown",
   "id": "3ba44945-c022-42a6-b133-d6372acbc34d",
   "metadata": {},
   "source": [
    "#### Por tu cuenta\n",
    "\n",
    "Muestra el nombre \"Daniel\" en 3 filas diferentes alineados a la derecha, centro e izquierda en un campo de 10 caracteres. Encierra cada fila de resultado en brackets"
   ]
  },
  {
   "cell_type": "code",
   "execution_count": null,
   "id": "ff33c3f4-25c5-4716-a631-371cde795344",
   "metadata": {},
   "outputs": [],
   "source": []
  },
  {
   "cell_type": "markdown",
   "id": "c896e587-4b4c-438a-9725-0e35e31b6e20",
   "metadata": {},
   "source": [
    "### 8.2.3.- Formato Númerico"
   ]
  },
  {
   "cell_type": "markdown",
   "id": "6feaf495-5336-4db5-a2bd-64c665ab5648",
   "metadata": {},
   "source": [
    "En el caso particular de cadenas de números, si requieres mostrar el signo. Puedes agregarlo en\n",
    "el f-string"
   ]
  },
  {
   "cell_type": "code",
   "id": "2edf017f-00ca-4401-98b6-0ecb0ce19bd4",
   "metadata": {
    "ExecuteTime": {
     "end_time": "2024-07-02T19:39:31.153834Z",
     "start_time": "2024-07-02T19:39:31.148762Z"
    }
   },
   "source": "f'[{150:+10d}]' #+ signo del numero",
   "outputs": [
    {
     "data": {
      "text/plain": [
       "'[      +150]'"
      ]
     },
     "execution_count": 2,
     "metadata": {},
     "output_type": "execute_result"
    }
   ],
   "execution_count": 2
  },
  {
   "cell_type": "code",
   "id": "76f90f0d-afae-4ccd-a087-499ad7fda1cb",
   "metadata": {
    "ExecuteTime": {
     "end_time": "2024-07-02T19:40:00.572284Z",
     "start_time": "2024-07-02T19:40:00.566926Z"
    }
   },
   "source": "f'[{-150:10d}]' #+ signo del numero",
   "outputs": [
    {
     "data": {
      "text/plain": [
       "'[      -150]'"
      ]
     },
     "execution_count": 4,
     "metadata": {},
     "output_type": "execute_result"
    }
   ],
   "execution_count": 4
  },
  {
   "cell_type": "markdown",
   "id": "9d42e4f7-d59a-4f77-8689-898e4e18677e",
   "metadata": {},
   "source": [
    "Para agregar ceros en los espacios en blanco."
   ]
  },
  {
   "cell_type": "code",
   "id": "7f70bec3-c2ed-4116-a529-fffada5e9734",
   "metadata": {
    "ExecuteTime": {
     "end_time": "2024-07-02T19:40:41.663185Z",
     "start_time": "2024-07-02T19:40:41.657261Z"
    }
   },
   "source": "f'[{150:+010d}]' #+0 rellena con ceros",
   "outputs": [
    {
     "data": {
      "text/plain": [
       "'[+000000150]'"
      ]
     },
     "execution_count": 6,
     "metadata": {},
     "output_type": "execute_result"
    }
   ],
   "execution_count": 6
  },
  {
   "cell_type": "markdown",
   "id": "fa2db479-b131-4235-aa43-4947a5ebab45",
   "metadata": {},
   "source": [
    "Regularmente a los números positivos no se les agrega el signo +. Pero, si requieres dejar el espacio en blanco para este tipo de números, utiliza un código como el siguiente"
   ]
  },
  {
   "cell_type": "code",
   "id": "20155918-329f-411d-a795-17c1a7d7d762",
   "metadata": {
    "ExecuteTime": {
     "end_time": "2024-07-02T19:44:03.679519Z",
     "start_time": "2024-07-02T19:44:03.674664Z"
    }
   },
   "source": "print(f'{27:d}\\n{27: d}\\n{-27:d}')",
   "outputs": [
    {
     "name": "stdout",
     "output_type": "stream",
     "text": [
      "27\n",
      " 27\n",
      "-27\n"
     ]
    }
   ],
   "execution_count": 8
  },
  {
   "cell_type": "code",
   "id": "e175f898-9300-4695-bde6-7b264cb0f9b0",
   "metadata": {
    "ExecuteTime": {
     "end_time": "2024-07-02T19:44:32.675782Z",
     "start_time": "2024-07-02T19:44:32.671297Z"
    }
   },
   "source": "f'{983423412344:,d}'",
   "outputs": [
    {
     "data": {
      "text/plain": [
       "'983,423,412,344'"
      ]
     },
     "execution_count": 9,
     "metadata": {},
     "output_type": "execute_result"
    }
   ],
   "execution_count": 9
  },
  {
   "cell_type": "code",
   "id": "e5da6324-0483-45b7-b7eb-682dadeeaef9",
   "metadata": {
    "ExecuteTime": {
     "end_time": "2024-07-02T19:45:39.194281Z",
     "start_time": "2024-07-02T19:45:39.189143Z"
    }
   },
   "source": "f'{234224:,.3f}'",
   "outputs": [
    {
     "data": {
      "text/plain": [
       "'234,224.000'"
      ]
     },
     "execution_count": 15,
     "metadata": {},
     "output_type": "execute_result"
    }
   ],
   "execution_count": 15
  },
  {
   "cell_type": "markdown",
   "id": "180577e9-163d-4512-b65d-cee3056ed5ed",
   "metadata": {},
   "source": [
    "#### Por tu cuenta\n",
    "\n",
    "Imprime los valores 11483.528 y -4581.4413 cada uno precedido por su signo, en campos de 10 caracteres con separadores de miles, y su punto decimal alineado a 2 puntos de precisión."
   ]
  },
  {
   "cell_type": "code",
   "id": "09a0de50-d0d6-4a53-824e-fccf55f04a74",
   "metadata": {
    "ExecuteTime": {
     "end_time": "2024-07-02T19:46:50.589797Z",
     "start_time": "2024-07-02T19:46:50.585482Z"
    }
   },
   "source": "print(f'{11483.5428:+10,.2f}')",
   "outputs": [
    {
     "name": "stdout",
     "output_type": "stream",
     "text": [
      "+11,483.54\n"
     ]
    }
   ],
   "execution_count": 20
  },
  {
   "cell_type": "markdown",
   "id": "d223ecab-5e4a-4b1b-b4a1-f365c346ce3c",
   "metadata": {},
   "source": [
    "### 8.2.5.- Concatenar Cadenas que se repiten"
   ]
  },
  {
   "cell_type": "markdown",
   "id": "f645859b-1241-4118-b850-540b65f61a84",
   "metadata": {},
   "source": [
    "Anteriormente utilizaste el símbolo + para concatenar cadenas. Además de esta operación puedes\n",
    "repetir una misma cadena"
   ]
  },
  {
   "cell_type": "code",
   "id": "0841aa9d-465d-4367-be3a-c128ce558fc9",
   "metadata": {
    "ExecuteTime": {
     "end_time": "2024-07-02T19:48:00.786826Z",
     "start_time": "2024-07-02T19:48:00.782451Z"
    }
   },
   "source": [
    "s1 = \"hola\"\n",
    "s2 = \"mundo\"\n",
    "s1 += \" \" + s2\n",
    "print(s1)"
   ],
   "outputs": [
    {
     "name": "stdout",
     "output_type": "stream",
     "text": [
      "hola mundo\n"
     ]
    }
   ],
   "execution_count": 23
  },
  {
   "cell_type": "code",
   "execution_count": null,
   "id": "f1c932bd-d425-46a6-88d2-fd88a03d4136",
   "metadata": {},
   "outputs": [],
   "source": []
  },
  {
   "cell_type": "code",
   "execution_count": null,
   "id": "ae53e8fe-4c48-4603-9a6e-965c046a84ac",
   "metadata": {},
   "outputs": [],
   "source": []
  },
  {
   "cell_type": "code",
   "execution_count": null,
   "id": "51e78738-c381-4c5f-8d16-963312087da4",
   "metadata": {},
   "outputs": [],
   "source": []
  },
  {
   "cell_type": "markdown",
   "id": "82e2893c-bd47-4680-8ee2-1ae8b31d5d90",
   "metadata": {},
   "source": [
    "Si requieres repetir una cadena. "
   ]
  },
  {
   "cell_type": "code",
   "id": "5f8fc2a2-8dd4-4caf-afcf-66bd2d2ac439",
   "metadata": {
    "ExecuteTime": {
     "end_time": "2024-07-02T19:49:11.425769Z",
     "start_time": "2024-07-02T19:49:11.421025Z"
    }
   },
   "source": "eco = \"FEliz\"",
   "outputs": [],
   "execution_count": 35
  },
  {
   "cell_type": "code",
   "id": "aa9c6e0e-3c4e-4737-99b2-e6af14286138",
   "metadata": {
    "ExecuteTime": {
     "end_time": "2024-07-02T19:49:27.998838Z",
     "start_time": "2024-07-02T19:49:27.980051Z"
    }
   },
   "source": [
    "eco *= 4\n",
    "print(eco)"
   ],
   "outputs": [
    {
     "ename": "TypeError",
     "evalue": "can only concatenate str (not \"int\") to str",
     "output_type": "error",
     "traceback": [
      "\u001B[1;31m---------------------------------------------------------------------------\u001B[0m",
      "\u001B[1;31mTypeError\u001B[0m                                 Traceback (most recent call last)",
      "Cell \u001B[1;32mIn[37], line 1\u001B[0m\n\u001B[1;32m----> 1\u001B[0m eco \u001B[38;5;241m*\u001B[39m\u001B[38;5;241m=\u001B[39m \u001B[38;5;124m\"\u001B[39m\u001B[38;5;124m \u001B[39m\u001B[38;5;130;01m\\n\u001B[39;00m\u001B[38;5;124m\"\u001B[39m\u001B[38;5;241m+\u001B[39m \u001B[38;5;241m4\u001B[39m\n\u001B[0;32m      2\u001B[0m \u001B[38;5;28mprint\u001B[39m(eco)\n",
      "\u001B[1;31mTypeError\u001B[0m: can only concatenate str (not \"int\") to str"
     ]
    }
   ],
   "execution_count": 37
  },
  {
   "cell_type": "code",
   "execution_count": null,
   "id": "5dff52f8-d80e-42ac-b858-256493776589",
   "metadata": {},
   "outputs": [],
   "source": []
  },
  {
   "cell_type": "markdown",
   "id": "219fe072-a45f-45ec-b73b-2f03c407bd4d",
   "metadata": {},
   "source": [
    "---"
   ]
  },
  {
   "cell_type": "markdown",
   "id": "46b2a44f-5db9-4063-b763-b5b8c32f0845",
   "metadata": {},
   "source": [
    "## 8.3.- Otras opciones para las cadenas"
   ]
  },
  {
   "cell_type": "markdown",
   "id": "60d85acd-aa22-4665-9cf6-347af4c84b17",
   "metadata": {},
   "source": [
    "### 8.3.1 - Quitar espacios en blanco"
   ]
  },
  {
   "cell_type": "markdown",
   "id": "4a7f5a74-cb0b-4910-b408-0f012dc8be73",
   "metadata": {},
   "source": [
    "Observa el siguiente enunciado (cadena)\n",
    "\n",
    "enunciado = '\\t \\n me gusta escuchar música alegre \\t\\t \\n'"
   ]
  },
  {
   "cell_type": "code",
   "id": "9b1005fb-d548-472a-bacc-91c4e332c429",
   "metadata": {
    "ExecuteTime": {
     "end_time": "2024-07-02T19:49:45.029455Z",
     "start_time": "2024-07-02T19:49:45.025598Z"
    }
   },
   "source": "enunciado = '\\t \\n me gusta escuchar música alegre \\t\\t \\n'",
   "outputs": [],
   "execution_count": 38
  },
  {
   "cell_type": "code",
   "id": "dba0c80f-fa7a-4a45-a28c-1be2f8b6c3e0",
   "metadata": {
    "ExecuteTime": {
     "end_time": "2024-07-02T19:49:52.276764Z",
     "start_time": "2024-07-02T19:49:52.271828Z"
    }
   },
   "source": "",
   "outputs": [
    {
     "data": {
      "text/plain": [
       "'me gusta escuchar música alegre'"
      ]
     },
     "execution_count": 39,
     "metadata": {},
     "output_type": "execute_result"
    }
   ],
   "execution_count": 39
  },
  {
   "cell_type": "markdown",
   "id": "c8cfd7bd-2c06-4f72-9ee0-1cf687d06f99",
   "metadata": {},
   "source": [
    "Requieres eliminar todos los espacios en blanco, el método strip realiza esta tarea"
   ]
  },
  {
   "cell_type": "code",
   "execution_count": null,
   "id": "3d983771-9fc9-45dd-8077-ff674937d7cf",
   "metadata": {},
   "outputs": [],
   "source": "enunciado.strip()\n"
  },
  {
   "cell_type": "markdown",
   "id": "68f98056-6c4f-4a0e-9724-e3b3b65cde68",
   "metadata": {},
   "source": [
    "Para eliminar los espacios en blanco a la izquierda (inicio) de la cadena"
   ]
  },
  {
   "cell_type": "code",
   "id": "22be046c-91d6-4f6b-bf52-010252631a86",
   "metadata": {
    "ExecuteTime": {
     "end_time": "2024-07-02T19:50:11.468228Z",
     "start_time": "2024-07-02T19:50:11.463178Z"
    }
   },
   "source": "enunciado.lstrip()\n",
   "outputs": [
    {
     "data": {
      "text/plain": [
       "'me gusta escuchar música alegre \\t\\t \\n'"
      ]
     },
     "execution_count": 40,
     "metadata": {},
     "output_type": "execute_result"
    }
   ],
   "execution_count": 40
  },
  {
   "cell_type": "markdown",
   "id": "d4532456-2734-4806-b25a-5b2f0dd3ccb5",
   "metadata": {},
   "source": [
    "O los espacios de la derecha (final) de la cadena."
   ]
  },
  {
   "cell_type": "code",
   "id": "3d32627f-f6a8-481d-ae69-7ada732e4261",
   "metadata": {
    "ExecuteTime": {
     "end_time": "2024-07-02T19:50:22.688825Z",
     "start_time": "2024-07-02T19:50:22.683794Z"
    }
   },
   "source": "enunciado.rstrip()\n",
   "outputs": [
    {
     "data": {
      "text/plain": [
       "'\\t \\n me gusta escuchar música alegre'"
      ]
     },
     "execution_count": 41,
     "metadata": {},
     "output_type": "execute_result"
    }
   ],
   "execution_count": 41
  },
  {
   "cell_type": "markdown",
   "id": "f272c64d-68b0-4d29-97e1-e990f788e9c2",
   "metadata": {},
   "source": [
    "#### Por tu cuenta\n",
    "\n",
    "Usa los métodos en esta sección para limpiar la siguiente oración\n",
    "\n",
    "name = \"                          Clark Kent                                          \""
   ]
  },
  {
   "cell_type": "markdown",
   "id": "5c1d2655-f828-4305-9920-bcefa7e95963",
   "metadata": {},
   "source": [
    "### 8.3.2 - Mayusculas y Minusculas"
   ]
  },
  {
   "cell_type": "markdown",
   "id": "32fbe5c8-a313-4485-a93d-825f28b7991f",
   "metadata": {},
   "source": [
    "Usa el método capitalize para convertir esta oración a mayusculas\n",
    "\n",
    "me gusta eschuchar música alegre"
   ]
  },
  {
   "cell_type": "code",
   "id": "bca4b7f1-fd58-4240-a73f-faba7817e418",
   "metadata": {
    "ExecuteTime": {
     "end_time": "2024-07-02T19:51:13.799380Z",
     "start_time": "2024-07-02T19:51:13.793372Z"
    }
   },
   "source": "\"me gusta eschuchar música alegre\".capitalize()",
   "outputs": [
    {
     "data": {
      "text/plain": [
       "'Me gusta eschuchar música alegre'"
      ]
     },
     "execution_count": 42,
     "metadata": {},
     "output_type": "execute_result"
    }
   ],
   "execution_count": 42
  },
  {
   "cell_type": "markdown",
   "id": "cd49c72e-5a9b-4a1c-80aa-5a474f0d1dbd",
   "metadata": {},
   "source": [
    "Usa el metodo Title para ponerle mayuscula a cada letra de la oración\n",
    "\n",
    "me gusta eschuchar música alegre. bailemos"
   ]
  },
  {
   "cell_type": "code",
   "id": "3b750c53-4452-4d0f-9299-c5b37b7439c6",
   "metadata": {
    "ExecuteTime": {
     "end_time": "2024-07-02T19:51:28.920699Z",
     "start_time": "2024-07-02T19:51:28.915908Z"
    }
   },
   "source": "\"me gusta eschuchar música alegre\".title()",
   "outputs": [
    {
     "data": {
      "text/plain": [
       "'Me Gusta Eschuchar Música Alegre'"
      ]
     },
     "execution_count": 43,
     "metadata": {},
     "output_type": "execute_result"
    }
   ],
   "execution_count": 43
  },
  {
   "cell_type": "markdown",
   "id": "4b9aac30-53cf-45b2-bf63-7a1a1e6ca895",
   "metadata": {},
   "source": [
    "### 8.3.3 - Operadores de Comparación"
   ]
  },
  {
   "cell_type": "markdown",
   "id": "c89b9d9d-5e14-4f91-8108-18cfa8b3a1e0",
   "metadata": {},
   "source": [
    "Además de dar formato a las cadenas, Python permite compararlas. Esto se realiza con los valores numéricos que tiene cada carácter. Aquí algunos ejemplos."
   ]
  },
  {
   "cell_type": "code",
   "execution_count": null,
   "id": "09f11719-8d6d-4dfd-879a-f55f4960a8b3",
   "metadata": {},
   "outputs": [],
   "source": []
  },
  {
   "cell_type": "code",
   "execution_count": null,
   "id": "169f7f2e-3438-4bc8-b07f-f05ed8ddd203",
   "metadata": {},
   "outputs": [],
   "source": []
  },
  {
   "cell_type": "markdown",
   "id": "7ef0310a-acbe-4491-9df7-5fadbe1d8bc6",
   "metadata": {},
   "source": [
    "### 8.3.4 - Buscar Cadenas"
   ]
  },
  {
   "cell_type": "markdown",
   "id": "8006b899-deda-4471-b6ed-a08e5237489f",
   "metadata": {},
   "source": [
    "Para contar el número de veces que aparece un trozo de cadena (substring) en una cadena más\n",
    "grande, Python cuenta con el método count. Por ejemplo\n",
    "\n",
    "Cuenta quizas en \"quizás si quizás no quizás es una posibilidad\""
   ]
  },
  {
   "cell_type": "code",
   "id": "5f0028df-9be6-4a7e-8d69-f278baf7238d",
   "metadata": {
    "ExecuteTime": {
     "end_time": "2024-07-02T19:53:11.591777Z",
     "start_time": "2024-07-02T19:53:11.587804Z"
    }
   },
   "source": "enun = \"quizás si quizás no quizás es una posibilidad\"",
   "outputs": [],
   "execution_count": 44
  },
  {
   "cell_type": "code",
   "id": "cb3989e0-0c8f-48d7-8001-878c7045c196",
   "metadata": {
    "ExecuteTime": {
     "end_time": "2024-07-02T19:53:25.755749Z",
     "start_time": "2024-07-02T19:53:25.750281Z"
    }
   },
   "source": "enun.count(\"quizás\")",
   "outputs": [
    {
     "data": {
      "text/plain": [
       "3"
      ]
     },
     "execution_count": 45,
     "metadata": {},
     "output_type": "execute_result"
    }
   ],
   "execution_count": 45
  },
  {
   "cell_type": "markdown",
   "id": "0bdb2c9f-16d7-42dc-b461-eca10e3f977d",
   "metadata": {},
   "source": [
    "Si añades un segundo argumento, éste indica el índice de inicio de la búsqueda (recuerda que los\n",
    "índices inician en 0)."
   ]
  },
  {
   "cell_type": "code",
   "id": "cc71a3ce-13e3-47cc-afc2-6699198aab54",
   "metadata": {
    "ExecuteTime": {
     "end_time": "2024-07-02T19:53:48.526108Z",
     "start_time": "2024-07-02T19:53:48.521084Z"
    }
   },
   "source": "enun.count(\"quizás\",8)",
   "outputs": [
    {
     "data": {
      "text/plain": [
       "2"
      ]
     },
     "execution_count": 46,
     "metadata": {},
     "output_type": "execute_result"
    }
   ],
   "execution_count": 46
  },
  {
   "cell_type": "code",
   "id": "d3650657-46fb-4dcc-a892-f1b3bdbd201b",
   "metadata": {
    "ExecuteTime": {
     "end_time": "2024-07-02T19:54:20.903359Z",
     "start_time": "2024-07-02T19:54:20.898223Z"
    }
   },
   "source": "enun.count(\"quizás\",8,18)",
   "outputs": [
    {
     "data": {
      "text/plain": [
       "1"
      ]
     },
     "execution_count": 47,
     "metadata": {},
     "output_type": "execute_result"
    }
   ],
   "execution_count": 47
  },
  {
   "cell_type": "markdown",
   "id": "2733cb44-23b8-47f3-908a-ed5765e34809",
   "metadata": {},
   "source": [
    "El método index busca una subcadena dentro de una cadena, e indica el primer índice en donde\n",
    "aparece. "
   ]
  },
  {
   "cell_type": "code",
   "id": "d7e284a9-51cf-47b7-89a8-b108b1a8306e",
   "metadata": {
    "ExecuteTime": {
     "end_time": "2024-07-02T19:54:55.911572Z",
     "start_time": "2024-07-02T19:54:55.906485Z"
    }
   },
   "source": "enun.index(\"si\")",
   "outputs": [
    {
     "data": {
      "text/plain": [
       "7"
      ]
     },
     "execution_count": 48,
     "metadata": {},
     "output_type": "execute_result"
    }
   ],
   "execution_count": 48
  },
  {
   "cell_type": "markdown",
   "id": "0a3e1ef2-49f8-41f6-b18e-31d224efd220",
   "metadata": {},
   "source": [
    "El método rindex realiza la misma tarea que index, pero inicia la búsqueda desde la parte final\n",
    "de la cadena. "
   ]
  },
  {
   "cell_type": "code",
   "id": "53e83d79-553c-46f7-85a7-05ec85632cb1",
   "metadata": {
    "ExecuteTime": {
     "end_time": "2024-07-02T19:55:15.782598Z",
     "start_time": "2024-07-02T19:55:15.777369Z"
    }
   },
   "source": "enun.rindex(\"si\") ",
   "outputs": [
    {
     "data": {
      "text/plain": [
       "36"
      ]
     },
     "execution_count": 49,
     "metadata": {},
     "output_type": "execute_result"
    }
   ],
   "execution_count": 49
  },
  {
   "cell_type": "markdown",
   "id": "6b991c26-511b-463a-85e3-4af3a8f9b623",
   "metadata": {},
   "source": [
    "Si solo necesitas conocer si en la cadena se encuentra una subcadena, es posible utilizar los operadores in o not in"
   ]
  },
  {
   "cell_type": "code",
   "execution_count": null,
   "id": "b7ba0e3f-f173-4a49-b65c-ae72bcc4cd98",
   "metadata": {},
   "outputs": [],
   "source": []
  },
  {
   "cell_type": "markdown",
   "id": "e62993de-d384-4393-8774-9dd72c3355ae",
   "metadata": {},
   "source": [
    "Los métodos startswith y endswith regresan True si la cadena inicia o termina"
   ]
  },
  {
   "cell_type": "code",
   "execution_count": null,
   "id": "628afeaa-177e-421d-9df5-029393f733aa",
   "metadata": {},
   "outputs": [],
   "source": []
  },
  {
   "cell_type": "markdown",
   "id": "a5451a68-e2f9-4639-801a-00e7268bfb5e",
   "metadata": {},
   "source": [
    "#### Por tu cuenta\n",
    "\n",
    "Crea un bucle for que ubica y muestra cada palabra que comienza con \"d\" en \"Por desenredar el enredo aque ayer enrede, hoy enredo el desenredo que desenredé ayer\""
   ]
  },
  {
   "cell_type": "code",
   "id": "e17272e7-4ab3-4e27-8e51-444ef071375e",
   "metadata": {
    "ExecuteTime": {
     "end_time": "2024-07-02T19:58:29.935846Z",
     "start_time": "2024-07-02T19:58:29.930629Z"
    }
   },
   "source": [
    "for palabra in \"Por desenredar el enredo aque ayer enrede, hoy enredo el desenredo que desenredé ayer\".split():\n",
    "    if palabra.startswith(\"d\"):\n",
    "        print(palabra,end= \" \")\n",
    "    "
   ],
   "outputs": [
    {
     "name": "stdout",
     "output_type": "stream",
     "text": [
      "desenredar desenredo desenredé "
     ]
    }
   ],
   "execution_count": 50
  },
  {
   "cell_type": "markdown",
   "id": "291453ec-2fd7-4084-9dd3-b193700eeb3b",
   "metadata": {},
   "source": [
    "### 8.3.5 - Reemplazar"
   ]
  },
  {
   "cell_type": "markdown",
   "id": "7f3975e9-9e50-49e5-a181-407195152e8c",
   "metadata": {},
   "source": [
    "Para reemplazar cadenas se usa el metoodo replace"
   ]
  },
  {
   "cell_type": "code",
   "id": "7262a9e8-984f-4242-a72d-90d436289f0c",
   "metadata": {
    "ExecuteTime": {
     "end_time": "2024-07-02T19:59:21.824595Z",
     "start_time": "2024-07-02T19:59:21.821328Z"
    }
   },
   "source": "valores = \"1\\n2\\n3\\n4\\n5\\n6\"",
   "outputs": [],
   "execution_count": 51
  },
  {
   "cell_type": "code",
   "id": "67dbe047-cafd-4c65-b935-993d33cdf0c3",
   "metadata": {
    "ExecuteTime": {
     "end_time": "2024-07-02T19:59:42.554543Z",
     "start_time": "2024-07-02T19:59:42.548967Z"
    }
   },
   "source": "valores.replace(\"\\n\",\",\")",
   "outputs": [
    {
     "data": {
      "text/plain": [
       "'1,2,3,4,5,6'"
      ]
     },
     "execution_count": 52,
     "metadata": {},
     "output_type": "execute_result"
    }
   ],
   "execution_count": 52
  },
  {
   "cell_type": "markdown",
   "id": "e3a52f2a-5631-41b6-b8e4-c2184ea036be",
   "metadata": {},
   "source": [
    "### 8.3.6.- Separar y Unir Cadenas"
   ]
  },
  {
   "cell_type": "markdown",
   "id": "51eb190e-54d9-4366-9f1d-323d9b7b3d1d",
   "metadata": {},
   "source": [
    "Para tokenizar una cadena puedes utilizar un delimitador personalizado como una coma o un espacio en blanco.\n",
    "\n",
    "letras='A,b,e,c,e,d,a,r,i,o'"
   ]
  },
  {
   "cell_type": "code",
   "id": "f7cb8f28-1e3c-45cc-8239-81c243c864f3",
   "metadata": {
    "ExecuteTime": {
     "end_time": "2024-07-02T20:00:27.538588Z",
     "start_time": "2024-07-02T20:00:27.534967Z"
    }
   },
   "source": "letras='A,b,e,c,e,d,a,r,i,o'",
   "outputs": [],
   "execution_count": 53
  },
  {
   "cell_type": "code",
   "id": "9ee7b344-599d-4740-a6fa-87178c05a173",
   "metadata": {
    "ExecuteTime": {
     "end_time": "2024-07-02T20:02:29.688418Z",
     "start_time": "2024-07-02T20:02:29.682859Z"
    }
   },
   "source": "letras.split(\",\",4).copy()",
   "outputs": [
    {
     "data": {
      "text/plain": [
       "['A', 'b', 'e', 'c', 'e,d,a,r,i,o']"
      ]
     },
     "execution_count": 61,
     "metadata": {},
     "output_type": "execute_result"
    }
   ],
   "execution_count": 61
  },
  {
   "cell_type": "markdown",
   "id": "a1ffcfc2-51b7-4b3c-ab27-0ae658a48d43",
   "metadata": {},
   "source": [
    "Si escribes un entero en la segunda parte del argumento, este, especifica el número máximo de\n",
    "divisiones de la cadena"
   ]
  },
  {
   "cell_type": "code",
   "execution_count": null,
   "id": "aeda73c8-fc55-490b-8e3d-a89398ddf17b",
   "metadata": {},
   "outputs": [],
   "source": []
  },
  {
   "cell_type": "markdown",
   "id": "3abe1231-cb06-4ff3-b979-2a85e83f7fcb",
   "metadata": {},
   "source": [
    "El siguiente snippet une los elementos de una comprensión de lista."
   ]
  },
  {
   "cell_type": "code",
   "id": "23332d24-a241-4119-9941-f39512852119",
   "metadata": {
    "ExecuteTime": {
     "end_time": "2024-07-02T20:05:00.186028Z",
     "start_time": "2024-07-02T20:05:00.181748Z"
    }
   },
   "source": [
    "unir_pal = [\"p\",\"a\",\"l\",\"o\"]\n",
    "print(unir_pal)"
   ],
   "outputs": [
    {
     "name": "stdout",
     "output_type": "stream",
     "text": [
      "['p', 'a', 'l', 'o']\n"
     ]
    }
   ],
   "execution_count": 66
  },
  {
   "cell_type": "code",
   "id": "baffdd4f-8acb-445e-b897-bc340237e224",
   "metadata": {
    "ExecuteTime": {
     "end_time": "2024-07-02T20:05:51.127042Z",
     "start_time": "2024-07-02T20:05:51.122192Z"
    }
   },
   "source": "\",\".join(unir_pal)",
   "outputs": [
    {
     "data": {
      "text/plain": [
       "'p,a,l,o'"
      ]
     },
     "execution_count": 71,
     "metadata": {},
     "output_type": "execute_result"
    }
   ],
   "execution_count": 71
  },
  {
   "cell_type": "code",
   "execution_count": null,
   "id": "d99e9663-3541-44ba-aa7c-fe9762f478bc",
   "metadata": {},
   "outputs": [],
   "source": []
  },
  {
   "cell_type": "markdown",
   "id": "f1025619-c152-47f4-936d-4be71433e87d",
   "metadata": {},
   "source": [
    "El método splitlines regresa una lista de cadenas que representan líneas de\n",
    "texto. Como en el siguiente código."
   ]
  },
  {
   "cell_type": "code",
   "execution_count": null,
   "id": "41e83e8f-c7c2-4e62-b418-6c326c3c71ff",
   "metadata": {},
   "outputs": [],
   "source": []
  },
  {
   "cell_type": "markdown",
   "id": "a2945c75-a80d-4058-9edf-b10b145dbebe",
   "metadata": {},
   "source": [
    "Con el argumento True en splitlines, se muestran los respectivos saltos\n",
    "de línea."
   ]
  },
  {
   "cell_type": "code",
   "execution_count": null,
   "id": "44a25e16-75e8-4742-82ce-962488a9c496",
   "metadata": {},
   "outputs": [],
   "source": []
  },
  {
   "cell_type": "markdown",
   "id": "087f19a8-531e-45b3-ab4d-43130ec2ae4f",
   "metadata": {},
   "source": [
    "## 8.4.- Expresiones Regulares"
   ]
  },
  {
   "cell_type": "markdown",
   "id": "8f562309-5135-40fe-afed-cb05805c1058",
   "metadata": {},
   "source": [
    "### 8.4.1.- Modulo re y función Fullmatch"
   ]
  },
  {
   "cell_type": "markdown",
   "id": "682ce383-7c21-44bb-bc5e-93c7d25bdf17",
   "metadata": {},
   "source": [
    "Para utilizar expresiones regulares es necesario importar el módulo re.\n"
   ]
  },
  {
   "cell_type": "code",
   "id": "1c23acef-55f2-409c-aff2-64097ae14c17",
   "metadata": {
    "ExecuteTime": {
     "end_time": "2024-07-02T20:08:23.921405Z",
     "start_time": "2024-07-02T20:08:23.917206Z"
    }
   },
   "source": "import re",
   "outputs": [],
   "execution_count": 72
  },
  {
   "cell_type": "markdown",
   "id": "1efa0c73-41db-4fd0-8d5c-1f90a64b5f15",
   "metadata": {},
   "source": [
    "La función más simple para expresiones regulares es fullmatch. A continuación, se muestran\n",
    "algunos ejemplos de la forma en que se puede utilizar."
   ]
  },
  {
   "cell_type": "code",
   "id": "64c002bb-8d1a-4d6b-bc5f-3227db974977",
   "metadata": {
    "ExecuteTime": {
     "end_time": "2024-07-02T20:08:44.667703Z",
     "start_time": "2024-07-02T20:08:44.663782Z"
    }
   },
   "source": "codigo = \"940354\"",
   "outputs": [],
   "execution_count": 73
  },
  {
   "cell_type": "code",
   "id": "bc88dc77-a5ed-44c3-8975-8dd88f6f1f45",
   "metadata": {
    "ExecuteTime": {
     "end_time": "2024-07-02T20:09:22.816113Z",
     "start_time": "2024-07-02T20:09:22.810495Z"
    }
   },
   "source": "\"codigo correcto\" if re.fullmatch(codigo,\"323232\") else \"codigo incorrecto\"",
   "outputs": [
    {
     "data": {
      "text/plain": [
       "'codigo incorrecto'"
      ]
     },
     "execution_count": 74,
     "metadata": {},
     "output_type": "execute_result"
    }
   ],
   "execution_count": 74
  },
  {
   "cell_type": "markdown",
   "id": "aeecf54a-9da2-4375-9125-9fbf1b25f70d",
   "metadata": {},
   "source": [
    "Las expresiones regulares, en general contienen símbolos especiales llamados meta caracteres como\n",
    "\\, @, #, $ * y signos de agrupación como [ ], { }, ( )\n",
    "En consecuencia, resulta necesario utilizar los r-strings."
   ]
  },
  {
   "cell_type": "code",
   "id": "4618755b-d274-4c38-9986-547fecedee38",
   "metadata": {
    "ExecuteTime": {
     "end_time": "2024-07-02T20:11:40.699425Z",
     "start_time": "2024-07-02T20:11:40.695190Z"
    }
   },
   "source": "\"Telefono correcto\" if re.fullmatch(r'\\d{10}',\"1234567890\") else \"Telphone incorrecto\"\n",
   "outputs": [
    {
     "data": {
      "text/plain": [
       "'Telefono correcto'"
      ]
     },
     "execution_count": 77,
     "metadata": {},
     "output_type": "execute_result"
    }
   ],
   "execution_count": 77
  },
  {
   "cell_type": "markdown",
   "id": "46134b32-45c1-4666-a9be-f4da5d3e1102",
   "metadata": {},
   "source": [
    "También es posible verificar si, por ejemplo, el nombre de las personas está bien escrito (letra mayúscula al inicio del nombre)"
   ]
  },
  {
   "cell_type": "code",
   "id": "eb215151-7e46-4b5d-8d7b-37de92206f82",
   "metadata": {
    "ExecuteTime": {
     "end_time": "2024-07-02T20:13:25.133415Z",
     "start_time": "2024-07-02T20:13:25.127880Z"
    }
   },
   "source": "\"Bien escrito \" if re.fullmatch('[A-Z][a-z]*',\"EvA\") else \"Incorrecto\" ",
   "outputs": [
    {
     "data": {
      "text/plain": [
       "'Incorrecto'"
      ]
     },
     "execution_count": 79,
     "metadata": {},
     "output_type": "execute_result"
    }
   ],
   "execution_count": 79
  },
  {
   "cell_type": "markdown",
   "id": "63d9e7dc-93a9-4de1-b89f-a654aaa30154",
   "metadata": {},
   "source": [
    "Al escribir [^a-z], estarás verificando si algún caracter no coincide con las letras minúsculas"
   ]
  },
  {
   "cell_type": "code",
   "id": "d070aca5-7c9a-4559-a2c2-d005e98d3761",
   "metadata": {
    "ExecuteTime": {
     "end_time": "2024-07-02T20:15:00.055731Z",
     "start_time": "2024-07-02T20:15:00.051124Z"
    }
   },
   "source": "\"Bien escrito \" if re.fullmatch('[^a-z]*',\"TILIN\") else \"Incorrecto\" ",
   "outputs": [
    {
     "data": {
      "text/plain": [
       "'Bien escrito '"
      ]
     },
     "execution_count": 83,
     "metadata": {},
     "output_type": "execute_result"
    }
   ],
   "execution_count": 83
  },
  {
   "cell_type": "markdown",
   "id": "f2e27a7e-e3ac-4b2e-a317-b87b2a148429",
   "metadata": {},
   "source": [
    "Si requieres verificar si al menos una letra minúscula aparece en el nombre, puedes utilizar [a-z]+\n"
   ]
  },
  {
   "cell_type": "code",
   "id": "7e9bc1b9-08af-44d8-a67c-900430e218fd",
   "metadata": {
    "ExecuteTime": {
     "end_time": "2024-07-02T20:16:30.077457Z",
     "start_time": "2024-07-02T20:16:30.073023Z"
    }
   },
   "source": "\"Bien escrito \" if re.fullmatch('[A-Z][a-z]+',\"TiLIN\") else \"Incorrecto\" ",
   "outputs": [
    {
     "data": {
      "text/plain": [
       "'Incorrecto'"
      ]
     },
     "execution_count": 87,
     "metadata": {},
     "output_type": "execute_result"
    }
   ],
   "execution_count": 87
  },
  {
   "cell_type": "markdown",
   "id": "ef763293-52aa-469c-8ff5-7d09785173bb",
   "metadata": {},
   "source": [
    "Las siguientes expresiones regulares verifican si las expresiones contienen al menos cuatro dígitos.\n"
   ]
  },
  {
   "cell_type": "code",
   "id": "a7186f93-2ec1-484f-8860-c1b8f91a71e5",
   "metadata": {
    "ExecuteTime": {
     "end_time": "2024-07-02T20:18:06.057739Z",
     "start_time": "2024-07-02T20:18:06.052616Z"
    }
   },
   "source": "\"correcto\" if re.fullmatch(r'\\d{4,}',\"1234\") else \"incorreect\"",
   "outputs": [
    {
     "data": {
      "text/plain": [
       "'correcto'"
      ]
     },
     "execution_count": 89,
     "metadata": {},
     "output_type": "execute_result"
    }
   ],
   "execution_count": 89
  },
  {
   "cell_type": "code",
   "execution_count": null,
   "id": "2ca900a9-4c41-412e-bb77-b422d2f61e21",
   "metadata": {},
   "outputs": [],
   "source": []
  },
  {
   "cell_type": "markdown",
   "id": "e3603fcb-5a77-4539-acb3-ebd48c75fe4b",
   "metadata": {},
   "source": [
    "Ahora, las expresiones regulares siguientes, verifican si las expresiones contienen entre 8 y 10 dígitos.\n"
   ]
  },
  {
   "cell_type": "code",
   "id": "939949e3-14ed-4899-908b-417423b6386d",
   "metadata": {
    "ExecuteTime": {
     "end_time": "2024-07-02T20:18:52.673333Z",
     "start_time": "2024-07-02T20:18:52.667877Z"
    }
   },
   "source": "\"correcto\" if re.fullmatch(r'\\d{8,10}',\"1234567890\") else \"incorreect\"",
   "outputs": [
    {
     "data": {
      "text/plain": [
       "'correcto'"
      ]
     },
     "execution_count": 92,
     "metadata": {},
     "output_type": "execute_result"
    }
   ],
   "execution_count": 92
  },
  {
   "cell_type": "markdown",
   "id": "5a5858a3-e26f-422d-aa9e-577982ecb4d3",
   "metadata": {},
   "source": [
    "#### Por tu cuenta\n",
    "\n",
    "Crea y prueba una expresión regular que cuadra con una dirección de calle que consiste de un número con uno o más digitos seguido de 2 palabras de una o más caracteres. Por ejemplo 372 Callejón Rojo"
   ]
  },
  {
   "cell_type": "code",
   "id": "673b963e-1f48-46d9-8705-91e0451874ea",
   "metadata": {
    "ExecuteTime": {
     "end_time": "2024-07-02T20:23:55.628789Z",
     "start_time": "2024-07-02T20:23:55.625272Z"
    }
   },
   "source": "calle = r'\\d+ [A-Z][a-z]* [A-Z][a-z]*' ",
   "outputs": [],
   "execution_count": 111
  },
  {
   "metadata": {},
   "cell_type": "code",
   "outputs": [],
   "execution_count": null,
   "source": "",
   "id": "6c0bb68ae331dd49"
  },
  {
   "cell_type": "code",
   "id": "03857c48-302a-40f8-96ce-a285610a4da4",
   "metadata": {
    "ExecuteTime": {
     "end_time": "2024-07-02T20:24:49.449673Z",
     "start_time": "2024-07-02T20:24:49.444170Z"
    }
   },
   "source": "\"correcto\" if re.fullmatch(calle,\"121 Callejón Rojo\") else \"incorrecto\"",
   "outputs": [
    {
     "data": {
      "text/plain": [
       "'incorrecto'"
      ]
     },
     "execution_count": 115,
     "metadata": {},
     "output_type": "execute_result"
    }
   ],
   "execution_count": 115
  },
  {
   "cell_type": "markdown",
   "id": "726003f7-826e-4fec-bd54-3e7af5601eb3",
   "metadata": {},
   "source": [
    "### 8.4.2.- Reemplazar subcadenas y separar cadenas"
   ]
  },
  {
   "cell_type": "markdown",
   "id": "b522f2ad-98e9-47fa-bdb3-251290cf113a",
   "metadata": {},
   "source": [
    "Otras dos funcionalidades del módulo re, son sub y split. Observa estos ejemplos\n"
   ]
  },
  {
   "cell_type": "code",
   "id": "b4a35f95-9017-460c-bf0f-4631e9846a9f",
   "metadata": {
    "ExecuteTime": {
     "end_time": "2024-07-02T21:37:16.821214Z",
     "start_time": "2024-07-02T21:37:16.816604Z"
    }
   },
   "source": "re.sub(r'\\n',',','Salto1\\nSalto2\\nSalto3\\nSalto4\\nSalto5')",
   "outputs": [
    {
     "data": {
      "text/plain": [
       "'Salto1,Salto2,Salto3,Salto4,Salto5'"
      ]
     },
     "execution_count": 117,
     "metadata": {},
     "output_type": "execute_result"
    }
   ],
   "execution_count": 117
  },
  {
   "cell_type": "markdown",
   "id": "8bdd39dc-f40d-4db8-8abd-e19dcc1a1dce",
   "metadata": {},
   "source": [
    "Al final, obtienes una cadena nueva. También puedes declarar un número máximo de reemplazos.\n"
   ]
  },
  {
   "cell_type": "code",
   "id": "caedce77-bd54-4dd9-8d8a-2845745bb415",
   "metadata": {
    "ExecuteTime": {
     "end_time": "2024-07-02T21:38:22.645743Z",
     "start_time": "2024-07-02T21:38:22.640166Z"
    }
   },
   "source": "re.sub(r'\\n',',','Salto1\\nSalto2\\nSalto3\\nSalto4\\nSalto5', count=1) #Count numero de remplazos\n",
   "outputs": [
    {
     "data": {
      "text/plain": [
       "'Salto1,Salto2\\nSalto3\\nSalto4\\nSalto5'"
      ]
     },
     "execution_count": 118,
     "metadata": {},
     "output_type": "execute_result"
    }
   ],
   "execution_count": 118
  },
  {
   "cell_type": "markdown",
   "id": "6781fde7-db46-446f-8ec5-6fcc18f472c3",
   "metadata": {},
   "source": [
    "La función split puede tokenizar una cadena utilizando una expresión regular al especificar un\n",
    "delimitador y regresar una cadena. Haremos una separación utilizando como delimitador, una\n",
    "coma, o una coma seguida por espacios en blanco"
   ]
  },
  {
   "cell_type": "code",
   "id": "583388b5-4389-4065-b19b-27a09e6d8fb3",
   "metadata": {
    "ExecuteTime": {
     "end_time": "2024-07-02T21:40:10.574383Z",
     "start_time": "2024-07-02T21:40:10.567848Z"
    }
   },
   "source": "re.split(r\",\\s*\",'s,e,p,a,r,a,d,o')",
   "outputs": [
    {
     "data": {
      "text/plain": [
       "['s', 'e', 'p', 'a', 'r', 'a', 'd', 'o']"
      ]
     },
     "execution_count": 121,
     "metadata": {},
     "output_type": "execute_result"
    }
   ],
   "execution_count": 121
  },
  {
   "cell_type": "code",
   "execution_count": null,
   "id": "26b63003-3903-4c9f-b8e2-7c6d20b68001",
   "metadata": {},
   "outputs": [],
   "source": []
  },
  {
   "cell_type": "markdown",
   "id": "fb773ccf-284d-46de-a385-15b7c6763d5e",
   "metadata": {},
   "source": [
    "Como en el caso de sub, puedes declarar un máximo de divisiones\n"
   ]
  },
  {
   "cell_type": "code",
   "id": "ea242f4e-03e6-4307-87c9-df77ad9f430c",
   "metadata": {
    "ExecuteTime": {
     "end_time": "2024-07-02T21:40:49.073889Z",
     "start_time": "2024-07-02T21:40:49.067845Z"
    }
   },
   "source": "re.split(r\",\\s*\",'s,e,p,a,r,a,d,o', maxsplit=2)",
   "outputs": [
    {
     "data": {
      "text/plain": [
       "['s', 'e', 'p,a,r,a,d,o']"
      ]
     },
     "execution_count": 122,
     "metadata": {},
     "output_type": "execute_result"
    }
   ],
   "execution_count": 122
  },
  {
   "cell_type": "markdown",
   "id": "7c92a399-74ac-4cff-9e1b-2d6d88a7d7c4",
   "metadata": {},
   "source": [
    "#### Por tu cuenta\n",
    "\n",
    "Reemplaza cada ocurrencia de uno o mas caracteres de siguiente linea con un coma y un espacio\n",
    "\n",
    "\"W\\nX\\n\\nY\\n\\n\\nZ\""
   ]
  },
  {
   "cell_type": "code",
   "id": "0fe73725-bb88-4eeb-b19e-7faf80223d99",
   "metadata": {
    "ExecuteTime": {
     "end_time": "2024-07-02T21:44:56.694241Z",
     "start_time": "2024-07-02T21:44:56.689152Z"
    }
   },
   "source": "re.sub(r'\\n+', ', ' ,\"W\\nX\\n\\nY\\n\\n\\nZ\" )",
   "outputs": [
    {
     "data": {
      "text/plain": [
       "'W, X, Y, Z'"
      ]
     },
     "execution_count": 150,
     "metadata": {},
     "output_type": "execute_result"
    }
   ],
   "execution_count": 150
  },
  {
   "cell_type": "markdown",
   "id": "953fc61f-beef-4236-b9c3-d532838f2b77",
   "metadata": {},
   "source": [
    "### 8.4.3.- Otros métodos de búsqueda: accesar matches"
   ]
  },
  {
   "cell_type": "markdown",
   "id": "19c77f5b-e1b4-43d9-afe9-579a39cfc4b6",
   "metadata": {},
   "source": [
    "Python tiene otras funciones de búsqueda. La función search busca en una cadena la primera \n"
   ]
  },
  {
   "cell_type": "code",
   "id": "661e6eeb-c0a1-46e3-a424-4e3636e64b4e",
   "metadata": {
    "ExecuteTime": {
     "end_time": "2024-07-02T21:46:00.839348Z",
     "start_time": "2024-07-02T21:46:00.834983Z"
    }
   },
   "source": "busca_uno = re.search(\"texto\",\"Este es un solo texto de prueba\")",
   "outputs": [],
   "execution_count": 151
  },
  {
   "cell_type": "code",
   "id": "50699156-a5ef-4292-a66f-b5f0f327afcb",
   "metadata": {
    "ExecuteTime": {
     "end_time": "2024-07-02T21:46:28.337786Z",
     "start_time": "2024-07-02T21:46:28.331270Z"
    }
   },
   "source": "busca_uno.group() if busca_uno else \"no la encontro\"",
   "outputs": [
    {
     "data": {
      "text/plain": [
       "'texto'"
      ]
     },
     "execution_count": 153,
     "metadata": {},
     "output_type": "execute_result"
    }
   ],
   "execution_count": 153
  },
  {
   "cell_type": "markdown",
   "id": "a30e12bd-e68d-419a-9eb7-d3982209a41c",
   "metadata": {},
   "source": [
    "En este ejemplo, la función busca la subcadena 'texto' en la cadena 'Esto es solo texto\n",
    "de prueba'."
   ]
  },
  {
   "cell_type": "code",
   "id": "943387d8-5728-4287-bd37-c9c7a6faa762",
   "metadata": {
    "ExecuteTime": {
     "end_time": "2024-07-02T21:48:06.692539Z",
     "start_time": "2024-07-02T21:48:06.688860Z"
    }
   },
   "source": "busa_tres = re.search(\"GUIDO\",\"Guido Van Rossum\", flags=re.IGNORECASE)",
   "outputs": [],
   "execution_count": 157
  },
  {
   "cell_type": "code",
   "id": "e8d0227c-0869-4470-ba83-569bf48640e5",
   "metadata": {
    "ExecuteTime": {
     "end_time": "2024-07-02T21:48:09.368605Z",
     "start_time": "2024-07-02T21:48:09.363174Z"
    }
   },
   "source": "busa_tres.group() if busa_tres else \"no la encontro\"",
   "outputs": [
    {
     "data": {
      "text/plain": [
       "'Guido'"
      ]
     },
     "execution_count": 158,
     "metadata": {},
     "output_type": "execute_result"
    }
   ],
   "execution_count": 158
  },
  {
   "cell_type": "markdown",
   "id": "5aa4761d-aa2c-47d1-87ec-b8d9df62065c",
   "metadata": {},
   "source": [
    "El meta caracter ^ al principio de una cadena regular, es un ancla que indica a Python buscar la\n",
    "expresión que coincide solo con el inicio de la cadena. "
   ]
  },
  {
   "cell_type": "code",
   "id": "f4951654-4b48-4ac8-a0bf-d462c873bdc3",
   "metadata": {
    "ExecuteTime": {
     "end_time": "2024-07-02T21:49:19.664819Z",
     "start_time": "2024-07-02T21:49:19.658981Z"
    }
   },
   "source": [
    "bucador = re.search('^Guido','Guido Van Rossum')#^ solo busca em la primer palabra\n",
    "bucador.group() if bucador else \"no la encontro\""
   ],
   "outputs": [
    {
     "data": {
      "text/plain": [
       "'Guido'"
      ]
     },
     "execution_count": 160,
     "metadata": {},
     "output_type": "execute_result"
    }
   ],
   "execution_count": 160
  },
  {
   "cell_type": "markdown",
   "id": "b5b9f2ca-fb2c-4545-97ab-a0c6299f4da1",
   "metadata": {},
   "source": [
    "Para finalizar esta sección, utilizaremos un par de funciones de re, findall, que encuentra todas las subcadenas en una cadena y finditer que realiza la misma tarea que findall"
   ]
  },
  {
   "cell_type": "code",
   "execution_count": null,
   "id": "6d225b39-55f9-49b3-aa5f-88f11062a1fb",
   "metadata": {},
   "outputs": [],
   "source": []
  },
  {
   "cell_type": "code",
   "execution_count": null,
   "id": "510fcfb4-91d3-436d-9741-ae9783b9aa3e",
   "metadata": {},
   "outputs": [],
   "source": []
  },
  {
   "cell_type": "markdown",
   "id": "bd7676f3-700a-4ee8-9ad0-3a4caec01556",
   "metadata": {},
   "source": [
    "Con finditer.\n"
   ]
  },
  {
   "cell_type": "code",
   "execution_count": null,
   "id": "f948e8e4-d7e3-483e-ab6f-618d0072e337",
   "metadata": {},
   "outputs": [],
   "source": []
  },
  {
   "cell_type": "markdown",
   "id": "93cb864c-54a2-40e0-87b6-37f087eaab8f",
   "metadata": {},
   "source": [
    "#### Por tu cuenta\n",
    "\n",
    "Suponte que tienes la cadena\n",
    "\n",
    "\"14 + 8\"\n",
    "\n",
    "Usa una expresión regular para romper la cadena en 3 grupos representando los 2 operandos y el operador, luego muestra los grupos"
   ]
  },
  {
   "cell_type": "code",
   "id": "dba642aa-1a8e-42dc-8e9b-e676d750e912",
   "metadata": {
    "ExecuteTime": {
     "end_time": "2024-07-02T21:55:59.846744Z",
     "start_time": "2024-07-02T21:55:59.842318Z"
    }
   },
   "source": "resultado = re.search(r'(\\d+) ([-+*/]) (\\d+)', '14 + 8')",
   "outputs": [],
   "execution_count": 168
  },
  {
   "cell_type": "code",
   "id": "8551c5f9-4924-4946-a78a-42442b77efb0",
   "metadata": {
    "ExecuteTime": {
     "end_time": "2024-07-02T21:56:09.368224Z",
     "start_time": "2024-07-02T21:56:09.364204Z"
    }
   },
   "source": "resultado.groups()",
   "outputs": [
    {
     "data": {
      "text/plain": [
       "('14', '+', '8')"
      ]
     },
     "execution_count": 171,
     "metadata": {},
     "output_type": "execute_result"
    }
   ],
   "execution_count": 171
  },
  {
   "cell_type": "code",
   "id": "4656f059-e287-4a59-b88c-4976d9d6fbe3",
   "metadata": {
    "ExecuteTime": {
     "end_time": "2024-07-02T21:56:21.351308Z",
     "start_time": "2024-07-02T21:56:21.346985Z"
    }
   },
   "source": "resultado.group(1)",
   "outputs": [
    {
     "data": {
      "text/plain": [
       "'14'"
      ]
     },
     "execution_count": 172,
     "metadata": {},
     "output_type": "execute_result"
    }
   ],
   "execution_count": 172
  },
  {
   "cell_type": "code",
   "id": "2d8c9961-a04a-4e1f-9ad4-d8e3af2f416a",
   "metadata": {
    "ExecuteTime": {
     "end_time": "2024-07-02T21:56:32.178238Z",
     "start_time": "2024-07-02T21:56:32.173124Z"
    }
   },
   "source": "resultado.group(2)",
   "outputs": [
    {
     "data": {
      "text/plain": [
       "'+'"
      ]
     },
     "execution_count": 173,
     "metadata": {},
     "output_type": "execute_result"
    }
   ],
   "execution_count": 173
  },
  {
   "cell_type": "code",
   "id": "59334d74-9620-499b-983f-ee07a5ba1252",
   "metadata": {
    "ExecuteTime": {
     "end_time": "2024-07-02T21:56:36.422261Z",
     "start_time": "2024-07-02T21:56:36.417357Z"
    }
   },
   "source": "resultado.group(3)",
   "outputs": [
    {
     "data": {
      "text/plain": [
       "'8'"
      ]
     },
     "execution_count": 174,
     "metadata": {},
     "output_type": "execute_result"
    }
   ],
   "execution_count": 174
  },
  {
   "cell_type": "markdown",
   "id": "c59a9db3-8ca0-4864-8885-c124d5350429",
   "metadata": {},
   "source": [
    "## 8.5.- Pandas y Expresiones Regulares"
   ]
  },
  {
   "cell_type": "markdown",
   "id": "ef74700e-6891-4cd9-80f2-da28f7157bd3",
   "metadata": {},
   "source": [
    "El siguiente código crea una Series de Pandas con los RFC de dos usuarios. Intencionalmente\n",
    "uno de ellos tiene un error. El objetivo es ver la forma en que Python lo identifica este error."
   ]
  },
  {
   "cell_type": "code",
   "id": "dafaeca3-a87f-41f9-b629-406d92bdbbef",
   "metadata": {
    "ExecuteTime": {
     "end_time": "2024-07-02T21:58:45.060773Z",
     "start_time": "2024-07-02T21:58:44.072834Z"
    }
   },
   "source": "import pandas as pd",
   "outputs": [],
   "execution_count": 176
  },
  {
   "cell_type": "code",
   "id": "9a18d9cb-5074-465a-9ffc-532141cece0c",
   "metadata": {
    "ExecuteTime": {
     "end_time": "2024-07-02T22:02:10.955342Z",
     "start_time": "2024-07-02T22:02:10.950837Z"
    }
   },
   "source": "rfc = pd.Series({'User1':'123312WES ','User2':'AWSD123456','User3':'123323'})",
   "outputs": [],
   "execution_count": 190
  },
  {
   "cell_type": "code",
   "id": "55590407-216d-454c-8ba7-fb3794a59dfa",
   "metadata": {
    "ExecuteTime": {
     "end_time": "2024-07-02T22:02:16.873743Z",
     "start_time": "2024-07-02T22:02:16.867914Z"
    }
   },
   "source": "rfc",
   "outputs": [
    {
     "data": {
      "text/plain": [
       "User1    123312WES \n",
       "User2    AWSD123456\n",
       "User3        123323\n",
       "dtype: object"
      ]
     },
     "execution_count": 192,
     "metadata": {},
     "output_type": "execute_result"
    }
   ],
   "execution_count": 192
  },
  {
   "cell_type": "markdown",
   "id": "1614f57a-232d-4400-83a9-547ed7a8a3d2",
   "metadata": {},
   "source": [
    "Para definir la expresión regular y determinar las coincidencias.\n"
   ]
  },
  {
   "cell_type": "code",
   "id": "c809784b-cd3d-4c18-8cbb-9dfab3f973d2",
   "metadata": {
    "ExecuteTime": {
     "end_time": "2024-07-02T22:02:53.351878Z",
     "start_time": "2024-07-02T22:02:53.345692Z"
    }
   },
   "source": "rfc.str.match(r'\\w{4}\\d{6}')",
   "outputs": [
    {
     "data": {
      "text/plain": [
       "User1    False\n",
       "User2     True\n",
       "User3    False\n",
       "dtype: bool"
      ]
     },
     "execution_count": 193,
     "metadata": {},
     "output_type": "execute_result"
    }
   ],
   "execution_count": 193
  },
  {
   "cell_type": "markdown",
   "id": "000f1d91-c284-4771-aeb6-0b24d55455b1",
   "metadata": {},
   "source": [
    "Ahora crearemos una cadena que contiene los nombres de tres países, su código ISO 3 y el prefijo\n",
    "telefónico."
   ]
  },
  {
   "cell_type": "code",
   "execution_count": null,
   "id": "3d71cb47-8597-4976-b606-e4a63b1a9b55",
   "metadata": {},
   "outputs": [],
   "source": []
  },
  {
   "cell_type": "code",
   "execution_count": null,
   "id": "3e00ae2f-0c40-44ec-936e-2b87b498848c",
   "metadata": {},
   "outputs": [],
   "source": []
  },
  {
   "cell_type": "code",
   "execution_count": null,
   "id": "943c6314-84c5-41a2-a87c-71e183e44fc3",
   "metadata": {},
   "outputs": [],
   "source": []
  },
  {
   "cell_type": "markdown",
   "id": "b2381b9d-fd19-4150-8812-790ff42398a3",
   "metadata": {},
   "source": [
    "#### Por tu cuenta\n",
    "\n",
    "Arma un programa que tome 3 numeros telefonicos de 10 digitos y te los devuelva en el formato (###) ###-#### "
   ]
  },
  {
   "cell_type": "code",
   "execution_count": null,
   "id": "57ff0d28-4506-40f5-94d9-952faa9e3db5",
   "metadata": {},
   "outputs": [],
   "source": []
  },
  {
   "cell_type": "code",
   "execution_count": null,
   "id": "507590c8-cc9b-4b04-a05e-dcf584f1fd0a",
   "metadata": {},
   "outputs": [],
   "source": []
  }
 ],
 "metadata": {
  "kernelspec": {
   "display_name": "Python 3",
   "language": "python",
   "name": "python3"
  },
  "language_info": {
   "codemirror_mode": {
    "name": "ipython",
    "version": 3
   },
   "file_extension": ".py",
   "mimetype": "text/x-python",
   "name": "python",
   "nbconvert_exporter": "python",
   "pygments_lexer": "ipython3",
   "version": "3.8.8"
  }
 },
 "nbformat": 4,
 "nbformat_minor": 5
}
