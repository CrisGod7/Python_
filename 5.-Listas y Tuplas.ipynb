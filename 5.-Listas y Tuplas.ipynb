{
 "cells": [
  {
   "cell_type": "markdown",
   "id": "d1a16963-6e72-4bf2-8445-47f8c4950de0",
   "metadata": {},
   "source": [
    "# 5.- Listas y Tuplas"
   ]
  },
  {
   "cell_type": "markdown",
   "id": "6f9ec23e-0185-492f-bc67-b8a4bb2d4ef0",
   "metadata": {},
   "source": [
    "## 5.2.- Listas"
   ]
  },
  {
   "cell_type": "markdown",
   "id": "6fadf4a8-0173-4be4-8fa8-5a28260a55be",
   "metadata": {},
   "source": [
    "Una lista generalmente tiene datos homogeneos"
   ]
  },
  {
   "cell_type": "code",
   "id": "ee8b43ec-dc1e-4ab0-ad07-cc689c1aab5f",
   "metadata": {
    "ExecuteTime": {
     "end_time": "2024-06-24T00:35:13.420329Z",
     "start_time": "2024-06-24T00:35:13.416837Z"
    }
   },
   "source": "a = [1,2,3,4,5,6,7,8,9]",
   "outputs": [],
   "execution_count": 1
  },
  {
   "cell_type": "code",
   "id": "7f1c613e-f435-40e7-a422-3429c4a6b3bc",
   "metadata": {
    "ExecuteTime": {
     "end_time": "2024-06-24T00:35:16.938305Z",
     "start_time": "2024-06-24T00:35:16.932268Z"
    }
   },
   "source": "a",
   "outputs": [
    {
     "data": {
      "text/plain": [
       "[1, 2, 3, 4, 5, 6, 7, 8, 9]"
      ]
     },
     "execution_count": 2,
     "metadata": {},
     "output_type": "execute_result"
    }
   ],
   "execution_count": 2
  },
  {
   "cell_type": "markdown",
   "id": "228872fa-2eb0-4eff-8f6a-eb7c80ec4be4",
   "metadata": {},
   "source": [
    "Tambien puede tener datos heterogeneos, como texto y numeros"
   ]
  },
  {
   "cell_type": "code",
   "id": "bc1858c1-4645-4ef3-a58c-9caa9b434a73",
   "metadata": {
    "ExecuteTime": {
     "end_time": "2024-06-24T00:36:13.068709Z",
     "start_time": "2024-06-24T00:36:13.065675Z"
    }
   },
   "source": "A = [\"aeda\",\"F\",2323]",
   "outputs": [],
   "execution_count": 3
  },
  {
   "cell_type": "code",
   "id": "27383860-9b02-47b1-b5fb-138dd6e99241",
   "metadata": {
    "ExecuteTime": {
     "end_time": "2024-06-24T00:36:15.147136Z",
     "start_time": "2024-06-24T00:36:15.143025Z"
    }
   },
   "source": "A",
   "outputs": [
    {
     "data": {
      "text/plain": [
       "['aeda', 'F', 2323]"
      ]
     },
     "execution_count": 4,
     "metadata": {},
     "output_type": "execute_result"
    }
   ],
   "execution_count": 4
  },
  {
   "cell_type": "markdown",
   "id": "40204270-3b76-4327-9388-eff4bf61efd7",
   "metadata": {},
   "source": [
    "El primer elemento siempre es indice 0, y de ahi vas contando"
   ]
  },
  {
   "cell_type": "code",
   "id": "d8cba557-3e4a-4533-a84b-240686eb0924",
   "metadata": {
    "ExecuteTime": {
     "end_time": "2024-06-24T00:36:57.669840Z",
     "start_time": "2024-06-24T00:36:57.654117Z"
    }
   },
   "source": "",
   "outputs": [
    {
     "ename": "TypeError",
     "evalue": "index expected at least 1 argument, got 0",
     "output_type": "error",
     "traceback": [
      "\u001B[0;31m---------------------------------------------------------------------------\u001B[0m",
      "\u001B[0;31mTypeError\u001B[0m                                 Traceback (most recent call last)",
      "Cell \u001B[0;32mIn[8], line 1\u001B[0m\n\u001B[0;32m----> 1\u001B[0m \u001B[43ma\u001B[49m\u001B[38;5;241;43m.\u001B[39;49m\u001B[43mindex\u001B[49m\u001B[43m(\u001B[49m\u001B[43m)\u001B[49m\n",
      "\u001B[0;31mTypeError\u001B[0m: index expected at least 1 argument, got 0"
     ]
    }
   ],
   "execution_count": 8
  },
  {
   "cell_type": "markdown",
   "id": "a2d96f9a-877b-4e2c-8d3b-acde754d8bca",
   "metadata": {},
   "source": [
    "Usa len para conocer el numero de elementos en nuestra lista"
   ]
  },
  {
   "cell_type": "code",
   "id": "c71f62dc-61e3-4c41-aa3a-69766ac5d274",
   "metadata": {
    "ExecuteTime": {
     "end_time": "2024-06-24T00:37:54.629846Z",
     "start_time": "2024-06-24T00:37:54.626015Z"
    }
   },
   "source": [
    "len(a)\n",
    "len(A)"
   ],
   "outputs": [
    {
     "data": {
      "text/plain": [
       "3"
      ]
     },
     "execution_count": 10,
     "metadata": {},
     "output_type": "execute_result"
    }
   ],
   "execution_count": 10
  },
  {
   "cell_type": "raw",
   "id": "88843d19-fef6-4962-8ddd-89ac770a641e",
   "metadata": {},
   "source": [
    "Y que pasa si le hablamos con indices negativos?"
   ]
  },
  {
   "cell_type": "code",
   "id": "701af140-6dfe-498c-8138-8ad8b86d828b",
   "metadata": {
    "ExecuteTime": {
     "end_time": "2024-06-24T00:38:41.008209Z",
     "start_time": "2024-06-24T00:38:41.004084Z"
    }
   },
   "source": "a[-1] ##inidex negative inicia desde el final",
   "outputs": [
    {
     "data": {
      "text/plain": [
       "9"
      ]
     },
     "execution_count": 11,
     "metadata": {},
     "output_type": "execute_result"
    }
   ],
   "execution_count": 11
  },
  {
   "cell_type": "markdown",
   "id": "acee545a-8948-47b1-a317-fac6b0fdd123",
   "metadata": {},
   "source": [
    "Los indices siempre deben de ser enteros - y también se vale que sean expresiones"
   ]
  },
  {
   "cell_type": "code",
   "execution_count": null,
   "id": "9db1fa63-ead8-458c-9479-801bd92cbbf9",
   "metadata": {},
   "outputs": [],
   "source": []
  },
  {
   "cell_type": "markdown",
   "id": "a72c8a51-e531-4f87-9602-99fa2d433e24",
   "metadata": {},
   "source": [
    "PUedes cambiar elementos en particular"
   ]
  },
  {
   "cell_type": "code",
   "id": "61ac17b8-eaa1-4fac-9f0c-196f616e4b6a",
   "metadata": {
    "ExecuteTime": {
     "end_time": "2024-06-24T00:39:46.497309Z",
     "start_time": "2024-06-24T00:39:46.494073Z"
    }
   },
   "source": "a [3]=112",
   "outputs": [],
   "execution_count": 12
  },
  {
   "cell_type": "code",
   "id": "ea2e5260-3434-4d9c-9616-222c868baf13",
   "metadata": {
    "ExecuteTime": {
     "end_time": "2024-06-24T00:39:58.406669Z",
     "start_time": "2024-06-24T00:39:58.403404Z"
    }
   },
   "source": "print(a)",
   "outputs": [
    {
     "name": "stdout",
     "output_type": "stream",
     "text": [
      "[1, 2, 3, 112, 5, 6, 7, 8, 9]\n"
     ]
    }
   ],
   "execution_count": 13
  },
  {
   "cell_type": "markdown",
   "id": "9bb87d41-8d7b-439f-abc9-3f2c324bb267",
   "metadata": {},
   "source": [
    "Pero no en listas de caracteres"
   ]
  },
  {
   "cell_type": "code",
   "execution_count": null,
   "id": "11d4a601-b2f1-42d5-91a1-262b7e2cde29",
   "metadata": {},
   "outputs": [],
   "source": []
  },
  {
   "cell_type": "code",
   "execution_count": null,
   "id": "9a084a62-dff2-4687-97fd-4098c2cb29fe",
   "metadata": {},
   "outputs": [],
   "source": []
  },
  {
   "cell_type": "markdown",
   "id": "45284c87-094b-421e-8f69-576bcd813c2f",
   "metadata": {},
   "source": [
    "¿Que pasa si llamamos un indice fuera de la lista?"
   ]
  },
  {
   "cell_type": "code",
   "execution_count": null,
   "id": "ff5315d3-c051-451e-a9a2-58970f14ff2d",
   "metadata": {},
   "outputs": [],
   "source": []
  },
  {
   "cell_type": "markdown",
   "id": "fea227c1-ae86-4712-befa-af7107de75d3",
   "metadata": {},
   "source": [
    "Cada elemento puede usarse como una variable"
   ]
  },
  {
   "cell_type": "code",
   "id": "6ffb823c-ab3d-4319-ae31-f7bebcbbeb30",
   "metadata": {
    "ExecuteTime": {
     "end_time": "2024-06-24T00:41:28.650983Z",
     "start_time": "2024-06-24T00:41:28.646870Z"
    }
   },
   "source": "a[0]+a[4]",
   "outputs": [
    {
     "data": {
      "text/plain": [
       "6"
      ]
     },
     "execution_count": 14,
     "metadata": {},
     "output_type": "execute_result"
    }
   ],
   "execution_count": 14
  },
  {
   "cell_type": "markdown",
   "id": "48eb6744-5a6c-4761-9b53-894b3049fd57",
   "metadata": {},
   "source": [
    "Vamos agregando elementos a una lista vacía"
   ]
  },
  {
   "cell_type": "code",
   "id": "31afa804-ec4b-446c-9718-e9d88c41cc79",
   "metadata": {
    "ExecuteTime": {
     "end_time": "2024-06-24T00:45:26.349207Z",
     "start_time": "2024-06-24T00:45:26.346128Z"
    }
   },
   "source": "vacia = []",
   "outputs": [],
   "execution_count": 28
  },
  {
   "cell_type": "code",
   "id": "328640e8-3bcd-4650-87e3-98f8139c4182",
   "metadata": {
    "ExecuteTime": {
     "end_time": "2024-06-24T00:42:42.034720Z",
     "start_time": "2024-06-24T00:42:42.031653Z"
    }
   },
   "source": "",
   "outputs": [],
   "execution_count": 17
  },
  {
   "cell_type": "code",
   "id": "801c2dc4-7528-46f0-8aa0-392b3c6afeeb",
   "metadata": {
    "ExecuteTime": {
     "end_time": "2024-06-24T00:45:28.384874Z",
     "start_time": "2024-06-24T00:45:28.381561Z"
    }
   },
   "source": [
    "for numero in range(-2,4):\n",
    "    vacia+=[numero]"
   ],
   "outputs": [],
   "execution_count": 29
  },
  {
   "cell_type": "code",
   "id": "b08e8a55-e34a-4e2f-82e8-8b1512f6241a",
   "metadata": {
    "ExecuteTime": {
     "end_time": "2024-06-24T00:45:30.093290Z",
     "start_time": "2024-06-24T00:45:30.089064Z"
    }
   },
   "source": "vacia",
   "outputs": [
    {
     "data": {
      "text/plain": [
       "[-2, -1, 0, 1, 2, 3]"
      ]
     },
     "execution_count": 30,
     "metadata": {},
     "output_type": "execute_result"
    }
   ],
   "execution_count": 30
  },
  {
   "cell_type": "markdown",
   "id": "8e8ecac4-5a0a-472a-9db9-ada0d66b1184",
   "metadata": {},
   "source": [
    "Y es totalmente viable concatenar 2 listas"
   ]
  },
  {
   "cell_type": "code",
   "id": "e6b83da1-84cd-49ff-833c-ea19b020e4a9",
   "metadata": {
    "ExecuteTime": {
     "end_time": "2024-06-24T00:46:01.712528Z",
     "start_time": "2024-06-24T00:46:01.708617Z"
    }
   },
   "source": "A + a",
   "outputs": [
    {
     "data": {
      "text/plain": [
       "['aeda', 'F', 2323, 1, 2, 3, 112, 5, 6, 7, 8, 9]"
      ]
     },
     "execution_count": 31,
     "metadata": {},
     "output_type": "execute_result"
    }
   ],
   "execution_count": 31
  },
  {
   "cell_type": "markdown",
   "id": "94ef821c-02c9-442b-bbbc-88ec86166b61",
   "metadata": {},
   "source": [
    "#### Por tu cuenta\n",
    "\n",
    "Arma una función que eleve al cuadrado dotos los elementos de una lista. Prueba con una lista con todos los numeros pares del 2 al 20."
   ]
  },
  {
   "cell_type": "code",
   "id": "45b5299d-36b9-4134-b278-73181a0d81cb",
   "metadata": {
    "ExecuteTime": {
     "end_time": "2024-06-24T01:07:02.858142Z",
     "start_time": "2024-06-24T01:07:02.854976Z"
    }
   },
   "source": [
    "b = []\n",
    "for num in range(2,21):\n",
    "    b+=[num]\n"
   ],
   "outputs": [],
   "execution_count": 71
  },
  {
   "cell_type": "code",
   "id": "8f7c68b5-568b-4baa-bf68-fd9028ecb8f3",
   "metadata": {
    "ExecuteTime": {
     "end_time": "2024-06-24T01:07:04.589256Z",
     "start_time": "2024-06-24T01:07:04.584748Z"
    }
   },
   "source": [
    "print(len(b))\n",
    "b"
   ],
   "outputs": [
    {
     "name": "stdout",
     "output_type": "stream",
     "text": [
      "19\n"
     ]
    },
    {
     "data": {
      "text/plain": [
       "[2, 3, 4, 5, 6, 7, 8, 9, 10, 11, 12, 13, 14, 15, 16, 17, 18, 19, 20]"
      ]
     },
     "execution_count": 72,
     "metadata": {},
     "output_type": "execute_result"
    }
   ],
   "execution_count": 72
  },
  {
   "cell_type": "code",
   "id": "be8cf34d-a79e-457a-803c-14d6040bb2dc",
   "metadata": {
    "ExecuteTime": {
     "end_time": "2024-06-24T01:08:20.921484Z",
     "start_time": "2024-06-24T01:08:20.918373Z"
    }
   },
   "source": [
    "for i in range(len(b)):\n",
    "    b[i]=b[i]**2\n"
   ],
   "outputs": [],
   "execution_count": 77
  },
  {
   "cell_type": "code",
   "id": "f0bb7b5b-d176-4419-8cce-032bc37c622b",
   "metadata": {
    "ExecuteTime": {
     "end_time": "2024-06-24T01:11:30.113073Z",
     "start_time": "2024-06-24T01:11:30.108700Z"
    }
   },
   "source": [
    "pares = []\n",
    "for i in range (1,11):\n",
    "    pares+=[i*2]\n",
    "c"
   ],
   "outputs": [
    {
     "data": {
      "text/plain": [
       "[2, 4, 6, 8, 10, 12, 14, 16, 18, 20]"
      ]
     },
     "execution_count": 88,
     "metadata": {},
     "output_type": "execute_result"
    }
   ],
   "execution_count": 88
  },
  {
   "cell_type": "markdown",
   "id": "63872edc-c46c-4e26-bb75-f52bb342ac88",
   "metadata": {},
   "source": [
    "## 5.3.- Tuplas"
   ]
  },
  {
   "cell_type": "markdown",
   "id": "65383d92-ac77-485b-bc79-f1171a79d555",
   "metadata": {},
   "source": [
    "Vamos comenzando con una tupla vacia"
   ]
  },
  {
   "cell_type": "code",
   "id": "f2366bbd-3549-4a16-af7c-85904b3bbf0c",
   "metadata": {
    "ExecuteTime": {
     "end_time": "2024-06-24T01:20:29.370327Z",
     "start_time": "2024-06-24T01:20:29.367963Z"
    }
   },
   "source": "",
   "outputs": [],
   "execution_count": 112
  },
  {
   "cell_type": "markdown",
   "id": "51fdf97c-476b-417a-9142-d63f6488e351",
   "metadata": {},
   "source": [
    "Ahora vamos a añadir 3 elementos a la tupla"
   ]
  },
  {
   "cell_type": "code",
   "execution_count": null,
   "id": "d7ea6549-4285-42ed-9595-141b324b0d8d",
   "metadata": {},
   "outputs": [],
   "source": []
  },
  {
   "cell_type": "code",
   "execution_count": null,
   "id": "8092a924-571e-4c01-877c-3343992080dc",
   "metadata": {},
   "outputs": [],
   "source": []
  },
  {
   "cell_type": "markdown",
   "id": "7a75137d-205b-43d6-b9a3-d73b61c4f383",
   "metadata": {},
   "source": [
    "Puedes llamar a los elementos individuales, arma un print que nos diga en que año nació paty (tiene 23 años al 2021)"
   ]
  },
  {
   "cell_type": "code",
   "id": "451ff4ad-e817-4f00-b48e-3291b5e47618",
   "metadata": {
    "ExecuteTime": {
     "end_time": "2024-06-24T01:14:51.563232Z",
     "start_time": "2024-06-24T01:14:51.559527Z"
    }
   },
   "source": "print(\"Skibidi\",tuple[0])",
   "outputs": [
    {
     "name": "stdout",
     "output_type": "stream",
     "text": [
      "Skibidi Cristian\n"
     ]
    }
   ],
   "execution_count": 93
  },
  {
   "cell_type": "markdown",
   "id": "5d282773-6fc3-4056-b784-14e5ef195d07",
   "metadata": {},
   "source": [
    "Es posible acceder a cualquier secuencia de elementos, asignando cada elemnto de la secuencia con una variable separada por comas"
   ]
  },
  {
   "cell_type": "code",
   "id": "1f4b9f03-8cc1-47a4-b60c-a9faced7fcd0",
   "metadata": {
    "ExecuteTime": {
     "end_time": "2024-06-24T01:16:19.801410Z",
     "start_time": "2024-06-24T01:16:19.798179Z"
    }
   },
   "source": "datos = (\"Hugo\",[1.80,68,1992])",
   "outputs": [],
   "execution_count": 94
  },
  {
   "cell_type": "code",
   "id": "4e870462-6ac0-4da5-84d7-7721842e108c",
   "metadata": {
    "ExecuteTime": {
     "end_time": "2024-06-24T01:16:54.232090Z",
     "start_time": "2024-06-24T01:16:54.229124Z"
    }
   },
   "source": "name,date = datos",
   "outputs": [],
   "execution_count": 95
  },
  {
   "cell_type": "code",
   "id": "9568689e-c811-4fce-be49-6a7d6319e0d8",
   "metadata": {
    "ExecuteTime": {
     "end_time": "2024-06-24T01:17:07.508024Z",
     "start_time": "2024-06-24T01:17:07.504067Z"
    }
   },
   "source": [
    "name\n",
    "date"
   ],
   "outputs": [
    {
     "data": {
      "text/plain": [
       "[1.8, 68, 1992]"
      ]
     },
     "execution_count": 97,
     "metadata": {},
     "output_type": "execute_result"
    }
   ],
   "execution_count": 97
  },
  {
   "cell_type": "code",
   "execution_count": null,
   "id": "4045957b-b011-4f30-873f-842dbd6a372e",
   "metadata": {},
   "outputs": [],
   "source": []
  },
  {
   "cell_type": "markdown",
   "id": "5969742f-1fbf-4624-9ad2-ee0d93ef8bdf",
   "metadata": {},
   "source": [
    "Si en la tupla solo hay caracteres, vamos a armar un print que nos de cada letra por separado"
   ]
  },
  {
   "cell_type": "code",
   "execution_count": null,
   "id": "9d72b043-b0c5-49cb-b7c5-650d0d2d9687",
   "metadata": {},
   "outputs": [],
   "source": []
  },
  {
   "cell_type": "code",
   "execution_count": null,
   "id": "58736758-30e0-4b06-9bba-cee7cd305dca",
   "metadata": {},
   "outputs": [],
   "source": []
  },
  {
   "cell_type": "code",
   "execution_count": null,
   "id": "5dd0b92b-5211-4daa-9593-33d77c724ed1",
   "metadata": {},
   "outputs": [],
   "source": []
  },
  {
   "cell_type": "markdown",
   "id": "9af5b414-23c0-4dea-b56e-2b50bf54ad79",
   "metadata": {},
   "source": [
    "Y si son valores..."
   ]
  },
  {
   "cell_type": "code",
   "execution_count": null,
   "id": "53fe6f63-23f3-4fcb-81ee-f1932d4adfe8",
   "metadata": {},
   "outputs": [],
   "source": []
  },
  {
   "cell_type": "code",
   "execution_count": null,
   "id": "700c9144-5de5-4b55-83e1-fbc39f090da7",
   "metadata": {},
   "outputs": [],
   "source": []
  },
  {
   "cell_type": "code",
   "execution_count": null,
   "id": "30bc0060-b70f-405d-bf50-2fa9f6e72719",
   "metadata": {},
   "outputs": [],
   "source": []
  },
  {
   "cell_type": "markdown",
   "id": "d0b039d7-3b85-4de4-b1df-27455f1d59fa",
   "metadata": {},
   "source": [
    "También se puede acceder un valor al indexarlo - vamos  arecibir una lista con 3 estudiantes y convertirlo en una tupla enumerada"
   ]
  },
  {
   "cell_type": "code",
   "id": "04495cc6-7468-4d22-b572-f035bdb6695d",
   "metadata": {
    "ExecuteTime": {
     "end_time": "2024-06-24T01:20:32.940897Z",
     "start_time": "2024-06-24T01:20:32.937626Z"
    }
   },
   "source": "estudiantes = [\"hugo\",\"paco\",\"Luis\"]",
   "outputs": [],
   "execution_count": 113
  },
  {
   "cell_type": "code",
   "id": "84ed760d-fb28-43cb-b20a-8971b227b453",
   "metadata": {
    "ExecuteTime": {
     "end_time": "2024-06-24T01:21:10.570813Z",
     "start_time": "2024-06-24T01:21:10.555681Z"
    }
   },
   "source": "tuple(enumerate(estudiantes))",
   "outputs": [
    {
     "ename": "TypeError",
     "evalue": "'tuple' object is not callable",
     "output_type": "error",
     "traceback": [
      "\u001B[0;31m---------------------------------------------------------------------------\u001B[0m",
      "\u001B[0;31mTypeError\u001B[0m                                 Traceback (most recent call last)",
      "Cell \u001B[0;32mIn[115], line 1\u001B[0m\n\u001B[0;32m----> 1\u001B[0m \u001B[38;5;28;43mtuple\u001B[39;49m\u001B[43m(\u001B[49m\u001B[38;5;28;43menumerate\u001B[39;49m\u001B[43m(\u001B[49m\u001B[43mestudiantes\u001B[49m\u001B[43m)\u001B[49m\u001B[43m)\u001B[49m\n",
      "\u001B[0;31mTypeError\u001B[0m: 'tuple' object is not callable"
     ]
    }
   ],
   "execution_count": 115
  },
  {
   "cell_type": "code",
   "id": "3340c6f3-41a7-4abe-bf54-6bf210e5a39e",
   "metadata": {
    "ExecuteTime": {
     "end_time": "2024-06-24T01:21:31.353496Z",
     "start_time": "2024-06-24T01:21:31.348542Z"
    }
   },
   "source": "list(enumerate(estudiantes))",
   "outputs": [
    {
     "data": {
      "text/plain": [
       "[(0, 'hugo'), (1, 'paco'), (2, 'Luis')]"
      ]
     },
     "execution_count": 116,
     "metadata": {},
     "output_type": "execute_result"
    }
   ],
   "execution_count": 116
  },
  {
   "cell_type": "markdown",
   "id": "320006d7-5524-457c-a61c-5023c62cc322",
   "metadata": {},
   "source": [
    "#### Por tu cuenta\n",
    "\n",
    "Crea una tupla de un solo elemento con el número 582.4 y luego muestrala"
   ]
  },
  {
   "cell_type": "markdown",
   "id": "fc8ebfbf-8f9c-4fde-85ce-11839d12e340",
   "metadata": {},
   "source": [
    "#### Por tu cuenta\n",
    "\n",
    "Muestra que pasa si intentas concatenar una lista de 3 enteros con una tupla de 3 enteros usando +"
   ]
  },
  {
   "cell_type": "markdown",
   "id": "e735cded-fe6f-48bb-8062-801e0fd6c1b6",
   "metadata": {},
   "source": [
    "## 5.4.- Separando Secuencias"
   ]
  },
  {
   "cell_type": "markdown",
   "id": "268097d6-3300-4929-9981-8b1e55d549ec",
   "metadata": {},
   "source": [
    "Crea una secuencia con todas las potencias de 2 - del 2 al 256"
   ]
  },
  {
   "cell_type": "code",
   "id": "42058ae5-f784-412b-8470-2b7f2c229c3e",
   "metadata": {
    "ExecuteTime": {
     "end_time": "2024-06-25T02:23:04.459150Z",
     "start_time": "2024-06-25T02:23:04.456844Z"
    }
   },
   "source": "potencias = [2,4,8,16,32,64,128,256]",
   "outputs": [],
   "execution_count": 133
  },
  {
   "cell_type": "code",
   "id": "c38bf316-ff05-45e9-afc9-622b65d003f8",
   "metadata": {
    "ExecuteTime": {
     "end_time": "2024-06-25T02:16:54.062304Z",
     "start_time": "2024-06-25T02:16:54.059697Z"
    }
   },
   "source": "potencias",
   "outputs": [
    {
     "data": {
      "text/plain": [
       "[2, 4, 8, 16, 32, 64, 128, 256]"
      ]
     },
     "execution_count": 118,
     "metadata": {},
     "output_type": "execute_result"
    }
   ],
   "execution_count": 118
  },
  {
   "cell_type": "markdown",
   "id": "01ebf672-550e-4ca6-abd5-73e8f036aebc",
   "metadata": {},
   "source": [
    "Selecciona el 16 y 32"
   ]
  },
  {
   "cell_type": "code",
   "id": "2ded3131-a702-4467-a906-c8e9821e846c",
   "metadata": {
    "ExecuteTime": {
     "end_time": "2024-06-25T02:17:54.798530Z",
     "start_time": "2024-06-25T02:17:54.795919Z"
    }
   },
   "source": "potencias[3:5]",
   "outputs": [
    {
     "data": {
      "text/plain": [
       "[16, 32]"
      ]
     },
     "execution_count": 122,
     "metadata": {},
     "output_type": "execute_result"
    }
   ],
   "execution_count": 122
  },
  {
   "cell_type": "markdown",
   "id": "51a7badc-c12d-4df1-9a04-cfac6cccf92b",
   "metadata": {},
   "source": [
    "Ahora selecciona los primeros 5 elementos"
   ]
  },
  {
   "cell_type": "code",
   "id": "3c5bbac0-ed79-483b-ad46-b1ec64bb76a3",
   "metadata": {
    "ExecuteTime": {
     "end_time": "2024-06-25T02:18:38.980466Z",
     "start_time": "2024-06-25T02:18:38.977695Z"
    }
   },
   "source": "potencias[:5]",
   "outputs": [
    {
     "data": {
      "text/plain": [
       "[2, 4, 8, 16, 32]"
      ]
     },
     "execution_count": 123,
     "metadata": {},
     "output_type": "execute_result"
    }
   ],
   "execution_count": 123
  },
  {
   "cell_type": "markdown",
   "id": "04f36a0c-af19-441d-ace3-13f19b279292",
   "metadata": {},
   "source": [
    "Ahora vamos a seleccionar todos desde el 16 en adelante"
   ]
  },
  {
   "cell_type": "code",
   "id": "7bcfbdbc-f0f2-44c4-b59b-2c9f8e4ec93d",
   "metadata": {
    "ExecuteTime": {
     "end_time": "2024-06-25T02:19:07.519951Z",
     "start_time": "2024-06-25T02:19:07.517162Z"
    }
   },
   "source": "potencias[3:]",
   "outputs": [
    {
     "data": {
      "text/plain": [
       "[16, 32, 64, 128, 256]"
      ]
     },
     "execution_count": 124,
     "metadata": {},
     "output_type": "execute_result"
    }
   ],
   "execution_count": 124
  },
  {
   "cell_type": "markdown",
   "id": "f04faa4d-bf17-45e2-874a-cfc78919f798",
   "metadata": {},
   "source": [
    "Si dejamos los : asi nomás, selecciona todo"
   ]
  },
  {
   "cell_type": "code",
   "id": "5ae3fa58-9a65-40af-af88-bd03be1753b2",
   "metadata": {
    "ExecuteTime": {
     "end_time": "2024-06-25T02:19:28.614005Z",
     "start_time": "2024-06-25T02:19:28.611114Z"
    }
   },
   "source": "potencias[:]",
   "outputs": [
    {
     "data": {
      "text/plain": [
       "[2, 4, 8, 16, 32, 64, 128, 256]"
      ]
     },
     "execution_count": 125,
     "metadata": {},
     "output_type": "execute_result"
    }
   ],
   "execution_count": 125
  },
  {
   "cell_type": "markdown",
   "id": "b9bc5f09-3352-4e1e-a560-3e5528197175",
   "metadata": {},
   "source": [
    "También podemos seleccionar elementos de 2 en 2 o de 3 en 3 o asi, deja :: y luego va el stepfunction"
   ]
  },
  {
   "cell_type": "code",
   "id": "dc1f41f6-156c-4c75-ba27-ff30655d5d0e",
   "metadata": {
    "ExecuteTime": {
     "end_time": "2024-06-25T02:20:42.950715Z",
     "start_time": "2024-06-25T02:20:42.947976Z"
    }
   },
   "source": "potencias[::-3]",
   "outputs": [
    {
     "data": {
      "text/plain": [
       "[256, 32, 4]"
      ]
     },
     "execution_count": 128,
     "metadata": {},
     "output_type": "execute_result"
    }
   ],
   "execution_count": 128
  },
  {
   "cell_type": "markdown",
   "id": "c2a43c4a-78bc-40bc-9303-4894721a1a11",
   "metadata": {},
   "source": [
    "Y si vamos de -3 en -3 significa que empieza desde el final"
   ]
  },
  {
   "cell_type": "code",
   "execution_count": null,
   "id": "67dfc2aa-e7fb-4618-b06d-efc838aaffe8",
   "metadata": {},
   "outputs": [],
   "source": []
  },
  {
   "cell_type": "markdown",
   "id": "21fd3e6f-8f87-4778-a42c-337ab34b6077",
   "metadata": {},
   "source": [
    "Ahora modifica los nombres de los primeros 3 elementos, - en vez de numero que sea su nombre en letra"
   ]
  },
  {
   "cell_type": "code",
   "id": "55433e0e-0d85-44aa-bd82-51b63d02b594",
   "metadata": {
    "ExecuteTime": {
     "end_time": "2024-06-25T02:22:07.074969Z",
     "start_time": "2024-06-25T02:22:07.072845Z"
    }
   },
   "source": "potencias[0:3]=[\"Dos\",\"Cuatro\",\"Ocho\"]",
   "outputs": [],
   "execution_count": 129
  },
  {
   "cell_type": "code",
   "id": "e01238e9-68ce-498c-8d3e-35537a289094",
   "metadata": {
    "ExecuteTime": {
     "end_time": "2024-06-25T02:22:10.653162Z",
     "start_time": "2024-06-25T02:22:10.650224Z"
    }
   },
   "source": "potencias",
   "outputs": [
    {
     "data": {
      "text/plain": [
       "['Dos', 'Cuatro', 'Ocho', 16, 32, 64, 128, 256]"
      ]
     },
     "execution_count": 130,
     "metadata": {},
     "output_type": "execute_result"
    }
   ],
   "execution_count": 130
  },
  {
   "cell_type": "markdown",
   "id": "17713748-a6e6-45de-b6a0-66ef95e49cdf",
   "metadata": {},
   "source": [
    "Mira, si le decimos qu elos elementos 0:2 van a estar [], entonces los borra"
   ]
  },
  {
   "cell_type": "code",
   "id": "693215b6-3b49-47f2-9153-bf902a39c87c",
   "metadata": {
    "ExecuteTime": {
     "end_time": "2024-06-25T02:22:44.915307Z",
     "start_time": "2024-06-25T02:22:44.913251Z"
    }
   },
   "source": "potencias[0:2]=[]",
   "outputs": [],
   "execution_count": 131
  },
  {
   "cell_type": "code",
   "id": "e3c4aa21-3166-463a-9602-7fb8befd2ebe",
   "metadata": {
    "ExecuteTime": {
     "end_time": "2024-06-25T02:22:48.657215Z",
     "start_time": "2024-06-25T02:22:48.654246Z"
    }
   },
   "source": "potencias",
   "outputs": [
    {
     "data": {
      "text/plain": [
       "['Ocho', 16, 32, 64, 128, 256]"
      ]
     },
     "execution_count": 132,
     "metadata": {},
     "output_type": "execute_result"
    }
   ],
   "execution_count": 132
  },
  {
   "cell_type": "code",
   "id": "64f0cfdb-9dd5-4b25-8a51-3cfa738d7dba",
   "metadata": {
    "ExecuteTime": {
     "end_time": "2024-06-25T02:23:39.606847Z",
     "start_time": "2024-06-25T02:23:39.604638Z"
    }
   },
   "source": "potencias[::3]=[1,1,1]",
   "outputs": [],
   "execution_count": 134
  },
  {
   "cell_type": "code",
   "id": "23f10cd9-f3e5-4333-a668-cb6a44c98549",
   "metadata": {
    "ExecuteTime": {
     "end_time": "2024-06-25T02:23:42.909466Z",
     "start_time": "2024-06-25T02:23:42.906310Z"
    }
   },
   "source": "potencias",
   "outputs": [
    {
     "data": {
      "text/plain": [
       "[1, 4, 8, 1, 32, 64, 1, 256]"
      ]
     },
     "execution_count": 135,
     "metadata": {},
     "output_type": "execute_result"
    }
   ],
   "execution_count": 135
  },
  {
   "cell_type": "markdown",
   "id": "270080aa-82c2-4407-b507-8be7a1bf26f7",
   "metadata": {},
   "source": [
    "#### Por tu cuenta\n",
    "\n",
    "Crea una lista llamada números que contenga los valores del 1 al 15, haz las siguientes operaciones\n",
    "-selecciona los numeros enteros\n",
    "-reemplaza los elementos en indices 5 al 9 por 0s\n",
    "-manten solo los primeros 5 elementos, y muestra la lista resultante\n",
    "-Borra todos los elementos que quedan"
   ]
  },
  {
   "cell_type": "code",
   "id": "bea74808-8298-4fe0-9c48-457ce0f055b7",
   "metadata": {
    "ExecuteTime": {
     "end_time": "2024-06-25T02:30:02.396661Z",
     "start_time": "2024-06-25T02:30:02.394432Z"
    }
   },
   "source": "numeros = list(range(1,16))\n",
   "outputs": [],
   "execution_count": 157
  },
  {
   "cell_type": "code",
   "id": "d2e85b6a-f33f-444b-a1f1-e2f2dc3cbd38",
   "metadata": {
    "ExecuteTime": {
     "end_time": "2024-06-25T02:30:08.303980Z",
     "start_time": "2024-06-25T02:30:08.301431Z"
    }
   },
   "source": "numeros[5:10]=[0,0,0,0]",
   "outputs": [],
   "execution_count": 159
  },
  {
   "cell_type": "code",
   "id": "971effa8-4e76-4e87-a741-a9eb06b284cf",
   "metadata": {
    "ExecuteTime": {
     "end_time": "2024-06-25T02:30:09.829951Z",
     "start_time": "2024-06-25T02:30:09.827111Z"
    }
   },
   "source": "numeros",
   "outputs": [
    {
     "data": {
      "text/plain": [
       "[1, 2, 3, 4, 5, 0, 0, 0, 0, 11, 12, 13, 14, 15]"
      ]
     },
     "execution_count": 160,
     "metadata": {},
     "output_type": "execute_result"
    }
   ],
   "execution_count": 160
  },
  {
   "cell_type": "code",
   "id": "c840c3e0-b882-4466-9dbf-231dccb35d1c",
   "metadata": {
    "ExecuteTime": {
     "end_time": "2024-06-25T02:30:11.702271Z",
     "start_time": "2024-06-25T02:30:11.699949Z"
    }
   },
   "source": " numeros[5:]=[]",
   "outputs": [],
   "execution_count": 161
  },
  {
   "cell_type": "code",
   "id": "646db8e8-c8b2-42fd-a8e5-3438903b2bf7",
   "metadata": {
    "ExecuteTime": {
     "end_time": "2024-06-25T02:30:30.021011Z",
     "start_time": "2024-06-25T02:30:30.018503Z"
    }
   },
   "source": "numeros[:]=[]",
   "outputs": [],
   "execution_count": 163
  },
  {
   "cell_type": "code",
   "id": "c84cf979-7cfe-4e03-aa5d-a2e48910b705",
   "metadata": {
    "ExecuteTime": {
     "end_time": "2024-06-25T02:30:42.278234Z",
     "start_time": "2024-06-25T02:30:42.275505Z"
    }
   },
   "source": "numeros",
   "outputs": [
    {
     "data": {
      "text/plain": [
       "[]"
      ]
     },
     "execution_count": 164,
     "metadata": {},
     "output_type": "execute_result"
    }
   ],
   "execution_count": 164
  },
  {
   "cell_type": "code",
   "execution_count": null,
   "id": "be95f7f3-3adf-4da8-9b05-23dc3b05c5f3",
   "metadata": {},
   "outputs": [],
   "source": []
  },
  {
   "cell_type": "code",
   "execution_count": null,
   "id": "3caa6b02-62ab-4387-9f95-20e8bdfc2fea",
   "metadata": {},
   "outputs": [],
   "source": []
  },
  {
   "cell_type": "code",
   "execution_count": null,
   "id": "f092dbdf-7ae4-4292-b315-1f11b5726574",
   "metadata": {},
   "outputs": [],
   "source": []
  },
  {
   "cell_type": "markdown",
   "id": "e787df57-f04d-460b-ac74-ac76912815e4",
   "metadata": {},
   "source": [
    "### 5.4.2 - Del"
   ]
  },
  {
   "cell_type": "markdown",
   "id": "4efc660f-3092-43d5-a846-6e12b97c98b4",
   "metadata": {},
   "source": [
    "Ahora arma uan lista con todos los multiples de 10 del 0 al 90"
   ]
  },
  {
   "cell_type": "code",
   "id": "82dffac8-898a-45ea-b5be-cd6f0ad74f8d",
   "metadata": {
    "ExecuteTime": {
     "end_time": "2024-06-25T02:32:44.091315Z",
     "start_time": "2024-06-25T02:32:44.089231Z"
    }
   },
   "source": "decenas = [0,10,20,30,40,50,60,70,80,90]",
   "outputs": [],
   "execution_count": 168
  },
  {
   "cell_type": "code",
   "execution_count": null,
   "id": "69cc933f-368a-42a8-9f19-f7fc28e995ef",
   "metadata": {},
   "outputs": [],
   "source": ""
  },
  {
   "cell_type": "code",
   "execution_count": null,
   "id": "21f15acd-bbc2-47ee-bd92-60e6b43df9a3",
   "metadata": {},
   "outputs": [],
   "source": []
  },
  {
   "cell_type": "markdown",
   "id": "7f593981-b5fc-4629-9725-72e158c5e6b3",
   "metadata": {},
   "source": [
    "Borra del 30 al 50"
   ]
  },
  {
   "cell_type": "code",
   "id": "9b08bf42-1f27-4166-8873-89aef5459e20",
   "metadata": {
    "ExecuteTime": {
     "end_time": "2024-06-25T02:32:49.700766Z",
     "start_time": "2024-06-25T02:32:49.698914Z"
    }
   },
   "source": "del decenas[0::2]\n",
   "outputs": [],
   "execution_count": 169
  },
  {
   "cell_type": "code",
   "id": "e46d970a-fff5-4205-bf72-eb4ca270fa93",
   "metadata": {
    "ExecuteTime": {
     "end_time": "2024-06-25T02:32:51.260739Z",
     "start_time": "2024-06-25T02:32:51.257909Z"
    }
   },
   "source": "decenas",
   "outputs": [
    {
     "data": {
      "text/plain": [
       "[10, 30, 50, 70, 90]"
      ]
     },
     "execution_count": 170,
     "metadata": {},
     "output_type": "execute_result"
    }
   ],
   "execution_count": 170
  },
  {
   "cell_type": "code",
   "execution_count": null,
   "id": "37cf9c6a-dea7-47d9-9a25-9c3effa656e0",
   "metadata": {},
   "outputs": [],
   "source": []
  },
  {
   "cell_type": "markdown",
   "id": "76350a53-7aab-4c18-9b43-a55f8b0c551d",
   "metadata": {},
   "source": [
    "A continuación, rearma la lista y borra cada segundo elemento"
   ]
  },
  {
   "cell_type": "code",
   "id": "17481723-57af-4e64-9479-9d5d33b9af4d",
   "metadata": {
    "ExecuteTime": {
     "end_time": "2024-06-25T02:33:27.226323Z",
     "start_time": "2024-06-25T02:33:27.224211Z"
    }
   },
   "source": "del decenas[0::2]",
   "outputs": [],
   "execution_count": 171
  },
  {
   "cell_type": "code",
   "id": "434abc5e-a248-4945-b6de-c0492ca8cbc2",
   "metadata": {
    "ExecuteTime": {
     "end_time": "2024-06-25T02:33:32.361179Z",
     "start_time": "2024-06-25T02:33:32.358463Z"
    }
   },
   "source": "decenas",
   "outputs": [
    {
     "data": {
      "text/plain": [
       "[30, 70]"
      ]
     },
     "execution_count": 172,
     "metadata": {},
     "output_type": "execute_result"
    }
   ],
   "execution_count": 172
  },
  {
   "cell_type": "code",
   "execution_count": null,
   "id": "aca73456-1032-4b23-b0b6-9b7b44ce0c88",
   "metadata": {},
   "outputs": [],
   "source": []
  },
  {
   "cell_type": "markdown",
   "id": "da7c571a-ba0f-472b-9800-b94b7808ff05",
   "metadata": {},
   "source": [
    "Y por último, borra la lista completa"
   ]
  },
  {
   "cell_type": "code",
   "id": "d21a9a28-cca0-436d-becb-c021125b4c55",
   "metadata": {
    "ExecuteTime": {
     "end_time": "2024-06-25T02:33:37.501796Z",
     "start_time": "2024-06-25T02:33:37.499712Z"
    }
   },
   "source": "del decenas",
   "outputs": [],
   "execution_count": 173
  },
  {
   "cell_type": "code",
   "id": "cda97e49-305e-4213-92d5-83ebd048f8e4",
   "metadata": {
    "ExecuteTime": {
     "end_time": "2024-06-25T02:33:41.159348Z",
     "start_time": "2024-06-25T02:33:41.150442Z"
    }
   },
   "source": "",
   "outputs": [
    {
     "ename": "NameError",
     "evalue": "name 'decenas' is not defined",
     "output_type": "error",
     "traceback": [
      "\u001B[0;31m---------------------------------------------------------------------------\u001B[0m",
      "\u001B[0;31mNameError\u001B[0m                                 Traceback (most recent call last)",
      "Cell \u001B[0;32mIn[174], line 1\u001B[0m\n\u001B[0;32m----> 1\u001B[0m \u001B[43mdecenas\u001B[49m\n",
      "\u001B[0;31mNameError\u001B[0m: name 'decenas' is not defined"
     ]
    }
   ],
   "execution_count": 174
  },
  {
   "cell_type": "code",
   "execution_count": null,
   "id": "29191760-af5b-4e40-99d4-7c990035e8ac",
   "metadata": {},
   "outputs": [],
   "source": []
  },
  {
   "cell_type": "markdown",
   "id": "5f383b91-b740-40ed-9904-cfefc90ae7c9",
   "metadata": {},
   "source": [
    "#### Por tu cuenta\n",
    "\n",
    "Crea una lista con los numeros del 1 al 15\n",
    "- borra una parte que contenga los primeros 4 elementos, muestra tu resultado\n",
    "- Empezando con el primer elemento, borra cada 2do elemento de la lista. "
   ]
  },
  {
   "cell_type": "code",
   "id": "f242cd81-a228-4ff9-8b6c-dddab8ce1d6c",
   "metadata": {
    "ExecuteTime": {
     "end_time": "2024-06-25T02:34:02.832050Z",
     "start_time": "2024-06-25T02:34:02.829847Z"
    }
   },
   "source": "numeros = list(range(1,16))",
   "outputs": [],
   "execution_count": 175
  },
  {
   "cell_type": "code",
   "id": "a8df8333-685b-4a9f-8132-009421dc71e5",
   "metadata": {
    "ExecuteTime": {
     "end_time": "2024-06-25T02:34:21.051815Z",
     "start_time": "2024-06-25T02:34:21.049638Z"
    }
   },
   "source": "del numeros[:4]",
   "outputs": [],
   "execution_count": 176
  },
  {
   "cell_type": "code",
   "id": "501f2a73-c5af-4416-a486-65d88b3cad0f",
   "metadata": {
    "ExecuteTime": {
     "end_time": "2024-06-25T02:35:13.425188Z",
     "start_time": "2024-06-25T02:35:13.423128Z"
    }
   },
   "source": [
    "##Delate for element \n",
    "del numeros[::2]"
   ],
   "outputs": [],
   "execution_count": 177
  },
  {
   "cell_type": "code",
   "id": "db29369a-ab64-4bc4-8c89-ec84a85d3cf8",
   "metadata": {
    "ExecuteTime": {
     "end_time": "2024-06-25T02:35:17.398846Z",
     "start_time": "2024-06-25T02:35:17.396305Z"
    }
   },
   "source": "numeros",
   "outputs": [
    {
     "data": {
      "text/plain": [
       "[6, 8, 10, 12, 14]"
      ]
     },
     "execution_count": 178,
     "metadata": {},
     "output_type": "execute_result"
    }
   ],
   "execution_count": 178
  },
  {
   "cell_type": "code",
   "execution_count": null,
   "id": "a36e6bf6-5b25-468b-9db6-68376bf4cd11",
   "metadata": {},
   "outputs": [],
   "source": []
  },
  {
   "cell_type": "code",
   "execution_count": null,
   "id": "698d75a4-9817-4489-8863-e55b7474a40a",
   "metadata": {},
   "outputs": [],
   "source": []
  },
  {
   "cell_type": "code",
   "execution_count": null,
   "id": "97b9c56f-9050-49f9-91a1-21e2c6cc3311",
   "metadata": {},
   "outputs": [],
   "source": []
  },
  {
   "cell_type": "markdown",
   "id": "6a657591-236e-4a92-8aac-a46d77f57cdb",
   "metadata": {},
   "source": [
    "## 5.5.- Listas Ordenadas"
   ]
  },
  {
   "cell_type": "markdown",
   "id": "16151e48-3630-4dcd-a3c4-66c374430646",
   "metadata": {},
   "source": [
    "Vamos  armar la lista\n",
    "\n",
    "edad = [65,26,28,36,18]"
   ]
  },
  {
   "cell_type": "code",
   "id": "6637251b-41df-44cc-9e5c-6290dba5cbd4",
   "metadata": {
    "ExecuteTime": {
     "end_time": "2024-06-25T02:35:48.232773Z",
     "start_time": "2024-06-25T02:35:48.230491Z"
    }
   },
   "source": "age = [65,26,28,36,18]",
   "outputs": [],
   "execution_count": 179
  },
  {
   "cell_type": "code",
   "id": "d3a52279-18a0-4e01-8413-9e5e2ebed60b",
   "metadata": {
    "ExecuteTime": {
     "end_time": "2024-06-25T02:36:04.260468Z",
     "start_time": "2024-06-25T02:36:04.258418Z"
    }
   },
   "source": "",
   "outputs": [],
   "execution_count": 181
  },
  {
   "cell_type": "markdown",
   "id": "bb6aa8e8-9f7d-45f2-a79f-3f32f5db51c9",
   "metadata": {},
   "source": [
    "Ahora vamos a ordenarla usando sort()"
   ]
  },
  {
   "cell_type": "code",
   "id": "920cf4e0-e995-4fd5-beaf-20954b074f84",
   "metadata": {
    "ExecuteTime": {
     "end_time": "2024-06-25T02:36:10.730293Z",
     "start_time": "2024-06-25T02:36:10.728222Z"
    }
   },
   "source": "age.sort()",
   "outputs": [],
   "execution_count": 182
  },
  {
   "cell_type": "code",
   "id": "0ba2863f-1e1a-4e85-a2ed-b6bfadb93eb1",
   "metadata": {
    "ExecuteTime": {
     "end_time": "2024-06-25T02:36:14.375177Z",
     "start_time": "2024-06-25T02:36:14.372261Z"
    }
   },
   "source": "",
   "outputs": [
    {
     "data": {
      "text/plain": [
       "[18, 26, 28, 36, 65]"
      ]
     },
     "execution_count": 183,
     "metadata": {},
     "output_type": "execute_result"
    }
   ],
   "execution_count": 183
  },
  {
   "cell_type": "markdown",
   "id": "8a9575ea-33cd-43cd-9f5d-0b3101e84101",
   "metadata": {},
   "source": [
    "Ahora vamos aordenarla usando sort(reverse=true)"
   ]
  },
  {
   "cell_type": "code",
   "id": "43c0e69f-6adc-4d7f-83b0-37fabd28bcfe",
   "metadata": {
    "ExecuteTime": {
     "end_time": "2024-06-25T02:36:40.100102Z",
     "start_time": "2024-06-25T02:36:40.097955Z"
    }
   },
   "source": "age.sort(reverse=True)",
   "outputs": [],
   "execution_count": 185
  },
  {
   "cell_type": "code",
   "id": "8c4d0a76-abcd-4f1a-950b-176f8deeec7a",
   "metadata": {
    "ExecuteTime": {
     "end_time": "2024-06-25T02:36:45.208650Z",
     "start_time": "2024-06-25T02:36:45.205718Z"
    }
   },
   "source": "age",
   "outputs": [
    {
     "data": {
      "text/plain": [
       "[65, 36, 28, 26, 18]"
      ]
     },
     "execution_count": 186,
     "metadata": {},
     "output_type": "execute_result"
    }
   ],
   "execution_count": 186
  },
  {
   "cell_type": "code",
   "execution_count": null,
   "id": "4f631ae8-d3f9-45bd-bb40-62a41a8a2938",
   "metadata": {},
   "outputs": [],
   "source": []
  },
  {
   "cell_type": "markdown",
   "id": "d4c2de46-6517-4751-b11e-10f58fabb731",
   "metadata": {},
   "source": [
    "También se puede usar la función sorted, que es una función que devuelve otra lista"
   ]
  },
  {
   "cell_type": "code",
   "id": "d3657f31-4ada-4d22-9644-4110caaa1b24",
   "metadata": {
    "ExecuteTime": {
     "end_time": "2024-06-25T02:37:27.688569Z",
     "start_time": "2024-06-25T02:37:27.686525Z"
    }
   },
   "source": "age_sorted = sorted(age)",
   "outputs": [],
   "execution_count": 187
  },
  {
   "cell_type": "code",
   "id": "e1b49817-2c15-4946-98a8-2a2cd768b236",
   "metadata": {
    "ExecuteTime": {
     "end_time": "2024-06-25T02:37:32.362515Z",
     "start_time": "2024-06-25T02:37:32.359670Z"
    }
   },
   "source": "age_sorted",
   "outputs": [
    {
     "data": {
      "text/plain": [
       "[18, 26, 28, 36, 65]"
      ]
     },
     "execution_count": 188,
     "metadata": {},
     "output_type": "execute_result"
    }
   ],
   "execution_count": 188
  },
  {
   "cell_type": "code",
   "execution_count": null,
   "id": "5e90cc89-cae0-47db-bf46-b622385bc3fb",
   "metadata": {},
   "outputs": [],
   "source": []
  },
  {
   "cell_type": "code",
   "execution_count": null,
   "id": "1c048a24-59d8-4d56-955f-90227a727ee2",
   "metadata": {},
   "outputs": [],
   "source": []
  },
  {
   "cell_type": "markdown",
   "id": "316e7554-d647-4c9c-8c99-356aba8c2688",
   "metadata": {},
   "source": [
    "Se pueden ordenar cadenas de caracters"
   ]
  },
  {
   "cell_type": "code",
   "id": "a9cbd0df-1f39-4898-b0a4-9c29d00e462b",
   "metadata": {
    "ExecuteTime": {
     "end_time": "2024-06-25T02:39:13.563226Z",
     "start_time": "2024-06-25T02:39:13.561050Z"
    }
   },
   "source": "lista = \"teclado\"",
   "outputs": [],
   "execution_count": 193
  },
  {
   "cell_type": "code",
   "id": "c287cd7f-580c-495c-81b2-0512294a54c6",
   "metadata": {
    "ExecuteTime": {
     "end_time": "2024-06-25T02:39:15.421319Z",
     "start_time": "2024-06-25T02:39:15.419220Z"
    }
   },
   "source": "list_sorted = sorted(lista)",
   "outputs": [],
   "execution_count": 194
  },
  {
   "cell_type": "code",
   "id": "8817f622-0f59-4022-a5da-da31f458cad4",
   "metadata": {
    "ExecuteTime": {
     "end_time": "2024-06-25T02:39:17.928965Z",
     "start_time": "2024-06-25T02:39:17.926394Z"
    }
   },
   "source": "list_sorted",
   "outputs": [
    {
     "data": {
      "text/plain": [
       "['a', 'c', 'd', 'e', 'l', 'o', 't']"
      ]
     },
     "execution_count": 195,
     "metadata": {},
     "output_type": "execute_result"
    }
   ],
   "execution_count": 195
  },
  {
   "cell_type": "code",
   "id": "a56122d8-3360-42d6-9508-3f81686148d7",
   "metadata": {
    "ExecuteTime": {
     "end_time": "2024-06-25T02:40:42.315012Z",
     "start_time": "2024-06-25T02:40:42.312902Z"
    }
   },
   "source": "lista = \"tecladoRATON\"\n",
   "outputs": [],
   "execution_count": 202
  },
  {
   "cell_type": "code",
   "id": "76f63eb6-5ab0-42a9-9dc9-2736371bb977",
   "metadata": {
    "ExecuteTime": {
     "end_time": "2024-06-25T02:40:43.801480Z",
     "start_time": "2024-06-25T02:40:43.799384Z"
    }
   },
   "source": "list_sorted = sorted(lista)",
   "outputs": [],
   "execution_count": 203
  },
  {
   "cell_type": "code",
   "id": "7c54e48f-58e5-4104-9948-45765b09f32c",
   "metadata": {
    "ExecuteTime": {
     "end_time": "2024-06-25T02:40:45.132720Z",
     "start_time": "2024-06-25T02:40:45.130027Z"
    }
   },
   "source": "list_sorted",
   "outputs": [
    {
     "data": {
      "text/plain": [
       "['A', 'N', 'O', 'R', 'T', 'a', 'c', 'd', 'e', 'l', 'o', 't']"
      ]
     },
     "execution_count": 204,
     "metadata": {},
     "output_type": "execute_result"
    }
   ],
   "execution_count": 204
  },
  {
   "cell_type": "code",
   "id": "68f0ec59-21e2-47ee-b8c5-1c6868f8c8ff",
   "metadata": {
    "ExecuteTime": {
     "end_time": "2024-06-25T02:42:14.079824Z",
     "start_time": "2024-06-25T02:42:14.077722Z"
    }
   },
   "source": "name  = \"cristian\"",
   "outputs": [],
   "execution_count": 209
  },
  {
   "cell_type": "code",
   "id": "c24470d3-c5fc-4cfe-bf04-342f86cdbc6b",
   "metadata": {
    "ExecuteTime": {
     "end_time": "2024-06-25T02:42:20.926173Z",
     "start_time": "2024-06-25T02:42:20.924069Z"
    }
   },
   "source": "name_sorted = sorted(name, reverse=True)",
   "outputs": [],
   "execution_count": 211
  },
  {
   "cell_type": "code",
   "id": "8bc34507-e730-4b08-a951-1a930596d8c6",
   "metadata": {
    "ExecuteTime": {
     "end_time": "2024-06-25T02:42:22.652028Z",
     "start_time": "2024-06-25T02:42:22.649210Z"
    }
   },
   "source": "name_sorted",
   "outputs": [
    {
     "data": {
      "text/plain": [
       "['t', 's', 'r', 'n', 'i', 'i', 'c', 'a']"
      ]
     },
     "execution_count": 212,
     "metadata": {},
     "output_type": "execute_result"
    }
   ],
   "execution_count": 212
  },
  {
   "cell_type": "markdown",
   "id": "faf47c21-c6e1-4006-801a-46fcfe875760",
   "metadata": {},
   "source": [
    "Y también las tuplas, pero solo usando sorted"
   ]
  },
  {
   "cell_type": "code",
   "execution_count": null,
   "id": "af686482-c3dc-4979-8891-d30d669e1b0e",
   "metadata": {},
   "outputs": [],
   "source": []
  },
  {
   "cell_type": "code",
   "execution_count": null,
   "id": "79868e1a-8c36-4658-97b7-39dc63aece88",
   "metadata": {},
   "outputs": [],
   "source": []
  },
  {
   "cell_type": "code",
   "execution_count": null,
   "id": "26c7dde5-1773-4903-9a1d-4a0d05b9ebf1",
   "metadata": {},
   "outputs": [],
   "source": []
  },
  {
   "cell_type": "code",
   "execution_count": null,
   "id": "e39c4469-e14f-487f-a12c-44daae8a9ea9",
   "metadata": {},
   "outputs": [],
   "source": []
  },
  {
   "cell_type": "code",
   "execution_count": null,
   "id": "15546d9d-a83a-4900-9f64-3c7d9ed0467e",
   "metadata": {},
   "outputs": [],
   "source": []
  },
  {
   "cell_type": "markdown",
   "id": "fd59c820-17fc-4c26-b4bd-d712c0f899e2",
   "metadata": {},
   "source": [
    "### 5.5.2.- Buscando Secuencias"
   ]
  },
  {
   "cell_type": "markdown",
   "id": "a28823a1-57ce-4a0d-a337-03d44f00d475",
   "metadata": {},
   "source": [
    "Ahora arma la lista\n",
    "\n",
    "edad = [65,12,19,80,36,28,16,18,36,16,45,32,36,59]    "
   ]
  },
  {
   "cell_type": "code",
   "id": "b7d8ace3-e89d-4eb3-888c-88b6db252126",
   "metadata": {
    "ExecuteTime": {
     "end_time": "2024-06-25T02:46:29.824821Z",
     "start_time": "2024-06-25T02:46:29.822596Z"
    }
   },
   "source": "edad = [65,12,19,80,36,28,16,18,36,16,45,32,36,59]",
   "outputs": [],
   "execution_count": 213
  },
  {
   "cell_type": "code",
   "id": "16cea3cd-f574-4d91-a695-73caabe8b80a",
   "metadata": {
    "ExecuteTime": {
     "end_time": "2024-06-25T02:46:49.761346Z",
     "start_time": "2024-06-25T02:46:49.758597Z"
    }
   },
   "source": "edad",
   "outputs": [
    {
     "data": {
      "text/plain": [
       "[65, 12, 19, 80, 36, 28, 16, 18, 36, 16, 45, 32, 36, 59]"
      ]
     },
     "execution_count": 214,
     "metadata": {},
     "output_type": "execute_result"
    }
   ],
   "execution_count": 214
  },
  {
   "cell_type": "code",
   "execution_count": null,
   "id": "548f8dcc-2648-4441-9241-18de578adff4",
   "metadata": {},
   "outputs": [],
   "source": []
  },
  {
   "cell_type": "markdown",
   "id": "97238422-0f79-4232-abf4-43e27f6a3a32",
   "metadata": {},
   "source": [
    "Y busca en ella la edad 45 usando el método index()"
   ]
  },
  {
   "cell_type": "code",
   "id": "6f1db40f-a4a5-42b6-9eec-1b038a4c7f5e",
   "metadata": {
    "ExecuteTime": {
     "end_time": "2024-06-25T02:47:00.262317Z",
     "start_time": "2024-06-25T02:47:00.259708Z"
    }
   },
   "source": "edad.index(45)",
   "outputs": [
    {
     "data": {
      "text/plain": [
       "10"
      ]
     },
     "execution_count": 215,
     "metadata": {},
     "output_type": "execute_result"
    }
   ],
   "execution_count": 215
  },
  {
   "cell_type": "code",
   "execution_count": null,
   "id": "ffadc33b-5c59-44e1-ad5f-d245ff967b38",
   "metadata": {},
   "outputs": [],
   "source": []
  },
  {
   "cell_type": "markdown",
   "id": "fddd6daa-b6a8-4999-adb0-6663778198cb",
   "metadata": {},
   "source": [
    "Si buscas algo que no esta, como 43, el resultado es..."
   ]
  },
  {
   "cell_type": "code",
   "id": "5cdcf524-0249-4af0-b80c-34e35fc4f351",
   "metadata": {
    "ExecuteTime": {
     "end_time": "2024-06-25T02:47:44.987253Z",
     "start_time": "2024-06-25T02:47:44.978146Z"
    }
   },
   "source": "edad.index(43)",
   "outputs": [
    {
     "ename": "ValueError",
     "evalue": "43 is not in list",
     "output_type": "error",
     "traceback": [
      "\u001B[0;31m---------------------------------------------------------------------------\u001B[0m",
      "\u001B[0;31mValueError\u001B[0m                                Traceback (most recent call last)",
      "Cell \u001B[0;32mIn[217], line 1\u001B[0m\n\u001B[0;32m----> 1\u001B[0m \u001B[43medad\u001B[49m\u001B[38;5;241;43m.\u001B[39;49m\u001B[43mindex\u001B[49m\u001B[43m(\u001B[49m\u001B[38;5;241;43m43\u001B[39;49m\u001B[43m)\u001B[49m\n",
      "\u001B[0;31mValueError\u001B[0m: 43 is not in list"
     ]
    }
   ],
   "execution_count": 217
  },
  {
   "cell_type": "code",
   "execution_count": null,
   "id": "a6e20552-b4a1-4cb0-a75e-45082e204407",
   "metadata": {},
   "outputs": [],
   "source": ""
  },
  {
   "cell_type": "markdown",
   "id": "5f2ef81e-4b06-4dc0-9448-f9b654934f02",
   "metadata": {},
   "source": [
    "Tambien puedes usar el comando in, checa si 56 está in edad"
   ]
  },
  {
   "cell_type": "code",
   "id": "d3fc8551-44df-4b27-bd17-5a106650df51",
   "metadata": {
    "ExecuteTime": {
     "end_time": "2024-06-25T02:48:08.101228Z",
     "start_time": "2024-06-25T02:48:08.098824Z"
    }
   },
   "source": "56 in edad",
   "outputs": [
    {
     "data": {
      "text/plain": [
       "False"
      ]
     },
     "execution_count": 218,
     "metadata": {},
     "output_type": "execute_result"
    }
   ],
   "execution_count": 218
  },
  {
   "cell_type": "code",
   "id": "9bf49d61-c927-4da0-9870-00a763e9cb15",
   "metadata": {
    "ExecuteTime": {
     "end_time": "2024-06-25T02:48:20.772053Z",
     "start_time": "2024-06-25T02:48:20.769442Z"
    }
   },
   "source": "18 in edad",
   "outputs": [
    {
     "data": {
      "text/plain": [
       "True"
      ]
     },
     "execution_count": 219,
     "metadata": {},
     "output_type": "execute_result"
    }
   ],
   "execution_count": 219
  },
  {
   "cell_type": "code",
   "execution_count": null,
   "id": "48c81a99-7ade-40ad-841a-5d7648475191",
   "metadata": {},
   "outputs": [],
   "source": []
  },
  {
   "cell_type": "markdown",
   "id": "ab18778b-6b0d-486f-ba82-8bd8180e49a5",
   "metadata": {},
   "source": [
    "### 5.5.3.- Otros Métodos de Lista"
   ]
  },
  {
   "cell_type": "markdown",
   "id": "5d9ef857-0c98-4d81-bc80-d216d7a6569e",
   "metadata": {},
   "source": [
    "Arma una ensalada\n",
    "\n",
    "vegetales = ['espinaca','apio']"
   ]
  },
  {
   "cell_type": "code",
   "id": "cbb8406c-a845-48f7-b750-236900ea5cdd",
   "metadata": {
    "ExecuteTime": {
     "end_time": "2024-06-25T02:49:04.797040Z",
     "start_time": "2024-06-25T02:49:04.794713Z"
    }
   },
   "source": "vegetales = ['espinaca','apio']",
   "outputs": [],
   "execution_count": 220
  },
  {
   "cell_type": "code",
   "execution_count": null,
   "id": "d53654ef-3eff-4836-8ac7-1d87ed2d5b01",
   "metadata": {},
   "outputs": [],
   "source": []
  },
  {
   "cell_type": "code",
   "execution_count": null,
   "id": "00e67747-42e1-4a27-b170-e1df71392cd3",
   "metadata": {},
   "outputs": [],
   "source": []
  },
  {
   "cell_type": "markdown",
   "id": "8a58a395-7594-4096-83b4-e1e6c5cdcfb6",
   "metadata": {},
   "source": [
    "Usa el método insert() para meter 'lechuga' en la posición 0"
   ]
  },
  {
   "cell_type": "code",
   "id": "d1af9cf7-e8b5-400a-a18f-3196c72e7cc4",
   "metadata": {
    "ExecuteTime": {
     "end_time": "2024-06-25T02:49:36.134632Z",
     "start_time": "2024-06-25T02:49:36.132559Z"
    }
   },
   "source": "vegetales.insert(0,'lechuga')",
   "outputs": [],
   "execution_count": 221
  },
  {
   "cell_type": "code",
   "id": "b87a1186-e837-481e-a4a9-b94212c7d37d",
   "metadata": {
    "ExecuteTime": {
     "end_time": "2024-06-25T02:49:49.623957Z",
     "start_time": "2024-06-25T02:49:49.621418Z"
    }
   },
   "source": "vegetales",
   "outputs": [
    {
     "data": {
      "text/plain": [
       "['lechuga', 'espinaca', 'apio']"
      ]
     },
     "execution_count": 222,
     "metadata": {},
     "output_type": "execute_result"
    }
   ],
   "execution_count": 222
  },
  {
   "cell_type": "code",
   "execution_count": null,
   "id": "2d9e1136-c419-4296-a74a-14d7cb47a85f",
   "metadata": {},
   "outputs": [],
   "source": []
  },
  {
   "cell_type": "markdown",
   "id": "52d4166b-d321-4a51-bbdd-978c4ded199e",
   "metadata": {},
   "source": [
    "Usa el método append() para meter 'esparragos' al final"
   ]
  },
  {
   "cell_type": "code",
   "id": "2d6855bb-11d3-4d2e-9e5d-599cd6d659cf",
   "metadata": {
    "ExecuteTime": {
     "end_time": "2024-06-25T02:50:28.353168Z",
     "start_time": "2024-06-25T02:50:28.351041Z"
    }
   },
   "source": "vegetales.append('Esparragos')",
   "outputs": [],
   "execution_count": 223
  },
  {
   "cell_type": "code",
   "id": "2c8f2cb3-8b4a-4529-8579-863600c19eaf",
   "metadata": {
    "ExecuteTime": {
     "end_time": "2024-06-25T02:50:33.935548Z",
     "start_time": "2024-06-25T02:50:33.932710Z"
    }
   },
   "source": "vegetales",
   "outputs": [
    {
     "data": {
      "text/plain": [
       "['lechuga', 'espinaca', 'apio', 'Esparragos']"
      ]
     },
     "execution_count": 224,
     "metadata": {},
     "output_type": "execute_result"
    }
   ],
   "execution_count": 224
  },
  {
   "cell_type": "code",
   "execution_count": null,
   "id": "5b6ab9a5-9573-4788-b50d-b1d203021c25",
   "metadata": {},
   "outputs": [],
   "source": []
  },
  {
   "cell_type": "markdown",
   "id": "854f646e-1f1a-4677-90f0-f2b23a679ac9",
   "metadata": {},
   "source": [
    "Agrega el precio usando el comando extend\n",
    "\n",
    "Precio = (10,15,8,30)"
   ]
  },
  {
   "cell_type": "code",
   "id": "0db26dae-3e95-4172-b80b-110bd0caa0ff",
   "metadata": {
    "ExecuteTime": {
     "end_time": "2024-06-25T02:51:09.364035Z",
     "start_time": "2024-06-25T02:51:09.361716Z"
    }
   },
   "source": "vegetales.extend([10,15,8,30])",
   "outputs": [],
   "execution_count": 225
  },
  {
   "cell_type": "code",
   "id": "22a9e659-cf27-4972-90d6-d832c3a3d3ec",
   "metadata": {
    "ExecuteTime": {
     "end_time": "2024-06-25T02:51:15.337738Z",
     "start_time": "2024-06-25T02:51:15.334913Z"
    }
   },
   "source": "vegetales",
   "outputs": [
    {
     "data": {
      "text/plain": [
       "['lechuga', 'espinaca', 'apio', 'Esparragos', 10, 15, 8, 30]"
      ]
     },
     "execution_count": 226,
     "metadata": {},
     "output_type": "execute_result"
    }
   ],
   "execution_count": 226
  },
  {
   "cell_type": "code",
   "execution_count": null,
   "id": "fe39d26d-136a-4e35-8ea6-ea2d437533f7",
   "metadata": {},
   "outputs": [],
   "source": []
  },
  {
   "cell_type": "markdown",
   "id": "c63867c4-9b99-4b19-924a-06a47965ed9e",
   "metadata": {},
   "source": [
    "Quitale los esparragos a la ensalada usando remove()"
   ]
  },
  {
   "cell_type": "code",
   "id": "3afd8bbc-d8dd-407d-8d65-cfce2092c590",
   "metadata": {
    "ExecuteTime": {
     "end_time": "2024-06-25T02:51:53.679160Z",
     "start_time": "2024-06-25T02:51:53.676987Z"
    }
   },
   "source": "vegetales.remove('Esparragos')",
   "outputs": [],
   "execution_count": 228
  },
  {
   "cell_type": "code",
   "id": "1675e33b-91cd-451b-aa92-d816a20ade58",
   "metadata": {
    "ExecuteTime": {
     "end_time": "2024-06-25T02:51:59.733735Z",
     "start_time": "2024-06-25T02:51:59.731081Z"
    }
   },
   "source": "vegetales",
   "outputs": [
    {
     "data": {
      "text/plain": [
       "['lechuga', 'espinaca', 'apio', 10, 15, 8, 30]"
      ]
     },
     "execution_count": 229,
     "metadata": {},
     "output_type": "execute_result"
    }
   ],
   "execution_count": 229
  },
  {
   "cell_type": "code",
   "execution_count": null,
   "id": "4171bb4b-43c4-453a-a776-62ab2dad9828",
   "metadata": {},
   "outputs": [],
   "source": []
  },
  {
   "cell_type": "markdown",
   "id": "15d3c269-5b8a-4f1e-bee7-48bb5ddfb933",
   "metadata": {},
   "source": [
    "Tira la ensalada y ve por un platillo de hombre usando vegetales.clear()"
   ]
  },
  {
   "cell_type": "code",
   "id": "492a21fc-86d6-48f6-b006-b68a2d7a28a8",
   "metadata": {
    "ExecuteTime": {
     "end_time": "2024-06-25T02:52:33.521528Z",
     "start_time": "2024-06-25T02:52:33.519333Z"
    }
   },
   "source": "vegetales.clear()",
   "outputs": [],
   "execution_count": 230
  },
  {
   "cell_type": "code",
   "id": "1ede4348-0c19-4a7e-aec7-6fedead371e8",
   "metadata": {
    "ExecuteTime": {
     "end_time": "2024-06-25T02:52:40.209980Z",
     "start_time": "2024-06-25T02:52:40.207095Z"
    }
   },
   "source": "vegetales",
   "outputs": [
    {
     "data": {
      "text/plain": [
       "[]"
      ]
     },
     "execution_count": 231,
     "metadata": {},
     "output_type": "execute_result"
    }
   ],
   "execution_count": 231
  },
  {
   "cell_type": "code",
   "execution_count": null,
   "id": "37975f90-95f1-4b9b-9c09-464e13394f2b",
   "metadata": {},
   "outputs": [],
   "source": []
  },
  {
   "cell_type": "markdown",
   "id": "61a5a0f1-41b4-48d1-95ee-ee51a29c90bd",
   "metadata": {},
   "source": [
    "### 5.5.4.- Contar"
   ]
  },
  {
   "cell_type": "markdown",
   "id": "3b74c7e6-3015-4bc5-807d-ea567e339a44",
   "metadata": {},
   "source": [
    "Arma una lista de edades\n",
    "\n",
    " edades = [15, 21, 16, 19, 20, 16, 19, 15, 21, 17, 18, 24, 20, 24, 21, 19, 18, 16, 19, 16]\n"
   ]
  },
  {
   "cell_type": "code",
   "id": "1ec19d16-1f35-468e-86b4-be1f9e6c50b4",
   "metadata": {
    "ExecuteTime": {
     "end_time": "2024-06-25T02:53:15.102545Z",
     "start_time": "2024-06-25T02:53:15.099823Z"
    }
   },
   "source": "edades = [15, 21, 16, 19, 20, 16, 19, 15, 21, 17, 18, 24, 20, 24, 21, 19, 18, 16, 19, 16]",
   "outputs": [],
   "execution_count": 232
  },
  {
   "cell_type": "code",
   "execution_count": null,
   "id": "3ea94aa7-8c17-47b5-b6a9-1e4bfdf23b51",
   "metadata": {},
   "outputs": [],
   "source": []
  },
  {
   "cell_type": "markdown",
   "id": "adc447a8-fe46-4bb5-9fab-f0bd2d03ad0f",
   "metadata": {},
   "source": [
    "Usa count para saber cuantas vecs aparece la edad 16"
   ]
  },
  {
   "cell_type": "code",
   "id": "73cf7fb6-c511-4fed-9ff0-2dfbcc5bf279",
   "metadata": {
    "ExecuteTime": {
     "end_time": "2024-06-25T02:53:40.692602Z",
     "start_time": "2024-06-25T02:53:40.689929Z"
    }
   },
   "source": "edades.count(16)",
   "outputs": [
    {
     "data": {
      "text/plain": [
       "4"
      ]
     },
     "execution_count": 233,
     "metadata": {},
     "output_type": "execute_result"
    }
   ],
   "execution_count": 233
  },
  {
   "cell_type": "code",
   "id": "d465f341-3eec-4e98-a316-47e2c2e7e52a",
   "metadata": {
    "ExecuteTime": {
     "end_time": "2024-06-25T02:57:47.663443Z",
     "start_time": "2024-06-25T02:57:47.660654Z"
    }
   },
   "source": "len(edades)",
   "outputs": [
    {
     "data": {
      "text/plain": [
       "20"
      ]
     },
     "execution_count": 236,
     "metadata": {},
     "output_type": "execute_result"
    }
   ],
   "execution_count": 236
  },
  {
   "cell_type": "markdown",
   "id": "31102168-b3ca-48cf-8868-39ac7befccdd",
   "metadata": {},
   "source": [
    "Arma un for para contar cuantas veces se repite cada edad entre 15 a 25 en la lista\n",
    "\n",
    "imprime tus resultados con la frase\n",
    "La edad 15 se repite 2 veces\n",
    "y asi...\n",
    "\n",
    "\n"
   ]
  },
  {
   "cell_type": "code",
   "id": "0f90d9b6-590d-4b4e-a702-9b0ecf55a9cb",
   "metadata": {
    "ExecuteTime": {
     "end_time": "2024-06-25T02:56:49.749894Z",
     "start_time": "2024-06-25T02:56:49.747551Z"
    }
   },
   "source": [
    "for i in range(15,25):\n",
    "    print(f'la edad {i} se repite {edades.count(i)}')"
   ],
   "outputs": [
    {
     "name": "stdout",
     "output_type": "stream",
     "text": [
      "la edad 15 se repite 2\n",
      "la edad 16 se repite 4\n",
      "la edad 17 se repite 1\n",
      "la edad 18 se repite 2\n",
      "la edad 19 se repite 4\n",
      "la edad 20 se repite 2\n",
      "la edad 21 se repite 3\n",
      "la edad 22 se repite 0\n",
      "la edad 23 se repite 0\n",
      "la edad 24 se repite 2\n"
     ]
    }
   ],
   "execution_count": 235
  },
  {
   "cell_type": "code",
   "execution_count": null,
   "id": "e78d97fe-ba53-4958-959d-8a536ca61868",
   "metadata": {},
   "outputs": [],
   "source": []
  },
  {
   "cell_type": "code",
   "execution_count": null,
   "id": "a16e5e1c-a8e5-4834-93ce-aecb9afeb951",
   "metadata": {},
   "outputs": [],
   "source": []
  },
  {
   "cell_type": "code",
   "execution_count": null,
   "id": "f5e64d0b-15bb-456f-9220-2a1d9dba2d53",
   "metadata": {},
   "outputs": [],
   "source": []
  },
  {
   "cell_type": "markdown",
   "id": "4d099cfc-d40a-43f6-9ad3-9dbd6954f1b1",
   "metadata": {},
   "source": [
    "Arma tu ensalada de nuevo\n",
    "\n",
    " vegetales = ['lechuga','espinaca','apio','pepinillo']"
   ]
  },
  {
   "cell_type": "code",
   "id": "bfed5d68-3c2d-4145-aa56-d1254aa3db0b",
   "metadata": {
    "ExecuteTime": {
     "end_time": "2024-06-25T02:59:12.498693Z",
     "start_time": "2024-06-25T02:59:12.496794Z"
    }
   },
   "source": " vegetales = ['lechuga','espinaca','apio','pepinillo']",
   "outputs": [],
   "execution_count": 244
  },
  {
   "cell_type": "code",
   "id": "6a2d4cc6-09ed-43f8-9544-cca11d795a9d",
   "metadata": {
    "ExecuteTime": {
     "end_time": "2024-06-25T02:58:17.594363Z",
     "start_time": "2024-06-25T02:58:17.591663Z"
    }
   },
   "source": "vegetales.reverse()",
   "outputs": [],
   "execution_count": 238
  },
  {
   "cell_type": "code",
   "id": "e3e90fd8-b9e7-453d-a5ac-a3b18ea84e01",
   "metadata": {
    "ExecuteTime": {
     "end_time": "2024-06-25T02:58:23.275606Z",
     "start_time": "2024-06-25T02:58:23.272830Z"
    }
   },
   "source": "vegetales",
   "outputs": [
    {
     "data": {
      "text/plain": [
       "['pepinillo', 'apio', 'espinaca', 'lechuga']"
      ]
     },
     "execution_count": 239,
     "metadata": {},
     "output_type": "execute_result"
    }
   ],
   "execution_count": 239
  },
  {
   "cell_type": "markdown",
   "id": "839085b2-372b-4050-b521-e8d7917295f2",
   "metadata": {},
   "source": [
    "Usa reverse para darle la vuelta"
   ]
  },
  {
   "cell_type": "code",
   "id": "9ca9cbff-a4ba-4f71-bdd8-1d8b54e8d465",
   "metadata": {
    "ExecuteTime": {
     "end_time": "2024-06-25T02:58:38.658474Z",
     "start_time": "2024-06-25T02:58:38.656286Z"
    }
   },
   "source": "vegetales.reverse()",
   "outputs": [],
   "execution_count": 240
  },
  {
   "cell_type": "code",
   "id": "971b10a0-2454-4c02-8e17-aaecb91db7e4",
   "metadata": {
    "ExecuteTime": {
     "end_time": "2024-06-25T02:58:44.057656Z",
     "start_time": "2024-06-25T02:58:44.055004Z"
    }
   },
   "source": "vegetales",
   "outputs": [
    {
     "data": {
      "text/plain": [
       "['lechuga', 'espinaca', 'apio', 'pepinillo']"
      ]
     },
     "execution_count": 241,
     "metadata": {},
     "output_type": "execute_result"
    }
   ],
   "execution_count": 241
  },
  {
   "cell_type": "code",
   "id": "05232a2e-4171-4040-b440-c52a207cb537",
   "metadata": {
    "ExecuteTime": {
     "end_time": "2024-06-25T02:59:31.130282Z",
     "start_time": "2024-06-25T02:59:31.121587Z"
    }
   },
   "source": [
    "vegetales.remove('lechuga')\n",
    "vegetales"
   ],
   "outputs": [
    {
     "ename": "ValueError",
     "evalue": "list.remove(x): x not in list",
     "output_type": "error",
     "traceback": [
      "\u001B[0;31m---------------------------------------------------------------------------\u001B[0m",
      "\u001B[0;31mValueError\u001B[0m                                Traceback (most recent call last)",
      "Cell \u001B[0;32mIn[246], line 1\u001B[0m\n\u001B[0;32m----> 1\u001B[0m \u001B[43mvegetales\u001B[49m\u001B[38;5;241;43m.\u001B[39;49m\u001B[43mremove\u001B[49m\u001B[43m(\u001B[49m\u001B[38;5;124;43m'\u001B[39;49m\u001B[38;5;124;43mlechuga\u001B[39;49m\u001B[38;5;124;43m'\u001B[39;49m\u001B[43m)\u001B[49m\n\u001B[1;32m      2\u001B[0m vegetales\n",
      "\u001B[0;31mValueError\u001B[0m: list.remove(x): x not in list"
     ]
    }
   ],
   "execution_count": 246
  },
  {
   "metadata": {
    "ExecuteTime": {
     "end_time": "2024-06-25T03:00:05.174014Z",
     "start_time": "2024-06-25T03:00:05.171006Z"
    }
   },
   "cell_type": "code",
   "source": [
    "vegetales.insert(0,'lechuga')\n",
    "vegetales"
   ],
   "id": "dcd06ee8c004d6ad",
   "outputs": [
    {
     "data": {
      "text/plain": [
       "['lechuga', 'espinaca', 'apio', 'pepinillo']"
      ]
     },
     "execution_count": 247,
     "metadata": {},
     "output_type": "execute_result"
    }
   ],
   "execution_count": 247
  },
  {
   "cell_type": "markdown",
   "id": "26ef156d-9e86-431b-addd-6ad0225ecc17",
   "metadata": {},
   "source": [
    "Prepara una seguna ensalada usando copy"
   ]
  },
  {
   "cell_type": "code",
   "id": "87e898e6-7355-4388-ad4f-4d441d91a80a",
   "metadata": {
    "ExecuteTime": {
     "end_time": "2024-06-25T03:00:32.515343Z",
     "start_time": "2024-06-25T03:00:32.513394Z"
    }
   },
   "source": "vegetales_copy = vegetales.copy()",
   "outputs": [],
   "execution_count": 248
  },
  {
   "cell_type": "code",
   "id": "0e6bebe5-4f19-4bb7-a3f0-1dfde35d00d4",
   "metadata": {
    "ExecuteTime": {
     "end_time": "2024-06-25T03:00:37.860398Z",
     "start_time": "2024-06-25T03:00:37.857871Z"
    }
   },
   "source": "vegetales_copy",
   "outputs": [
    {
     "data": {
      "text/plain": [
       "['lechuga', 'espinaca', 'apio', 'pepinillo']"
      ]
     },
     "execution_count": 249,
     "metadata": {},
     "output_type": "execute_result"
    }
   ],
   "execution_count": 249
  },
  {
   "cell_type": "code",
   "execution_count": null,
   "id": "eee553c8-e7a4-4bc1-b2d0-d5b74babb469",
   "metadata": {},
   "outputs": [],
   "source": []
  },
  {
   "cell_type": "code",
   "execution_count": null,
   "id": "1c28aa68-efbe-45e2-94b2-949c528d4d85",
   "metadata": {},
   "outputs": [],
   "source": [
    "\n"
   ]
  },
  {
   "cell_type": "markdown",
   "id": "7ff36166-8379-4e4d-8c02-c465f958ad05",
   "metadata": {},
   "source": [
    "## 5.6.- Comprensión de Listas"
   ]
  },
  {
   "cell_type": "markdown",
   "id": "a83d69a6-c578-4d91-b13b-6ae1676c78b4",
   "metadata": {},
   "source": [
    "Vamos a armar una lista con todos los numeros del 1 al 10 de la manera mas mensa posible\n",
    "\n",
    "empeiza con lista vacia, y luego un for que haga un append de todos los numeros del 1 al 10"
   ]
  },
  {
   "cell_type": "code",
   "id": "6bfdc08b-9d0e-44d3-bdae-64df3eaaa3ef",
   "metadata": {
    "ExecuteTime": {
     "end_time": "2024-06-25T03:01:24.826127Z",
     "start_time": "2024-06-25T03:01:24.823870Z"
    }
   },
   "source": "numeros = []",
   "outputs": [],
   "execution_count": 250
  },
  {
   "cell_type": "code",
   "id": "7744183f-e4cf-4349-9a13-17fe849f90e8",
   "metadata": {
    "ExecuteTime": {
     "end_time": "2024-06-25T03:01:51.975422Z",
     "start_time": "2024-06-25T03:01:51.973362Z"
    }
   },
   "source": [
    "for i in range(1,11):\n",
    "    numeros.append(i)"
   ],
   "outputs": [],
   "execution_count": 252
  },
  {
   "cell_type": "code",
   "id": "ba0cf028-b01c-4975-a69e-8e72291fd6ac",
   "metadata": {
    "ExecuteTime": {
     "end_time": "2024-06-25T03:01:55.719349Z",
     "start_time": "2024-06-25T03:01:55.716485Z"
    }
   },
   "source": "numeros",
   "outputs": [
    {
     "data": {
      "text/plain": [
       "[1, 2, 3, 4, 5, 6, 7, 8, 9, 10]"
      ]
     },
     "execution_count": 253,
     "metadata": {},
     "output_type": "execute_result"
    }
   ],
   "execution_count": 253
  },
  {
   "cell_type": "code",
   "execution_count": null,
   "id": "c7ad9b7e-504c-4d15-8470-dda0d6d122fb",
   "metadata": {},
   "outputs": [],
   "source": []
  },
  {
   "cell_type": "markdown",
   "id": "25bb7da9-eda4-4b25-b861-06f78a991d5d",
   "metadata": {},
   "source": [
    "Ahora hacemos lo mismo con la comprensión de listas"
   ]
  },
  {
   "cell_type": "code",
   "id": "3df8af71-0695-4081-98ac-270841f5a624",
   "metadata": {
    "ExecuteTime": {
     "end_time": "2024-06-25T03:02:17.476009Z",
     "start_time": "2024-06-25T03:02:17.473728Z"
    }
   },
   "source": "list_dos = [i for i in range(1,11)]",
   "outputs": [],
   "execution_count": 254
  },
  {
   "cell_type": "code",
   "id": "70760b0f-3fa6-40f8-9668-04413c0bead1",
   "metadata": {
    "ExecuteTime": {
     "end_time": "2024-06-25T03:02:26.043518Z",
     "start_time": "2024-06-25T03:02:26.040285Z"
    }
   },
   "source": "list_dos",
   "outputs": [
    {
     "data": {
      "text/plain": [
       "[1, 2, 3, 4, 5, 6, 7, 8, 9, 10]"
      ]
     },
     "execution_count": 255,
     "metadata": {},
     "output_type": "execute_result"
    }
   ],
   "execution_count": 255
  },
  {
   "cell_type": "code",
   "execution_count": null,
   "id": "53a65a30-426c-42a6-a981-85d96915f0ae",
   "metadata": {},
   "outputs": [],
   "source": []
  },
  {
   "cell_type": "markdown",
   "id": "987b7ef2-3686-42e5-89b4-03b93f28a91c",
   "metadata": {},
   "source": [
    "Tambien de plano podemos reemplazar todo eso por range"
   ]
  },
  {
   "cell_type": "code",
   "id": "d7ec16e5-10ad-4e76-a963-83533cf330c1",
   "metadata": {
    "ExecuteTime": {
     "end_time": "2024-06-25T03:03:21.108180Z",
     "start_time": "2024-06-25T03:03:21.105952Z"
    }
   },
   "source": "list_tres = list(range(1,11))",
   "outputs": [],
   "execution_count": 256
  },
  {
   "cell_type": "code",
   "id": "a03ae328-9b7a-499d-960b-55278b30b862",
   "metadata": {
    "ExecuteTime": {
     "end_time": "2024-06-25T03:03:37.355992Z",
     "start_time": "2024-06-25T03:03:37.352769Z"
    }
   },
   "source": "list_tres",
   "outputs": [
    {
     "data": {
      "text/plain": [
       "[1, 2, 3, 4, 5, 6, 7, 8, 9, 10]"
      ]
     },
     "execution_count": 257,
     "metadata": {},
     "output_type": "execute_result"
    }
   ],
   "execution_count": 257
  },
  {
   "cell_type": "code",
   "execution_count": null,
   "id": "ccb91a90-d701-44e9-8612-daae80dee458",
   "metadata": {},
   "outputs": [],
   "source": []
  },
  {
   "cell_type": "markdown",
   "id": "fe5ab5de-8071-47e9-9b38-6dce775c8958",
   "metadata": {},
   "source": [
    "Ahora vamos a mapear - hacer calculos dentro de la comprension de listas, en este caso todos los cuadrados del 1 al 10"
   ]
  },
  {
   "cell_type": "code",
   "id": "a6883d8b-4ec2-4f67-95f9-4f3f22dfe0ea",
   "metadata": {
    "ExecuteTime": {
     "end_time": "2024-06-25T03:04:25.071243Z",
     "start_time": "2024-06-25T03:04:25.069354Z"
    }
   },
   "source": "cuadrdos = [i **2 for i in range(1,11)]\n",
   "outputs": [],
   "execution_count": 259
  },
  {
   "metadata": {
    "ExecuteTime": {
     "end_time": "2024-06-25T03:04:32.748815Z",
     "start_time": "2024-06-25T03:04:32.745845Z"
    }
   },
   "cell_type": "code",
   "source": "cuadrdos",
   "id": "6b869eeaa3266277",
   "outputs": [
    {
     "data": {
      "text/plain": [
       "[1, 4, 9, 16, 25, 36, 49, 64, 81, 100]"
      ]
     },
     "execution_count": 260,
     "metadata": {},
     "output_type": "execute_result"
    }
   ],
   "execution_count": 260
  },
  {
   "cell_type": "markdown",
   "id": "f109e962-88d8-420c-90aa-538e4e221239",
   "metadata": {},
   "source": [
    "Ahora vamos a generar una comprensión de lista con filtro - todos los cuadrados del 1 al 10 siempre y cuando sean menores a 50"
   ]
  },
  {
   "cell_type": "code",
   "id": "7cde0e96-e7aa-44bf-8c91-1ce790802d33",
   "metadata": {
    "ExecuteTime": {
     "end_time": "2024-06-25T03:05:29.283181Z",
     "start_time": "2024-06-25T03:05:29.280725Z"
    }
   },
   "source": "cuadrdos = [i**2 for i in range(1,11) if (i**2 )< 50]",
   "outputs": [],
   "execution_count": 261
  },
  {
   "cell_type": "code",
   "id": "a31678cb-3c3e-4da7-8d73-2241a64f35a7",
   "metadata": {
    "ExecuteTime": {
     "end_time": "2024-06-25T03:05:31.997080Z",
     "start_time": "2024-06-25T03:05:31.994284Z"
    }
   },
   "source": "cuadrdos",
   "outputs": [
    {
     "data": {
      "text/plain": [
       "[1, 4, 9, 16, 25, 36, 49]"
      ]
     },
     "execution_count": 262,
     "metadata": {},
     "output_type": "execute_result"
    }
   ],
   "execution_count": 262
  },
  {
   "cell_type": "markdown",
   "id": "4aa8c85a-f86c-4e9a-be7c-79eb3a72c482",
   "metadata": {},
   "source": [
    "Que tal que queremos una comprension de lista d etodos los cuadrados pares del 1 al 10?"
   ]
  },
  {
   "cell_type": "code",
   "id": "8c22dd51-3455-4106-b5c6-782d11643529",
   "metadata": {
    "ExecuteTime": {
     "end_time": "2024-06-25T03:06:35.746141Z",
     "start_time": "2024-06-25T03:06:35.743695Z"
    }
   },
   "source": "cuadrdos = [i**2 for i in range(1,11) if i%2 == 0]",
   "outputs": [],
   "execution_count": 263
  },
  {
   "cell_type": "code",
   "id": "687bf525-b3b7-4940-87f3-78b0b42b9206",
   "metadata": {
    "ExecuteTime": {
     "end_time": "2024-06-25T03:06:39.021436Z",
     "start_time": "2024-06-25T03:06:39.018115Z"
    }
   },
   "source": "cuadrdos",
   "outputs": [
    {
     "data": {
      "text/plain": [
       "[4, 16, 36, 64, 100]"
      ]
     },
     "execution_count": 264,
     "metadata": {},
     "output_type": "execute_result"
    }
   ],
   "execution_count": 264
  },
  {
   "cell_type": "markdown",
   "id": "6519a6e2-f7db-4902-bce7-66bddcf01da0",
   "metadata": {},
   "source": [
    "Vuelve a armar tu ensalada\n",
    "\n",
    " vegetales = ['apio','brocoli','lechuga']\n",
    "    "
   ]
  },
  {
   "cell_type": "code",
   "id": "2bbef5ac-54a5-446c-a7eb-629a420c5b50",
   "metadata": {
    "ExecuteTime": {
     "end_time": "2024-06-25T03:07:01.696124Z",
     "start_time": "2024-06-25T03:07:01.693959Z"
    }
   },
   "source": " vegetales = ['apio','brocoli','lechuga']",
   "outputs": [],
   "execution_count": 265
  },
  {
   "cell_type": "code",
   "id": "bdd7cc9b-4a6d-455b-9a4c-b588ad7c1695",
   "metadata": {
    "ExecuteTime": {
     "end_time": "2024-06-25T03:07:11.646076Z",
     "start_time": "2024-06-25T03:07:11.643067Z"
    }
   },
   "source": "vegetales",
   "outputs": [
    {
     "data": {
      "text/plain": [
       "['apio', 'brocoli', 'lechuga']"
      ]
     },
     "execution_count": 266,
     "metadata": {},
     "output_type": "execute_result"
    }
   ],
   "execution_count": 266
  },
  {
   "cell_type": "markdown",
   "id": "34ffd820-5dee-4b73-83e1-b9bcd9cbe96d",
   "metadata": {},
   "source": [
    "Arma una comprensión de lista que cambie todos estos a mayusculas"
   ]
  },
  {
   "cell_type": "code",
   "id": "e469e624-c61a-43f4-b7aa-669491edc9cb",
   "metadata": {
    "ExecuteTime": {
     "end_time": "2024-06-25T03:08:13.385867Z",
     "start_time": "2024-06-25T03:08:13.383732Z"
    }
   },
   "source": [
    "vegetalesM= [i.upper() for i in vegetales]\n",
    "#upper para volver todos en mayus"
   ],
   "outputs": [],
   "execution_count": 269
  },
  {
   "cell_type": "code",
   "id": "fa326a23-14e5-4355-a0e6-780c7a91780b",
   "metadata": {
    "ExecuteTime": {
     "end_time": "2024-06-25T03:08:15.362072Z",
     "start_time": "2024-06-25T03:08:15.359340Z"
    }
   },
   "source": "vegetalesM",
   "outputs": [
    {
     "data": {
      "text/plain": [
       "['APIO', 'BROCOLI', 'LECHUGA']"
      ]
     },
     "execution_count": 270,
     "metadata": {},
     "output_type": "execute_result"
    }
   ],
   "execution_count": 270
  },
  {
   "cell_type": "markdown",
   "id": "f4ec2120-193b-42e5-bdee-c6cf00796808",
   "metadata": {},
   "source": [
    "#### Por tu cuenta\n",
    "\n",
    "Arma una comprensión de lista que te devuelva tuplas de todos los numeros del 1 al 6 y sus cubos"
   ]
  },
  {
   "cell_type": "code",
   "id": "9cf8e3c1-bbf5-420d-ab2b-497ba1bc35ab",
   "metadata": {
    "ExecuteTime": {
     "end_time": "2024-06-25T03:12:24.232583Z",
     "start_time": "2024-06-25T03:12:24.229258Z"
    }
   },
   "source": [
    "tupla = [(i,i**3 ) for i in range(1,7)]\n",
    "tupla"
   ],
   "outputs": [
    {
     "data": {
      "text/plain": [
       "[(1, 1), (2, 8), (3, 27), (4, 64), (5, 125), (6, 216)]"
      ]
     },
     "execution_count": 278,
     "metadata": {},
     "output_type": "execute_result"
    }
   ],
   "execution_count": 278
  },
  {
   "cell_type": "markdown",
   "id": "e8638d69-e268-429c-b2fa-c78ead6334a6",
   "metadata": {},
   "source": [
    "#### Por tu cuenta\n",
    "\n",
    "Arma una comprensión de lista que te devuelva todos los mutliples de 3 menores a 60"
   ]
  },
  {
   "cell_type": "code",
   "id": "83306e4f-539d-4691-aaa7-4dc513824561",
   "metadata": {
    "ExecuteTime": {
     "end_time": "2024-06-25T03:17:56.578269Z",
     "start_time": "2024-06-25T03:17:56.575354Z"
    }
   },
   "source": [
    "muktiplos = [i for i in range(1,100) if (i%3==0 and i < 60)]\n",
    "muktiplos"
   ],
   "outputs": [
    {
     "data": {
      "text/plain": [
       "[3, 6, 9, 12, 15, 18, 21, 24, 27, 30, 33, 36, 39, 42, 45, 48, 51, 54, 57]"
      ]
     },
     "execution_count": 286,
     "metadata": {},
     "output_type": "execute_result"
    }
   ],
   "execution_count": 286
  },
  {
   "cell_type": "code",
   "execution_count": null,
   "id": "709712bb-d41f-4999-adaf-9801538ccbd5",
   "metadata": {},
   "outputs": [],
   "source": []
  },
  {
   "cell_type": "markdown",
   "id": "4faf8456-53ff-4a5a-8a5e-0a9c5871cc02",
   "metadata": {},
   "source": [
    "### 5.6.2.- Generador de Expresiones"
   ]
  },
  {
   "cell_type": "markdown",
   "id": "371fd199-f5a1-43ba-af06-6d52f3d453d4",
   "metadata": {},
   "source": [
    "Arma esta lista\n",
    "\n",
    "lista = [-3,5,8,4,1,-6,7,10]"
   ]
  },
  {
   "cell_type": "code",
   "id": "1e690475-ea47-444f-9a11-9f6254daaf51",
   "metadata": {
    "ExecuteTime": {
     "end_time": "2024-06-25T03:19:01.760534Z",
     "start_time": "2024-06-25T03:19:01.758036Z"
    }
   },
   "source": "lista = [-3,5,8,4,1,-6,7,10]",
   "outputs": [],
   "execution_count": 287
  },
  {
   "cell_type": "markdown",
   "id": "7b2acc02-9db6-4c97-8c60-e244d9b63c96",
   "metadata": {},
   "source": [
    "Arma un for que te muestre los cuadrados pares de esta lista"
   ]
  },
  {
   "metadata": {
    "ExecuteTime": {
     "end_time": "2024-06-25T03:20:14.591565Z",
     "start_time": "2024-06-25T03:20:14.588690Z"
    }
   },
   "cell_type": "code",
   "source": [
    "cuad_par = (i**2 for i in lista if i%2==0)\n",
    "cuad_par"
   ],
   "id": "c6798ae307a7260e",
   "outputs": [
    {
     "data": {
      "text/plain": [
       "<generator object <genexpr> at 0x795a040217d0>"
      ]
     },
     "execution_count": 288,
     "metadata": {},
     "output_type": "execute_result"
    }
   ],
   "execution_count": 288
  },
  {
   "cell_type": "markdown",
   "id": "e9164aa8-25bb-436b-8bb4-f6827b674404",
   "metadata": {},
   "source": [
    "Ahora checa como podemos hacer lo mismo con el generador de expresiones"
   ]
  },
  {
   "cell_type": "code",
   "id": "7c867d37-c1f8-45e1-8c5d-2c2cc7ae4d98",
   "metadata": {
    "ExecuteTime": {
     "end_time": "2024-06-25T03:20:57.538686Z",
     "start_time": "2024-06-25T03:20:57.535439Z"
    }
   },
   "source": "list(cuad_par)",
   "outputs": [
    {
     "data": {
      "text/plain": [
       "[64, 16, 36, 100]"
      ]
     },
     "execution_count": 290,
     "metadata": {},
     "output_type": "execute_result"
    }
   ],
   "execution_count": 290
  },
  {
   "cell_type": "markdown",
   "id": "c290a61b-6c18-41eb-9c15-4ad27e8f90a8",
   "metadata": {},
   "source": [
    "Y para ver los resultados usa list()"
   ]
  },
  {
   "cell_type": "code",
   "execution_count": null,
   "id": "030dbd25-49ee-441d-9058-6adb1cb034e6",
   "metadata": {},
   "outputs": [],
   "source": []
  },
  {
   "cell_type": "code",
   "execution_count": null,
   "id": "23c0de20-3e2b-4de1-9579-f6a6d8ce3641",
   "metadata": {},
   "outputs": [],
   "source": []
  },
  {
   "cell_type": "markdown",
   "id": "9311748b-4e6a-4176-8f7f-4ab6a47a17f0",
   "metadata": {},
   "source": [
    "#### Por tu cuenta\n",
    "\n",
    "Crea una expresion generadora que eleve al cubo los enteros pares en uan lista que contiene 10,3,7,1,9,4"
   ]
  },
  {
   "cell_type": "markdown",
   "id": "d785037d-ccf0-4b18-8d70-f63c7cd3135d",
   "metadata": {},
   "source": [
    "### 5.6.3.- Filtrar, mapear y reducir"
   ]
  },
  {
   "cell_type": "markdown",
   "id": "39194aec-910a-492e-91eb-6b6fb1b5eb83",
   "metadata": {},
   "source": [
    "Primero vamos a definir una funcion que cheque si un numero es par\n",
    "\n",
    "usaremos la lista lista=[-3,5,8,4,1,-6,7,10]"
   ]
  },
  {
   "cell_type": "code",
   "id": "4df31406-2bb0-49c6-a3f5-e49460b29fac",
   "metadata": {
    "ExecuteTime": {
     "end_time": "2024-06-25T03:22:02.523132Z",
     "start_time": "2024-06-25T03:22:02.519977Z"
    }
   },
   "source": "lista=[-3,5,8,4,1,-6,7,10]",
   "outputs": [],
   "execution_count": 291
  },
  {
   "cell_type": "code",
   "id": "c5426c00-0550-4b72-9968-0cf8386d5111",
   "metadata": {
    "ExecuteTime": {
     "end_time": "2024-06-25T03:22:54.705443Z",
     "start_time": "2024-06-25T03:22:54.702448Z"
    }
   },
   "source": [
    "def es_par (i):\n",
    "    return i%2 == 0\n"
   ],
   "outputs": [],
   "execution_count": 292
  },
  {
   "cell_type": "code",
   "execution_count": null,
   "id": "e6d5df31-e7f8-4cf8-aa22-835e5f3a9993",
   "metadata": {},
   "outputs": [],
   "source": []
  },
  {
   "cell_type": "markdown",
   "id": "a9ad5688-aac8-4549-b9c5-6425775085e8",
   "metadata": {},
   "source": [
    "Ahoa vamos a filtrar la lista usando esta nueva función"
   ]
  },
  {
   "cell_type": "code",
   "id": "6a441c8e-29f8-4c80-a388-a2ca3be63530",
   "metadata": {
    "ExecuteTime": {
     "end_time": "2024-06-25T03:24:09.489263Z",
     "start_time": "2024-06-25T03:24:09.485061Z"
    }
   },
   "source": "list(filter(es_par,lista))#filter le tenennmos que dar una funcion en base a la que va filtrar",
   "outputs": [
    {
     "data": {
      "text/plain": [
       "[8, 4, -6, 10]"
      ]
     },
     "execution_count": 293,
     "metadata": {},
     "output_type": "execute_result"
    }
   ],
   "execution_count": 293
  },
  {
   "cell_type": "code",
   "execution_count": null,
   "id": "3d2e7de7-24d0-4c95-a498-91813979390b",
   "metadata": {},
   "outputs": [],
   "source": []
  },
  {
   "cell_type": "markdown",
   "id": "fb4f69f6-f7f8-49f1-94a2-51f481ea137d",
   "metadata": {},
   "source": [
    "Podemos usar la comprensión de listas y nuestra nueva función para armar una lista"
   ]
  },
  {
   "cell_type": "code",
   "id": "e94eaa15-2e37-482b-a69d-28d95d002f06",
   "metadata": {
    "ExecuteTime": {
     "end_time": "2024-06-25T03:25:07.360858Z",
     "start_time": "2024-06-25T03:25:07.356673Z"
    }
   },
   "source": "[i for i in lista if es_par(i)]",
   "outputs": [
    {
     "data": {
      "text/plain": [
       "[8, 4, -6, 10]"
      ]
     },
     "execution_count": 294,
     "metadata": {},
     "output_type": "execute_result"
    }
   ],
   "execution_count": 294
  },
  {
   "cell_type": "code",
   "execution_count": null,
   "id": "61cbc5e1-94c5-4956-8831-23bfa30d89c3",
   "metadata": {},
   "outputs": [],
   "source": []
  },
  {
   "cell_type": "markdown",
   "id": "f0be8bcf-9b9e-4fb6-93cc-f0f30314f1b8",
   "metadata": {},
   "source": [
    "Cuando la funcion es tan sencilla, es mejor usar un lambda que andarla definiendo, como en este caso que hacemos lo mismo pero con lambda"
   ]
  },
  {
   "cell_type": "code",
   "id": "cdc77c6f-5e42-4d9c-acac-4615f49226f5",
   "metadata": {
    "ExecuteTime": {
     "end_time": "2024-06-25T03:26:05.577413Z",
     "start_time": "2024-06-25T03:26:05.573216Z"
    }
   },
   "source": "list(filter(lambda i: i%2==0,lista))",
   "outputs": [
    {
     "data": {
      "text/plain": [
       "[8, 4, -6, 10]"
      ]
     },
     "execution_count": 295,
     "metadata": {},
     "output_type": "execute_result"
    }
   ],
   "execution_count": 295
  },
  {
   "cell_type": "code",
   "execution_count": null,
   "id": "a13161a1-c80c-4f31-a58f-f2006d6f3996",
   "metadata": {},
   "outputs": [],
   "source": []
  },
  {
   "cell_type": "markdown",
   "id": "fb32d7b5-1e45-4906-9905-31dd6d7f94e3",
   "metadata": {},
   "source": [
    "Vamos a usar lambda y map para mostrar una comprensión de lista que eleva todo al cubo, la lsita a usar sera\n",
    "\n",
    "[-3, 5, 8, 4, 1, -6, 7, 10]\n"
   ]
  },
  {
   "cell_type": "code",
   "execution_count": null,
   "id": "51dd7c09-cb14-48f0-abf3-00cc4fea926c",
   "metadata": {},
   "outputs": [],
   "source": "lista = [-3, 5, 8, 4, 1, -6, 7, 10]"
  },
  {
   "cell_type": "code",
   "id": "d8ed07ec-bb97-44df-aaab-1dacef4adb10",
   "metadata": {
    "ExecuteTime": {
     "end_time": "2024-06-25T03:27:53.076735Z",
     "start_time": "2024-06-25T03:27:53.072612Z"
    }
   },
   "source": "list(map(lambda i: i**3, lista))",
   "outputs": [
    {
     "data": {
      "text/plain": [
       "[-27, 125, 512, 64, 1, -216, 343, 1000]"
      ]
     },
     "execution_count": 299,
     "metadata": {},
     "output_type": "execute_result"
    }
   ],
   "execution_count": 299
  },
  {
   "cell_type": "markdown",
   "id": "de526c84-8082-4b3c-b6a6-2e90f78b6288",
   "metadata": {},
   "source": "Podemos laograr lo mismo sin map"
  },
  {
   "cell_type": "code",
   "id": "c617c804-b9bc-4bcc-afcf-0f08ca5c03a7",
   "metadata": {
    "ExecuteTime": {
     "end_time": "2024-06-25T03:28:19.620978Z",
     "start_time": "2024-06-25T03:28:19.616372Z"
    }
   },
   "source": "[i**3 for i in lista]",
   "outputs": [
    {
     "data": {
      "text/plain": [
       "[-27, 125, 512, 64, 1, -216, 343, 1000]"
      ]
     },
     "execution_count": 300,
     "metadata": {},
     "output_type": "execute_result"
    }
   ],
   "execution_count": 300
  },
  {
   "cell_type": "code",
   "execution_count": null,
   "id": "67434fb6-6c67-4bcd-bd58-a12117587ea1",
   "metadata": {},
   "outputs": [],
   "source": []
  },
  {
   "cell_type": "markdown",
   "id": "5678af85-cfcf-470f-b443-5fc8905421e6",
   "metadata": {},
   "source": [
    "#### Por tu cuenta\n",
    "\n",
    "Crea una lista con numeros del 1 al 15 y luego\n",
    "- crea una nueva lista de los elementos impares\n",
    "- crea una nueva lista usando map y lambda para elevar al cuadrado a todos\n",
    "- filtra los elementos impares y luego mapealos a sus cuadrados"
   ]
  },
  {
   "cell_type": "code",
   "id": "195e11af-3382-4c54-93e1-9ffc012c7fd5",
   "metadata": {
    "ExecuteTime": {
     "end_time": "2024-06-25T03:29:16.022732Z",
     "start_time": "2024-06-25T03:29:16.018397Z"
    }
   },
   "source": [
    "lista = [i for i in range(1,16)]\n",
    "lista"
   ],
   "outputs": [
    {
     "data": {
      "text/plain": [
       "[1, 2, 3, 4, 5, 6, 7, 8, 9, 10, 11, 12, 13, 14, 15]"
      ]
     },
     "execution_count": 302,
     "metadata": {},
     "output_type": "execute_result"
    }
   ],
   "execution_count": 302
  },
  {
   "cell_type": "code",
   "id": "9dda78d7-f4bc-4019-936c-bf0d79222857",
   "metadata": {
    "ExecuteTime": {
     "end_time": "2024-06-25T03:30:16.519596Z",
     "start_time": "2024-06-25T03:30:16.515424Z"
    }
   },
   "source": [
    "lista_copy = [i for i in lista if i%3==0]\n",
    "lista_copy"
   ],
   "outputs": [
    {
     "data": {
      "text/plain": [
       "[3, 6, 9, 12, 15]"
      ]
     },
     "execution_count": 304,
     "metadata": {},
     "output_type": "execute_result"
    }
   ],
   "execution_count": 304
  },
  {
   "cell_type": "code",
   "id": "823ed889-29ad-4be3-96d2-7f9b113a8d06",
   "metadata": {
    "ExecuteTime": {
     "end_time": "2024-06-25T03:30:44.295582Z",
     "start_time": "2024-06-25T03:30:44.290832Z"
    }
   },
   "source": "list(map(lambda i: i**2, lista))",
   "outputs": [
    {
     "data": {
      "text/plain": [
       "[1, 4, 9, 16, 25, 36, 49, 64, 81, 100, 121, 144, 169, 196, 225]"
      ]
     },
     "execution_count": 305,
     "metadata": {},
     "output_type": "execute_result"
    }
   ],
   "execution_count": 305
  },
  {
   "cell_type": "code",
   "id": "c51796d3-4b5b-4564-9f33-dfffa97a35ea",
   "metadata": {
    "ExecuteTime": {
     "end_time": "2024-06-25T03:33:53.196500Z",
     "start_time": "2024-06-25T03:33:53.192Z"
    }
   },
   "source": "list(map(lambda i: i**2, filter(lambda i: i%2==1,lista)))",
   "outputs": [
    {
     "data": {
      "text/plain": [
       "[1, 9, 25, 49, 81, 121, 169, 225]"
      ]
     },
     "execution_count": 307,
     "metadata": {},
     "output_type": "execute_result"
    }
   ],
   "execution_count": 307
  },
  {
   "cell_type": "markdown",
   "id": "8982ada3-b911-4ce7-815d-cdfddd3e3309",
   "metadata": {},
   "source": [
    "## 5.7.- Listas de 2 Dimensiones"
   ]
  },
  {
   "cell_type": "markdown",
   "id": "4f792a56-c1f9-49f7-a240-dfc72c4307a8",
   "metadata": {},
   "source": [
    "Es posible crear una lista de 2 dimensiones en python"
   ]
  },
  {
   "cell_type": "code",
   "execution_count": null,
   "id": "ee176686-c117-456f-a50b-2b5d7cd83ed4",
   "metadata": {},
   "outputs": [],
   "source": []
  },
  {
   "cell_type": "code",
   "execution_count": null,
   "id": "3de7fdfd-e966-4099-a6d7-f49489467197",
   "metadata": {},
   "outputs": [],
   "source": []
  },
  {
   "cell_type": "code",
   "execution_count": null,
   "id": "1d3342b1-60e9-4725-bc02-951f0516e7a2",
   "metadata": {},
   "outputs": [],
   "source": []
  },
  {
   "cell_type": "markdown",
   "id": "97f237d9-fce6-4753-a5fd-72fef478a5ac",
   "metadata": {},
   "source": [
    "# 5.8.- Visualización de Datos Estáticos"
   ]
  },
  {
   "cell_type": "markdown",
   "id": "660fc61f-303f-4b13-8aa3-8b4daf7c0ef3",
   "metadata": {},
   "source": [
    "Importa las librerias"
   ]
  },
  {
   "cell_type": "code",
   "id": "84c07484-465f-4cf1-8e52-3743285474fa",
   "metadata": {
    "ExecuteTime": {
     "end_time": "2024-06-25T03:49:32.470944Z",
     "start_time": "2024-06-25T03:49:32.468323Z"
    }
   },
   "source": [
    "import matplotlib.pyplot as plt\n",
    "import numpy as np\n",
    "import random as rnd\n",
    "import seaborn as sns"
   ],
   "outputs": [],
   "execution_count": 316
  },
  {
   "cell_type": "code",
   "execution_count": null,
   "id": "c569f808-308d-4eb3-b10a-9404cdc41c26",
   "metadata": {},
   "outputs": [],
   "source": ""
  },
  {
   "cell_type": "markdown",
   "id": "04883860-0fef-4cb9-87c1-3c36fb79b907",
   "metadata": {},
   "source": [
    "Crea la grafica de barras incial"
   ]
  },
  {
   "cell_type": "code",
   "id": "3ff659a1-2b4d-4b9e-bf18-87c1fad11f32",
   "metadata": {
    "ExecuteTime": {
     "end_time": "2024-06-25T03:56:48.795843Z",
     "start_time": "2024-06-25T03:56:48.746333Z"
    }
   },
   "source": [
    "tiros_dados = [rnd.randrange(1,7) for i in range(600)]\n",
    "valores,frecuencias = np.unique(tiros_dados, return_counts=True)"
   ],
   "outputs": [],
   "execution_count": 319
  },
  {
   "cell_type": "code",
   "execution_count": null,
   "id": "a8ebf813-a961-47c2-8404-b2a19b6c6a3a",
   "metadata": {},
   "outputs": [],
   "source": []
  },
  {
   "cell_type": "markdown",
   "id": "b25012b0-d5b0-4a5c-ac57-12cb2090fa44",
   "metadata": {},
   "source": [
    "Pon la ventana y etiqueta los ejes"
   ]
  },
  {
   "cell_type": "code",
   "id": "e3944641-253b-4ac3-84ed-e02f9e38c965",
   "metadata": {
    "ExecuteTime": {
     "end_time": "2024-06-25T03:58:05.142682Z",
     "start_time": "2024-06-25T03:58:05.139334Z"
    }
   },
   "source": "title  = f'Resusltados de tirar los datos {len(tiros_dados)} veces'",
   "outputs": [],
   "execution_count": 320
  },
  {
   "cell_type": "code",
   "id": "a61601ae-ab53-4e23-b0c8-1711fcf344a2",
   "metadata": {
    "ExecuteTime": {
     "end_time": "2024-06-25T03:58:31.020411Z",
     "start_time": "2024-06-25T03:58:31.012607Z"
    }
   },
   "source": "sns.set_style('whitegrid')",
   "outputs": [],
   "execution_count": 321
  },
  {
   "cell_type": "code",
   "id": "dc8e8755-5bb7-4c73-aefc-86149f29d89f",
   "metadata": {
    "ExecuteTime": {
     "end_time": "2024-06-25T04:01:48.632929Z",
     "start_time": "2024-06-25T04:01:48.453158Z"
    }
   },
   "source": "axes = sns.barplot(x = valores, y = frecuencias, palette='bright')",
   "outputs": [
    {
     "name": "stderr",
     "output_type": "stream",
     "text": [
      "/tmp/ipykernel_3336/2598679590.py:1: FutureWarning: \n",
      "\n",
      "Passing `palette` without assigning `hue` is deprecated and will be removed in v0.14.0. Assign the `x` variable to `hue` and set `legend=False` for the same effect.\n",
      "\n",
      "  axes = sns.barplot(x = valores, y = frecuencias, palette='bright')\n"
     ]
    },
    {
     "data": {
      "text/plain": [
       "<Figure size 640x480 with 1 Axes>"
      ],
      "image/png": "[encoded data removed]"
     },
     "metadata": {},
     "output_type": "display_data"
    }
   ],
   "execution_count": 328
  },
  {
   "cell_type": "markdown",
   "id": "5072413f-bc1e-4cc6-a115-1f307801dfb4",
   "metadata": {},
   "source": [
    "Finaliza la grafica de barras"
   ]
  },
  {
   "cell_type": "code",
   "id": "a2c59038-d30f-4391-a1e7-d46270f939c8",
   "metadata": {
    "ExecuteTime": {
     "end_time": "2024-06-25T04:05:04.173230Z",
     "start_time": "2024-06-25T04:05:03.731641Z"
    }
   },
   "source": [
    "tiros_dados = [rnd.randrange(1,7) for i in range(600)]\n",
    "valores,frecuencias = np.unique(tiros_dados, return_counts=True)\n",
    "title  = f'Resusltados de tirar los datos {len(tiros_dados)} veces'\n",
    "sns.set_style('whitegrid')\n",
    "axes = sns.barplot(x = valores, y = frecuencias, palette='bright')\n",
    "axes.set_title(title)\n",
    "axes.set(xlabel='valores', ylabel='Frecuencia')\n",
    "axes.set_ylim(top=max(frecuencias)*1.10)\n"
   ],
   "outputs": [
    {
     "name": "stderr",
     "output_type": "stream",
     "text": [
      "/tmp/ipykernel_3336/3034841485.py:5: FutureWarning: \n",
      "\n",
      "Passing `palette` without assigning `hue` is deprecated and will be removed in v0.14.0. Assign the `x` variable to `hue` and set `legend=False` for the same effect.\n",
      "\n",
      "  axes = sns.barplot(x = valores, y = frecuencias, palette='bright')\n"
     ]
    },
    {
     "data": {
      "text/plain": [
       "(0.0, 119.9)"
      ]
     },
     "execution_count": 337,
     "metadata": {},
     "output_type": "execute_result"
    },
    {
     "data": {
      "text/plain": [
       "<Figure size 640x480 with 1 Axes>"
      ],
      "image/png": "[encoded data removed]"
     },
     "metadata": {},
     "output_type": "display_data"
    }
   ],
   "execution_count": 337
  },
  {
   "cell_type": "code",
   "execution_count": null,
   "id": "e00e14b3-9fbc-4c71-873b-59ffa9c9d801",
   "metadata": {},
   "outputs": [],
   "source": []
  },
  {
   "cell_type": "code",
   "execution_count": null,
   "id": "ef08d82c-3912-4137-87c3-66ad41efe17b",
   "metadata": {},
   "outputs": [],
   "source": []
  },
  {
   "cell_type": "markdown",
   "id": "1bdc0a7a-3035-4f6d-80ae-d09c823a3df5",
   "metadata": {},
   "source": [
    "Tira de nuevo usando magia"
   ]
  },
  {
   "cell_type": "markdown",
   "id": "061e56bc-62f3-435a-ae25-2e8dbab3a066",
   "metadata": {},
   "source": [
    "Guarda tu programa usando magia"
   ]
  },
  {
   "cell_type": "code",
   "execution_count": null,
   "id": "8227b0d0-539a-47a4-ac77-87fb8afd0ec0",
   "metadata": {},
   "outputs": [],
   "source": []
  },
  {
   "cell_type": "code",
   "execution_count": null,
   "id": "f087a573-ae91-4133-93e7-7b5ab56213ee",
   "metadata": {},
   "outputs": [],
   "source": []
  }
 ],
 "metadata": {
  "kernelspec": {
   "display_name": "Python 3",
   "language": "python",
   "name": "python3"
  },
  "language_info": {
   "codemirror_mode": {
    "name": "ipython",
    "version": 3
   },
   "file_extension": ".py",
   "mimetype": "text/x-python",
   "name": "python",
   "nbconvert_exporter": "python",
   "pygments_lexer": "ipython3",
   "version": "3.8.8"
  }
 },
 "nbformat": 4,
 "nbformat_minor": 5
}
