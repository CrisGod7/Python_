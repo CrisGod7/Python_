{
 "cells": [
  {
   "cell_type": "markdown",
   "id": "8337f114-60c5-4763-b70a-593ec4e11315",
   "metadata": {},
   "source": [
    "# 12.- Procesamiento de Lenguaje Natural"
   ]
  },
  {
   "cell_type": "markdown",
   "id": "a85a16d9-3142-4a20-b505-269b53b7e1bb",
   "metadata": {},
   "source": [
    "### 12.0.1.- Instalando TextBlob"
   ]
  },
  {
   "cell_type": "markdown",
   "id": "2c5bfff5-b074-47a4-b71e-43c9a827371c",
   "metadata": {},
   "source": [
    "Lo primero será instalar TextBlob desde el prompt de anaconda\n",
    "\n",
    "conda install -c confa-forge textblob"
   ]
  },
  {
   "cell_type": "markdown",
   "id": "4bcfe69e-244b-4aef-8927-8a23d6967a77",
   "metadata": {},
   "source": [
    "Una vez ejecutado, corre el siguiente comando\n",
    "\n",
    "ipython -m textblob.download_corpora"
   ]
  },
  {
   "cell_type": "markdown",
   "id": "8c85e0dc-11c9-495d-b55e-4a40c2eec460",
   "metadata": {},
   "source": [
    "## 12.2.- TextBlob"
   ]
  },
  {
   "cell_type": "markdown",
   "id": "b50cce96-bd24-46d9-9c6d-ab23a19088cb",
   "metadata": {},
   "source": [
    "### 12.2.2.- Crear un TextBlob"
   ]
  },
  {
   "cell_type": "markdown",
   "id": "4462e2c3-4d35-4628-a8e8-85e5b2a7af4e",
   "metadata": {},
   "source": [
    "Vamos a crear un textblob con el texto 'Y cuando despertó. Todo a su alrededor era luminoso'"
   ]
  },
  {
   "cell_type": "code",
   "id": "d4ffc636-d99a-4565-95ba-0a4236ef4084",
   "metadata": {
    "ExecuteTime": {
     "end_time": "2024-07-08T00:31:26.993547Z",
     "start_time": "2024-07-08T00:31:25.805787Z"
    }
   },
   "source": "from textblob import TextBlob",
   "outputs": [],
   "execution_count": 1
  },
  {
   "cell_type": "code",
   "id": "59f8d266-efde-4346-9d00-7bbc572cc1d6",
   "metadata": {
    "ExecuteTime": {
     "end_time": "2024-07-08T00:32:29.461217Z",
     "start_time": "2024-07-08T00:32:29.457709Z"
    }
   },
   "source": "text = 'Y cuando despertó. Todo a su alrededor era luminoso'",
   "outputs": [],
   "execution_count": 2
  },
  {
   "cell_type": "code",
   "id": "392a28b9-1c04-4796-84a7-3eb5f1ed7cfd",
   "metadata": {
    "ExecuteTime": {
     "end_time": "2024-07-08T00:33:06.127444Z",
     "start_time": "2024-07-08T00:33:06.123314Z"
    }
   },
   "source": "blob = TextBlob(text)",
   "outputs": [],
   "execution_count": 3
  },
  {
   "cell_type": "code",
   "id": "53531a8b-16a3-455b-836b-da404faf1359",
   "metadata": {
    "ExecuteTime": {
     "end_time": "2024-07-08T00:33:15.513546Z",
     "start_time": "2024-07-08T00:33:15.508419Z"
    }
   },
   "source": "blob",
   "outputs": [
    {
     "data": {
      "text/plain": [
       "TextBlob(\"Y cuando despertó. Todo a su alrededor era luminoso\")"
      ]
     },
     "execution_count": 5,
     "metadata": {},
     "output_type": "execute_result"
    }
   ],
   "execution_count": 5
  },
  {
   "cell_type": "markdown",
   "id": "1a198156-2de3-43b2-a09e-8f6a89c6d0d5",
   "metadata": {},
   "source": [
    "### 12.2.3.- Tokenizar"
   ]
  },
  {
   "cell_type": "markdown",
   "id": "c47c93b8-5742-4028-9af6-7e5d67e36021",
   "metadata": {},
   "source": [
    "Ahora vamos a obtener una lista de oraciones"
   ]
  },
  {
   "cell_type": "code",
   "id": "5f1a57ec-0a5d-465d-aacd-1e36f4c54c89",
   "metadata": {
    "ExecuteTime": {
     "end_time": "2024-07-08T00:34:02.739784Z",
     "start_time": "2024-07-08T00:34:02.721379Z"
    }
   },
   "source": "blob.sentences",
   "outputs": [
    {
     "data": {
      "text/plain": [
       "[Sentence(\"Y cuando despertó.\"), Sentence(\"Todo a su alrededor era luminoso\")]"
      ]
     },
     "execution_count": 6,
     "metadata": {},
     "output_type": "execute_result"
    }
   ],
   "execution_count": 6
  },
  {
   "cell_type": "markdown",
   "id": "1546196d-9a34-4196-bf51-a2439d80b569",
   "metadata": {},
   "source": [
    "Y una lista de palabras"
   ]
  },
  {
   "cell_type": "code",
   "id": "af5a3fc1-91e5-4bf9-bca3-992dd90191f5",
   "metadata": {
    "ExecuteTime": {
     "end_time": "2024-07-08T00:34:30.660152Z",
     "start_time": "2024-07-08T00:34:30.655327Z"
    }
   },
   "source": "blob.words",
   "outputs": [
    {
     "data": {
      "text/plain": [
       "WordList(['Y', 'cuando', 'despertó', 'Todo', 'a', 'su', 'alrededor', 'era', 'luminoso'])"
      ]
     },
     "execution_count": 7,
     "metadata": {},
     "output_type": "execute_result"
    }
   ],
   "execution_count": 7
  },
  {
   "cell_type": "code",
   "execution_count": null,
   "id": "6b0b72db-bd0a-4de4-a770-718b9314eab3",
   "metadata": {},
   "outputs": [],
   "source": []
  },
  {
   "cell_type": "markdown",
   "id": "bded994a-b85c-4ad4-8674-bded8ff559f8",
   "metadata": {},
   "source": [
    "Repetimos para 'I have good discipline to study. In the future I will be a great engineer'"
   ]
  },
  {
   "cell_type": "code",
   "id": "50e4942a-6b36-45d1-bd11-6ff4108cfe4e",
   "metadata": {
    "ExecuteTime": {
     "end_time": "2024-07-08T00:35:15.581160Z",
     "start_time": "2024-07-08T00:35:15.577915Z"
    }
   },
   "source": "second_text = 'I have good discipline to study. In the future I will be a great engineer'",
   "outputs": [],
   "execution_count": 8
  },
  {
   "cell_type": "code",
   "id": "c72bfb91-4026-4175-aeaa-ecc313df93b3",
   "metadata": {
    "ExecuteTime": {
     "end_time": "2024-07-08T00:35:20.085552Z",
     "start_time": "2024-07-08T00:35:20.081091Z"
    }
   },
   "source": "blob = TextBlob(second_text)",
   "outputs": [],
   "execution_count": 9
  },
  {
   "cell_type": "code",
   "id": "ad74406d-cc58-4e75-8a0f-479388029c01",
   "metadata": {
    "ExecuteTime": {
     "end_time": "2024-07-08T00:35:28.281036Z",
     "start_time": "2024-07-08T00:35:28.275636Z"
    }
   },
   "source": "blob.sentences",
   "outputs": [
    {
     "data": {
      "text/plain": [
       "[Sentence(\"I have good discipline to study.\"),\n",
       " Sentence(\"In the future I will be a great engineer\")]"
      ]
     },
     "execution_count": 10,
     "metadata": {},
     "output_type": "execute_result"
    }
   ],
   "execution_count": 10
  },
  {
   "cell_type": "code",
   "id": "027a5b94-dbe1-48cb-bc5c-0dcfb6008009",
   "metadata": {
    "ExecuteTime": {
     "end_time": "2024-07-08T00:35:35.098593Z",
     "start_time": "2024-07-08T00:35:35.094093Z"
    }
   },
   "source": "blob.words",
   "outputs": [
    {
     "data": {
      "text/plain": [
       "WordList(['I', 'have', 'good', 'discipline', 'to', 'study', 'In', 'the', 'future', 'I', 'will', 'be', 'a', 'great', 'engineer'])"
      ]
     },
     "execution_count": 11,
     "metadata": {},
     "output_type": "execute_result"
    }
   ],
   "execution_count": 11
  },
  {
   "cell_type": "markdown",
   "id": "ca188e35-2893-41f3-9d8d-9828afc90bd7",
   "metadata": {},
   "source": [
    "### 12.2.4.- Parte del habla"
   ]
  },
  {
   "cell_type": "markdown",
   "id": "83c8ff74-4e75-4918-99bd-6df285ea5636",
   "metadata": {},
   "source": [
    "Ahora vamos a etiquetar cada parte de la oración en su categoría de sustantivo, pronotmbre, verbo, etc"
   ]
  },
  {
   "cell_type": "code",
   "id": "38a2d638-3bd5-4706-9467-fd17cf263582",
   "metadata": {
    "ExecuteTime": {
     "end_time": "2024-07-08T00:36:58.563633Z",
     "start_time": "2024-07-08T00:36:58.468586Z"
    }
   },
   "source": "blob.tags",
   "outputs": [
    {
     "data": {
      "text/plain": [
       "[('I', 'PRP'),\n",
       " ('have', 'VBP'),\n",
       " ('good', 'JJ'),\n",
       " ('discipline', 'NN'),\n",
       " ('to', 'TO'),\n",
       " ('study', 'VB'),\n",
       " ('In', 'IN'),\n",
       " ('the', 'DT'),\n",
       " ('future', 'NN'),\n",
       " ('I', 'PRP'),\n",
       " ('will', 'MD'),\n",
       " ('be', 'VB'),\n",
       " ('a', 'DT'),\n",
       " ('great', 'JJ'),\n",
       " ('engineer', 'NN')]"
      ]
     },
     "execution_count": 12,
     "metadata": {},
     "output_type": "execute_result"
    }
   ],
   "execution_count": 12
  },
  {
   "cell_type": "markdown",
   "id": "c7a3a9f4-4ebe-4bb9-b6f5-4ed48fb93de1",
   "metadata": {},
   "source": [
    "### 12.2.5.- Frases de sustantivos"
   ]
  },
  {
   "cell_type": "markdown",
   "id": "12344c57-80c8-42dd-a61c-3f99f016cb09",
   "metadata": {},
   "source": [
    "Le podemos pedir noun phrases a nuestro textblob"
   ]
  },
  {
   "cell_type": "code",
   "id": "4ac21387-1a05-4bc3-9892-cb1ea05ab9e2",
   "metadata": {
    "ExecuteTime": {
     "end_time": "2024-07-08T00:37:42.411570Z",
     "start_time": "2024-07-08T00:37:38.984526Z"
    }
   },
   "source": "blob.noun_phrases",
   "outputs": [
    {
     "data": {
      "text/plain": [
       "WordList(['good discipline', 'great engineer'])"
      ]
     },
     "execution_count": 13,
     "metadata": {},
     "output_type": "execute_result"
    }
   ],
   "execution_count": 13
  },
  {
   "cell_type": "markdown",
   "id": "d36d1e1b-b203-47ff-a983-b8ae794d011f",
   "metadata": {},
   "source": [
    "### 12.2.6.- Analisis de sentimientos"
   ]
  },
  {
   "cell_type": "markdown",
   "id": "1c3075c6-e3e6-4c7f-a248-ccdb6bf0afd4",
   "metadata": {},
   "source": [
    "También podemos analizar el sentimento de una oración. Vamos dandole con l oración que traiamos"
   ]
  },
  {
   "cell_type": "markdown",
   "id": "f29c3a15-53ae-4b0f-ad33-3dbc0ba9d230",
   "metadata": {},
   "source": [
    "Ahora otro ejemplo = 'I am a bad student. I will not be able to finish my studies'"
   ]
  },
  {
   "cell_type": "code",
   "id": "51f5babf-3f70-4f49-9839-238c1cd21623",
   "metadata": {
    "ExecuteTime": {
     "end_time": "2024-07-08T00:40:21.878384Z",
     "start_time": "2024-07-08T00:40:21.874352Z"
    }
   },
   "source": "text_tres = \"I'm a bad student. I will not be able to finish my studies\"",
   "outputs": [],
   "execution_count": 17
  },
  {
   "cell_type": "code",
   "id": "065c0dcc-0f55-4a8e-99d0-8609c48f8b1e",
   "metadata": {
    "ExecuteTime": {
     "end_time": "2024-07-08T00:40:25.993940Z",
     "start_time": "2024-07-08T00:40:25.990556Z"
    }
   },
   "source": "blob_tres = TextBlob(text_tres)",
   "outputs": [],
   "execution_count": 18
  },
  {
   "cell_type": "code",
   "execution_count": null,
   "id": "232aefab-9ea4-4d0c-ad5a-1dad08e2e8ff",
   "metadata": {},
   "outputs": [],
   "source": []
  },
  {
   "cell_type": "markdown",
   "id": "7fc7dd12-c2b0-4f97-8dda-620d7e9f021f",
   "metadata": {},
   "source": [
    "Y lo repetimos para el mismo ejemplo pero frase por frase"
   ]
  },
  {
   "cell_type": "code",
   "id": "e07bcfe4-31bb-4166-95f0-52fad911f89b",
   "metadata": {
    "ExecuteTime": {
     "end_time": "2024-07-08T00:40:45.549081Z",
     "start_time": "2024-07-08T00:40:45.544547Z"
    }
   },
   "source": [
    "blob_tres.sentiment\n",
    "#polarity is negative, I'm feeling bad\n",
    "#else is positice"
   ],
   "outputs": [
    {
     "data": {
      "text/plain": [
       "Sentiment(polarity=-0.09999999999999992, subjectivity=0.6458333333333333)"
      ]
     },
     "execution_count": 19,
     "metadata": {},
     "output_type": "execute_result"
    }
   ],
   "execution_count": 19
  },
  {
   "cell_type": "markdown",
   "id": "3f42f2d2-cddc-4fe7-af05-981d8f15196b",
   "metadata": {},
   "source": [
    "Se puede hacer lo mismo mediante NaiveBayes (en vez de el default pattern)"
   ]
  },
  {
   "cell_type": "code",
   "id": "7a598b15-1cc2-4d68-920b-4264a5a4ee6b",
   "metadata": {
    "ExecuteTime": {
     "end_time": "2024-07-08T00:42:11.246312Z",
     "start_time": "2024-07-08T00:42:11.241963Z"
    }
   },
   "source": [
    "for sentence in blob_tres.sentences:\n",
    "    print(sentence.sentiment)"
   ],
   "outputs": [
    {
     "name": "stdout",
     "output_type": "stream",
     "text": [
      "Sentiment(polarity=-0.6999999999999998, subjectivity=0.6666666666666666)\n",
      "Sentiment(polarity=0.5, subjectivity=0.625)\n"
     ]
    }
   ],
   "execution_count": 20
  },
  {
   "cell_type": "code",
   "id": "bbaf535a-9452-481f-82b4-85d78137e75c",
   "metadata": {
    "ExecuteTime": {
     "end_time": "2024-07-08T00:44:10.047244Z",
     "start_time": "2024-07-08T00:44:10.044114Z"
    }
   },
   "source": "from textblob.sentiments import NaiveBayesAnalyzer",
   "outputs": [],
   "execution_count": 21
  },
  {
   "cell_type": "code",
   "id": "03283945-4a6a-4568-b87b-1fdc17dc6631",
   "metadata": {
    "ExecuteTime": {
     "end_time": "2024-07-08T00:44:30.384103Z",
     "start_time": "2024-07-08T00:44:30.380757Z"
    }
   },
   "source": "blob_tres = TextBlob(text_tres,analyzer=NaiveBayesAnalyzer())",
   "outputs": [],
   "execution_count": 22
  },
  {
   "cell_type": "code",
   "id": "075589c4-a9c4-4525-909d-3afc28570115",
   "metadata": {
    "ExecuteTime": {
     "end_time": "2024-07-08T00:44:55.205802Z",
     "start_time": "2024-07-08T00:44:40.630490Z"
    }
   },
   "source": "blob_tres.sentiment",
   "outputs": [
    {
     "data": {
      "text/plain": [
       "Sentiment(classification='pos', p_pos=0.9111144935259595, p_neg=0.08888550647403913)"
      ]
     },
     "execution_count": 23,
     "metadata": {},
     "output_type": "execute_result"
    }
   ],
   "execution_count": 23
  },
  {
   "cell_type": "code",
   "execution_count": null,
   "id": "316cc161-3c38-4843-9dd5-9ecd52300269",
   "metadata": {},
   "outputs": [],
   "source": []
  },
  {
   "cell_type": "markdown",
   "id": "b40f753a-41cb-4b95-90d1-bae927b4ece5",
   "metadata": {},
   "source": [
    "## 12.3.- Detección de lenguaje y traducción"
   ]
  },
  {
   "cell_type": "markdown",
   "id": "c321b6c2-824b-43f5-a17e-becefcc40aa6",
   "metadata": {},
   "source": [
    "Escribe Bonjour y determina el lenguaje usando textblob"
   ]
  },
  {
   "cell_type": "code",
   "id": "80f4a8a0-0440-4e96-baaf-5050d3b41652",
   "metadata": {
    "ExecuteTime": {
     "end_time": "2024-07-08T00:46:58.855685Z",
     "start_time": "2024-07-08T00:46:58.852083Z"
    }
   },
   "source": "tex_france = 'bonjour'",
   "outputs": [],
   "execution_count": 24
  },
  {
   "cell_type": "code",
   "id": "87a2513b-379b-49ee-a9c5-fdc6283b718c",
   "metadata": {
    "ExecuteTime": {
     "end_time": "2024-07-08T00:47:05.033487Z",
     "start_time": "2024-07-08T00:47:05.030249Z"
    }
   },
   "source": "blob_france = TextBlob(tex_france)",
   "outputs": [],
   "execution_count": 25
  },
  {
   "cell_type": "code",
   "id": "121204c3-5db5-4d6e-aa48-0e1ae366b260",
   "metadata": {
    "ExecuteTime": {
     "end_time": "2024-07-08T00:47:38.155201Z",
     "start_time": "2024-07-08T00:47:37.986371Z"
    }
   },
   "source": "blob_france.detect_language()",
   "outputs": [
    {
     "ename": "HTTPError",
     "evalue": "HTTP Error 400: Bad Request",
     "output_type": "error",
     "traceback": [
      "\u001B[1;31m---------------------------------------------------------------------------\u001B[0m",
      "\u001B[1;31mHTTPError\u001B[0m                                 Traceback (most recent call last)",
      "Cell \u001B[1;32mIn[38], line 1\u001B[0m\n\u001B[1;32m----> 1\u001B[0m blob_france\u001B[38;5;241m.\u001B[39mdetect_language()\n",
      "File \u001B[1;32m~\\miniconda3\\Lib\\site-packages\\textblob\\blob.py:568\u001B[0m, in \u001B[0;36mBaseBlob.detect_language\u001B[1;34m(self)\u001B[0m\n\u001B[0;32m    549\u001B[0m \u001B[38;5;28;01mdef\u001B[39;00m \u001B[38;5;21mdetect_language\u001B[39m(\u001B[38;5;28mself\u001B[39m):\n\u001B[0;32m    550\u001B[0m \u001B[38;5;250m    \u001B[39m\u001B[38;5;124;03m\"\"\"Detect the blob's language using the Google Translate API.\u001B[39;00m\n\u001B[0;32m    551\u001B[0m \n\u001B[0;32m    552\u001B[0m \u001B[38;5;124;03m    Requires an internet connection.\u001B[39;00m\n\u001B[1;32m   (...)\u001B[0m\n\u001B[0;32m    566\u001B[0m \u001B[38;5;124;03m    :rtype: str\u001B[39;00m\n\u001B[0;32m    567\u001B[0m \u001B[38;5;124;03m    \"\"\"\u001B[39;00m\n\u001B[1;32m--> 568\u001B[0m     \u001B[38;5;28;01mreturn\u001B[39;00m \u001B[38;5;28mself\u001B[39m\u001B[38;5;241m.\u001B[39mtranslator\u001B[38;5;241m.\u001B[39mdetect(\u001B[38;5;28mself\u001B[39m\u001B[38;5;241m.\u001B[39mraw)\n",
      "File \u001B[1;32m~\\miniconda3\\Lib\\site-packages\\textblob\\translate.py:72\u001B[0m, in \u001B[0;36mTranslator.detect\u001B[1;34m(self, source, host, type_)\u001B[0m\n\u001B[0;32m     70\u001B[0m data \u001B[38;5;241m=\u001B[39m {\u001B[38;5;124m\"\u001B[39m\u001B[38;5;124mq\u001B[39m\u001B[38;5;124m\"\u001B[39m: source}\n\u001B[0;32m     71\u001B[0m url \u001B[38;5;241m=\u001B[39m \u001B[38;5;124mu\u001B[39m\u001B[38;5;124m'\u001B[39m\u001B[38;5;132;01m{url}\u001B[39;00m\u001B[38;5;124m&sl=auto&tk=\u001B[39m\u001B[38;5;132;01m{tk}\u001B[39;00m\u001B[38;5;124m'\u001B[39m\u001B[38;5;241m.\u001B[39mformat(url\u001B[38;5;241m=\u001B[39m\u001B[38;5;28mself\u001B[39m\u001B[38;5;241m.\u001B[39murl, tk\u001B[38;5;241m=\u001B[39m_calculate_tk(source))\n\u001B[1;32m---> 72\u001B[0m response \u001B[38;5;241m=\u001B[39m \u001B[38;5;28mself\u001B[39m\u001B[38;5;241m.\u001B[39m_request(url, host\u001B[38;5;241m=\u001B[39mhost, type_\u001B[38;5;241m=\u001B[39mtype_, data\u001B[38;5;241m=\u001B[39mdata)\n\u001B[0;32m     73\u001B[0m result, language \u001B[38;5;241m=\u001B[39m json\u001B[38;5;241m.\u001B[39mloads(response)\n\u001B[0;32m     74\u001B[0m \u001B[38;5;28;01mreturn\u001B[39;00m language\n",
      "File \u001B[1;32m~\\miniconda3\\Lib\\site-packages\\textblob\\translate.py:92\u001B[0m, in \u001B[0;36mTranslator._request\u001B[1;34m(self, url, host, type_, data)\u001B[0m\n\u001B[0;32m     90\u001B[0m \u001B[38;5;28;01mif\u001B[39;00m host \u001B[38;5;129;01mor\u001B[39;00m type_:\n\u001B[0;32m     91\u001B[0m     req\u001B[38;5;241m.\u001B[39mset_proxy(host\u001B[38;5;241m=\u001B[39mhost, \u001B[38;5;28mtype\u001B[39m\u001B[38;5;241m=\u001B[39mtype_)\n\u001B[1;32m---> 92\u001B[0m resp \u001B[38;5;241m=\u001B[39m request\u001B[38;5;241m.\u001B[39murlopen(req)\n\u001B[0;32m     93\u001B[0m content \u001B[38;5;241m=\u001B[39m resp\u001B[38;5;241m.\u001B[39mread()\n\u001B[0;32m     94\u001B[0m \u001B[38;5;28;01mreturn\u001B[39;00m content\u001B[38;5;241m.\u001B[39mdecode(\u001B[38;5;124m'\u001B[39m\u001B[38;5;124mutf-8\u001B[39m\u001B[38;5;124m'\u001B[39m)\n",
      "File \u001B[1;32m~\\miniconda3\\Lib\\urllib\\request.py:215\u001B[0m, in \u001B[0;36murlopen\u001B[1;34m(url, data, timeout, cafile, capath, cadefault, context)\u001B[0m\n\u001B[0;32m    213\u001B[0m \u001B[38;5;28;01melse\u001B[39;00m:\n\u001B[0;32m    214\u001B[0m     opener \u001B[38;5;241m=\u001B[39m _opener\n\u001B[1;32m--> 215\u001B[0m \u001B[38;5;28;01mreturn\u001B[39;00m opener\u001B[38;5;241m.\u001B[39mopen(url, data, timeout)\n",
      "File \u001B[1;32m~\\miniconda3\\Lib\\urllib\\request.py:521\u001B[0m, in \u001B[0;36mOpenerDirector.open\u001B[1;34m(self, fullurl, data, timeout)\u001B[0m\n\u001B[0;32m    519\u001B[0m \u001B[38;5;28;01mfor\u001B[39;00m processor \u001B[38;5;129;01min\u001B[39;00m \u001B[38;5;28mself\u001B[39m\u001B[38;5;241m.\u001B[39mprocess_response\u001B[38;5;241m.\u001B[39mget(protocol, []):\n\u001B[0;32m    520\u001B[0m     meth \u001B[38;5;241m=\u001B[39m \u001B[38;5;28mgetattr\u001B[39m(processor, meth_name)\n\u001B[1;32m--> 521\u001B[0m     response \u001B[38;5;241m=\u001B[39m meth(req, response)\n\u001B[0;32m    523\u001B[0m \u001B[38;5;28;01mreturn\u001B[39;00m response\n",
      "File \u001B[1;32m~\\miniconda3\\Lib\\urllib\\request.py:630\u001B[0m, in \u001B[0;36mHTTPErrorProcessor.http_response\u001B[1;34m(self, request, response)\u001B[0m\n\u001B[0;32m    627\u001B[0m \u001B[38;5;66;03m# According to RFC 2616, \"2xx\" code indicates that the client's\u001B[39;00m\n\u001B[0;32m    628\u001B[0m \u001B[38;5;66;03m# request was successfully received, understood, and accepted.\u001B[39;00m\n\u001B[0;32m    629\u001B[0m \u001B[38;5;28;01mif\u001B[39;00m \u001B[38;5;129;01mnot\u001B[39;00m (\u001B[38;5;241m200\u001B[39m \u001B[38;5;241m<\u001B[39m\u001B[38;5;241m=\u001B[39m code \u001B[38;5;241m<\u001B[39m \u001B[38;5;241m300\u001B[39m):\n\u001B[1;32m--> 630\u001B[0m     response \u001B[38;5;241m=\u001B[39m \u001B[38;5;28mself\u001B[39m\u001B[38;5;241m.\u001B[39mparent\u001B[38;5;241m.\u001B[39merror(\n\u001B[0;32m    631\u001B[0m         \u001B[38;5;124m'\u001B[39m\u001B[38;5;124mhttp\u001B[39m\u001B[38;5;124m'\u001B[39m, request, response, code, msg, hdrs)\n\u001B[0;32m    633\u001B[0m \u001B[38;5;28;01mreturn\u001B[39;00m response\n",
      "File \u001B[1;32m~\\miniconda3\\Lib\\urllib\\request.py:559\u001B[0m, in \u001B[0;36mOpenerDirector.error\u001B[1;34m(self, proto, *args)\u001B[0m\n\u001B[0;32m    557\u001B[0m \u001B[38;5;28;01mif\u001B[39;00m http_err:\n\u001B[0;32m    558\u001B[0m     args \u001B[38;5;241m=\u001B[39m (\u001B[38;5;28mdict\u001B[39m, \u001B[38;5;124m'\u001B[39m\u001B[38;5;124mdefault\u001B[39m\u001B[38;5;124m'\u001B[39m, \u001B[38;5;124m'\u001B[39m\u001B[38;5;124mhttp_error_default\u001B[39m\u001B[38;5;124m'\u001B[39m) \u001B[38;5;241m+\u001B[39m orig_args\n\u001B[1;32m--> 559\u001B[0m     \u001B[38;5;28;01mreturn\u001B[39;00m \u001B[38;5;28mself\u001B[39m\u001B[38;5;241m.\u001B[39m_call_chain(\u001B[38;5;241m*\u001B[39margs)\n",
      "File \u001B[1;32m~\\miniconda3\\Lib\\urllib\\request.py:492\u001B[0m, in \u001B[0;36mOpenerDirector._call_chain\u001B[1;34m(self, chain, kind, meth_name, *args)\u001B[0m\n\u001B[0;32m    490\u001B[0m \u001B[38;5;28;01mfor\u001B[39;00m handler \u001B[38;5;129;01min\u001B[39;00m handlers:\n\u001B[0;32m    491\u001B[0m     func \u001B[38;5;241m=\u001B[39m \u001B[38;5;28mgetattr\u001B[39m(handler, meth_name)\n\u001B[1;32m--> 492\u001B[0m     result \u001B[38;5;241m=\u001B[39m func(\u001B[38;5;241m*\u001B[39margs)\n\u001B[0;32m    493\u001B[0m     \u001B[38;5;28;01mif\u001B[39;00m result \u001B[38;5;129;01mis\u001B[39;00m \u001B[38;5;129;01mnot\u001B[39;00m \u001B[38;5;28;01mNone\u001B[39;00m:\n\u001B[0;32m    494\u001B[0m         \u001B[38;5;28;01mreturn\u001B[39;00m result\n",
      "File \u001B[1;32m~\\miniconda3\\Lib\\urllib\\request.py:639\u001B[0m, in \u001B[0;36mHTTPDefaultErrorHandler.http_error_default\u001B[1;34m(self, req, fp, code, msg, hdrs)\u001B[0m\n\u001B[0;32m    638\u001B[0m \u001B[38;5;28;01mdef\u001B[39;00m \u001B[38;5;21mhttp_error_default\u001B[39m(\u001B[38;5;28mself\u001B[39m, req, fp, code, msg, hdrs):\n\u001B[1;32m--> 639\u001B[0m     \u001B[38;5;28;01mraise\u001B[39;00m HTTPError(req\u001B[38;5;241m.\u001B[39mfull_url, code, msg, hdrs, fp)\n",
      "\u001B[1;31mHTTPError\u001B[0m: HTTP Error 400: Bad Request"
     ]
    }
   ],
   "execution_count": 38
  },
  {
   "cell_type": "code",
   "id": "cde966ec-411d-4a8d-8b8c-5916b1bbfa15",
   "metadata": {
    "ExecuteTime": {
     "end_time": "2024-07-08T00:51:14.001457Z",
     "start_time": "2024-07-08T00:51:13.062149Z"
    }
   },
   "source": [
    "import googletrans\n",
    "print(googletrans.LANGUAGES)\n",
    "\n"
   ],
   "outputs": [
    {
     "name": "stdout",
     "output_type": "stream",
     "text": [
      "{'af': 'afrikaans', 'sq': 'albanian', 'am': 'amharic', 'ar': 'arabic', 'hy': 'armenian', 'az': 'azerbaijani', 'eu': 'basque', 'be': 'belarusian', 'bn': 'bengali', 'bs': 'bosnian', 'bg': 'bulgarian', 'ca': 'catalan', 'ceb': 'cebuano', 'ny': 'chichewa', 'zh-cn': 'chinese (simplified)', 'zh-tw': 'chinese (traditional)', 'co': 'corsican', 'hr': 'croatian', 'cs': 'czech', 'da': 'danish', 'nl': 'dutch', 'en': 'english', 'eo': 'esperanto', 'et': 'estonian', 'tl': 'filipino', 'fi': 'finnish', 'fr': 'french', 'fy': 'frisian', 'gl': 'galician', 'ka': 'georgian', 'de': 'german', 'el': 'greek', 'gu': 'gujarati', 'ht': 'haitian creole', 'ha': 'hausa', 'haw': 'hawaiian', 'iw': 'hebrew', 'he': 'hebrew', 'hi': 'hindi', 'hmn': 'hmong', 'hu': 'hungarian', 'is': 'icelandic', 'ig': 'igbo', 'id': 'indonesian', 'ga': 'irish', 'it': 'italian', 'ja': 'japanese', 'jw': 'javanese', 'kn': 'kannada', 'kk': 'kazakh', 'km': 'khmer', 'ko': 'korean', 'ku': 'kurdish (kurmanji)', 'ky': 'kyrgyz', 'lo': 'lao', 'la': 'latin', 'lv': 'latvian', 'lt': 'lithuanian', 'lb': 'luxembourgish', 'mk': 'macedonian', 'mg': 'malagasy', 'ms': 'malay', 'ml': 'malayalam', 'mt': 'maltese', 'mi': 'maori', 'mr': 'marathi', 'mn': 'mongolian', 'my': 'myanmar (burmese)', 'ne': 'nepali', 'no': 'norwegian', 'or': 'odia', 'ps': 'pashto', 'fa': 'persian', 'pl': 'polish', 'pt': 'portuguese', 'pa': 'punjabi', 'ro': 'romanian', 'ru': 'russian', 'sm': 'samoan', 'gd': 'scots gaelic', 'sr': 'serbian', 'st': 'sesotho', 'sn': 'shona', 'sd': 'sindhi', 'si': 'sinhala', 'sk': 'slovak', 'sl': 'slovenian', 'so': 'somali', 'es': 'spanish', 'su': 'sundanese', 'sw': 'swahili', 'sv': 'swedish', 'tg': 'tajik', 'ta': 'tamil', 'te': 'telugu', 'th': 'thai', 'tr': 'turkish', 'uk': 'ukrainian', 'ur': 'urdu', 'ug': 'uyghur', 'uz': 'uzbek', 'vi': 'vietnamese', 'cy': 'welsh', 'xh': 'xhosa', 'yi': 'yiddish', 'yo': 'yoruba', 'zu': 'zulu'}\n"
     ]
    },
    {
     "ename": "AttributeError",
     "evalue": "'NoneType' object has no attribute 'group'",
     "output_type": "error",
     "traceback": [
      "\u001B[1;31m---------------------------------------------------------------------------\u001B[0m",
      "\u001B[1;31mAttributeError\u001B[0m                            Traceback (most recent call last)",
      "Cell \u001B[1;32mIn[40], line 9\u001B[0m\n\u001B[0;32m      6\u001B[0m source_text \u001B[38;5;241m=\u001B[39m \u001B[38;5;124m\"\u001B[39m\u001B[38;5;124mHello, world!\u001B[39m\u001B[38;5;124m\"\u001B[39m\n\u001B[0;32m      7\u001B[0m target_language \u001B[38;5;241m=\u001B[39m \u001B[38;5;124m\"\u001B[39m\u001B[38;5;124mes\u001B[39m\u001B[38;5;124m\"\u001B[39m  \u001B[38;5;66;03m# Spanish\u001B[39;00m\n\u001B[1;32m----> 9\u001B[0m translated_text \u001B[38;5;241m=\u001B[39m translator\u001B[38;5;241m.\u001B[39mtranslate(source_text, dest\u001B[38;5;241m=\u001B[39mtarget_language)\n\u001B[0;32m     10\u001B[0m \u001B[38;5;28mprint\u001B[39m(\u001B[38;5;124mf\u001B[39m\u001B[38;5;124m\"\u001B[39m\u001B[38;5;124mOriginal: \u001B[39m\u001B[38;5;132;01m{\u001B[39;00msource_text\u001B[38;5;132;01m}\u001B[39;00m\u001B[38;5;124m\"\u001B[39m)\n\u001B[0;32m     11\u001B[0m \u001B[38;5;28mprint\u001B[39m(\u001B[38;5;124mf\u001B[39m\u001B[38;5;124m\"\u001B[39m\u001B[38;5;124mTranslated: \u001B[39m\u001B[38;5;132;01m{\u001B[39;00mtranslated_text\u001B[38;5;241m.\u001B[39mtext\u001B[38;5;132;01m}\u001B[39;00m\u001B[38;5;124m\"\u001B[39m)\n",
      "File \u001B[1;32m~\\miniconda3\\Lib\\site-packages\\googletrans\\client.py:182\u001B[0m, in \u001B[0;36mTranslator.translate\u001B[1;34m(self, text, dest, src, **kwargs)\u001B[0m\n\u001B[0;32m    179\u001B[0m     \u001B[38;5;28;01mreturn\u001B[39;00m result\n\u001B[0;32m    181\u001B[0m origin \u001B[38;5;241m=\u001B[39m text\n\u001B[1;32m--> 182\u001B[0m data \u001B[38;5;241m=\u001B[39m \u001B[38;5;28mself\u001B[39m\u001B[38;5;241m.\u001B[39m_translate(text, dest, src, kwargs)\n\u001B[0;32m    184\u001B[0m \u001B[38;5;66;03m# this code will be updated when the format is changed.\u001B[39;00m\n\u001B[0;32m    185\u001B[0m translated \u001B[38;5;241m=\u001B[39m \u001B[38;5;124m'\u001B[39m\u001B[38;5;124m'\u001B[39m\u001B[38;5;241m.\u001B[39mjoin([d[\u001B[38;5;241m0\u001B[39m] \u001B[38;5;28;01mif\u001B[39;00m d[\u001B[38;5;241m0\u001B[39m] \u001B[38;5;28;01melse\u001B[39;00m \u001B[38;5;124m'\u001B[39m\u001B[38;5;124m'\u001B[39m \u001B[38;5;28;01mfor\u001B[39;00m d \u001B[38;5;129;01min\u001B[39;00m data[\u001B[38;5;241m0\u001B[39m]])\n",
      "File \u001B[1;32m~\\miniconda3\\Lib\\site-packages\\googletrans\\client.py:78\u001B[0m, in \u001B[0;36mTranslator._translate\u001B[1;34m(self, text, dest, src, override)\u001B[0m\n\u001B[0;32m     77\u001B[0m \u001B[38;5;28;01mdef\u001B[39;00m \u001B[38;5;21m_translate\u001B[39m(\u001B[38;5;28mself\u001B[39m, text, dest, src, override):\n\u001B[1;32m---> 78\u001B[0m     token \u001B[38;5;241m=\u001B[39m \u001B[38;5;28mself\u001B[39m\u001B[38;5;241m.\u001B[39mtoken_acquirer\u001B[38;5;241m.\u001B[39mdo(text)\n\u001B[0;32m     79\u001B[0m     params \u001B[38;5;241m=\u001B[39m utils\u001B[38;5;241m.\u001B[39mbuild_params(query\u001B[38;5;241m=\u001B[39mtext, src\u001B[38;5;241m=\u001B[39msrc, dest\u001B[38;5;241m=\u001B[39mdest,\n\u001B[0;32m     80\u001B[0m                                 token\u001B[38;5;241m=\u001B[39mtoken, override\u001B[38;5;241m=\u001B[39moverride)\n\u001B[0;32m     82\u001B[0m     url \u001B[38;5;241m=\u001B[39m urls\u001B[38;5;241m.\u001B[39mTRANSLATE\u001B[38;5;241m.\u001B[39mformat(host\u001B[38;5;241m=\u001B[39m\u001B[38;5;28mself\u001B[39m\u001B[38;5;241m.\u001B[39m_pick_service_url())\n",
      "File \u001B[1;32m~\\miniconda3\\Lib\\site-packages\\googletrans\\gtoken.py:194\u001B[0m, in \u001B[0;36mTokenAcquirer.do\u001B[1;34m(self, text)\u001B[0m\n\u001B[0;32m    193\u001B[0m \u001B[38;5;28;01mdef\u001B[39;00m \u001B[38;5;21mdo\u001B[39m(\u001B[38;5;28mself\u001B[39m, text):\n\u001B[1;32m--> 194\u001B[0m     \u001B[38;5;28mself\u001B[39m\u001B[38;5;241m.\u001B[39m_update()\n\u001B[0;32m    195\u001B[0m     tk \u001B[38;5;241m=\u001B[39m \u001B[38;5;28mself\u001B[39m\u001B[38;5;241m.\u001B[39macquire(text)\n\u001B[0;32m    196\u001B[0m     \u001B[38;5;28;01mreturn\u001B[39;00m tk\n",
      "File \u001B[1;32m~\\miniconda3\\Lib\\site-packages\\googletrans\\gtoken.py:62\u001B[0m, in \u001B[0;36mTokenAcquirer._update\u001B[1;34m(self)\u001B[0m\n\u001B[0;32m     59\u001B[0m     \u001B[38;5;28;01mreturn\u001B[39;00m\n\u001B[0;32m     61\u001B[0m \u001B[38;5;66;03m# this will be the same as python code after stripping out a reserved word 'var'\u001B[39;00m\n\u001B[1;32m---> 62\u001B[0m code \u001B[38;5;241m=\u001B[39m \u001B[38;5;28mself\u001B[39m\u001B[38;5;241m.\u001B[39mRE_TKK\u001B[38;5;241m.\u001B[39msearch(r\u001B[38;5;241m.\u001B[39mtext)\u001B[38;5;241m.\u001B[39mgroup(\u001B[38;5;241m1\u001B[39m)\u001B[38;5;241m.\u001B[39mreplace(\u001B[38;5;124m'\u001B[39m\u001B[38;5;124mvar \u001B[39m\u001B[38;5;124m'\u001B[39m, \u001B[38;5;124m'\u001B[39m\u001B[38;5;124m'\u001B[39m)\n\u001B[0;32m     63\u001B[0m \u001B[38;5;66;03m# unescape special ascii characters such like a \\x3d(=)\u001B[39;00m\n\u001B[0;32m     64\u001B[0m code \u001B[38;5;241m=\u001B[39m code\u001B[38;5;241m.\u001B[39mencode()\u001B[38;5;241m.\u001B[39mdecode(\u001B[38;5;124m'\u001B[39m\u001B[38;5;124municode-escape\u001B[39m\u001B[38;5;124m'\u001B[39m)\n",
      "\u001B[1;31mAttributeError\u001B[0m: 'NoneType' object has no attribute 'group'"
     ]
    }
   ],
   "execution_count": 40
  },
  {
   "cell_type": "markdown",
   "id": "aa6cb571-6e04-4721-8c10-f71883ea2c6e",
   "metadata": {},
   "source": "Ahora usa textblob para traducir \"I have good discipline to study. In the future I will be a great engineer'"
  },
  {
   "cell_type": "code",
   "id": "f19f00aa-3053-4760-8b26-7179087b25e3",
   "metadata": {
    "ExecuteTime": {
     "end_time": "2024-07-08T00:51:51.633174Z",
     "start_time": "2024-07-08T00:51:51.629168Z"
    }
   },
   "source": "texto = \"I have good discipline to study. In the future I will be a great engineer\"",
   "outputs": [],
   "execution_count": 41
  },
  {
   "cell_type": "code",
   "id": "512bf770-fc26-4147-829d-6b364336d1f7",
   "metadata": {
    "ExecuteTime": {
     "end_time": "2024-07-08T00:51:59.235532Z",
     "start_time": "2024-07-08T00:51:59.232542Z"
    }
   },
   "source": "blob_translated = TextBlob(texto)",
   "outputs": [],
   "execution_count": 42
  },
  {
   "cell_type": "code",
   "id": "8cb235e0-652e-4a57-8efd-69fe1bd76d36",
   "metadata": {
    "ExecuteTime": {
     "end_time": "2024-07-08T00:52:25.952467Z",
     "start_time": "2024-07-08T00:52:24.758851Z"
    }
   },
   "source": "my_translated_text = blob_translated.translate(to='es')",
   "outputs": [
    {
     "ename": "AttributeError",
     "evalue": "'list' object has no attribute 'strip'",
     "output_type": "error",
     "traceback": [
      "\u001B[1;31m---------------------------------------------------------------------------\u001B[0m",
      "\u001B[1;31mAttributeError\u001B[0m                            Traceback (most recent call last)",
      "Cell \u001B[1;32mIn[44], line 1\u001B[0m\n\u001B[1;32m----> 1\u001B[0m my_translated_text \u001B[38;5;241m=\u001B[39m blob_translated\u001B[38;5;241m.\u001B[39mtranslate(to\u001B[38;5;241m=\u001B[39m\u001B[38;5;124m'\u001B[39m\u001B[38;5;124mes\u001B[39m\u001B[38;5;124m'\u001B[39m)\n",
      "File \u001B[1;32m~\\miniconda3\\Lib\\site-packages\\textblob\\blob.py:546\u001B[0m, in \u001B[0;36mBaseBlob.translate\u001B[1;34m(self, from_lang, to)\u001B[0m\n\u001B[0;32m    523\u001B[0m \u001B[38;5;28;01mdef\u001B[39;00m \u001B[38;5;21mtranslate\u001B[39m(\u001B[38;5;28mself\u001B[39m, from_lang\u001B[38;5;241m=\u001B[39m\u001B[38;5;124m\"\u001B[39m\u001B[38;5;124mauto\u001B[39m\u001B[38;5;124m\"\u001B[39m, to\u001B[38;5;241m=\u001B[39m\u001B[38;5;124m\"\u001B[39m\u001B[38;5;124men\u001B[39m\u001B[38;5;124m\"\u001B[39m):\n\u001B[0;32m    524\u001B[0m \u001B[38;5;250m    \u001B[39m\u001B[38;5;124;03m\"\"\"Translate the blob to another language.\u001B[39;00m\n\u001B[0;32m    525\u001B[0m \u001B[38;5;124;03m    Uses the Google Translate API. Returns a new TextBlob.\u001B[39;00m\n\u001B[0;32m    526\u001B[0m \n\u001B[1;32m   (...)\u001B[0m\n\u001B[0;32m    544\u001B[0m \u001B[38;5;124;03m    :rtype: :class:`BaseBlob <BaseBlob>`\u001B[39;00m\n\u001B[0;32m    545\u001B[0m \u001B[38;5;124;03m    \"\"\"\u001B[39;00m\n\u001B[1;32m--> 546\u001B[0m     \u001B[38;5;28;01mreturn\u001B[39;00m \u001B[38;5;28mself\u001B[39m\u001B[38;5;241m.\u001B[39m\u001B[38;5;18m__class__\u001B[39m(\u001B[38;5;28mself\u001B[39m\u001B[38;5;241m.\u001B[39mtranslator\u001B[38;5;241m.\u001B[39mtranslate(\u001B[38;5;28mself\u001B[39m\u001B[38;5;241m.\u001B[39mraw,\n\u001B[0;32m    547\u001B[0m                           from_lang\u001B[38;5;241m=\u001B[39mfrom_lang, to_lang\u001B[38;5;241m=\u001B[39mto))\n",
      "File \u001B[1;32m~\\miniconda3\\Lib\\site-packages\\textblob\\translate.py:61\u001B[0m, in \u001B[0;36mTranslator.translate\u001B[1;34m(self, source, from_lang, to_lang, host, type_)\u001B[0m\n\u001B[0;32m     59\u001B[0m     \u001B[38;5;28;01mexcept\u001B[39;00m \u001B[38;5;167;01mIndexError\u001B[39;00m:\n\u001B[0;32m     60\u001B[0m         \u001B[38;5;28;01mpass\u001B[39;00m\n\u001B[1;32m---> 61\u001B[0m \u001B[38;5;28mself\u001B[39m\u001B[38;5;241m.\u001B[39m_validate_translation(source, result)\n\u001B[0;32m     62\u001B[0m \u001B[38;5;28;01mreturn\u001B[39;00m result\n",
      "File \u001B[1;32m~\\miniconda3\\Lib\\site-packages\\textblob\\translate.py:84\u001B[0m, in \u001B[0;36mTranslator._validate_translation\u001B[1;34m(self, source, result)\u001B[0m\n\u001B[0;32m     82\u001B[0m \u001B[38;5;28;01mif\u001B[39;00m PY2:\n\u001B[0;32m     83\u001B[0m     result \u001B[38;5;241m=\u001B[39m result\u001B[38;5;241m.\u001B[39mencode(\u001B[38;5;124m'\u001B[39m\u001B[38;5;124mutf-8\u001B[39m\u001B[38;5;124m'\u001B[39m)\n\u001B[1;32m---> 84\u001B[0m \u001B[38;5;28;01mif\u001B[39;00m result\u001B[38;5;241m.\u001B[39mstrip() \u001B[38;5;241m==\u001B[39m source\u001B[38;5;241m.\u001B[39mstrip():\n\u001B[0;32m     85\u001B[0m     \u001B[38;5;28;01mraise\u001B[39;00m NotTranslated(\u001B[38;5;124m'\u001B[39m\u001B[38;5;124mTranslation API returned the input string unchanged.\u001B[39m\u001B[38;5;124m'\u001B[39m)\n",
      "\u001B[1;31mAttributeError\u001B[0m: 'list' object has no attribute 'strip'"
     ]
    }
   ],
   "execution_count": 44
  },
  {
   "cell_type": "code",
   "id": "25aaa0f0-a199-41a9-8509-f69e360bb30c",
   "metadata": {
    "ExecuteTime": {
     "end_time": "2024-07-08T01:23:16.898603Z",
     "start_time": "2024-07-08T01:23:16.828805Z"
    }
   },
   "source": [
    "import os\n",
    "\n",
    "from google.cloud import translate_v2\n",
    "\n",
    "# Set the path to your downloaded JSON key file\n",
    "\n",
    "# Create a Translate client object\n",
    "translate_client = translate_v2.Client()\n"
   ],
   "outputs": [
    {
     "ename": "DefaultCredentialsError",
     "evalue": "File Desktop\\cursoPython was not found.",
     "output_type": "error",
     "traceback": [
      "\u001B[1;31m---------------------------------------------------------------------------\u001B[0m",
      "\u001B[1;31mDefaultCredentialsError\u001B[0m                   Traceback (most recent call last)",
      "Cell \u001B[1;32mIn[105], line 8\u001B[0m\n\u001B[0;32m      3\u001B[0m \u001B[38;5;28;01mfrom\u001B[39;00m \u001B[38;5;21;01mgoogle\u001B[39;00m\u001B[38;5;21;01m.\u001B[39;00m\u001B[38;5;21;01mcloud\u001B[39;00m \u001B[38;5;28;01mimport\u001B[39;00m translate_v2\n\u001B[0;32m      5\u001B[0m \u001B[38;5;66;03m# Set the path to your downloaded JSON key file\u001B[39;00m\n\u001B[0;32m      6\u001B[0m \n\u001B[0;32m      7\u001B[0m \u001B[38;5;66;03m# Create a Translate client object\u001B[39;00m\n\u001B[1;32m----> 8\u001B[0m translate_client \u001B[38;5;241m=\u001B[39m translate_v2\u001B[38;5;241m.\u001B[39mClient()\n",
      "File \u001B[1;32m~\\miniconda3\\Lib\\site-packages\\google\\cloud\\translate_v2\\client.py:79\u001B[0m, in \u001B[0;36mClient.__init__\u001B[1;34m(self, target_language, credentials, _http, client_info, client_options)\u001B[0m\n\u001B[0;32m     70\u001B[0m \u001B[38;5;28;01mdef\u001B[39;00m \u001B[38;5;21m__init__\u001B[39m(\n\u001B[0;32m     71\u001B[0m     \u001B[38;5;28mself\u001B[39m,\n\u001B[0;32m     72\u001B[0m     target_language\u001B[38;5;241m=\u001B[39mENGLISH_ISO_639,\n\u001B[1;32m   (...)\u001B[0m\n\u001B[0;32m     76\u001B[0m     client_options\u001B[38;5;241m=\u001B[39m\u001B[38;5;28;01mNone\u001B[39;00m,\n\u001B[0;32m     77\u001B[0m ):\n\u001B[0;32m     78\u001B[0m     \u001B[38;5;28mself\u001B[39m\u001B[38;5;241m.\u001B[39mtarget_language \u001B[38;5;241m=\u001B[39m target_language\n\u001B[1;32m---> 79\u001B[0m     \u001B[38;5;28msuper\u001B[39m(Client, \u001B[38;5;28mself\u001B[39m)\u001B[38;5;241m.\u001B[39m\u001B[38;5;21m__init__\u001B[39m(credentials\u001B[38;5;241m=\u001B[39mcredentials, _http\u001B[38;5;241m=\u001B[39m_http)\n\u001B[0;32m     81\u001B[0m     kw_args \u001B[38;5;241m=\u001B[39m {\u001B[38;5;124m\"\u001B[39m\u001B[38;5;124mclient_info\u001B[39m\u001B[38;5;124m\"\u001B[39m: client_info}\n\u001B[0;32m     82\u001B[0m     \u001B[38;5;28;01mif\u001B[39;00m client_options:\n",
      "File \u001B[1;32m~\\miniconda3\\Lib\\site-packages\\google\\cloud\\client\\__init__.py:178\u001B[0m, in \u001B[0;36mClient.__init__\u001B[1;34m(self, credentials, _http, client_options)\u001B[0m\n\u001B[0;32m    174\u001B[0m         credentials, _ \u001B[38;5;241m=\u001B[39m google\u001B[38;5;241m.\u001B[39mauth\u001B[38;5;241m.\u001B[39mload_credentials_from_file(\n\u001B[0;32m    175\u001B[0m             client_options\u001B[38;5;241m.\u001B[39mcredentials_file, scopes\u001B[38;5;241m=\u001B[39mscopes\n\u001B[0;32m    176\u001B[0m         )\n\u001B[0;32m    177\u001B[0m     \u001B[38;5;28;01melse\u001B[39;00m:\n\u001B[1;32m--> 178\u001B[0m         credentials, _ \u001B[38;5;241m=\u001B[39m google\u001B[38;5;241m.\u001B[39mauth\u001B[38;5;241m.\u001B[39mdefault(scopes\u001B[38;5;241m=\u001B[39mscopes)\n\u001B[0;32m    180\u001B[0m \u001B[38;5;28mself\u001B[39m\u001B[38;5;241m.\u001B[39m_credentials \u001B[38;5;241m=\u001B[39m google\u001B[38;5;241m.\u001B[39mauth\u001B[38;5;241m.\u001B[39mcredentials\u001B[38;5;241m.\u001B[39mwith_scopes_if_required(\n\u001B[0;32m    181\u001B[0m     credentials, scopes\u001B[38;5;241m=\u001B[39mscopes\n\u001B[0;32m    182\u001B[0m )\n\u001B[0;32m    184\u001B[0m \u001B[38;5;28;01mif\u001B[39;00m client_options\u001B[38;5;241m.\u001B[39mquota_project_id:\n",
      "File \u001B[1;32m~\\miniconda3\\Lib\\site-packages\\google\\auth\\_default.py:657\u001B[0m, in \u001B[0;36mdefault\u001B[1;34m(scopes, request, quota_project_id, default_scopes)\u001B[0m\n\u001B[0;32m    645\u001B[0m checkers \u001B[38;5;241m=\u001B[39m (\n\u001B[0;32m    646\u001B[0m     \u001B[38;5;66;03m# Avoid passing scopes here to prevent passing scopes to user credentials.\u001B[39;00m\n\u001B[0;32m    647\u001B[0m     \u001B[38;5;66;03m# with_scopes_if_required() below will ensure scopes/default scopes are\u001B[39;00m\n\u001B[1;32m   (...)\u001B[0m\n\u001B[0;32m    653\u001B[0m     \u001B[38;5;28;01mlambda\u001B[39;00m: _get_gce_credentials(request, quota_project_id\u001B[38;5;241m=\u001B[39mquota_project_id),\n\u001B[0;32m    654\u001B[0m )\n\u001B[0;32m    656\u001B[0m \u001B[38;5;28;01mfor\u001B[39;00m checker \u001B[38;5;129;01min\u001B[39;00m checkers:\n\u001B[1;32m--> 657\u001B[0m     credentials, project_id \u001B[38;5;241m=\u001B[39m checker()\n\u001B[0;32m    658\u001B[0m     \u001B[38;5;28;01mif\u001B[39;00m credentials \u001B[38;5;129;01mis\u001B[39;00m \u001B[38;5;129;01mnot\u001B[39;00m \u001B[38;5;28;01mNone\u001B[39;00m:\n\u001B[0;32m    659\u001B[0m         credentials \u001B[38;5;241m=\u001B[39m with_scopes_if_required(\n\u001B[0;32m    660\u001B[0m             credentials, scopes, default_scopes\u001B[38;5;241m=\u001B[39mdefault_scopes\n\u001B[0;32m    661\u001B[0m         )\n",
      "File \u001B[1;32m~\\miniconda3\\Lib\\site-packages\\google\\auth\\_default.py:650\u001B[0m, in \u001B[0;36mdefault.<locals>.<lambda>\u001B[1;34m()\u001B[0m\n\u001B[0;32m    639\u001B[0m \u001B[38;5;28;01mfrom\u001B[39;00m \u001B[38;5;21;01mgoogle\u001B[39;00m\u001B[38;5;21;01m.\u001B[39;00m\u001B[38;5;21;01mauth\u001B[39;00m\u001B[38;5;21;01m.\u001B[39;00m\u001B[38;5;21;01mcredentials\u001B[39;00m \u001B[38;5;28;01mimport\u001B[39;00m CredentialsWithQuotaProject\n\u001B[0;32m    641\u001B[0m explicit_project_id \u001B[38;5;241m=\u001B[39m os\u001B[38;5;241m.\u001B[39menviron\u001B[38;5;241m.\u001B[39mget(\n\u001B[0;32m    642\u001B[0m     environment_vars\u001B[38;5;241m.\u001B[39mPROJECT, os\u001B[38;5;241m.\u001B[39menviron\u001B[38;5;241m.\u001B[39mget(environment_vars\u001B[38;5;241m.\u001B[39mLEGACY_PROJECT)\n\u001B[0;32m    643\u001B[0m )\n\u001B[0;32m    645\u001B[0m checkers \u001B[38;5;241m=\u001B[39m (\n\u001B[0;32m    646\u001B[0m     \u001B[38;5;66;03m# Avoid passing scopes here to prevent passing scopes to user credentials.\u001B[39;00m\n\u001B[0;32m    647\u001B[0m     \u001B[38;5;66;03m# with_scopes_if_required() below will ensure scopes/default scopes are\u001B[39;00m\n\u001B[0;32m    648\u001B[0m     \u001B[38;5;66;03m# safely set on the returned credentials since requires_scopes will\u001B[39;00m\n\u001B[0;32m    649\u001B[0m     \u001B[38;5;66;03m# guard against setting scopes on user credentials.\u001B[39;00m\n\u001B[1;32m--> 650\u001B[0m     \u001B[38;5;28;01mlambda\u001B[39;00m: _get_explicit_environ_credentials(quota_project_id\u001B[38;5;241m=\u001B[39mquota_project_id),\n\u001B[0;32m    651\u001B[0m     \u001B[38;5;28;01mlambda\u001B[39;00m: _get_gcloud_sdk_credentials(quota_project_id\u001B[38;5;241m=\u001B[39mquota_project_id),\n\u001B[0;32m    652\u001B[0m     _get_gae_credentials,\n\u001B[0;32m    653\u001B[0m     \u001B[38;5;28;01mlambda\u001B[39;00m: _get_gce_credentials(request, quota_project_id\u001B[38;5;241m=\u001B[39mquota_project_id),\n\u001B[0;32m    654\u001B[0m )\n\u001B[0;32m    656\u001B[0m \u001B[38;5;28;01mfor\u001B[39;00m checker \u001B[38;5;129;01min\u001B[39;00m checkers:\n\u001B[0;32m    657\u001B[0m     credentials, project_id \u001B[38;5;241m=\u001B[39m checker()\n",
      "File \u001B[1;32m~\\miniconda3\\Lib\\site-packages\\google\\auth\\_default.py:270\u001B[0m, in \u001B[0;36m_get_explicit_environ_credentials\u001B[1;34m(quota_project_id)\u001B[0m\n\u001B[0;32m    267\u001B[0m     \u001B[38;5;28;01mreturn\u001B[39;00m _get_gcloud_sdk_credentials(quota_project_id\u001B[38;5;241m=\u001B[39mquota_project_id)\n\u001B[0;32m    269\u001B[0m \u001B[38;5;28;01mif\u001B[39;00m explicit_file \u001B[38;5;129;01mis\u001B[39;00m \u001B[38;5;129;01mnot\u001B[39;00m \u001B[38;5;28;01mNone\u001B[39;00m:\n\u001B[1;32m--> 270\u001B[0m     credentials, project_id \u001B[38;5;241m=\u001B[39m load_credentials_from_file(\n\u001B[0;32m    271\u001B[0m         os\u001B[38;5;241m.\u001B[39menviron[environment_vars\u001B[38;5;241m.\u001B[39mCREDENTIALS], quota_project_id\u001B[38;5;241m=\u001B[39mquota_project_id\n\u001B[0;32m    272\u001B[0m     )\n\u001B[0;32m    274\u001B[0m     \u001B[38;5;28;01mreturn\u001B[39;00m credentials, project_id\n\u001B[0;32m    276\u001B[0m \u001B[38;5;28;01melse\u001B[39;00m:\n",
      "File \u001B[1;32m~\\miniconda3\\Lib\\site-packages\\google\\auth\\_default.py:114\u001B[0m, in \u001B[0;36mload_credentials_from_file\u001B[1;34m(filename, scopes, default_scopes, quota_project_id, request)\u001B[0m\n\u001B[0;32m     82\u001B[0m \u001B[38;5;250m\u001B[39m\u001B[38;5;124;03m\"\"\"Loads Google credentials from a file.\u001B[39;00m\n\u001B[0;32m     83\u001B[0m \n\u001B[0;32m     84\u001B[0m \u001B[38;5;124;03mThe credentials file must be a service account key, stored authorized\u001B[39;00m\n\u001B[1;32m   (...)\u001B[0m\n\u001B[0;32m    111\u001B[0m \u001B[38;5;124;03m        wrong format or is missing.\u001B[39;00m\n\u001B[0;32m    112\u001B[0m \u001B[38;5;124;03m\"\"\"\u001B[39;00m\n\u001B[0;32m    113\u001B[0m \u001B[38;5;28;01mif\u001B[39;00m \u001B[38;5;129;01mnot\u001B[39;00m os\u001B[38;5;241m.\u001B[39mpath\u001B[38;5;241m.\u001B[39mexists(filename):\n\u001B[1;32m--> 114\u001B[0m     \u001B[38;5;28;01mraise\u001B[39;00m exceptions\u001B[38;5;241m.\u001B[39mDefaultCredentialsError(\n\u001B[0;32m    115\u001B[0m         \u001B[38;5;124m\"\u001B[39m\u001B[38;5;124mFile \u001B[39m\u001B[38;5;132;01m{}\u001B[39;00m\u001B[38;5;124m was not found.\u001B[39m\u001B[38;5;124m\"\u001B[39m\u001B[38;5;241m.\u001B[39mformat(filename)\n\u001B[0;32m    116\u001B[0m     )\n\u001B[0;32m    118\u001B[0m \u001B[38;5;28;01mwith\u001B[39;00m io\u001B[38;5;241m.\u001B[39mopen(filename, \u001B[38;5;124m\"\u001B[39m\u001B[38;5;124mr\u001B[39m\u001B[38;5;124m\"\u001B[39m) \u001B[38;5;28;01mas\u001B[39;00m file_obj:\n\u001B[0;32m    119\u001B[0m     \u001B[38;5;28;01mtry\u001B[39;00m:\n",
      "\u001B[1;31mDefaultCredentialsError\u001B[0m: File Desktop\\cursoPython was not found."
     ]
    }
   ],
   "execution_count": 105
  },
  {
   "cell_type": "code",
   "id": "4822abd5-f486-4f42-a92f-945679cc2b0d",
   "metadata": {
    "ExecuteTime": {
     "end_time": "2024-07-08T00:58:54.745967Z",
     "start_time": "2024-07-08T00:58:54.738386Z"
    }
   },
   "source": "googletrans.LANGUAGES",
   "outputs": [
    {
     "data": {
      "text/plain": [
       "{'af': 'afrikaans',\n",
       " 'sq': 'albanian',\n",
       " 'am': 'amharic',\n",
       " 'ar': 'arabic',\n",
       " 'hy': 'armenian',\n",
       " 'az': 'azerbaijani',\n",
       " 'eu': 'basque',\n",
       " 'be': 'belarusian',\n",
       " 'bn': 'bengali',\n",
       " 'bs': 'bosnian',\n",
       " 'bg': 'bulgarian',\n",
       " 'ca': 'catalan',\n",
       " 'ceb': 'cebuano',\n",
       " 'ny': 'chichewa',\n",
       " 'zh-cn': 'chinese (simplified)',\n",
       " 'zh-tw': 'chinese (traditional)',\n",
       " 'co': 'corsican',\n",
       " 'hr': 'croatian',\n",
       " 'cs': 'czech',\n",
       " 'da': 'danish',\n",
       " 'nl': 'dutch',\n",
       " 'en': 'english',\n",
       " 'eo': 'esperanto',\n",
       " 'et': 'estonian',\n",
       " 'tl': 'filipino',\n",
       " 'fi': 'finnish',\n",
       " 'fr': 'french',\n",
       " 'fy': 'frisian',\n",
       " 'gl': 'galician',\n",
       " 'ka': 'georgian',\n",
       " 'de': 'german',\n",
       " 'el': 'greek',\n",
       " 'gu': 'gujarati',\n",
       " 'ht': 'haitian creole',\n",
       " 'ha': 'hausa',\n",
       " 'haw': 'hawaiian',\n",
       " 'iw': 'hebrew',\n",
       " 'he': 'hebrew',\n",
       " 'hi': 'hindi',\n",
       " 'hmn': 'hmong',\n",
       " 'hu': 'hungarian',\n",
       " 'is': 'icelandic',\n",
       " 'ig': 'igbo',\n",
       " 'id': 'indonesian',\n",
       " 'ga': 'irish',\n",
       " 'it': 'italian',\n",
       " 'ja': 'japanese',\n",
       " 'jw': 'javanese',\n",
       " 'kn': 'kannada',\n",
       " 'kk': 'kazakh',\n",
       " 'km': 'khmer',\n",
       " 'ko': 'korean',\n",
       " 'ku': 'kurdish (kurmanji)',\n",
       " 'ky': 'kyrgyz',\n",
       " 'lo': 'lao',\n",
       " 'la': 'latin',\n",
       " 'lv': 'latvian',\n",
       " 'lt': 'lithuanian',\n",
       " 'lb': 'luxembourgish',\n",
       " 'mk': 'macedonian',\n",
       " 'mg': 'malagasy',\n",
       " 'ms': 'malay',\n",
       " 'ml': 'malayalam',\n",
       " 'mt': 'maltese',\n",
       " 'mi': 'maori',\n",
       " 'mr': 'marathi',\n",
       " 'mn': 'mongolian',\n",
       " 'my': 'myanmar (burmese)',\n",
       " 'ne': 'nepali',\n",
       " 'no': 'norwegian',\n",
       " 'or': 'odia',\n",
       " 'ps': 'pashto',\n",
       " 'fa': 'persian',\n",
       " 'pl': 'polish',\n",
       " 'pt': 'portuguese',\n",
       " 'pa': 'punjabi',\n",
       " 'ro': 'romanian',\n",
       " 'ru': 'russian',\n",
       " 'sm': 'samoan',\n",
       " 'gd': 'scots gaelic',\n",
       " 'sr': 'serbian',\n",
       " 'st': 'sesotho',\n",
       " 'sn': 'shona',\n",
       " 'sd': 'sindhi',\n",
       " 'si': 'sinhala',\n",
       " 'sk': 'slovak',\n",
       " 'sl': 'slovenian',\n",
       " 'so': 'somali',\n",
       " 'es': 'spanish',\n",
       " 'su': 'sundanese',\n",
       " 'sw': 'swahili',\n",
       " 'sv': 'swedish',\n",
       " 'tg': 'tajik',\n",
       " 'ta': 'tamil',\n",
       " 'te': 'telugu',\n",
       " 'th': 'thai',\n",
       " 'tr': 'turkish',\n",
       " 'uk': 'ukrainian',\n",
       " 'ur': 'urdu',\n",
       " 'ug': 'uyghur',\n",
       " 'uz': 'uzbek',\n",
       " 'vi': 'vietnamese',\n",
       " 'cy': 'welsh',\n",
       " 'xh': 'xhosa',\n",
       " 'yi': 'yiddish',\n",
       " 'yo': 'yoruba',\n",
       " 'zu': 'zulu'}"
      ]
     },
     "execution_count": 53,
     "metadata": {},
     "output_type": "execute_result"
    }
   ],
   "execution_count": 53
  },
  {
   "cell_type": "markdown",
   "id": "c0c595d9-b2ad-4d21-ad3a-e20436af338b",
   "metadata": {},
   "source": [
    "### 12.3.1.- Inflección - pluralización y singularización"
   ]
  },
  {
   "cell_type": "markdown",
   "id": "ef5aab0f-846a-48c0-a2f1-408bb400d121",
   "metadata": {},
   "source": [
    "Textblob también entiende de singulares y plurales, obten el plural de party y el singular de lives"
   ]
  },
  {
   "cell_type": "code",
   "id": "5718bc60-eddc-48e8-8d5e-dc2a767ed7f1",
   "metadata": {
    "ExecuteTime": {
     "end_time": "2024-07-08T01:01:23.122829Z",
     "start_time": "2024-07-08T01:01:23.119203Z"
    }
   },
   "source": "from textblob import Word",
   "outputs": [],
   "execution_count": 58
  },
  {
   "cell_type": "markdown",
   "id": "6743d383-bafe-477d-913c-bf54da25bf7d",
   "metadata": {},
   "source": [
    "Pluraliza Potato, Tomato, Carrot"
   ]
  },
  {
   "cell_type": "code",
   "id": "eef662b6-dcb0-4fbd-9348-4dda023d7294",
   "metadata": {
    "ExecuteTime": {
     "end_time": "2024-07-08T01:02:27.872651Z",
     "start_time": "2024-07-08T01:02:27.869145Z"
    }
   },
   "source": "vegetal1 = Word('rate')",
   "outputs": [],
   "execution_count": 65
  },
  {
   "cell_type": "code",
   "id": "a13bd1a3-f560-4b72-8ea4-31d703ff30af",
   "metadata": {
    "ExecuteTime": {
     "end_time": "2024-07-08T01:02:30.829199Z",
     "start_time": "2024-07-08T01:02:30.824230Z"
    }
   },
   "source": "vegetal1.pluralize()",
   "outputs": [
    {
     "data": {
      "text/plain": [
       "'rates'"
      ]
     },
     "execution_count": 66,
     "metadata": {},
     "output_type": "execute_result"
    }
   ],
   "execution_count": 66
  },
  {
   "cell_type": "code",
   "execution_count": null,
   "id": "872a3c8a-e48c-4cfe-b348-e56dd08188ae",
   "metadata": {},
   "outputs": [],
   "source": []
  },
  {
   "cell_type": "markdown",
   "id": "f5d5d59e-bbd6-4de2-b58f-1428519b4c11",
   "metadata": {},
   "source": [
    "### 12.3.2.- Spell Check"
   ]
  },
  {
   "cell_type": "markdown",
   "id": "8ca1a7cd-17a7-42f7-bd54-caf1b07d97c6",
   "metadata": {},
   "source": [
    "Python tambien puede revisar ortografia, revisa que opina de la palabra whife"
   ]
  },
  {
   "cell_type": "code",
   "execution_count": null,
   "id": "823191f0-a1d7-40d1-84ad-24a7d73ca319",
   "metadata": {},
   "outputs": [],
   "source": []
  },
  {
   "cell_type": "code",
   "execution_count": null,
   "id": "ef6e6641-f4b5-4791-848e-6f8eaf902093",
   "metadata": {},
   "outputs": [],
   "source": []
  },
  {
   "cell_type": "markdown",
   "id": "ff5a0ced-cacb-4350-a43f-2e7a79f03fcc",
   "metadata": {},
   "source": [
    "También puedes revisar ortografía de una oración completa como 'Yestarday was a bab dai'"
   ]
  },
  {
   "cell_type": "code",
   "execution_count": null,
   "id": "004538b9-28d1-4747-9d93-22694ab5e8a6",
   "metadata": {},
   "outputs": [],
   "source": []
  },
  {
   "cell_type": "code",
   "execution_count": null,
   "id": "c1e1b6f3-a805-44e5-b13c-12e5322babaf",
   "metadata": {},
   "outputs": [],
   "source": []
  },
  {
   "cell_type": "code",
   "execution_count": null,
   "id": "64711ced-c682-41a1-abaa-ee34455dc1aa",
   "metadata": {},
   "outputs": [],
   "source": []
  },
  {
   "cell_type": "code",
   "execution_count": null,
   "id": "b56843b5-16de-46e8-8c38-5a2c5a0e8686",
   "metadata": {},
   "outputs": [],
   "source": []
  },
  {
   "cell_type": "code",
   "execution_count": null,
   "id": "5772d1f2-d641-49c7-a884-4203e988d0b6",
   "metadata": {},
   "outputs": [],
   "source": []
  },
  {
   "cell_type": "code",
   "execution_count": null,
   "id": "7f3669fb-8add-408c-b626-bd577b9ed17b",
   "metadata": {},
   "outputs": [],
   "source": []
  },
  {
   "cell_type": "markdown",
   "id": "c21e533a-2efa-4aba-9a03-a28ef5de4d47",
   "metadata": {},
   "source": [
    "### 12.3.3.- Normalización"
   ]
  },
  {
   "cell_type": "markdown",
   "id": "2ac94f19-ad82-4099-bc91-24c05531a37f",
   "metadata": {},
   "source": [
    "Se puede obtener  el stem y lemma de una palabra plural como dormitories"
   ]
  },
  {
   "cell_type": "markdown",
   "id": "10f9d9a5-bdba-494e-90fd-a49cc8ad211e",
   "metadata": {},
   "source": [
    "### 12.3.4.- Frecuencias de Palabras"
   ]
  },
  {
   "cell_type": "markdown",
   "id": "7ed806aa-5db4-4347-a02f-ff9fdb3db73c",
   "metadata": {},
   "source": [
    "Que pasa si quieres conocer la frecuencia de una palabra?\n",
    "\n",
    "Importa el texto de dracula.txt y cuenta las veces que aparece la palabra crucifix, dracula, blood"
   ]
  },
  {
   "cell_type": "code",
   "execution_count": null,
   "id": "53fe7f79-cfdc-4de0-a296-25dfbc20f294",
   "metadata": {},
   "outputs": [],
   "source": []
  },
  {
   "cell_type": "code",
   "execution_count": null,
   "id": "b9075baa-cad4-4e6b-b0e6-c7d4b11f718b",
   "metadata": {},
   "outputs": [],
   "source": []
  },
  {
   "cell_type": "code",
   "execution_count": null,
   "id": "2d562946-ca57-4cdd-a077-e1e83d4edb0a",
   "metadata": {},
   "outputs": [],
   "source": []
  },
  {
   "cell_type": "code",
   "execution_count": null,
   "id": "d3478d35-3e38-4dcd-9baf-00a660fd3e2b",
   "metadata": {},
   "outputs": [],
   "source": []
  },
  {
   "cell_type": "code",
   "execution_count": null,
   "id": "8d599dc3-077f-47b4-9d90-29dc02de19c6",
   "metadata": {},
   "outputs": [],
   "source": []
  },
  {
   "cell_type": "code",
   "execution_count": null,
   "id": "eef8e01a-8758-4f52-a7f0-6bec33c8dc32",
   "metadata": {},
   "outputs": [],
   "source": []
  },
  {
   "cell_type": "code",
   "execution_count": null,
   "id": "ff8fa5b7-3070-47ad-b51b-324b464c873d",
   "metadata": {},
   "outputs": [],
   "source": []
  },
  {
   "cell_type": "markdown",
   "id": "508c91f4-bfa0-4e8f-a6d4-ba3de6097b1f",
   "metadata": {},
   "source": [
    "O puedes contar las frases especificas mediante el metodo count en un archivo ya tokenizado, intentalo con la frase \"lady capulet\""
   ]
  },
  {
   "cell_type": "markdown",
   "id": "d6a24a6a-4d99-49bf-aea2-e0a07637ffb0",
   "metadata": {},
   "source": [
    "### 12.3.5.- Definiciones, sinonimos y antonimos"
   ]
  },
  {
   "cell_type": "markdown",
   "id": "0984558b-22e1-4a02-8cd9-cefd7367cb5a",
   "metadata": {},
   "source": [
    "Puedes buscar definiciones desde textblob\n",
    "\n",
    "Prueba con la definición de \"worker\""
   ]
  },
  {
   "cell_type": "code",
   "execution_count": null,
   "id": "abb22f78-7d0e-4a1d-b400-7ee2b674a29f",
   "metadata": {},
   "outputs": [],
   "source": []
  },
  {
   "cell_type": "code",
   "execution_count": null,
   "id": "31bf308c-06c1-4343-8054-de1072535c32",
   "metadata": {},
   "outputs": [],
   "source": []
  },
  {
   "cell_type": "code",
   "execution_count": null,
   "id": "5e6a5752-de27-4ff0-a621-51db913a8291",
   "metadata": {},
   "outputs": [],
   "source": []
  },
  {
   "cell_type": "markdown",
   "id": "ee031c36-9d71-4c9f-9ef2-257da78b1aad",
   "metadata": {},
   "source": [
    "O sinonimos también, con synsets"
   ]
  },
  {
   "cell_type": "code",
   "execution_count": null,
   "id": "e9ea27eb-2ddd-438e-a10a-9a66cbfff057",
   "metadata": {},
   "outputs": [],
   "source": []
  },
  {
   "cell_type": "code",
   "execution_count": null,
   "id": "48e67be8-4224-4ee4-b90b-4f30bfc9f3af",
   "metadata": {},
   "outputs": [],
   "source": []
  },
  {
   "cell_type": "markdown",
   "id": "8e87a862-2232-43fc-a696-51008b6546b4",
   "metadata": {},
   "source": [
    "### 12.3.6.- Stop Words"
   ]
  },
  {
   "cell_type": "markdown",
   "id": "73491293-8524-4065-b7d6-5e4e5aed7f4c",
   "metadata": {},
   "source": [
    "Las stop words son palabras que generalmente no aportan información útil para un analisis de machine learning. \n",
    "\n",
    "Hay que traerlas desde ntlk"
   ]
  },
  {
   "cell_type": "code",
   "execution_count": null,
   "id": "76750563-a848-4bf0-84da-7681e43a04bd",
   "metadata": {},
   "outputs": [],
   "source": []
  },
  {
   "cell_type": "code",
   "execution_count": null,
   "id": "6d3a9e5a-f9a7-4f3e-b887-a3821e7b68c3",
   "metadata": {},
   "outputs": [],
   "source": []
  },
  {
   "cell_type": "code",
   "execution_count": null,
   "id": "89f5696b-d42f-4679-b6d8-5071bfb727e2",
   "metadata": {},
   "outputs": [],
   "source": []
  },
  {
   "cell_type": "code",
   "execution_count": null,
   "id": "e5883195-e051-4d1c-bd41-c08a1ee0ce73",
   "metadata": {},
   "outputs": [],
   "source": []
  },
  {
   "cell_type": "code",
   "execution_count": null,
   "id": "0eb72b77-8961-48d9-bb1a-b57a732efa9f",
   "metadata": {},
   "outputs": [],
   "source": []
  },
  {
   "cell_type": "code",
   "execution_count": null,
   "id": "a51468fd-76a7-490a-ae78-deb2780a8e89",
   "metadata": {},
   "outputs": [],
   "source": []
  },
  {
   "cell_type": "code",
   "execution_count": null,
   "id": "8ce7a090-4e62-42c1-917d-38513df32416",
   "metadata": {},
   "outputs": [],
   "source": []
  },
  {
   "cell_type": "markdown",
   "id": "c295a011-8cf9-45c8-9902-9fbc5a4ca2ec",
   "metadata": {},
   "source": [
    "Vamos a crear un texto como I have a beautiful day"
   ]
  },
  {
   "cell_type": "code",
   "execution_count": null,
   "id": "aa680268-1287-4771-8940-ddaf7f1b714f",
   "metadata": {},
   "outputs": [],
   "source": []
  },
  {
   "cell_type": "code",
   "execution_count": null,
   "id": "24266fe2-d07b-4e61-98fa-9630dd66a73b",
   "metadata": {},
   "outputs": [],
   "source": []
  },
  {
   "cell_type": "markdown",
   "id": "efa01ab3-282e-46ce-b3f2-1f686b6d6a7d",
   "metadata": {},
   "source": [
    "Y eliminar su stop words"
   ]
  },
  {
   "cell_type": "code",
   "execution_count": null,
   "id": "cd1a22fe-271a-444d-9de2-b28adc2ad8a1",
   "metadata": {},
   "outputs": [],
   "source": []
  },
  {
   "cell_type": "code",
   "execution_count": null,
   "id": "a8fb9762-1552-47ee-8620-99653a058f43",
   "metadata": {},
   "outputs": [],
   "source": []
  },
  {
   "cell_type": "markdown",
   "id": "23489048-92d5-4cbb-8da8-f6d40af8933c",
   "metadata": {},
   "source": [
    "## 12.4.- Visualizando frecuencias de palabras"
   ]
  },
  {
   "cell_type": "markdown",
   "id": "c720242c-68d1-4ebf-a93a-97a6d5856b90",
   "metadata": {},
   "source": [
    "Vamos a armar un word cloud de dracula, comencemos volviendo a cargar dracula"
   ]
  },
  {
   "cell_type": "code",
   "execution_count": null,
   "id": "8dd6fdee-856c-4e3f-b6c5-e28939e75802",
   "metadata": {},
   "outputs": [],
   "source": []
  },
  {
   "cell_type": "code",
   "execution_count": null,
   "id": "0dae5489-d191-4f35-9d88-95c300106fa4",
   "metadata": {},
   "outputs": [],
   "source": []
  },
  {
   "cell_type": "code",
   "execution_count": null,
   "id": "1548a24d-dec4-4262-8a98-2e9f76f9cf9a",
   "metadata": {},
   "outputs": [],
   "source": []
  },
  {
   "cell_type": "markdown",
   "id": "c45fb09e-ce43-4d66-bd89-8ef7d47b325d",
   "metadata": {},
   "source": [
    "Ahora vamos cargando las stop words de inglés"
   ]
  },
  {
   "cell_type": "code",
   "execution_count": null,
   "id": "5a85f8c9-7397-480c-9687-bb0f135a4942",
   "metadata": {},
   "outputs": [],
   "source": []
  },
  {
   "cell_type": "code",
   "execution_count": null,
   "id": "2ef7e3cb-1a84-43af-823e-f20019705b76",
   "metadata": {},
   "outputs": [],
   "source": []
  },
  {
   "cell_type": "code",
   "execution_count": null,
   "id": "15de9bea-5c1d-4faa-b4bc-97e302f86e96",
   "metadata": {},
   "outputs": [],
   "source": []
  },
  {
   "cell_type": "code",
   "execution_count": null,
   "id": "0d8224ca-64dc-4a9d-8cf0-24bb2a65a8bb",
   "metadata": {},
   "outputs": [],
   "source": []
  },
  {
   "cell_type": "markdown",
   "id": "86a25660-1985-4ef1-93aa-9d1fff2bf7cd",
   "metadata": {},
   "source": [
    "Vamos a obtener las frecuencias de palabras"
   ]
  },
  {
   "cell_type": "code",
   "execution_count": null,
   "id": "f2879a73-a7c4-4574-bbec-8bb18e0a8727",
   "metadata": {},
   "outputs": [],
   "source": []
  },
  {
   "cell_type": "markdown",
   "id": "5c827250-a521-44c8-88e5-a7d3fa6d04ab",
   "metadata": {},
   "source": [
    "Ahor avamos a eliminar las stop words"
   ]
  },
  {
   "cell_type": "code",
   "execution_count": null,
   "id": "5305ddf9-78d2-4232-9718-9d6978e8bc07",
   "metadata": {},
   "outputs": [],
   "source": []
  },
  {
   "cell_type": "markdown",
   "id": "190b716c-9513-47f2-88ec-1e815749bb64",
   "metadata": {},
   "source": [
    "Ordenamos las palabras restantes por frecuencia"
   ]
  },
  {
   "cell_type": "code",
   "execution_count": null,
   "id": "f1724d9d-f244-4ae6-8f60-232adbde0103",
   "metadata": {},
   "outputs": [],
   "source": []
  },
  {
   "cell_type": "code",
   "execution_count": null,
   "id": "19faa7a8-58c2-45dc-b418-88b0cfd90668",
   "metadata": {},
   "outputs": [],
   "source": []
  },
  {
   "cell_type": "markdown",
   "id": "8e9f35a5-832a-4cf2-a87b-b351d54fc6a7",
   "metadata": {},
   "source": [
    "Conseguimos las top 20 palabras"
   ]
  },
  {
   "cell_type": "code",
   "execution_count": null,
   "id": "657c489b-2a85-4622-ad5a-6239c1369d07",
   "metadata": {},
   "outputs": [],
   "source": []
  },
  {
   "cell_type": "markdown",
   "id": "2e29de74-5fc7-4078-bb5e-1dce08f0a888",
   "metadata": {},
   "source": [
    "Luego convertimos el top 20 a un dataframe"
   ]
  },
  {
   "cell_type": "code",
   "execution_count": null,
   "id": "9179be06-2018-42d7-9f23-2f0bd71b41f0",
   "metadata": {},
   "outputs": [],
   "source": []
  },
  {
   "cell_type": "code",
   "execution_count": null,
   "id": "40b14a31-d9aa-492f-bf64-28a74db404c2",
   "metadata": {},
   "outputs": [],
   "source": []
  },
  {
   "cell_type": "code",
   "execution_count": null,
   "id": "1357758b-a890-42d1-90fa-cfdf12a15d96",
   "metadata": {},
   "outputs": [],
   "source": []
  },
  {
   "cell_type": "code",
   "execution_count": null,
   "id": "e1e2d70d-3ee7-42da-803b-57bd75e423ae",
   "metadata": {},
   "outputs": [],
   "source": []
  },
  {
   "cell_type": "code",
   "execution_count": null,
   "id": "7383c18c-194f-458d-a2ec-f3ec4c8a6508",
   "metadata": {},
   "outputs": [],
   "source": []
  },
  {
   "cell_type": "code",
   "execution_count": null,
   "id": "44b4a72e-3816-4b81-ae4b-bdbc96be5633",
   "metadata": {},
   "outputs": [],
   "source": []
  },
  {
   "cell_type": "markdown",
   "id": "80b11ddd-51f8-48ae-aa9a-b720b0dd2b2d",
   "metadata": {},
   "source": [
    "Y visualizamos el dataframe en una grafica de barras sencillita"
   ]
  },
  {
   "cell_type": "code",
   "execution_count": null,
   "id": "a41d3ce2-1878-4adc-bcf4-f8290ba8c885",
   "metadata": {},
   "outputs": [],
   "source": []
  },
  {
   "cell_type": "code",
   "execution_count": null,
   "id": "bd9e1ad7-f1e8-4dcd-9afe-1515bbbeed94",
   "metadata": {},
   "outputs": [],
   "source": []
  },
  {
   "cell_type": "markdown",
   "id": "ba55c327-cdb1-4b2b-89ad-a13ab5859a53",
   "metadata": {},
   "source": [
    "### 12.4.1.- Word Cloud"
   ]
  },
  {
   "cell_type": "markdown",
   "id": "e7f4a5b0-6410-4bf6-abc0-43585d660371",
   "metadata": {},
   "source": [
    "Ahora necesitamos instalar el módulo WordCloud"
   ]
  },
  {
   "cell_type": "code",
   "execution_count": null,
   "id": "08bd4c00-1f78-4e04-8c23-14c5f7b55613",
   "metadata": {},
   "outputs": [],
   "source": []
  },
  {
   "cell_type": "markdown",
   "id": "4f36f4d0-dcbf-46f9-8885-90bcba9b5504",
   "metadata": {},
   "source": [
    "Cargamos las librerias que nos importan"
   ]
  },
  {
   "cell_type": "markdown",
   "id": "985e95a1-e1e5-4ef4-ac99-54a2f871b2cb",
   "metadata": {},
   "source": [
    "Vamos a cargar el texto de tracua y las palabras stop"
   ]
  },
  {
   "cell_type": "code",
   "execution_count": null,
   "id": "124a9599-e258-485f-bb62-3b7f91f715dc",
   "metadata": {},
   "outputs": [],
   "source": []
  },
  {
   "cell_type": "code",
   "execution_count": null,
   "id": "dcfdd768-f707-4132-a521-984230ebd366",
   "metadata": {},
   "outputs": [],
   "source": []
  },
  {
   "cell_type": "markdown",
   "id": "b73b6b70-587b-4328-88cc-943e33f76544",
   "metadata": {},
   "source": [
    "Vamos a crear una mascara para la nube usando la funcion impread"
   ]
  },
  {
   "cell_type": "code",
   "execution_count": null,
   "id": "2db8b70b-f8a4-46d6-84cb-738f7788fda9",
   "metadata": {},
   "outputs": [],
   "source": []
  },
  {
   "cell_type": "code",
   "execution_count": null,
   "id": "31bd26c7-2793-4713-a4c3-b909d6532694",
   "metadata": {},
   "outputs": [],
   "source": []
  },
  {
   "cell_type": "code",
   "execution_count": null,
   "id": "96e0441d-12af-40ba-8be1-90d20a49a29a",
   "metadata": {},
   "outputs": [],
   "source": []
  },
  {
   "cell_type": "markdown",
   "id": "9b1c989e-54a6-4bb0-a7e2-48e2b58bf838",
   "metadata": {},
   "source": [
    "OK, ahora ponemos algunas caracteristicas especifcas de la nube a crear"
   ]
  },
  {
   "cell_type": "markdown",
   "id": "d5f07cfe-c905-46c3-a48c-3a3674425fce",
   "metadata": {},
   "source": [
    "Luego se aplica el metodo de generar wordcloud"
   ]
  },
  {
   "cell_type": "markdown",
   "id": "4a75eaa7-c016-4e16-b273-6718bb51753e",
   "metadata": {},
   "source": [
    "Y la guardas como imagen"
   ]
  },
  {
   "cell_type": "markdown",
   "id": "5a9672b9-a21a-4973-8e0c-2d7311fe7cc5",
   "metadata": {},
   "source": [
    "## 12.4.- Reconocimiento de Entidades Nombradas con spaCy"
   ]
  },
  {
   "cell_type": "markdown",
   "id": "2fad47b9-eb18-4845-ab2b-255fc7310340",
   "metadata": {},
   "source": [
    "Instala Spacy desde Prompt"
   ]
  },
  {
   "cell_type": "markdown",
   "id": "d844b342-963c-48f0-bbd5-74d8be4158c0",
   "metadata": {},
   "source": [
    "Carga el modelo de lenguaje"
   ]
  },
  {
   "cell_type": "code",
   "execution_count": null,
   "id": "8e017568-4208-4356-ba08-994af724e3b4",
   "metadata": {},
   "outputs": [],
   "source": []
  },
  {
   "cell_type": "code",
   "execution_count": null,
   "id": "0f4d4e22-4dbf-4be0-b1ce-8b29b514d8e3",
   "metadata": {},
   "outputs": [],
   "source": []
  },
  {
   "cell_type": "code",
   "execution_count": null,
   "id": "bbe4f362-5750-415c-8c81-275dbff831d5",
   "metadata": {},
   "outputs": [],
   "source": []
  },
  {
   "cell_type": "markdown",
   "id": "de91b834-01b8-4026-a932-ebbe52d48113",
   "metadata": {},
   "source": [
    "Crea un documento de spacy con el texto airbnb is an American company that operates an online marketplace for lodging, primarily homestays for vacation rentals, and tourism activities. Based in San Francisco, California, the platform is accessible via website and mobile app. Airbnb does not own any of the listed properties; instead, it profits by receiving commission from each booking. The company was founded in 2008 by Brian Chesky, Nathan Blecharczyk and Joe Gebbia. Airbnb is a shortened version of its original name, AirBedandBreakfast.com"
   ]
  },
  {
   "cell_type": "markdown",
   "id": "d9deeb9a-0202-4fcf-9fe0-3ed7e15b5032",
   "metadata": {},
   "source": [
    "Obten las entidades nombradas"
   ]
  },
  {
   "cell_type": "code",
   "execution_count": null,
   "id": "17a00311-99fc-40c4-95ad-31d5a906fdf6",
   "metadata": {},
   "outputs": [],
   "source": []
  },
  {
   "cell_type": "code",
   "execution_count": null,
   "id": "c21607a4-f63b-4750-8001-69dbdc9cedab",
   "metadata": {},
   "outputs": [],
   "source": []
  }
 ],
 "metadata": {
  "kernelspec": {
   "display_name": "Python 3",
   "language": "python",
   "name": "python3"
  },
  "language_info": {
   "codemirror_mode": {
    "name": "ipython",
    "version": 3
   },
   "file_extension": ".py",
   "mimetype": "text/x-python",
   "name": "python",
   "nbconvert_exporter": "python",
   "pygments_lexer": "ipython3",
   "version": "3.8.8"
  }
 },
 "nbformat": 4,
 "nbformat_minor": 5
}
