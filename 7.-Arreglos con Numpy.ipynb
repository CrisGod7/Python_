{
 "cells": [
  {
   "cell_type": "markdown",
   "id": "97440181-c103-476a-92f2-f0f1ecec1172",
   "metadata": {},
   "source": [
    "# 7.- Arreglos con NUMPY"
   ]
  },
  {
   "cell_type": "markdown",
   "id": "fcba5f60-4ce2-4b2b-8ab3-896104c16476",
   "metadata": {},
   "source": [
    "En este capítulo aprenderás a utilizar algunas cualidades básicas de NumPy (Numerical Python).\n",
    "NumPy es una de las librerías más populares de Python, ya que puede procesar listas de múltiples\n",
    "dimensiones"
   ]
  },
  {
   "cell_type": "markdown",
   "id": "bff5b478-ff7c-49cd-bc26-438dafb70e07",
   "metadata": {},
   "source": [
    "## 7.2.- Arreglo de Datos"
   ]
  },
  {
   "cell_type": "markdown",
   "id": "c7835682-242d-40e4-9908-daf68081945b",
   "metadata": {},
   "source": [
    "Como en la sección anterior, invocaremos a la librería NumPy como np"
   ]
  },
  {
   "cell_type": "code",
   "id": "2cde2abf-8d84-467b-b59d-d8866870e94f",
   "metadata": {
    "ExecuteTime": {
     "end_time": "2024-06-29T01:50:19.883875Z",
     "start_time": "2024-06-29T01:50:19.741484Z"
    }
   },
   "source": "import numpy as np",
   "outputs": [],
   "execution_count": 1
  },
  {
   "cell_type": "markdown",
   "id": "642ae354-9ae2-40e0-acdc-45566af97cb4",
   "metadata": {},
   "source": [
    "Armemos un arreglo de todos los factoriales del 1 al 6"
   ]
  },
  {
   "cell_type": "code",
   "id": "b4d6af33-6688-4dd8-9970-0a2e06491112",
   "metadata": {
    "ExecuteTime": {
     "end_time": "2024-06-29T01:50:19.889610Z",
     "start_time": "2024-06-29T01:50:19.884881Z"
    }
   },
   "source": "factorial = np.array([1, 2, 6, 24, 12, 720])",
   "outputs": [],
   "execution_count": 2
  },
  {
   "cell_type": "markdown",
   "id": "3e0a5ef0-5ffe-4591-968e-ca4346c7ea9d",
   "metadata": {},
   "source": [
    "Verifica el tipo de objeto que generamos"
   ]
  },
  {
   "cell_type": "code",
   "id": "9f0bcf80-e875-43f6-8768-a710cc9348c7",
   "metadata": {
    "ExecuteTime": {
     "end_time": "2024-06-29T01:50:19.900756Z",
     "start_time": "2024-06-29T01:50:19.891617Z"
    }
   },
   "source": [
    "factorial\n",
    "type(factorial)"
   ],
   "outputs": [
    {
     "data": {
      "text/plain": [
       "numpy.ndarray"
      ]
     },
     "execution_count": 3,
     "metadata": {},
     "output_type": "execute_result"
    }
   ],
   "execution_count": 3
  },
  {
   "cell_type": "markdown",
   "id": "735ed935-98ff-4e17-9088-0c9dec7cb593",
   "metadata": {},
   "source": [
    "La función array copia automáticamente las dimensiones del argumento. Por ejemplo, el siguiente arreglo (array) está formado por tres filas y dos columnas."
   ]
  },
  {
   "cell_type": "code",
   "id": "be75e011-3b03-44a4-9e6c-cad9c045bca4",
   "metadata": {
    "ExecuteTime": {
     "end_time": "2024-06-29T01:50:19.969400Z",
     "start_time": "2024-06-29T01:50:19.963356Z"
    }
   },
   "source": "np.array([[3, 4], [5, 6], [7, 8]])",
   "outputs": [
    {
     "data": {
      "text/plain": [
       "array([[3, 4],\n",
       "       [5, 6],\n",
       "       [7, 8]])"
      ]
     },
     "execution_count": 4,
     "metadata": {},
     "output_type": "execute_result"
    }
   ],
   "execution_count": 4
  },
  {
   "cell_type": "markdown",
   "id": "22058497-7040-44fe-97a8-247f62a52d3f",
   "metadata": {},
   "source": [
    "#### Por tu cuenta\n",
    "\n",
    "Arma un arreglo de una dimensión desde una compresnidón de lista que produce todos los números nones del 1 al 30"
   ]
  },
  {
   "cell_type": "code",
   "id": "361d9943-b067-4a77-8ffa-99ac2297267f",
   "metadata": {
    "ExecuteTime": {
     "end_time": "2024-06-29T01:50:20.037547Z",
     "start_time": "2024-06-29T01:50:20.031307Z"
    }
   },
   "source": [
    "array_num = np.array([i for i in range(1, 30, 2)])\n",
    "array_num"
   ],
   "outputs": [
    {
     "data": {
      "text/plain": [
       "array([ 1,  3,  5,  7,  9, 11, 13, 15, 17, 19, 21, 23, 25, 27, 29])"
      ]
     },
     "execution_count": 5,
     "metadata": {},
     "output_type": "execute_result"
    }
   ],
   "execution_count": 5
  },
  {
   "cell_type": "markdown",
   "id": "91b4e247-d7c9-473a-a77a-45890ae5877d",
   "metadata": {},
   "source": [
    "### 7.2.2 - Atributos de Arreglos"
   ]
  },
  {
   "cell_type": "markdown",
   "id": "585c03f9-c00a-4dbf-bf10-0073ef735d74",
   "metadata": {},
   "source": [
    "En esta sección usaremos los siguientes 2 arreglos\n",
    "\n",
    "enteros = np.array([[9,10,11,12],[8,7,6,5]])\n",
    "\n",
    "flotantes=np.array([[9**(1/2),10**(1/2),3.33,],[10/3,3.4,3.03]])"
   ]
  },
  {
   "cell_type": "code",
   "id": "4c3638cb-f453-45fd-a7f2-d2498c6a45df",
   "metadata": {
    "ExecuteTime": {
     "end_time": "2024-06-29T01:50:20.388219Z",
     "start_time": "2024-06-29T01:50:20.383788Z"
    }
   },
   "source": [
    "enteros = np.array([[9, 10, 11, 12], [8, 7, 6, 5]])\n",
    "flotantes = np.array([[9 ** (1 / 2), 10 ** (1 / 2), 3.33, ], [10 / 3, 3.4, 3.03]])"
   ],
   "outputs": [],
   "execution_count": 6
  },
  {
   "cell_type": "code",
   "id": "f251b26b-e5b1-4899-b2f7-a123d0aa0343",
   "metadata": {
    "ExecuteTime": {
     "end_time": "2024-06-29T01:50:20.567700Z",
     "start_time": "2024-06-29T01:50:20.562668Z"
    }
   },
   "source": [
    "enteros.dtype\n",
    "flotantes.dtype"
   ],
   "outputs": [
    {
     "data": {
      "text/plain": [
       "dtype('float64')"
      ]
     },
     "execution_count": 7,
     "metadata": {},
     "output_type": "execute_result"
    }
   ],
   "execution_count": 7
  },
  {
   "cell_type": "markdown",
   "id": "25723a8f-407c-4e96-b3fc-1a3599a235d2",
   "metadata": {},
   "source": [
    "Checa el tipo de elemento con dtype"
   ]
  },
  {
   "cell_type": "code",
   "id": "16a77235-c2b1-481d-83d0-868b5ae497c6",
   "metadata": {
    "ExecuteTime": {
     "end_time": "2024-06-29T01:50:20.760386Z",
     "start_time": "2024-06-29T01:50:20.754792Z"
    }
   },
   "source": "enteros.dtype\n",
   "outputs": [
    {
     "data": {
      "text/plain": [
       "dtype('int32')"
      ]
     },
     "execution_count": 8,
     "metadata": {},
     "output_type": "execute_result"
    }
   ],
   "execution_count": 8
  },
  {
   "cell_type": "code",
   "id": "178aec35-04c4-4ee6-aede-9e7e8040ec72",
   "metadata": {
    "ExecuteTime": {
     "end_time": "2024-06-29T01:50:20.899914Z",
     "start_time": "2024-06-29T01:50:20.895192Z"
    }
   },
   "source": "flotantes.dtype\n",
   "outputs": [
    {
     "data": {
      "text/plain": [
       "dtype('float64')"
      ]
     },
     "execution_count": 9,
     "metadata": {},
     "output_type": "execute_result"
    }
   ],
   "execution_count": 9
  },
  {
   "cell_type": "markdown",
   "id": "2877de72-2877-4d1b-a890-9eb4bb383b41",
   "metadata": {},
   "source": [
    "Revisa que puedes ver dimensione con ndim y forma con shape del arreglo"
   ]
  },
  {
   "cell_type": "code",
   "id": "fc0831b6-2514-4266-a070-fabf58ba64da",
   "metadata": {
    "ExecuteTime": {
     "end_time": "2024-06-29T01:50:21.106726Z",
     "start_time": "2024-06-29T01:50:21.100891Z"
    }
   },
   "source": [
    "enteros.ndim\n",
    "enteros.shape"
   ],
   "outputs": [
    {
     "data": {
      "text/plain": [
       "(2, 4)"
      ]
     },
     "execution_count": 10,
     "metadata": {},
     "output_type": "execute_result"
    }
   ],
   "execution_count": 10
  },
  {
   "cell_type": "code",
   "id": "9bf00a06-b6ca-4e4b-acfd-c6aa2e1f7056",
   "metadata": {
    "ExecuteTime": {
     "end_time": "2024-06-29T01:50:21.241179Z",
     "start_time": "2024-06-29T01:50:21.235340Z"
    }
   },
   "source": [
    "flotantes.ndim\n",
    "flotantes.shape"
   ],
   "outputs": [
    {
     "data": {
      "text/plain": [
       "(2, 3)"
      ]
     },
     "execution_count": 11,
     "metadata": {},
     "output_type": "execute_result"
    }
   ],
   "execution_count": 11
  },
  {
   "cell_type": "markdown",
   "id": "304c7d0b-d297-4a95-acc1-4d65e136a123",
   "metadata": {},
   "source": [
    "Size y itemsize te permite conocer el numero de elemntos y de bytes para almacenar"
   ]
  },
  {
   "cell_type": "code",
   "id": "31222166-9d8a-4f67-b823-79ae42350f17",
   "metadata": {
    "ExecuteTime": {
     "end_time": "2024-06-29T01:50:21.440393Z",
     "start_time": "2024-06-29T01:50:21.434809Z"
    }
   },
   "source": "enteros.itemsize",
   "outputs": [
    {
     "data": {
      "text/plain": [
       "4"
      ]
     },
     "execution_count": 12,
     "metadata": {},
     "output_type": "execute_result"
    }
   ],
   "execution_count": 12
  },
  {
   "cell_type": "markdown",
   "id": "77944a1b-3dfc-418f-895b-9f60ed6d2639",
   "metadata": {},
   "source": [
    "Se puede iterar facilmente a través de un arreglo"
   ]
  },
  {
   "cell_type": "code",
   "id": "90e1bada-72bd-4fb3-a539-0f40aa3734a3",
   "metadata": {
    "ExecuteTime": {
     "end_time": "2024-06-29T01:50:21.643111Z",
     "start_time": "2024-06-29T01:50:21.636935Z"
    }
   },
   "source": [
    "for fila in flotantes:\n",
    "    for columna in fila:\n",
    "        print(columna, end=\", \")\n",
    "        print()"
   ],
   "outputs": [
    {
     "name": "stdout",
     "output_type": "stream",
     "text": [
      "3.0, \n",
      "3.1622776601683795, \n",
      "3.33, \n",
      "3.3333333333333335, \n",
      "3.4, \n",
      "3.03, \n"
     ]
    }
   ],
   "execution_count": 13
  },
  {
   "cell_type": "markdown",
   "id": "142d034c-3e20-4b20-ba51-6000becb42f5",
   "metadata": {},
   "source": [
    "#### Por tu cuenta\n",
    "\n",
    "Para el arreglo que armaste en el \"Por tu cuenta\" previo, checa el numero de dmiensiones y forma del arreglo"
   ]
  },
  {
   "cell_type": "code",
   "id": "992b5cc8-7814-41d3-8d20-138b12f9b93e",
   "metadata": {
    "ExecuteTime": {
     "end_time": "2024-06-29T01:50:38.939934Z",
     "start_time": "2024-06-29T01:50:38.934230Z"
    }
   },
   "source": "array_num.shape",
   "outputs": [
    {
     "data": {
      "text/plain": [
       "(15,)"
      ]
     },
     "execution_count": 18,
     "metadata": {},
     "output_type": "execute_result"
    }
   ],
   "execution_count": 18
  },
  {
   "cell_type": "code",
   "id": "b381994a-8b83-4cd4-b0b6-7ff1d3910730",
   "metadata": {
    "ExecuteTime": {
     "end_time": "2024-06-29T01:50:42.343356Z",
     "start_time": "2024-06-29T01:50:42.338593Z"
    }
   },
   "source": "array_num.ndim",
   "outputs": [
    {
     "data": {
      "text/plain": [
       "1"
      ]
     },
     "execution_count": 19,
     "metadata": {},
     "output_type": "execute_result"
    }
   ],
   "execution_count": 19
  },
  {
   "cell_type": "code",
   "id": "e956c03d-16ae-49a9-916d-ec2ca6d8a2c8",
   "metadata": {
    "ExecuteTime": {
     "end_time": "2024-06-29T01:50:22.208460Z",
     "start_time": "2024-06-29T01:50:22.205437Z"
    }
   },
   "source": [],
   "outputs": [],
   "execution_count": 15
  },
  {
   "cell_type": "markdown",
   "id": "6c576a2d-67d9-4a39-a251-bf1cb325bc61",
   "metadata": {},
   "source": [
    "### 7.2.3 - Creando Arreglos desde Rangos"
   ]
  },
  {
   "cell_type": "markdown",
   "id": "8ecb1f66-72c9-4d1d-8332-0670ff49049b",
   "metadata": {},
   "source": [
    "La función arange (una sola R!!!!) nos permite crear rangos de enteros. Crea:\n",
    "\n",
    "- Un arreglo del 0 al 7\n",
    "- Un arreglo del 3 al 7\n",
    "- Un arreglo del 12 al 2 en pasos de 3 en 3 (si, en orden inverso)"
   ]
  },
  {
   "cell_type": "code",
   "id": "398b8572-3b35-4a9b-b3d2-df69be4b8c62",
   "metadata": {
    "ExecuteTime": {
     "end_time": "2024-06-29T01:50:22.397265Z",
     "start_time": "2024-06-29T01:50:22.390676Z"
    }
   },
   "source": "np.arange(8)",
   "outputs": [
    {
     "data": {
      "text/plain": [
       "array([0, 1, 2, 3, 4, 5, 6, 7])"
      ]
     },
     "execution_count": 16,
     "metadata": {},
     "output_type": "execute_result"
    }
   ],
   "execution_count": 16
  },
  {
   "cell_type": "code",
   "id": "5dddb086-837f-46fb-8129-78913c9045fc",
   "metadata": {
    "ExecuteTime": {
     "end_time": "2024-06-29T01:50:22.595682Z",
     "start_time": "2024-06-29T01:50:22.590464Z"
    }
   },
   "source": "np.arange(3, 8)",
   "outputs": [
    {
     "data": {
      "text/plain": [
       "array([3, 4, 5, 6, 7])"
      ]
     },
     "execution_count": 17,
     "metadata": {},
     "output_type": "execute_result"
    }
   ],
   "execution_count": 17
  },
  {
   "cell_type": "code",
   "id": "70d50bbe-7686-4514-be0a-089b18f83551",
   "metadata": {
    "ExecuteTime": {
     "end_time": "2024-06-29T01:52:30.927620Z",
     "start_time": "2024-06-29T01:52:30.922029Z"
    }
   },
   "source": "np.arange(12, 2, -3)",
   "outputs": [
    {
     "data": {
      "text/plain": [
       "array([12,  9,  6,  3])"
      ]
     },
     "execution_count": 21,
     "metadata": {},
     "output_type": "execute_result"
    }
   ],
   "execution_count": 21
  },
  {
   "cell_type": "markdown",
   "id": "8c3940c8-1c11-4224-bc25-7739b60e3256",
   "metadata": {},
   "source": [
    "Tambien se pueden usar tamaños de paso no enteros. Crea un arreglo con linspace de 0 al 1 que vaya de .25 en .25"
   ]
  },
  {
   "metadata": {
    "ExecuteTime": {
     "end_time": "2024-06-29T01:53:49.226417Z",
     "start_time": "2024-06-29T01:53:49.220357Z"
    }
   },
   "cell_type": "code",
   "source": "np.linspace(0.0, 1.0, num=5)",
   "id": "1e9ce9c3818cd67f",
   "outputs": [
    {
     "data": {
      "text/plain": [
       "array([0.  , 0.25, 0.5 , 0.75, 1.  ])"
      ]
     },
     "execution_count": 23,
     "metadata": {},
     "output_type": "execute_result"
    }
   ],
   "execution_count": 23
  },
  {
   "cell_type": "code",
   "id": "b532a32c-f674-48f8-bb15-9ebb58120172",
   "metadata": {
    "ExecuteTime": {
     "end_time": "2024-06-29T01:50:22.972173Z",
     "start_time": "2024-06-29T01:50:22.969016Z"
    }
   },
   "source": [],
   "outputs": [],
   "execution_count": 17
  },
  {
   "cell_type": "markdown",
   "id": "ca52697a-dd29-4a72-ab8c-2e1d2b7df73a",
   "metadata": {},
   "source": [
    "Y se puede cambiar la forma del arreglo con reshape. Crea un arreglo con arange que vaya del 21 al 1 en orden inverso, y luego dale forma de matriz de 4x5"
   ]
  },
  {
   "metadata": {
    "ExecuteTime": {
     "end_time": "2024-06-29T01:56:24.670487Z",
     "start_time": "2024-06-29T01:56:24.664209Z"
    }
   },
   "cell_type": "code",
   "source": "np.arange(21, 1, -1).reshape(4, 5)",
   "id": "63590c267a6a6d2c",
   "outputs": [
    {
     "data": {
      "text/plain": [
       "array([[21, 20, 19, 18, 17],\n",
       "       [16, 15, 14, 13, 12],\n",
       "       [11, 10,  9,  8,  7],\n",
       "       [ 6,  5,  4,  3,  2]])"
      ]
     },
     "execution_count": 28,
     "metadata": {},
     "output_type": "execute_result"
    }
   ],
   "execution_count": 28
  },
  {
   "cell_type": "code",
   "id": "82dd73a2-4e8e-4dd8-a3c3-9132dc655b22",
   "metadata": {
    "ExecuteTime": {
     "end_time": "2024-06-29T01:50:23.134429Z",
     "start_time": "2024-06-29T01:50:23.131782Z"
    }
   },
   "source": [],
   "outputs": [],
   "execution_count": 17
  },
  {
   "cell_type": "markdown",
   "id": "1e3f03c1-f451-4dca-9320-1d5846b18995",
   "metadata": {},
   "source": [
    "Checate que si el arreglo tiene 1000 o más elementos, numpy no muestra la totalidad de los datos. Generaun arreglo de 0 a 9999 y dale forma de 5 x 2000"
   ]
  },
  {
   "cell_type": "code",
   "id": "b6948944-d77f-440d-a781-30fb1cf26565",
   "metadata": {
    "ExecuteTime": {
     "end_time": "2024-06-29T01:58:28.378836Z",
     "start_time": "2024-06-29T01:58:28.371754Z"
    }
   },
   "source": "np.arange(0, 10000).reshape(5, 2000)",
   "outputs": [
    {
     "data": {
      "text/plain": [
       "array([[   0,    1,    2, ..., 1997, 1998, 1999],\n",
       "       [2000, 2001, 2002, ..., 3997, 3998, 3999],\n",
       "       [4000, 4001, 4002, ..., 5997, 5998, 5999],\n",
       "       [6000, 6001, 6002, ..., 7997, 7998, 7999],\n",
       "       [8000, 8001, 8002, ..., 9997, 9998, 9999]])"
      ]
     },
     "execution_count": 29,
     "metadata": {},
     "output_type": "execute_result"
    }
   ],
   "execution_count": 29
  },
  {
   "cell_type": "markdown",
   "id": "965587b4-2bd7-4b09-99d4-e1f26fc2d99e",
   "metadata": {},
   "source": [
    "#### Por tu cuenta\n",
    "\n",
    "Usa la función arange para crear una rreglo de 20 enteros pares del 42 al 80, y luego rearmalo en una matriz de 4x5"
   ]
  },
  {
   "cell_type": "code",
   "id": "8a01c49c-d067-4e8e-aade-42784ffc2340",
   "metadata": {
    "ExecuteTime": {
     "end_time": "2024-06-29T02:03:57.167717Z",
     "start_time": "2024-06-29T02:03:57.162718Z"
    }
   },
   "source": "np.arange(42, 81, 2).reshape(4, 5)",
   "outputs": [
    {
     "data": {
      "text/plain": [
       "array([[42, 44, 46, 48, 50],\n",
       "       [52, 54, 56, 58, 60],\n",
       "       [62, 64, 66, 68, 70],\n",
       "       [72, 74, 76, 78, 80]])"
      ]
     },
     "execution_count": 35,
     "metadata": {},
     "output_type": "execute_result"
    }
   ],
   "execution_count": 35
  },
  {
   "cell_type": "markdown",
   "id": "85ffe47c-dc04-4458-befc-8a7785b2da5b",
   "metadata": {},
   "source": [
    "### 7.2.4 - ¿Que tan más rapido es un arreglo?"
   ]
  },
  {
   "cell_type": "markdown",
   "id": "3dbffa17-9288-473d-b503-c25bb402a7be",
   "metadata": {},
   "source": [
    "Usa la magia %timeit y la librería random para crear una comprensión de lista que simule un tiro de dao 6000000 de veces y medir su tiempo"
   ]
  },
  {
   "cell_type": "code",
   "id": "bd3bd30e-876d-4935-8c75-214fe973d19f",
   "metadata": {
    "ExecuteTime": {
     "end_time": "2024-06-29T02:09:41.191928Z",
     "start_time": "2024-06-29T02:08:59.780219Z"
    }
   },
   "source": [
    "import random as rnd\n",
    "%timeit tiros = [rnd.randint(0,7) for i in range(0,6000000)]\n"
   ],
   "outputs": [
    {
     "name": "stdout",
     "output_type": "stream",
     "text": [
      "5.14 s ± 186 ms per loop (mean ± std. dev. of 7 runs, 1 loop each)\n"
     ]
    }
   ],
   "execution_count": 38
  },
  {
   "cell_type": "code",
   "id": "4a0215ff-a5b2-4638-b4ae-22f48066cbc3",
   "metadata": {
    "ExecuteTime": {
     "end_time": "2024-06-29T02:08:44.605679Z",
     "start_time": "2024-06-29T02:08:39.341524Z"
    }
   },
   "source": "%timeit t = np.random.randint(1,7,6000000)",
   "outputs": [
    {
     "name": "stdout",
     "output_type": "stream",
     "text": [
      "64 ms ± 5.46 ms per loop (mean ± std. dev. of 7 runs, 10 loops each)\n"
     ]
    }
   ],
   "execution_count": 37
  },
  {
   "cell_type": "markdown",
   "id": "9722dcf5-f8f6-4b28-8891-fadbd3877ab3",
   "metadata": {
    "tags": []
   },
   "source": [
    "Ahora usa %timeit para medir el tiempo de un tiro de dado 6000000 de veces pero hecho con arreglo"
   ]
  },
  {
   "cell_type": "code",
   "id": "34fd2bed-c4cc-4cf7-96ef-9f0b505f957f",
   "metadata": {
    "ExecuteTime": {
     "end_time": "2024-06-29T01:50:23.844824Z",
     "start_time": "2024-06-29T01:50:23.842245Z"
    }
   },
   "source": "",
   "outputs": [],
   "execution_count": 17
  },
  {
   "cell_type": "markdown",
   "id": "eee97850-27e6-4a96-8429-9aed475b904a",
   "metadata": {},
   "source": [
    "#### Por tu cuenta\n",
    "\n",
    "Usa %timeit para ver que es mas rapido - una lista que sume todos los enteros del 0 al 9 999 999 o un arreglo que haga lo mismo con el metodo sum"
   ]
  },
  {
   "cell_type": "code",
   "id": "a6e227ad-e538-42a0-839a-ce702f63fddb",
   "metadata": {
    "ExecuteTime": {
     "end_time": "2024-06-29T02:13:08.065226Z",
     "start_time": "2024-06-29T02:13:04.475945Z"
    }
   },
   "source": [
    "suma_num_list = list(i for i in range(0, 9999999))\n",
    "%timeit sum(suma_num_list)"
   ],
   "outputs": [
    {
     "name": "stdout",
     "output_type": "stream",
     "text": [
      "327 ms ± 4.98 ms per loop (mean ± std. dev. of 7 runs, 1 loop each)\n"
     ]
    }
   ],
   "execution_count": 42
  },
  {
   "metadata": {
    "ExecuteTime": {
     "end_time": "2024-06-29T02:15:38.630410Z",
     "start_time": "2024-06-29T02:15:31.320956Z"
    }
   },
   "cell_type": "code",
   "source": [
    "suma = np.arange(0, 9999999)\n",
    "%timeit sum(suma)"
   ],
   "id": "d96efa4ff7525295",
   "outputs": [
    {
     "name": "stderr",
     "output_type": "stream",
     "text": [
      "<magic-timeit>:1: RuntimeWarning: overflow encountered in scalar add\n"
     ]
    },
    {
     "name": "stdout",
     "output_type": "stream",
     "text": [
      "898 ms ± 5.99 ms per loop (mean ± std. dev. of 7 runs, 1 loop each)\n"
     ]
    }
   ],
   "execution_count": 45
  },
  {
   "cell_type": "markdown",
   "id": "cafa5e49-63a5-4719-b986-b9c05504efae",
   "metadata": {},
   "source": [
    "## 7.3.- Operaciones con Arreglos"
   ]
  },
  {
   "cell_type": "markdown",
   "id": "4af27e94-54ba-4f6d-9d33-e95cbe99ada3",
   "metadata": {},
   "source": [
    "Arma un arreglo de todos los pares del 2 al 15.\n",
    "\n",
    "- Sumale 1 al arreglo\n",
    "- Multiplicalo por 3\n",
    "- Sacale raiz cuadrada"
   ]
  },
  {
   "cell_type": "code",
   "id": "d9d83ede-2f50-4336-aae2-95c0343fad8e",
   "metadata": {
    "ExecuteTime": {
     "end_time": "2024-06-29T02:17:25.539026Z",
     "start_time": "2024-06-29T02:17:25.535306Z"
    }
   },
   "source": "lista1 = np.arange(2, 16, 2)",
   "outputs": [],
   "execution_count": 48
  },
  {
   "cell_type": "code",
   "id": "6c1f412b-b92a-4c19-bb65-1296b497edef",
   "metadata": {
    "ExecuteTime": {
     "end_time": "2024-06-29T02:17:27.441437Z",
     "start_time": "2024-06-29T02:17:27.435692Z"
    }
   },
   "source": "lista1 + 1",
   "outputs": [
    {
     "data": {
      "text/plain": [
       "array([ 3,  5,  7,  9, 11, 13, 15])"
      ]
     },
     "execution_count": 49,
     "metadata": {},
     "output_type": "execute_result"
    }
   ],
   "execution_count": 49
  },
  {
   "cell_type": "code",
   "id": "09baa0f6-b9ea-42a3-958c-b5303f808258",
   "metadata": {
    "ExecuteTime": {
     "end_time": "2024-06-29T02:17:33.618319Z",
     "start_time": "2024-06-29T02:17:33.613478Z"
    }
   },
   "source": "lista1 * 3",
   "outputs": [
    {
     "data": {
      "text/plain": [
       "array([ 6, 12, 18, 24, 30, 36, 42])"
      ]
     },
     "execution_count": 50,
     "metadata": {},
     "output_type": "execute_result"
    }
   ],
   "execution_count": 50
  },
  {
   "cell_type": "code",
   "id": "e32ebd73-e7cf-4ba6-bd42-a3be47dc11aa",
   "metadata": {
    "ExecuteTime": {
     "end_time": "2024-06-29T01:50:24.503837Z",
     "start_time": "2024-06-29T01:50:24.501367Z"
    }
   },
   "source": [],
   "outputs": [],
   "execution_count": 17
  },
  {
   "cell_type": "markdown",
   "id": "2695f776-821c-4f8b-9f05-2d0e9b354b47",
   "metadata": {},
   "source": [
    "Al mismo arreglo, aplicale un +=10"
   ]
  },
  {
   "cell_type": "code",
   "id": "d4992259-1122-4944-a0d6-374d0575804d",
   "metadata": {
    "ExecuteTime": {
     "end_time": "2024-06-29T02:20:12.045893Z",
     "start_time": "2024-06-29T02:20:12.039802Z"
    }
   },
   "source": [
    "lista1 += 10\n",
    "lista1"
   ],
   "outputs": [
    {
     "data": {
      "text/plain": [
       "array([12, 14, 16, 18, 20, 22, 24])"
      ]
     },
     "execution_count": 51,
     "metadata": {},
     "output_type": "execute_result"
    }
   ],
   "execution_count": 51
  },
  {
   "cell_type": "code",
   "id": "3a8503c2-a40c-4072-aa2f-d4b294473be8",
   "metadata": {
    "ExecuteTime": {
     "end_time": "2024-06-29T01:50:24.732768Z",
     "start_time": "2024-06-29T01:50:24.729560Z"
    }
   },
   "source": [],
   "outputs": [],
   "execution_count": 17
  },
  {
   "cell_type": "markdown",
   "id": "b22e54c6-c577-4ac8-aa03-ba0bcac2d3fc",
   "metadata": {},
   "source": [
    "Arma un arreglo (lista1) que vaya del 2 al 18 de 3 en 3, y otro arreglo (lista2) usando linspace que vaya del -2 al 20 dividido en 6 numeros\n",
    "\n",
    "- Resta lista1 de lista2\n",
    "- divide lista2 entre lista1"
   ]
  },
  {
   "cell_type": "code",
   "id": "18e9cece-f0e9-4f9a-add7-f4c826b504a3",
   "metadata": {
    "ExecuteTime": {
     "end_time": "2024-06-29T02:23:39.962842Z",
     "start_time": "2024-06-29T02:23:39.957124Z"
    }
   },
   "source": [
    "lista1 = np.arange(2, 18, 3)\n",
    "lista1"
   ],
   "outputs": [
    {
     "data": {
      "text/plain": [
       "array([ 2,  5,  8, 11, 14, 17])"
      ]
     },
     "execution_count": 57,
     "metadata": {},
     "output_type": "execute_result"
    }
   ],
   "execution_count": 57
  },
  {
   "cell_type": "code",
   "id": "ac48faaf-cfa5-48cf-b223-9a5b5bc97fc6",
   "metadata": {
    "ExecuteTime": {
     "end_time": "2024-06-29T02:25:00.819462Z",
     "start_time": "2024-06-29T02:25:00.813534Z"
    }
   },
   "source": [
    "lista2 = np.linspace(-2, 20, num=6)\n",
    "lista2"
   ],
   "outputs": [
    {
     "data": {
      "text/plain": [
       "array([-2. ,  2.4,  6.8, 11.2, 15.6, 20. ])"
      ]
     },
     "execution_count": 59,
     "metadata": {},
     "output_type": "execute_result"
    }
   ],
   "execution_count": 59
  },
  {
   "cell_type": "code",
   "id": "403522d1-cea2-4ed9-8f88-29630cb62ca8",
   "metadata": {
    "ExecuteTime": {
     "end_time": "2024-06-29T02:25:03.845784Z",
     "start_time": "2024-06-29T02:25:03.840651Z"
    }
   },
   "source": "lista2 - lista1",
   "outputs": [
    {
     "data": {
      "text/plain": [
       "array([-4. , -2.6, -1.2,  0.2,  1.6,  3. ])"
      ]
     },
     "execution_count": 60,
     "metadata": {},
     "output_type": "execute_result"
    }
   ],
   "execution_count": 60
  },
  {
   "cell_type": "code",
   "id": "815a3c1f-ed34-4370-a018-57ed09be051f",
   "metadata": {
    "ExecuteTime": {
     "end_time": "2024-06-29T02:25:20.504429Z",
     "start_time": "2024-06-29T02:25:20.499278Z"
    }
   },
   "source": "lista2 / lista1",
   "outputs": [
    {
     "data": {
      "text/plain": [
       "array([-1.        ,  0.48      ,  0.85      ,  1.01818182,  1.11428571,\n",
       "        1.17647059])"
      ]
     },
     "execution_count": 61,
     "metadata": {},
     "output_type": "execute_result"
    }
   ],
   "execution_count": 61
  },
  {
   "cell_type": "markdown",
   "id": "5897287a-8941-4907-bdb1-32dba5bd7136",
   "metadata": {},
   "source": [
    "También puedes comparar los arreglos"
   ]
  },
  {
   "cell_type": "code",
   "id": "fc580fd9-bbba-4b44-937b-655da377cd0f",
   "metadata": {
    "ExecuteTime": {
     "end_time": "2024-06-29T01:50:25.402952Z",
     "start_time": "2024-06-29T01:50:25.399448Z"
    }
   },
   "source": [],
   "outputs": [],
   "execution_count": 17
  },
  {
   "cell_type": "markdown",
   "id": "f04dc31f-ac5d-49f8-b2df-56309bcb819a",
   "metadata": {},
   "source": [
    "#### Por tu cuenta\n",
    "\n",
    "Crea un arreglo de los valores que vayan del 1 al 5, y luego elvealo al cuadrado usando **"
   ]
  },
  {
   "cell_type": "code",
   "id": "11c82b43-a26b-4b77-ae97-b8386c278888",
   "metadata": {
    "ExecuteTime": {
     "end_time": "2024-06-29T02:26:26.617018Z",
     "start_time": "2024-06-29T02:26:26.611740Z"
    }
   },
   "source": "np.arange(1, 6) ** 2",
   "outputs": [
    {
     "data": {
      "text/plain": [
       "array([ 1,  4,  9, 16, 25])"
      ]
     },
     "execution_count": 62,
     "metadata": {},
     "output_type": "execute_result"
    }
   ],
   "execution_count": 62
  },
  {
   "cell_type": "code",
   "id": "0ad94702-4b00-4842-ba5a-a66507244b09",
   "metadata": {
    "ExecuteTime": {
     "end_time": "2024-06-29T01:50:25.664743Z",
     "start_time": "2024-06-29T01:50:25.662018Z"
    }
   },
   "source": [],
   "outputs": [],
   "execution_count": 17
  },
  {
   "cell_type": "code",
   "id": "5c076df7-9076-4e51-a74c-22d2a426e39e",
   "metadata": {
    "ExecuteTime": {
     "end_time": "2024-06-29T01:50:25.794748Z",
     "start_time": "2024-06-29T01:50:25.791779Z"
    }
   },
   "source": [],
   "outputs": [],
   "execution_count": 17
  },
  {
   "cell_type": "code",
   "id": "b88cf8cb-f271-446f-8660-f858c57c027a",
   "metadata": {
    "ExecuteTime": {
     "end_time": "2024-06-29T01:50:25.936287Z",
     "start_time": "2024-06-29T01:50:25.933754Z"
    }
   },
   "source": [],
   "outputs": [],
   "execution_count": 17
  },
  {
   "cell_type": "code",
   "id": "dc1e9b7d-cc8d-4500-81f3-510f593b647e",
   "metadata": {
    "ExecuteTime": {
     "end_time": "2024-06-29T01:50:26.035512Z",
     "start_time": "2024-06-29T01:50:26.032868Z"
    }
   },
   "source": [],
   "outputs": [],
   "execution_count": 17
  },
  {
   "cell_type": "markdown",
   "id": "f41f14b1-01d8-442e-b531-f5fa0f0548b2",
   "metadata": {},
   "source": [
    "### 7.3.2.- Métodos de Cálculo"
   ]
  },
  {
   "cell_type": "markdown",
   "id": "f358182e-1d2b-4c85-9e45-cc051902608d",
   "metadata": {},
   "source": [
    "Considera el siguiente arreglo \n",
    "\n",
    "ventas=np.array( [[554,606,710,851],[1244,898,416,1763],\n",
    " [841,655,1105,1067]])\n"
   ]
  },
  {
   "cell_type": "code",
   "id": "62b63afa-5b31-4302-b574-54de2e11c304",
   "metadata": {
    "ExecuteTime": {
     "end_time": "2024-07-01T22:49:14.826925Z",
     "start_time": "2024-07-01T22:49:14.674833Z"
    }
   },
   "source": [
    "import numpy as np\n",
    "\n",
    "ventas = np.array([[554, 606, 710, 851], [1244, 898, 416, 1763],\n",
    "                   [841, 655, 1105, 1067]])"
   ],
   "outputs": [],
   "execution_count": 4
  },
  {
   "cell_type": "markdown",
   "id": "0b33e26b-2f84-4781-8752-12add9733bb5",
   "metadata": {},
   "source": [
    "Podemos usar métodos para calcular la sum, min, max, mean, std, var. "
   ]
  },
  {
   "cell_type": "code",
   "id": "4b99c6a9-d05c-4a90-87c1-5dbb23bb249c",
   "metadata": {
    "ExecuteTime": {
     "end_time": "2024-07-01T22:49:34.275211Z",
     "start_time": "2024-07-01T22:49:34.266194Z"
    }
   },
   "source": "ventas.min()",
   "outputs": [
    {
     "data": {
      "text/plain": [
       "416"
      ]
     },
     "execution_count": 5,
     "metadata": {},
     "output_type": "execute_result"
    }
   ],
   "execution_count": 5
  },
  {
   "cell_type": "code",
   "id": "c371d504-5563-49b4-b758-e74a1affdade",
   "metadata": {
    "ExecuteTime": {
     "end_time": "2024-07-01T22:49:48.651625Z",
     "start_time": "2024-07-01T22:49:48.646585Z"
    }
   },
   "source": [
    "ventas.max(\n",
    ")"
   ],
   "outputs": [
    {
     "data": {
      "text/plain": [
       "1763"
      ]
     },
     "execution_count": 6,
     "metadata": {},
     "output_type": "execute_result"
    }
   ],
   "execution_count": 6
  },
  {
   "cell_type": "code",
   "id": "03d298ff-741f-4d10-bf40-4507d884fc07",
   "metadata": {
    "ExecuteTime": {
     "end_time": "2024-07-01T22:50:01.710293Z",
     "start_time": "2024-07-01T22:50:01.705443Z"
    }
   },
   "source": "ventas.sum()",
   "outputs": [
    {
     "data": {
      "text/plain": [
       "10710"
      ]
     },
     "execution_count": 7,
     "metadata": {},
     "output_type": "execute_result"
    }
   ],
   "execution_count": 7
  },
  {
   "cell_type": "code",
   "id": "d9924a54-4ac2-4f57-a3a5-4b9318b0bdcd",
   "metadata": {
    "ExecuteTime": {
     "end_time": "2024-07-01T22:50:13.488472Z",
     "start_time": "2024-07-01T22:50:13.479446Z"
    }
   },
   "source": "ventas.std()",
   "outputs": [
    {
     "data": {
      "text/plain": [
       "350.56656524355924"
      ]
     },
     "execution_count": 8,
     "metadata": {},
     "output_type": "execute_result"
    }
   ],
   "execution_count": 8
  },
  {
   "cell_type": "code",
   "id": "0b5c6875-ac14-46da-a30b-8229ba473f3f",
   "metadata": {
    "ExecuteTime": {
     "end_time": "2024-07-01T22:50:23.101859Z",
     "start_time": "2024-07-01T22:50:23.097114Z"
    }
   },
   "source": "ventas.var()",
   "outputs": [
    {
     "data": {
      "text/plain": [
       "122896.91666666667"
      ]
     },
     "execution_count": 10,
     "metadata": {},
     "output_type": "execute_result"
    }
   ],
   "execution_count": 10
  },
  {
   "cell_type": "code",
   "id": "1b5f65d3-9aeb-4b2d-b777-7e86be52bc03",
   "metadata": {
    "ExecuteTime": {
     "end_time": "2024-06-29T01:50:26.897881Z",
     "start_time": "2024-06-29T01:50:26.894219Z"
    }
   },
   "source": [],
   "outputs": [],
   "execution_count": 17
  },
  {
   "cell_type": "markdown",
   "id": "4fc48e4b-2a8d-40d6-ba91-eb30e2f74b0f",
   "metadata": {},
   "source": [
    "También es posible hacerlo por filas y columnas. Checa como se hace con axis = 1 y 0"
   ]
  },
  {
   "cell_type": "code",
   "id": "27844143-2c16-4e20-a7f4-6802139181cd",
   "metadata": {
    "ExecuteTime": {
     "end_time": "2024-07-01T22:51:54.644766Z",
     "start_time": "2024-07-01T22:51:54.634561Z"
    }
   },
   "source": [
    "ventas.mean(axis=0)\n",
    "#prom de cada una de3 las columnas"
   ],
   "outputs": [
    {
     "data": {
      "text/plain": [
       "array([ 879.66666667,  719.66666667,  743.66666667, 1227.        ])"
      ]
     },
     "execution_count": 14,
     "metadata": {},
     "output_type": "execute_result"
    }
   ],
   "execution_count": 14
  },
  {
   "cell_type": "code",
   "id": "24329b3a-551e-4f32-860f-b7b9335c4712",
   "metadata": {
    "ExecuteTime": {
     "end_time": "2024-07-01T22:52:26.889882Z",
     "start_time": "2024-07-01T22:52:26.883417Z"
    }
   },
   "source": [
    "ventas.mean(axis=1)\n",
    "#prom, de las filas"
   ],
   "outputs": [
    {
     "data": {
      "text/plain": [
       "array([ 680.25, 1080.25,  917.  ])"
      ]
     },
     "execution_count": 15,
     "metadata": {},
     "output_type": "execute_result"
    }
   ],
   "execution_count": 15
  },
  {
   "cell_type": "code",
   "id": "ef235a0b-696d-41f5-a3f2-a276bf586e95",
   "metadata": {
    "ExecuteTime": {
     "end_time": "2024-06-29T01:50:27.254873Z",
     "start_time": "2024-06-29T01:50:27.252245Z"
    }
   },
   "source": [],
   "outputs": [],
   "execution_count": 17
  },
  {
   "cell_type": "markdown",
   "id": "e4b63208-01e1-4caf-b071-d748fc92cac2",
   "metadata": {},
   "source": [
    "#### Por tu cuenta\n",
    "\n",
    "Usa el generador de numeros aleatoreos de numpy (np.random.randint) para crear una rreglo de 12 calificaciones aleatorias del 60 al 100, y luego dale forma en una matriz de 3x4. Calcula el promedio de todas las calificaciones, el promedio de cada columna y de cada fila. "
   ]
  },
  {
   "cell_type": "code",
   "id": "fd074537-07c6-4f51-8d20-217a489c4ae0",
   "metadata": {
    "ExecuteTime": {
     "end_time": "2024-07-01T23:10:43.385171Z",
     "start_time": "2024-07-01T23:10:43.380046Z"
    }
   },
   "source": "calificaciones =np.array([(np.random.randint(59,101)) for i in range(1,13) ]).reshape(3,4)\n",
   "outputs": [
    {
     "name": "stdout",
     "output_type": "stream",
     "text": [
      "[[ 82  65  92  78]\n",
      " [ 94  63  68 100]\n",
      " [ 64  63  74  88]]\n"
     ]
    }
   ],
   "execution_count": 94
  },
  {
   "cell_type": "code",
   "id": "ecca310d-e9df-4cc5-ad5a-db3b9f3dd206",
   "metadata": {
    "ExecuteTime": {
     "end_time": "2024-07-01T23:11:29.502714Z",
     "start_time": "2024-07-01T23:11:29.497335Z"
    }
   },
   "source": [
    "#promedio columna\n",
    "calificaciones.mean(axis=0)"
   ],
   "outputs": [
    {
     "data": {
      "text/plain": [
       "array([80.        , 63.66666667, 78.        , 88.66666667])"
      ]
     },
     "execution_count": 95,
     "metadata": {},
     "output_type": "execute_result"
    }
   ],
   "execution_count": 95
  },
  {
   "cell_type": "code",
   "id": "2441919c-8411-469b-bc59-6bc01ab76f18",
   "metadata": {
    "ExecuteTime": {
     "end_time": "2024-07-01T23:12:02.191190Z",
     "start_time": "2024-07-01T23:12:02.186404Z"
    }
   },
   "source": [
    "#prom fila\n",
    "calificaciones.mean(axis=1)"
   ],
   "outputs": [
    {
     "data": {
      "text/plain": [
       "array([79.25, 81.25, 72.25])"
      ]
     },
     "execution_count": 96,
     "metadata": {},
     "output_type": "execute_result"
    }
   ],
   "execution_count": 96
  },
  {
   "cell_type": "code",
   "id": "1f6400f6-d704-41c7-93bc-331d2f363df8",
   "metadata": {
    "ExecuteTime": {
     "end_time": "2024-07-01T23:12:58.942068Z",
     "start_time": "2024-07-01T23:12:58.936078Z"
    }
   },
   "source": "cal = np.random.randint(60,100,12).reshape(3,4)\n",
   "outputs": [
    {
     "data": {
      "text/plain": [
       "array([[65, 92, 84, 65],\n",
       "       [74, 77, 63, 70],\n",
       "       [74, 92, 97, 90]])"
      ]
     },
     "execution_count": 98,
     "metadata": {},
     "output_type": "execute_result"
    }
   ],
   "execution_count": 98
  },
  {
   "cell_type": "code",
   "id": "fd3a8a77-5a2b-470b-955c-4b4b426c91d6",
   "metadata": {
    "ExecuteTime": {
     "end_time": "2024-06-29T01:50:27.878391Z",
     "start_time": "2024-06-29T01:50:27.875523Z"
    }
   },
   "source": [],
   "outputs": [],
   "execution_count": 17
  },
  {
   "cell_type": "code",
   "id": "a69ce49c-2163-4757-8d99-1c3ea675330d",
   "metadata": {
    "ExecuteTime": {
     "end_time": "2024-06-29T01:50:27.979239Z",
     "start_time": "2024-06-29T01:50:27.976824Z"
    }
   },
   "source": [],
   "outputs": [],
   "execution_count": 17
  },
  {
   "cell_type": "markdown",
   "id": "fc6ab829-7417-43f3-942b-a28077f414bb",
   "metadata": {},
   "source": [
    "## 7.4.- Indexando y Cortando arreglos"
   ]
  },
  {
   "cell_type": "markdown",
   "id": "c969a299-6e36-4460-a97c-4f776bbe3740",
   "metadata": {},
   "source": [
    "Crea el arreglo\n",
    "\n",
    "ventas=np.array ([[ 554, 606, 710, 851],\n",
    " [1244, 898, 416, 1763],\n",
    " [ 841, 655, 1105, 1067]])\n",
    " \n",
    " - Selecciona el item 2,1\n",
    " - Selecciona el item 1,3\n",
    " - Selecciona la fila 1"
   ]
  },
  {
   "cell_type": "code",
   "id": "dc7dce56-e29e-45aa-adc1-ac67a936f86e",
   "metadata": {
    "ExecuteTime": {
     "end_time": "2024-07-01T23:15:51.208445Z",
     "start_time": "2024-07-01T23:15:51.204884Z"
    }
   },
   "source": [
    "ventas=np.array ([[ 554, 606, 710, 851],\n",
    " [1244, 898, 416, 1763],\n",
    " [ 841, 655, 1105, 1067]])"
   ],
   "outputs": [],
   "execution_count": 100
  },
  {
   "cell_type": "code",
   "id": "ddc033d1-8c0c-48ef-8d83-5915df766fb9",
   "metadata": {
    "ExecuteTime": {
     "end_time": "2024-07-01T23:16:07.601482Z",
     "start_time": "2024-07-01T23:16:07.596550Z"
    }
   },
   "source": "ventas[1,0]",
   "outputs": [
    {
     "data": {
      "text/plain": [
       "1244"
      ]
     },
     "execution_count": 101,
     "metadata": {},
     "output_type": "execute_result"
    }
   ],
   "execution_count": 101
  },
  {
   "cell_type": "markdown",
   "id": "d6ff1f34-3be0-4546-abbd-74d4b8e13e53",
   "metadata": {},
   "source": [
    "Solicita las filas con índices 0 y 1"
   ]
  },
  {
   "cell_type": "code",
   "id": "9dee066c-16bd-431e-9118-9662c6fcb08a",
   "metadata": {
    "ExecuteTime": {
     "end_time": "2024-07-01T23:18:06.894923Z",
     "start_time": "2024-07-01T23:18:06.889352Z"
    }
   },
   "source": "ventas[0:2]",
   "outputs": [
    {
     "data": {
      "text/plain": [
       "array([[ 554,  606,  710,  851],\n",
       "       [1244,  898,  416, 1763]])"
      ]
     },
     "execution_count": 103,
     "metadata": {},
     "output_type": "execute_result"
    }
   ],
   "execution_count": 103
  },
  {
   "cell_type": "markdown",
   "id": "f24b5167-113b-4444-9e32-67c12458f5eb",
   "metadata": {},
   "source": [
    "Ahora para solicitar las filas con indices 1 y 2"
   ]
  },
  {
   "cell_type": "code",
   "id": "5154ad7e-fc6c-4b61-9841-6dd7c7fd34c9",
   "metadata": {
    "ExecuteTime": {
     "end_time": "2024-07-01T23:18:26.838727Z",
     "start_time": "2024-07-01T23:18:26.833506Z"
    }
   },
   "source": "ventas[1:3]",
   "outputs": [
    {
     "data": {
      "text/plain": [
       "array([[1244,  898,  416, 1763],\n",
       "       [ 841,  655, 1105, 1067]])"
      ]
     },
     "execution_count": 105,
     "metadata": {},
     "output_type": "execute_result"
    }
   ],
   "execution_count": 105
  },
  {
   "cell_type": "markdown",
   "id": "c33757ef-e644-4547-9727-f310d0237e90",
   "metadata": {},
   "source": [
    "Quieres solo los elementos de la primera columna?"
   ]
  },
  {
   "cell_type": "code",
   "id": "b0fbfc3a-1414-47be-94ac-df18d65cafc7",
   "metadata": {
    "ExecuteTime": {
     "end_time": "2024-07-01T23:18:47.386288Z",
     "start_time": "2024-07-01T23:18:47.380772Z"
    }
   },
   "source": "ventas[:,0]",
   "outputs": [
    {
     "data": {
      "text/plain": [
       "array([ 554, 1244,  841])"
      ]
     },
     "execution_count": 106,
     "metadata": {},
     "output_type": "execute_result"
    }
   ],
   "execution_count": 106
  },
  {
   "cell_type": "markdown",
   "id": "f8969bc1-1bbf-42c0-a38d-c59f861738e2",
   "metadata": {},
   "source": [
    "Que la las columnas con indices 0 y 2?"
   ]
  },
  {
   "cell_type": "code",
   "id": "b8eb35a1-cf95-481f-8f4c-548132319028",
   "metadata": {
    "ExecuteTime": {
     "end_time": "2024-07-01T23:19:18.033728Z",
     "start_time": "2024-07-01T23:19:18.026550Z"
    }
   },
   "source": "ventas[:,[0,2]]",
   "outputs": [
    {
     "data": {
      "text/plain": [
       "array([[ 554,  710],\n",
       "       [1244,  416],\n",
       "       [ 841, 1105]])"
      ]
     },
     "execution_count": 107,
     "metadata": {},
     "output_type": "execute_result"
    }
   ],
   "execution_count": 107
  },
  {
   "cell_type": "markdown",
   "id": "cb73821a-c475-42e6-a7ea-503f89504517",
   "metadata": {},
   "source": [
    " #### Por tu cuenta\n",
    "\n",
    "Dado el siguiente arreglo\n",
    "\n",
    "array([[1,2,3,4,5],\n",
    "     [6,7,8,9,10],\n",
    "     [11,12,13,14,15]])\n",
    "\n",
    "- Selecciona la segunda fila\n",
    "- Selecciona la primera y tercera fila\n",
    "- Selecciona las tres columnas de enmedio"
   ]
  },
  {
   "cell_type": "code",
   "id": "675c1945-945d-4b06-b0f6-72daed5b59a7",
   "metadata": {
    "ExecuteTime": {
     "end_time": "2024-07-01T23:20:18.939349Z",
     "start_time": "2024-07-01T23:20:18.936007Z"
    }
   },
   "source": [
    "v= np.array([[1,2,3,4,5],\n",
    "     [6,7,8,9,10],\n",
    "     [11,12,13,14,15]])"
   ],
   "outputs": [],
   "execution_count": 111
  },
  {
   "cell_type": "code",
   "id": "9d980184-42de-45f3-8bd1-b327cbb0f14c",
   "metadata": {
    "ExecuteTime": {
     "end_time": "2024-07-01T23:20:43.970050Z",
     "start_time": "2024-07-01T23:20:43.964434Z"
    }
   },
   "source": "v[1]",
   "outputs": [
    {
     "data": {
      "text/plain": [
       "array([ 6,  7,  8,  9, 10])"
      ]
     },
     "execution_count": 114,
     "metadata": {},
     "output_type": "execute_result"
    }
   ],
   "execution_count": 114
  },
  {
   "cell_type": "code",
   "id": "7b48f140-6ab2-4815-a56f-a18d0e6549d9",
   "metadata": {
    "ExecuteTime": {
     "end_time": "2024-07-01T23:21:50.543904Z",
     "start_time": "2024-07-01T23:21:50.537879Z"
    }
   },
   "source": "v[[0,2]]",
   "outputs": [
    {
     "data": {
      "text/plain": [
       "array([[ 1,  2,  3,  4,  5],\n",
       "       [11, 12, 13, 14, 15]])"
      ]
     },
     "execution_count": 118,
     "metadata": {},
     "output_type": "execute_result"
    }
   ],
   "execution_count": 118
  },
  {
   "cell_type": "code",
   "id": "2ea8f01a-aedb-419d-98b9-5c503f43db91",
   "metadata": {
    "ExecuteTime": {
     "end_time": "2024-07-01T23:22:27.864481Z",
     "start_time": "2024-07-01T23:22:27.858563Z"
    }
   },
   "source": "ventas[:,1:4]",
   "outputs": [
    {
     "data": {
      "text/plain": [
       "array([[ 606,  710,  851],\n",
       "       [ 898,  416, 1763],\n",
       "       [ 655, 1105, 1067]])"
      ]
     },
     "execution_count": 121,
     "metadata": {},
     "output_type": "execute_result"
    }
   ],
   "execution_count": 121
  },
  {
   "cell_type": "code",
   "id": "df3c9b70-49c2-4af8-be89-1a59807769c7",
   "metadata": {
    "ExecuteTime": {
     "end_time": "2024-06-29T01:50:29.460078Z",
     "start_time": "2024-06-29T01:50:29.456765Z"
    }
   },
   "source": [],
   "outputs": [],
   "execution_count": 17
  },
  {
   "cell_type": "markdown",
   "id": "8ed698fe-8ed9-4b5a-9d46-245c1c01cda3",
   "metadata": {},
   "source": [
    "### 7.4.2.- Transponer"
   ]
  },
  {
   "cell_type": "markdown",
   "id": "c7fd8c57-a81a-46ca-a28a-798ba2768691",
   "metadata": {},
   "source": [
    "Con **reshape** puedes producir una copia superficial del arreglo con una nueva dimension. \n",
    "\n",
    "ventas = np.array([[ 500, 600, 550, 800],\n",
    " [1200, 800, 400,1000]])\n",
    "\n",
    "Usa el arreglo anterior para darle dimension de 1x8"
   ]
  },
  {
   "cell_type": "code",
   "id": "58e2c7e7-96a8-4c4b-a295-57302850205f",
   "metadata": {
    "ExecuteTime": {
     "end_time": "2024-07-01T23:24:03.690755Z",
     "start_time": "2024-07-01T23:24:03.686743Z"
    }
   },
   "source": [
    "ventas = np.array([[ 500, 600, 550, 800],\n",
    " [1200, 800, 400,1000]])"
   ],
   "outputs": [],
   "execution_count": 127
  },
  {
   "cell_type": "code",
   "id": "e16542fe-41f9-4087-982b-47cca3737cba",
   "metadata": {
    "ExecuteTime": {
     "end_time": "2024-07-01T23:23:26.573823Z",
     "start_time": "2024-07-01T23:23:26.567464Z"
    }
   },
   "source": "ventas.reshape(1,8)",
   "outputs": [
    {
     "data": {
      "text/plain": [
       "array([[ 500,  600,  550,  800, 1200,  800,  400, 1000]])"
      ]
     },
     "execution_count": 124,
     "metadata": {},
     "output_type": "execute_result"
    }
   ],
   "execution_count": 124
  },
  {
   "cell_type": "code",
   "id": "aeeadac0-5524-47f5-803f-7dd8e05df52e",
   "metadata": {
    "ExecuteTime": {
     "end_time": "2024-06-29T01:50:29.775685Z",
     "start_time": "2024-06-29T01:50:29.773248Z"
    }
   },
   "source": [],
   "outputs": [],
   "execution_count": 17
  },
  {
   "cell_type": "markdown",
   "id": "e6acba71-89bf-4dad-9a32-97d0456a9d42",
   "metadata": {},
   "source": [
    "El metodo **resize** modifica la forma del original (no crea copia)"
   ]
  },
  {
   "cell_type": "code",
   "id": "d3a09d74-276a-4058-b7eb-626be83f46ca",
   "metadata": {
    "ExecuteTime": {
     "end_time": "2024-07-01T23:23:58.471333Z",
     "start_time": "2024-07-01T23:23:58.466892Z"
    }
   },
   "source": [
    "ventas.resize(1,8)\n",
    "ventas"
   ],
   "outputs": [
    {
     "data": {
      "text/plain": [
       "array([[ 500,  600,  550,  800, 1200,  800,  400, 1000]])"
      ]
     },
     "execution_count": 126,
     "metadata": {},
     "output_type": "execute_result"
    }
   ],
   "execution_count": 126
  },
  {
   "cell_type": "code",
   "id": "0b6c4b5e-217b-452e-bb6a-da4bc127160c",
   "metadata": {
    "ExecuteTime": {
     "end_time": "2024-06-29T01:50:30.009472Z",
     "start_time": "2024-06-29T01:50:30.006433Z"
    }
   },
   "source": [],
   "outputs": [],
   "execution_count": 17
  },
  {
   "cell_type": "markdown",
   "id": "e29a637e-549e-4c80-b2c7-0ec892cc5823",
   "metadata": {},
   "source": [
    "Y **transpose** rapidamente le da la vuelta a filas y columnas, este se hace aplicando el atributo T, que no modifica el original, solo una vista."
   ]
  },
  {
   "cell_type": "code",
   "id": "405d533c-7fe5-40a6-b050-09768d004b2e",
   "metadata": {
    "ExecuteTime": {
     "end_time": "2024-07-01T23:24:18.951764Z",
     "start_time": "2024-07-01T23:24:18.945738Z"
    }
   },
   "source": "ventas.T",
   "outputs": [
    {
     "data": {
      "text/plain": [
       "array([[ 500, 1200],\n",
       "       [ 600,  800],\n",
       "       [ 550,  400],\n",
       "       [ 800, 1000]])"
      ]
     },
     "execution_count": 128,
     "metadata": {},
     "output_type": "execute_result"
    }
   ],
   "execution_count": 128
  },
  {
   "cell_type": "markdown",
   "id": "446be823-0988-4ba6-b774-dd4be5653627",
   "metadata": {},
   "source": [
    "## 7.5.- Pandas - Series"
   ]
  },
  {
   "cell_type": "markdown",
   "id": "b3a5d8b4-6ecf-4679-bf47-9903d80d6d30",
   "metadata": {},
   "source": [
    "Vamos a usar estos datos para Series - tiempo_web = pd.Series([160,256,98,108])\n",
    "\n",
    "Este es el tiempo que invierten en videojuegos 4 estudiantes"
   ]
  },
  {
   "cell_type": "code",
   "id": "e5e4af90-829b-41bd-83ee-9d98686e646c",
   "metadata": {
    "ExecuteTime": {
     "end_time": "2024-07-01T23:30:00.530634Z",
     "start_time": "2024-07-01T23:30:00.526925Z"
    }
   },
   "source": "import pandas as pd",
   "outputs": [],
   "execution_count": 129
  },
  {
   "cell_type": "code",
   "id": "90dcae4b-11c5-477d-a2e6-6f74e51e4ba8",
   "metadata": {
    "ExecuteTime": {
     "end_time": "2024-07-01T23:31:05.165119Z",
     "start_time": "2024-07-01T23:31:05.161096Z"
    }
   },
   "source": "time_web = pd.Series([160,256,98,100])",
   "outputs": [],
   "execution_count": 130
  },
  {
   "cell_type": "code",
   "id": "21d21aba-f304-4ef5-8f4f-3237e68c0265",
   "metadata": {
    "ExecuteTime": {
     "end_time": "2024-07-01T23:31:21.469702Z",
     "start_time": "2024-07-01T23:31:21.463906Z"
    }
   },
   "source": "time_web",
   "outputs": [
    {
     "data": {
      "text/plain": [
       "0    160\n",
       "1    256\n",
       "2     98\n",
       "3    100\n",
       "dtype: int64"
      ]
     },
     "execution_count": 131,
     "metadata": {},
     "output_type": "execute_result"
    }
   ],
   "execution_count": 131
  },
  {
   "cell_type": "markdown",
   "id": "6328aaa1-5e96-4f5f-8e8a-d3a0955eb951",
   "metadata": {},
   "source": [
    "Para crear una serie con el mismo elemento"
   ]
  },
  {
   "cell_type": "code",
   "id": "533c703a-ffaf-4bbb-9bc4-91265e3a1597",
   "metadata": {
    "ExecuteTime": {
     "end_time": "2024-07-01T23:32:10.540452Z",
     "start_time": "2024-07-01T23:32:10.533741Z"
    }
   },
   "source": "pd.Series(3.1416,range(5))",
   "outputs": [
    {
     "data": {
      "text/plain": [
       "0    3.1416\n",
       "1    3.1416\n",
       "2    3.1416\n",
       "3    3.1416\n",
       "4    3.1416\n",
       "dtype: float64"
      ]
     },
     "execution_count": 132,
     "metadata": {},
     "output_type": "execute_result"
    }
   ],
   "execution_count": 132
  },
  {
   "cell_type": "markdown",
   "id": "84913618-dc50-4d63-bfae-c8df7ba75e90",
   "metadata": {},
   "source": [
    "Acceder a un elemento es facil"
   ]
  },
  {
   "cell_type": "code",
   "id": "f554ada1-b2ff-4cc4-b78e-e762f1c798f4",
   "metadata": {
    "ExecuteTime": {
     "end_time": "2024-07-01T23:32:21.082190Z",
     "start_time": "2024-07-01T23:32:21.076185Z"
    }
   },
   "source": "time_web[2]",
   "outputs": [
    {
     "data": {
      "text/plain": [
       "98"
      ]
     },
     "execution_count": 133,
     "metadata": {},
     "output_type": "execute_result"
    }
   ],
   "execution_count": 133
  },
  {
   "cell_type": "markdown",
   "id": "53762262-5359-4a6a-9b5b-677280c94372",
   "metadata": {},
   "source": [
    "Series tiene acceso a los mismos metodos que arreglos para estadistica descriptiva"
   ]
  },
  {
   "cell_type": "code",
   "id": "1825114c-1497-4321-9d4d-938ae5b677f7",
   "metadata": {
    "ExecuteTime": {
     "end_time": "2024-07-01T23:32:39.130608Z",
     "start_time": "2024-07-01T23:32:39.125433Z"
    }
   },
   "source": "time_web.mean()",
   "outputs": [
    {
     "data": {
      "text/plain": [
       "153.5"
      ]
     },
     "execution_count": 134,
     "metadata": {},
     "output_type": "execute_result"
    }
   ],
   "execution_count": 134
  },
  {
   "cell_type": "markdown",
   "id": "da94bc72-a01b-4e21-a69d-aea7ad822baf",
   "metadata": {},
   "source": [
    "Tambien, todo esto se puede resumir con **describe**"
   ]
  },
  {
   "cell_type": "code",
   "id": "c00b33fc-5444-485f-b5c2-d9166b3f24e2",
   "metadata": {
    "ExecuteTime": {
     "end_time": "2024-07-01T23:33:34.851051Z",
     "start_time": "2024-07-01T23:33:34.843129Z"
    }
   },
   "source": "time_web.describe()",
   "outputs": [
    {
     "data": {
      "text/plain": [
       "count      4.000000\n",
       "mean     153.500000\n",
       "std       74.141756\n",
       "min       98.000000\n",
       "25%       99.500000\n",
       "50%      130.000000\n",
       "75%      184.000000\n",
       "max      256.000000\n",
       "dtype: float64"
      ]
     },
     "execution_count": 135,
     "metadata": {},
     "output_type": "execute_result"
    }
   ],
   "execution_count": 135
  },
  {
   "cell_type": "markdown",
   "id": "699ec1ca-880f-4b3b-8bff-b0bbab8bd490",
   "metadata": {},
   "source": [
    "También podemos personalizar los indices de series a traves de index\n",
    "\n",
    "['Laura','Daniel','Alberto','Eva'] \n",
    "\n",
    "Asigna esos nombres"
   ]
  },
  {
   "cell_type": "code",
   "id": "431dd272-ae38-4c30-aff9-c66824336000",
   "metadata": {
    "ExecuteTime": {
     "end_time": "2024-07-01T23:34:41.442695Z",
     "start_time": "2024-07-01T23:34:41.437982Z"
    }
   },
   "source": "time_web = pd.Series([160,256,98,100],index=['Laura','Daniel','Alberto','Eva'])",
   "outputs": [],
   "execution_count": 137
  },
  {
   "cell_type": "code",
   "id": "51517755-9a53-41bd-9804-d76aca88820d",
   "metadata": {
    "ExecuteTime": {
     "end_time": "2024-07-01T23:34:46.497105Z",
     "start_time": "2024-07-01T23:34:46.491082Z"
    }
   },
   "source": "time_web",
   "outputs": [
    {
     "data": {
      "text/plain": [
       "Laura      160\n",
       "Daniel     256\n",
       "Alberto     98\n",
       "Eva        100\n",
       "dtype: int64"
      ]
     },
     "execution_count": 138,
     "metadata": {},
     "output_type": "execute_result"
    }
   ],
   "execution_count": 138
  },
  {
   "cell_type": "code",
   "id": "01e78f65-f529-41ee-bebb-2034956ce2a7",
   "metadata": {
    "ExecuteTime": {
     "end_time": "2024-06-29T01:50:31.629647Z",
     "start_time": "2024-06-29T01:50:31.626819Z"
    }
   },
   "source": [],
   "outputs": [],
   "execution_count": 17
  },
  {
   "cell_type": "markdown",
   "id": "2493cf0c-c4e6-41ae-b13d-2dd390c2a460",
   "metadata": {},
   "source": [
    "O puedes usar un diccionario para eso:"
   ]
  },
  {
   "cell_type": "code",
   "id": "41c0aa8c-e1a5-432d-8274-b8452c635249",
   "metadata": {
    "ExecuteTime": {
     "end_time": "2024-07-01T23:35:26.787251Z",
     "start_time": "2024-07-01T23:35:26.781234Z"
    }
   },
   "source": "",
   "outputs": [
    {
     "name": "stderr",
     "output_type": "stream",
     "text": [
      "C:\\Users\\crist\\AppData\\Local\\Temp\\ipykernel_34232\\3378049827.py:1: FutureWarning: Series.__getitem__ treating keys as positions is deprecated. In a future version, integer keys will always be treated as labels (consistent with DataFrame behavior). To access a value by position, use `ser.iloc[pos]`\n",
      "  time_web[2]\n"
     ]
    },
    {
     "data": {
      "text/plain": [
       "98"
      ]
     },
     "execution_count": 142,
     "metadata": {},
     "output_type": "execute_result"
    }
   ],
   "execution_count": 142
  },
  {
   "cell_type": "code",
   "id": "21cf3969-a19e-4e88-9a46-d4c90e005058",
   "metadata": {
    "ExecuteTime": {
     "end_time": "2024-06-29T01:50:31.905120Z",
     "start_time": "2024-06-29T01:50:31.902500Z"
    }
   },
   "source": [],
   "outputs": [],
   "execution_count": 17
  },
  {
   "cell_type": "markdown",
   "id": "96b10252-661d-40dd-8272-9aec8d23fa4f",
   "metadata": {},
   "source": [
    "Puedes llamar a los elementos personalizados"
   ]
  },
  {
   "cell_type": "code",
   "id": "9840eec1-0ffe-43fc-8bde-c04fef78798d",
   "metadata": {
    "ExecuteTime": {
     "end_time": "2024-07-01T23:36:00.017288Z",
     "start_time": "2024-07-01T23:36:00.011258Z"
    }
   },
   "source": "time_web[\"Alberto\"]",
   "outputs": [
    {
     "data": {
      "text/plain": [
       "98"
      ]
     },
     "execution_count": 143,
     "metadata": {},
     "output_type": "execute_result"
    }
   ],
   "execution_count": 143
  },
  {
   "cell_type": "markdown",
   "id": "4fda0170-2977-4b09-b632-970103acfb2a",
   "metadata": {},
   "source": [
    "Tambien se pueden llamar como atributos"
   ]
  },
  {
   "cell_type": "code",
   "id": "c34e0016-7036-4fc8-9d97-ada58c9e333a",
   "metadata": {
    "ExecuteTime": {
     "end_time": "2024-07-01T23:36:13.994899Z",
     "start_time": "2024-07-01T23:36:13.990289Z"
    }
   },
   "source": "time_web.Eva  ",
   "outputs": [
    {
     "data": {
      "text/plain": [
       "100"
      ]
     },
     "execution_count": 144,
     "metadata": {},
     "output_type": "execute_result"
    }
   ],
   "execution_count": 144
  },
  {
   "cell_type": "markdown",
   "id": "cc54c19a-3e01-4b0f-a387-8b30c1f73249",
   "metadata": {},
   "source": [
    "#### Por tu cuenta\n",
    "\n",
    "Usa el generador aleatorio de NumPy (np.random.randint) para generar 6 calificaciones del 60 al 100 y guardarlos en una serie. \n",
    "\n",
    "A continuación arma las siguientes tareas:\n",
    "\n",
    "- Convierte el arreglo en una serie llamada calificacion\n",
    "- Determina la min, max y promedio\n",
    "- Produce TODAS las estadisticas descriptivas"
   ]
  },
  {
   "cell_type": "code",
   "id": "0c738c46-099d-4a90-9dd7-e75f1fc17d52",
   "metadata": {
    "ExecuteTime": {
     "end_time": "2024-07-01T23:43:47.322439Z",
     "start_time": "2024-07-01T23:43:47.316285Z"
    }
   },
   "source": [
    "calificaciones =pd.Series( np.random.randint(60,100,12))\n",
    "calificaciones"
   ],
   "outputs": [
    {
     "data": {
      "text/plain": [
       "0     84\n",
       "1     61\n",
       "2     76\n",
       "3     76\n",
       "4     89\n",
       "5     64\n",
       "6     93\n",
       "7     90\n",
       "8     88\n",
       "9     82\n",
       "10    93\n",
       "11    75\n",
       "dtype: int32"
      ]
     },
     "execution_count": 147,
     "metadata": {},
     "output_type": "execute_result"
    }
   ],
   "execution_count": 147
  },
  {
   "cell_type": "code",
   "id": "4d0ce195-7796-4f58-a524-b7da09833be7",
   "metadata": {
    "ExecuteTime": {
     "end_time": "2024-07-01T23:44:30.921030Z",
     "start_time": "2024-07-01T23:44:30.916454Z"
    }
   },
   "source": "calificaciones.mean()",
   "outputs": [
    {
     "data": {
      "text/plain": [
       "80.91666666666667"
      ]
     },
     "execution_count": 151,
     "metadata": {},
     "output_type": "execute_result"
    }
   ],
   "execution_count": 151
  },
  {
   "cell_type": "code",
   "id": "a3cd89e8-9222-4d01-9a6d-a1ff25d4f3a1",
   "metadata": {
    "ExecuteTime": {
     "end_time": "2024-07-01T23:44:26.811963Z",
     "start_time": "2024-07-01T23:44:26.806830Z"
    }
   },
   "source": "calificaciones.min()",
   "outputs": [
    {
     "data": {
      "text/plain": [
       "61"
      ]
     },
     "execution_count": 150,
     "metadata": {},
     "output_type": "execute_result"
    }
   ],
   "execution_count": 150
  },
  {
   "cell_type": "code",
   "id": "b25f696d-1314-414f-82f3-073fd2208405",
   "metadata": {
    "ExecuteTime": {
     "end_time": "2024-07-01T23:44:37.461167Z",
     "start_time": "2024-07-01T23:44:37.455136Z"
    }
   },
   "source": "calificaciones.max()",
   "outputs": [
    {
     "data": {
      "text/plain": [
       "93"
      ]
     },
     "execution_count": 152,
     "metadata": {},
     "output_type": "execute_result"
    }
   ],
   "execution_count": 152
  },
  {
   "cell_type": "code",
   "id": "94f44153-38d3-458e-96da-f48b83e00ba4",
   "metadata": {
    "ExecuteTime": {
     "end_time": "2024-07-01T23:44:48.694921Z",
     "start_time": "2024-07-01T23:44:48.686418Z"
    }
   },
   "source": "calificaciones.describe()",
   "outputs": [
    {
     "data": {
      "text/plain": [
       "count    12.000000\n",
       "mean     80.916667\n",
       "std      10.731926\n",
       "min      61.000000\n",
       "25%      75.750000\n",
       "50%      83.000000\n",
       "75%      89.250000\n",
       "max      93.000000\n",
       "dtype: float64"
      ]
     },
     "execution_count": 153,
     "metadata": {},
     "output_type": "execute_result"
    }
   ],
   "execution_count": 153
  },
  {
   "cell_type": "code",
   "id": "6013999b-053e-47f2-9bbd-0a5bc7109049",
   "metadata": {
    "ExecuteTime": {
     "end_time": "2024-06-29T01:50:32.974829Z",
     "start_time": "2024-06-29T01:50:32.972398Z"
    }
   },
   "source": [],
   "outputs": [],
   "execution_count": 17
  },
  {
   "cell_type": "code",
   "id": "5be1f623-5ea2-4f74-a6cf-d091ac86dfc3",
   "metadata": {
    "ExecuteTime": {
     "end_time": "2024-06-29T01:50:33.079831Z",
     "start_time": "2024-06-29T01:50:33.075976Z"
    }
   },
   "source": [],
   "outputs": [],
   "execution_count": 17
  },
  {
   "cell_type": "markdown",
   "id": "e1d8562d-ea27-411c-8862-52d3582dceaf",
   "metadata": {},
   "source": [
    "## 7.6.- Pandas - DataFrames"
   ]
  },
  {
   "cell_type": "markdown",
   "id": "fd5a2577-feb0-4dab-bfd5-af9d59bcfe5e",
   "metadata": {},
   "source": [
    "##### Crear un Dataframe de un diccionario\n",
    "\n",
    "Agarra este diccionario y conviertelo en un dataframe\n",
    "\n",
    " reg_peso = {'Vanesa':[68,67,66,65],'Kevin':[89,89,90,88],\n",
    " 'Fernanda':[59,60,60,62],'Patricia':[70,68,67,65]}"
   ]
  },
  {
   "cell_type": "code",
   "id": "63b5157c-a78c-4c4f-8485-f758c37389af",
   "metadata": {
    "ExecuteTime": {
     "end_time": "2024-07-01T23:46:24.853159Z",
     "start_time": "2024-07-01T23:46:24.848719Z"
    }
   },
   "source": [
    " reg_peso = {'Vanesa':[68,67,66,65],'Kevin':[89,89,90,88],\n",
    " 'Fernanda':[59,60,60,62],'Patricia':[70,68,67,65]}"
   ],
   "outputs": [],
   "execution_count": 154
  },
  {
   "cell_type": "code",
   "id": "cd368165-eb15-486b-87e4-8707bcc57418",
   "metadata": {
    "ExecuteTime": {
     "end_time": "2024-07-01T23:46:35.412146Z",
     "start_time": "2024-07-01T23:46:35.409050Z"
    }
   },
   "source": "peso  =pd.DataFrame(reg_peso)",
   "outputs": [],
   "execution_count": 155
  },
  {
   "cell_type": "code",
   "id": "c93dc85f-c74b-4592-aadf-ac6e7102ab5c",
   "metadata": {
    "ExecuteTime": {
     "end_time": "2024-07-01T23:46:43.449296Z",
     "start_time": "2024-07-01T23:46:43.441273Z"
    }
   },
   "source": "peso",
   "outputs": [
    {
     "data": {
      "text/plain": [
       "   Vanesa  Kevin  Fernanda  Patricia\n",
       "0      68     89        59        70\n",
       "1      67     89        60        68\n",
       "2      66     90        60        67\n",
       "3      65     88        62        65"
      ],
      "text/html": [
       "<div>\n",
       "<style scoped>\n",
       "    .dataframe tbody tr th:only-of-type {\n",
       "        vertical-align: middle;\n",
       "    }\n",
       "\n",
       "    .dataframe tbody tr th {\n",
       "        vertical-align: top;\n",
       "    }\n",
       "\n",
       "    .dataframe thead th {\n",
       "        text-align: right;\n",
       "    }\n",
       "</style>\n",
       "<table border=\"1\" class=\"dataframe\">\n",
       "  <thead>\n",
       "    <tr style=\"text-align: right;\">\n",
       "      <th></th>\n",
       "      <th>Vanesa</th>\n",
       "      <th>Kevin</th>\n",
       "      <th>Fernanda</th>\n",
       "      <th>Patricia</th>\n",
       "    </tr>\n",
       "  </thead>\n",
       "  <tbody>\n",
       "    <tr>\n",
       "      <th>0</th>\n",
       "      <td>68</td>\n",
       "      <td>89</td>\n",
       "      <td>59</td>\n",
       "      <td>70</td>\n",
       "    </tr>\n",
       "    <tr>\n",
       "      <th>1</th>\n",
       "      <td>67</td>\n",
       "      <td>89</td>\n",
       "      <td>60</td>\n",
       "      <td>68</td>\n",
       "    </tr>\n",
       "    <tr>\n",
       "      <th>2</th>\n",
       "      <td>66</td>\n",
       "      <td>90</td>\n",
       "      <td>60</td>\n",
       "      <td>67</td>\n",
       "    </tr>\n",
       "    <tr>\n",
       "      <th>3</th>\n",
       "      <td>65</td>\n",
       "      <td>88</td>\n",
       "      <td>62</td>\n",
       "      <td>65</td>\n",
       "    </tr>\n",
       "  </tbody>\n",
       "</table>\n",
       "</div>"
      ]
     },
     "execution_count": 156,
     "metadata": {},
     "output_type": "execute_result"
    }
   ],
   "execution_count": 156
  },
  {
   "cell_type": "code",
   "id": "42f7fa26-0ab1-42db-a5c5-72d2754120d6",
   "metadata": {
    "ExecuteTime": {
     "end_time": "2024-06-29T01:50:33.637655Z",
     "start_time": "2024-06-29T01:50:33.635368Z"
    }
   },
   "source": [],
   "outputs": [],
   "execution_count": 17
  },
  {
   "cell_type": "code",
   "id": "945d28c5-6475-45fc-9f94-d41f1d8b6fdd",
   "metadata": {
    "ExecuteTime": {
     "end_time": "2024-06-29T01:50:33.826320Z",
     "start_time": "2024-06-29T01:50:33.822704Z"
    }
   },
   "source": [],
   "outputs": [],
   "execution_count": 17
  },
  {
   "cell_type": "code",
   "id": "49a5b577-98f3-45b2-a57e-3b16444e0274",
   "metadata": {
    "ExecuteTime": {
     "end_time": "2024-06-29T01:50:33.905415Z",
     "start_time": "2024-06-29T01:50:33.901855Z"
    }
   },
   "source": [],
   "outputs": [],
   "execution_count": 17
  },
  {
   "cell_type": "markdown",
   "id": "dbc1ed3b-ea2f-489f-8b47-68c90c6e37f3",
   "metadata": {},
   "source": [
    "##### El atributo Index\n",
    "\n",
    "Añade los siguientes indices personalizados\n",
    "\n",
    "peso.index = ['Mes 1','Mes 2','Mes 3','Mes 4']"
   ]
  },
  {
   "cell_type": "code",
   "id": "5fb7e38f-4046-401e-8ba4-09e01d79fc56",
   "metadata": {
    "ExecuteTime": {
     "end_time": "2024-07-01T23:47:34.308800Z",
     "start_time": "2024-07-01T23:47:34.305308Z"
    }
   },
   "source": "peso.index = ['Mes 1','Mes 2','Mes 3','Mes 4']",
   "outputs": [],
   "execution_count": 157
  },
  {
   "cell_type": "code",
   "id": "c7fcaed2-3ecf-4375-8e6b-2405b3656327",
   "metadata": {
    "ExecuteTime": {
     "end_time": "2024-07-01T23:47:37.641538Z",
     "start_time": "2024-07-01T23:47:37.633337Z"
    }
   },
   "source": "peso",
   "outputs": [
    {
     "data": {
      "text/plain": [
       "       Vanesa  Kevin  Fernanda  Patricia\n",
       "Mes 1      68     89        59        70\n",
       "Mes 2      67     89        60        68\n",
       "Mes 3      66     90        60        67\n",
       "Mes 4      65     88        62        65"
      ],
      "text/html": [
       "<div>\n",
       "<style scoped>\n",
       "    .dataframe tbody tr th:only-of-type {\n",
       "        vertical-align: middle;\n",
       "    }\n",
       "\n",
       "    .dataframe tbody tr th {\n",
       "        vertical-align: top;\n",
       "    }\n",
       "\n",
       "    .dataframe thead th {\n",
       "        text-align: right;\n",
       "    }\n",
       "</style>\n",
       "<table border=\"1\" class=\"dataframe\">\n",
       "  <thead>\n",
       "    <tr style=\"text-align: right;\">\n",
       "      <th></th>\n",
       "      <th>Vanesa</th>\n",
       "      <th>Kevin</th>\n",
       "      <th>Fernanda</th>\n",
       "      <th>Patricia</th>\n",
       "    </tr>\n",
       "  </thead>\n",
       "  <tbody>\n",
       "    <tr>\n",
       "      <th>Mes 1</th>\n",
       "      <td>68</td>\n",
       "      <td>89</td>\n",
       "      <td>59</td>\n",
       "      <td>70</td>\n",
       "    </tr>\n",
       "    <tr>\n",
       "      <th>Mes 2</th>\n",
       "      <td>67</td>\n",
       "      <td>89</td>\n",
       "      <td>60</td>\n",
       "      <td>68</td>\n",
       "    </tr>\n",
       "    <tr>\n",
       "      <th>Mes 3</th>\n",
       "      <td>66</td>\n",
       "      <td>90</td>\n",
       "      <td>60</td>\n",
       "      <td>67</td>\n",
       "    </tr>\n",
       "    <tr>\n",
       "      <th>Mes 4</th>\n",
       "      <td>65</td>\n",
       "      <td>88</td>\n",
       "      <td>62</td>\n",
       "      <td>65</td>\n",
       "    </tr>\n",
       "  </tbody>\n",
       "</table>\n",
       "</div>"
      ]
     },
     "execution_count": 158,
     "metadata": {},
     "output_type": "execute_result"
    }
   ],
   "execution_count": 158
  },
  {
   "cell_type": "code",
   "id": "563308fe-6e51-4b1a-b2d6-180985b0355f",
   "metadata": {
    "ExecuteTime": {
     "end_time": "2024-06-29T01:50:34.358492Z",
     "start_time": "2024-06-29T01:50:34.355610Z"
    }
   },
   "source": [],
   "outputs": [],
   "execution_count": 17
  },
  {
   "cell_type": "code",
   "id": "047baf85-a4a4-4776-a1e3-c6e01cffa77c",
   "metadata": {
    "ExecuteTime": {
     "end_time": "2024-06-29T01:50:34.451090Z",
     "start_time": "2024-06-29T01:50:34.448134Z"
    }
   },
   "source": [],
   "outputs": [],
   "execution_count": 17
  },
  {
   "cell_type": "markdown",
   "id": "5865da9f-efe7-4389-8930-b80dfa1dfb4c",
   "metadata": {},
   "source": [
    "##### Accesar Columnas\n",
    "\n",
    "Selecciona la información de Fernanda"
   ]
  },
  {
   "cell_type": "code",
   "id": "ad5133f7-8a39-4064-b38d-475570f0a83d",
   "metadata": {
    "ExecuteTime": {
     "end_time": "2024-07-01T23:47:58.554611Z",
     "start_time": "2024-07-01T23:47:58.547943Z"
    }
   },
   "source": "peso['Fernanda']",
   "outputs": [
    {
     "data": {
      "text/plain": [
       "Mes 1    59\n",
       "Mes 2    60\n",
       "Mes 3    60\n",
       "Mes 4    62\n",
       "Name: Fernanda, dtype: int64"
      ]
     },
     "execution_count": 159,
     "metadata": {},
     "output_type": "execute_result"
    }
   ],
   "execution_count": 159
  },
  {
   "cell_type": "markdown",
   "id": "de73087e-5f5a-4c42-a28d-c3d49adc5e62",
   "metadata": {},
   "source": [
    "Selecciona la de Patricia pero como atributo"
   ]
  },
  {
   "cell_type": "code",
   "id": "922e871d-4817-43ae-80f4-0c3fa0689fcd",
   "metadata": {
    "ExecuteTime": {
     "end_time": "2024-07-01T23:48:15.018708Z",
     "start_time": "2024-07-01T23:48:15.012809Z"
    }
   },
   "source": "peso.Patricia",
   "outputs": [
    {
     "data": {
      "text/plain": [
       "Mes 1    70\n",
       "Mes 2    68\n",
       "Mes 3    67\n",
       "Mes 4    65\n",
       "Name: Patricia, dtype: int64"
      ]
     },
     "execution_count": 160,
     "metadata": {},
     "output_type": "execute_result"
    }
   ],
   "execution_count": 160
  },
  {
   "cell_type": "markdown",
   "id": "ddc61884-7689-47b4-acad-14c07386226c",
   "metadata": {},
   "source": [
    "##### Loc y iloc\n",
    "\n",
    "Selecciona la información del Mes1 usando Loc"
   ]
  },
  {
   "cell_type": "code",
   "id": "1133eeb0-6a7f-4ee9-aa19-1b5d69e9aba9",
   "metadata": {
    "ExecuteTime": {
     "end_time": "2024-07-01T23:48:49.324053Z",
     "start_time": "2024-07-01T23:48:49.318770Z"
    }
   },
   "source": "peso.loc['Mes 1']",
   "outputs": [
    {
     "data": {
      "text/plain": [
       "Vanesa      68\n",
       "Kevin       89\n",
       "Fernanda    59\n",
       "Patricia    70\n",
       "Name: Mes 1, dtype: int64"
      ]
     },
     "execution_count": 161,
     "metadata": {},
     "output_type": "execute_result"
    }
   ],
   "execution_count": 161
  },
  {
   "cell_type": "markdown",
   "id": "43b4a2a9-021f-461f-96c5-a711cd27354d",
   "metadata": {},
   "source": [
    "Ahora solo la fila 1 usando iloc"
   ]
  },
  {
   "cell_type": "code",
   "id": "77d9df78-af24-4652-bade-bf87cbbafd10",
   "metadata": {
    "ExecuteTime": {
     "end_time": "2024-07-01T23:49:17.703543Z",
     "start_time": "2024-07-01T23:49:17.697262Z"
    }
   },
   "source": "peso.iloc[1]",
   "outputs": [
    {
     "data": {
      "text/plain": [
       "Vanesa      67\n",
       "Kevin       89\n",
       "Fernanda    60\n",
       "Patricia    68\n",
       "Name: Mes 2, dtype: int64"
      ]
     },
     "execution_count": 162,
     "metadata": {},
     "output_type": "execute_result"
    }
   ],
   "execution_count": 162
  },
  {
   "cell_type": "markdown",
   "id": "e41971f3-a6cb-4dd9-91a3-58d240d8baa4",
   "metadata": {},
   "source": [
    "Ahora del Mes 1 al Mes 3 usando loc"
   ]
  },
  {
   "cell_type": "code",
   "id": "0aead456-79b0-4de7-895b-064466924796",
   "metadata": {
    "ExecuteTime": {
     "end_time": "2024-07-01T23:50:31.518474Z",
     "start_time": "2024-07-01T23:50:31.508945Z"
    }
   },
   "source": "peso.loc['Mes 1':'Mes 3']",
   "outputs": [
    {
     "data": {
      "text/plain": [
       "       Vanesa  Kevin  Fernanda  Patricia\n",
       "Mes 1      68     89        59        70\n",
       "Mes 3      66     90        60        67"
      ],
      "text/html": [
       "<div>\n",
       "<style scoped>\n",
       "    .dataframe tbody tr th:only-of-type {\n",
       "        vertical-align: middle;\n",
       "    }\n",
       "\n",
       "    .dataframe tbody tr th {\n",
       "        vertical-align: top;\n",
       "    }\n",
       "\n",
       "    .dataframe thead th {\n",
       "        text-align: right;\n",
       "    }\n",
       "</style>\n",
       "<table border=\"1\" class=\"dataframe\">\n",
       "  <thead>\n",
       "    <tr style=\"text-align: right;\">\n",
       "      <th></th>\n",
       "      <th>Vanesa</th>\n",
       "      <th>Kevin</th>\n",
       "      <th>Fernanda</th>\n",
       "      <th>Patricia</th>\n",
       "    </tr>\n",
       "  </thead>\n",
       "  <tbody>\n",
       "    <tr>\n",
       "      <th>Mes 1</th>\n",
       "      <td>68</td>\n",
       "      <td>89</td>\n",
       "      <td>59</td>\n",
       "      <td>70</td>\n",
       "    </tr>\n",
       "    <tr>\n",
       "      <th>Mes 3</th>\n",
       "      <td>66</td>\n",
       "      <td>90</td>\n",
       "      <td>60</td>\n",
       "      <td>67</td>\n",
       "    </tr>\n",
       "  </tbody>\n",
       "</table>\n",
       "</div>"
      ]
     },
     "execution_count": 166,
     "metadata": {},
     "output_type": "execute_result"
    }
   ],
   "execution_count": 166
  },
  {
   "cell_type": "markdown",
   "id": "f3c15123-91f2-4e18-be70-ea286393715b",
   "metadata": {},
   "source": [
    "Saca filas especificas (mes 1 y 3) usando loc"
   ]
  },
  {
   "cell_type": "code",
   "id": "f55a53bb-ea3e-4800-a10f-a1d2526ce6d7",
   "metadata": {
    "ExecuteTime": {
     "end_time": "2024-07-01T23:51:02.482002Z",
     "start_time": "2024-07-01T23:51:02.473736Z"
    }
   },
   "source": "peso.loc[['Mes 1','Mes 3']]",
   "outputs": [
    {
     "data": {
      "text/plain": [
       "       Vanesa  Kevin  Fernanda  Patricia\n",
       "Mes 1      68     89        59        70\n",
       "Mes 3      66     90        60        67"
      ],
      "text/html": [
       "<div>\n",
       "<style scoped>\n",
       "    .dataframe tbody tr th:only-of-type {\n",
       "        vertical-align: middle;\n",
       "    }\n",
       "\n",
       "    .dataframe tbody tr th {\n",
       "        vertical-align: top;\n",
       "    }\n",
       "\n",
       "    .dataframe thead th {\n",
       "        text-align: right;\n",
       "    }\n",
       "</style>\n",
       "<table border=\"1\" class=\"dataframe\">\n",
       "  <thead>\n",
       "    <tr style=\"text-align: right;\">\n",
       "      <th></th>\n",
       "      <th>Vanesa</th>\n",
       "      <th>Kevin</th>\n",
       "      <th>Fernanda</th>\n",
       "      <th>Patricia</th>\n",
       "    </tr>\n",
       "  </thead>\n",
       "  <tbody>\n",
       "    <tr>\n",
       "      <th>Mes 1</th>\n",
       "      <td>68</td>\n",
       "      <td>89</td>\n",
       "      <td>59</td>\n",
       "      <td>70</td>\n",
       "    </tr>\n",
       "    <tr>\n",
       "      <th>Mes 3</th>\n",
       "      <td>66</td>\n",
       "      <td>90</td>\n",
       "      <td>60</td>\n",
       "      <td>67</td>\n",
       "    </tr>\n",
       "  </tbody>\n",
       "</table>\n",
       "</div>"
      ]
     },
     "execution_count": 167,
     "metadata": {},
     "output_type": "execute_result"
    }
   ],
   "execution_count": 167
  },
  {
   "cell_type": "markdown",
   "id": "047a7464-3cc9-4a78-8f91-6eab1f4ebea1",
   "metadata": {},
   "source": [
    "Y ahora los Meses 2 y 3 de Vanesa y Patricia solamente con loc"
   ]
  },
  {
   "cell_type": "code",
   "id": "de605887-1a1b-4443-ab51-34ccabc0da62",
   "metadata": {
    "ExecuteTime": {
     "end_time": "2024-07-01T23:51:55.871453Z",
     "start_time": "2024-07-01T23:51:55.864060Z"
    }
   },
   "source": "peso.loc['Mes 1':'Mes 3', ['Vanesa','Patricia']]",
   "outputs": [
    {
     "data": {
      "text/plain": [
       "       Vanesa  Patricia\n",
       "Mes 1      68        70\n",
       "Mes 2      67        68\n",
       "Mes 3      66        67"
      ],
      "text/html": [
       "<div>\n",
       "<style scoped>\n",
       "    .dataframe tbody tr th:only-of-type {\n",
       "        vertical-align: middle;\n",
       "    }\n",
       "\n",
       "    .dataframe tbody tr th {\n",
       "        vertical-align: top;\n",
       "    }\n",
       "\n",
       "    .dataframe thead th {\n",
       "        text-align: right;\n",
       "    }\n",
       "</style>\n",
       "<table border=\"1\" class=\"dataframe\">\n",
       "  <thead>\n",
       "    <tr style=\"text-align: right;\">\n",
       "      <th></th>\n",
       "      <th>Vanesa</th>\n",
       "      <th>Patricia</th>\n",
       "    </tr>\n",
       "  </thead>\n",
       "  <tbody>\n",
       "    <tr>\n",
       "      <th>Mes 1</th>\n",
       "      <td>68</td>\n",
       "      <td>70</td>\n",
       "    </tr>\n",
       "    <tr>\n",
       "      <th>Mes 2</th>\n",
       "      <td>67</td>\n",
       "      <td>68</td>\n",
       "    </tr>\n",
       "    <tr>\n",
       "      <th>Mes 3</th>\n",
       "      <td>66</td>\n",
       "      <td>67</td>\n",
       "    </tr>\n",
       "  </tbody>\n",
       "</table>\n",
       "</div>"
      ]
     },
     "execution_count": 169,
     "metadata": {},
     "output_type": "execute_result"
    }
   ],
   "execution_count": 169
  },
  {
   "cell_type": "markdown",
   "id": "dff5c389-8633-4f16-bb42-e11a3f1430a1",
   "metadata": {},
   "source": [
    "##### Indices Booleanos\n",
    "\n",
    "Dime los pesos mayores a 70kg en la tabla"
   ]
  },
  {
   "cell_type": "code",
   "id": "d3b29ad2-ac97-49fa-9c0c-1c0521dffd22",
   "metadata": {
    "ExecuteTime": {
     "end_time": "2024-07-01T23:52:47.391117Z",
     "start_time": "2024-07-01T23:52:47.381322Z"
    }
   },
   "source": "peso[peso>70]",
   "outputs": [
    {
     "data": {
      "text/plain": [
       "       Vanesa  Kevin  Fernanda  Patricia\n",
       "Mes 1     NaN     89       NaN       NaN\n",
       "Mes 2     NaN     89       NaN       NaN\n",
       "Mes 3     NaN     90       NaN       NaN\n",
       "Mes 4     NaN     88       NaN       NaN"
      ],
      "text/html": [
       "<div>\n",
       "<style scoped>\n",
       "    .dataframe tbody tr th:only-of-type {\n",
       "        vertical-align: middle;\n",
       "    }\n",
       "\n",
       "    .dataframe tbody tr th {\n",
       "        vertical-align: top;\n",
       "    }\n",
       "\n",
       "    .dataframe thead th {\n",
       "        text-align: right;\n",
       "    }\n",
       "</style>\n",
       "<table border=\"1\" class=\"dataframe\">\n",
       "  <thead>\n",
       "    <tr style=\"text-align: right;\">\n",
       "      <th></th>\n",
       "      <th>Vanesa</th>\n",
       "      <th>Kevin</th>\n",
       "      <th>Fernanda</th>\n",
       "      <th>Patricia</th>\n",
       "    </tr>\n",
       "  </thead>\n",
       "  <tbody>\n",
       "    <tr>\n",
       "      <th>Mes 1</th>\n",
       "      <td>NaN</td>\n",
       "      <td>89</td>\n",
       "      <td>NaN</td>\n",
       "      <td>NaN</td>\n",
       "    </tr>\n",
       "    <tr>\n",
       "      <th>Mes 2</th>\n",
       "      <td>NaN</td>\n",
       "      <td>89</td>\n",
       "      <td>NaN</td>\n",
       "      <td>NaN</td>\n",
       "    </tr>\n",
       "    <tr>\n",
       "      <th>Mes 3</th>\n",
       "      <td>NaN</td>\n",
       "      <td>90</td>\n",
       "      <td>NaN</td>\n",
       "      <td>NaN</td>\n",
       "    </tr>\n",
       "    <tr>\n",
       "      <th>Mes 4</th>\n",
       "      <td>NaN</td>\n",
       "      <td>88</td>\n",
       "      <td>NaN</td>\n",
       "      <td>NaN</td>\n",
       "    </tr>\n",
       "  </tbody>\n",
       "</table>\n",
       "</div>"
      ]
     },
     "execution_count": 170,
     "metadata": {},
     "output_type": "execute_result"
    }
   ],
   "execution_count": 170
  },
  {
   "cell_type": "code",
   "id": "ddd3581c-5051-4ea0-9dac-286c41a9eca3",
   "metadata": {
    "ExecuteTime": {
     "end_time": "2024-06-29T01:50:35.867950Z",
     "start_time": "2024-06-29T01:50:35.865151Z"
    }
   },
   "source": [],
   "outputs": [],
   "execution_count": 17
  },
  {
   "cell_type": "markdown",
   "id": "57e29244-e5a0-4ff1-8fb0-a1722694f8e1",
   "metadata": {},
   "source": [
    "Y ahora los pesos mayores a 65kg y menores a 80kg"
   ]
  },
  {
   "cell_type": "code",
   "id": "1f2f7128-8878-4fe7-a0be-7cf802513daf",
   "metadata": {
    "ExecuteTime": {
     "end_time": "2024-07-01T23:53:42.118914Z",
     "start_time": "2024-07-01T23:53:42.109337Z"
    }
   },
   "source": "peso[(peso>65) & (peso<80)]",
   "outputs": [
    {
     "data": {
      "text/plain": [
       "       Vanesa  Kevin  Fernanda  Patricia\n",
       "Mes 1    68.0    NaN       NaN      70.0\n",
       "Mes 2    67.0    NaN       NaN      68.0\n",
       "Mes 3    66.0    NaN       NaN      67.0\n",
       "Mes 4     NaN    NaN       NaN       NaN"
      ],
      "text/html": [
       "<div>\n",
       "<style scoped>\n",
       "    .dataframe tbody tr th:only-of-type {\n",
       "        vertical-align: middle;\n",
       "    }\n",
       "\n",
       "    .dataframe tbody tr th {\n",
       "        vertical-align: top;\n",
       "    }\n",
       "\n",
       "    .dataframe thead th {\n",
       "        text-align: right;\n",
       "    }\n",
       "</style>\n",
       "<table border=\"1\" class=\"dataframe\">\n",
       "  <thead>\n",
       "    <tr style=\"text-align: right;\">\n",
       "      <th></th>\n",
       "      <th>Vanesa</th>\n",
       "      <th>Kevin</th>\n",
       "      <th>Fernanda</th>\n",
       "      <th>Patricia</th>\n",
       "    </tr>\n",
       "  </thead>\n",
       "  <tbody>\n",
       "    <tr>\n",
       "      <th>Mes 1</th>\n",
       "      <td>68.0</td>\n",
       "      <td>NaN</td>\n",
       "      <td>NaN</td>\n",
       "      <td>70.0</td>\n",
       "    </tr>\n",
       "    <tr>\n",
       "      <th>Mes 2</th>\n",
       "      <td>67.0</td>\n",
       "      <td>NaN</td>\n",
       "      <td>NaN</td>\n",
       "      <td>68.0</td>\n",
       "    </tr>\n",
       "    <tr>\n",
       "      <th>Mes 3</th>\n",
       "      <td>66.0</td>\n",
       "      <td>NaN</td>\n",
       "      <td>NaN</td>\n",
       "      <td>67.0</td>\n",
       "    </tr>\n",
       "    <tr>\n",
       "      <th>Mes 4</th>\n",
       "      <td>NaN</td>\n",
       "      <td>NaN</td>\n",
       "      <td>NaN</td>\n",
       "      <td>NaN</td>\n",
       "    </tr>\n",
       "  </tbody>\n",
       "</table>\n",
       "</div>"
      ]
     },
     "execution_count": 172,
     "metadata": {},
     "output_type": "execute_result"
    }
   ],
   "execution_count": 172
  },
  {
   "cell_type": "code",
   "id": "8d144876-54c7-4afd-8405-6be41f90597f",
   "metadata": {
    "ExecuteTime": {
     "end_time": "2024-06-29T01:50:36.351908Z",
     "start_time": "2024-06-29T01:50:36.348635Z"
    }
   },
   "source": [],
   "outputs": [],
   "execution_count": 17
  },
  {
   "cell_type": "markdown",
   "id": "90c14bd6-1e0b-4075-aac5-4b535f422e5b",
   "metadata": {},
   "source": [
    "##### Accesar una celda especifica de un Dataframe\n",
    "\n",
    "Que pasa si solo queremos cuanto pesaba Patricia en el mes 3? Usa at"
   ]
  },
  {
   "cell_type": "code",
   "id": "1bb262d0-6d83-4802-aadf-dbac198386fa",
   "metadata": {
    "ExecuteTime": {
     "end_time": "2024-07-01T23:54:09.899998Z",
     "start_time": "2024-07-01T23:54:09.894777Z"
    }
   },
   "source": "peso.at['Mes 3', 'Patricia']",
   "outputs": [
    {
     "data": {
      "text/plain": [
       "67"
      ]
     },
     "execution_count": 173,
     "metadata": {},
     "output_type": "execute_result"
    }
   ],
   "execution_count": 173
  },
  {
   "cell_type": "markdown",
   "id": "21bc424c-ee80-447b-8473-6bf8a8f4cf16",
   "metadata": {},
   "source": [
    "Resulta que Kevin en realidad pesaba 85kg en el mes 4, cambia su valor usando at"
   ]
  },
  {
   "cell_type": "code",
   "id": "47135819-af97-4cea-bb7a-9483bf8cf3ec",
   "metadata": {
    "ExecuteTime": {
     "end_time": "2024-07-01T23:54:40.131104Z",
     "start_time": "2024-07-01T23:54:40.122150Z"
    }
   },
   "source": [
    "peso.at['Mes 4','Kevin']= 85\n",
    "peso"
   ],
   "outputs": [
    {
     "data": {
      "text/plain": [
       "       Vanesa  Kevin  Fernanda  Patricia\n",
       "Mes 1      68     89        59        70\n",
       "Mes 2      67     89        60        68\n",
       "Mes 3      66     90        60        67\n",
       "Mes 4      65     85        62        65"
      ],
      "text/html": [
       "<div>\n",
       "<style scoped>\n",
       "    .dataframe tbody tr th:only-of-type {\n",
       "        vertical-align: middle;\n",
       "    }\n",
       "\n",
       "    .dataframe tbody tr th {\n",
       "        vertical-align: top;\n",
       "    }\n",
       "\n",
       "    .dataframe thead th {\n",
       "        text-align: right;\n",
       "    }\n",
       "</style>\n",
       "<table border=\"1\" class=\"dataframe\">\n",
       "  <thead>\n",
       "    <tr style=\"text-align: right;\">\n",
       "      <th></th>\n",
       "      <th>Vanesa</th>\n",
       "      <th>Kevin</th>\n",
       "      <th>Fernanda</th>\n",
       "      <th>Patricia</th>\n",
       "    </tr>\n",
       "  </thead>\n",
       "  <tbody>\n",
       "    <tr>\n",
       "      <th>Mes 1</th>\n",
       "      <td>68</td>\n",
       "      <td>89</td>\n",
       "      <td>59</td>\n",
       "      <td>70</td>\n",
       "    </tr>\n",
       "    <tr>\n",
       "      <th>Mes 2</th>\n",
       "      <td>67</td>\n",
       "      <td>89</td>\n",
       "      <td>60</td>\n",
       "      <td>68</td>\n",
       "    </tr>\n",
       "    <tr>\n",
       "      <th>Mes 3</th>\n",
       "      <td>66</td>\n",
       "      <td>90</td>\n",
       "      <td>60</td>\n",
       "      <td>67</td>\n",
       "    </tr>\n",
       "    <tr>\n",
       "      <th>Mes 4</th>\n",
       "      <td>65</td>\n",
       "      <td>85</td>\n",
       "      <td>62</td>\n",
       "      <td>65</td>\n",
       "    </tr>\n",
       "  </tbody>\n",
       "</table>\n",
       "</div>"
      ]
     },
     "execution_count": 174,
     "metadata": {},
     "output_type": "execute_result"
    }
   ],
   "execution_count": 174
  },
  {
   "cell_type": "code",
   "id": "f7886329-4b1d-467d-a71b-53f8ca53ca0f",
   "metadata": {
    "ExecuteTime": {
     "end_time": "2024-06-29T01:50:36.737414Z",
     "start_time": "2024-06-29T01:50:36.734061Z"
    }
   },
   "source": [],
   "outputs": [],
   "execution_count": 17
  },
  {
   "cell_type": "code",
   "id": "e6ec390f-904b-4b1d-906b-28df03fae7d8",
   "metadata": {
    "ExecuteTime": {
     "end_time": "2024-06-29T01:50:36.910063Z",
     "start_time": "2024-06-29T01:50:36.907604Z"
    }
   },
   "source": [],
   "outputs": [],
   "execution_count": 17
  },
  {
   "cell_type": "markdown",
   "id": "3d2c9477-5a2d-4c10-9e3d-a95ffa60941b",
   "metadata": {},
   "source": [
    "##### Estádistica descriptiva\n",
    "\n",
    "Puedes usar el metodo **Describe** para sacar todas las estadisticas del dataframe"
   ]
  },
  {
   "cell_type": "code",
   "id": "99a4bb9a-8837-4142-8a73-bca6cd941204",
   "metadata": {
    "ExecuteTime": {
     "end_time": "2024-07-01T23:55:00.218593Z",
     "start_time": "2024-07-01T23:55:00.202896Z"
    }
   },
   "source": "peso.describe()",
   "outputs": [
    {
     "data": {
      "text/plain": [
       "          Vanesa      Kevin   Fernanda   Patricia\n",
       "count   4.000000   4.000000   4.000000   4.000000\n",
       "mean   66.500000  88.250000  60.250000  67.500000\n",
       "std     1.290994   2.217356   1.258306   2.081666\n",
       "min    65.000000  85.000000  59.000000  65.000000\n",
       "25%    65.750000  88.000000  59.750000  66.500000\n",
       "50%    66.500000  89.000000  60.000000  67.500000\n",
       "75%    67.250000  89.250000  60.500000  68.500000\n",
       "max    68.000000  90.000000  62.000000  70.000000"
      ],
      "text/html": [
       "<div>\n",
       "<style scoped>\n",
       "    .dataframe tbody tr th:only-of-type {\n",
       "        vertical-align: middle;\n",
       "    }\n",
       "\n",
       "    .dataframe tbody tr th {\n",
       "        vertical-align: top;\n",
       "    }\n",
       "\n",
       "    .dataframe thead th {\n",
       "        text-align: right;\n",
       "    }\n",
       "</style>\n",
       "<table border=\"1\" class=\"dataframe\">\n",
       "  <thead>\n",
       "    <tr style=\"text-align: right;\">\n",
       "      <th></th>\n",
       "      <th>Vanesa</th>\n",
       "      <th>Kevin</th>\n",
       "      <th>Fernanda</th>\n",
       "      <th>Patricia</th>\n",
       "    </tr>\n",
       "  </thead>\n",
       "  <tbody>\n",
       "    <tr>\n",
       "      <th>count</th>\n",
       "      <td>4.000000</td>\n",
       "      <td>4.000000</td>\n",
       "      <td>4.000000</td>\n",
       "      <td>4.000000</td>\n",
       "    </tr>\n",
       "    <tr>\n",
       "      <th>mean</th>\n",
       "      <td>66.500000</td>\n",
       "      <td>88.250000</td>\n",
       "      <td>60.250000</td>\n",
       "      <td>67.500000</td>\n",
       "    </tr>\n",
       "    <tr>\n",
       "      <th>std</th>\n",
       "      <td>1.290994</td>\n",
       "      <td>2.217356</td>\n",
       "      <td>1.258306</td>\n",
       "      <td>2.081666</td>\n",
       "    </tr>\n",
       "    <tr>\n",
       "      <th>min</th>\n",
       "      <td>65.000000</td>\n",
       "      <td>85.000000</td>\n",
       "      <td>59.000000</td>\n",
       "      <td>65.000000</td>\n",
       "    </tr>\n",
       "    <tr>\n",
       "      <th>25%</th>\n",
       "      <td>65.750000</td>\n",
       "      <td>88.000000</td>\n",
       "      <td>59.750000</td>\n",
       "      <td>66.500000</td>\n",
       "    </tr>\n",
       "    <tr>\n",
       "      <th>50%</th>\n",
       "      <td>66.500000</td>\n",
       "      <td>89.000000</td>\n",
       "      <td>60.000000</td>\n",
       "      <td>67.500000</td>\n",
       "    </tr>\n",
       "    <tr>\n",
       "      <th>75%</th>\n",
       "      <td>67.250000</td>\n",
       "      <td>89.250000</td>\n",
       "      <td>60.500000</td>\n",
       "      <td>68.500000</td>\n",
       "    </tr>\n",
       "    <tr>\n",
       "      <th>max</th>\n",
       "      <td>68.000000</td>\n",
       "      <td>90.000000</td>\n",
       "      <td>62.000000</td>\n",
       "      <td>70.000000</td>\n",
       "    </tr>\n",
       "  </tbody>\n",
       "</table>\n",
       "</div>"
      ]
     },
     "execution_count": 175,
     "metadata": {},
     "output_type": "execute_result"
    }
   ],
   "execution_count": 175
  },
  {
   "cell_type": "markdown",
   "id": "c398e7ad-c0c7-4b91-be05-1afb9a28b2cc",
   "metadata": {},
   "source": [
    "También puedes cambiar la cantidad de decimales usando **Precision**"
   ]
  },
  {
   "cell_type": "code",
   "id": "e23483aa-11e5-488f-a341-0ce6bd2ca718",
   "metadata": {
    "ExecuteTime": {
     "end_time": "2024-07-01T23:57:03.119273Z",
     "start_time": "2024-07-01T23:57:03.079327Z"
    }
   },
   "source": [
    "pd.set_option('precision',1\n",
    "              )"
   ],
   "outputs": [
    {
     "ename": "OptionError",
     "evalue": "Pattern matched multiple keys",
     "output_type": "error",
     "traceback": [
      "\u001B[1;31m---------------------------------------------------------------------------\u001B[0m",
      "\u001B[1;31mOptionError\u001B[0m                               Traceback (most recent call last)",
      "Cell \u001B[1;32mIn[187], line 1\u001B[0m\n\u001B[1;32m----> 1\u001B[0m pd\u001B[38;5;241m.\u001B[39mset_option(\u001B[38;5;124m'\u001B[39m\u001B[38;5;124mprecision\u001B[39m\u001B[38;5;124m'\u001B[39m,\u001B[38;5;241m2\u001B[39m)\n",
      "File \u001B[1;32m~\\miniconda3\\Lib\\site-packages\\pandas\\_config\\config.py:274\u001B[0m, in \u001B[0;36mCallableDynamicDoc.__call__\u001B[1;34m(self, *args, **kwds)\u001B[0m\n\u001B[0;32m    273\u001B[0m \u001B[38;5;28;01mdef\u001B[39;00m \u001B[38;5;21m__call__\u001B[39m(\u001B[38;5;28mself\u001B[39m, \u001B[38;5;241m*\u001B[39margs, \u001B[38;5;241m*\u001B[39m\u001B[38;5;241m*\u001B[39mkwds) \u001B[38;5;241m-\u001B[39m\u001B[38;5;241m>\u001B[39m T:\n\u001B[1;32m--> 274\u001B[0m     \u001B[38;5;28;01mreturn\u001B[39;00m \u001B[38;5;28mself\u001B[39m\u001B[38;5;241m.\u001B[39m\u001B[38;5;18m__func__\u001B[39m(\u001B[38;5;241m*\u001B[39margs, \u001B[38;5;241m*\u001B[39m\u001B[38;5;241m*\u001B[39mkwds)\n",
      "File \u001B[1;32m~\\miniconda3\\Lib\\site-packages\\pandas\\_config\\config.py:167\u001B[0m, in \u001B[0;36m_set_option\u001B[1;34m(*args, **kwargs)\u001B[0m\n\u001B[0;32m    164\u001B[0m     \u001B[38;5;28;01mraise\u001B[39;00m \u001B[38;5;167;01mTypeError\u001B[39;00m(\u001B[38;5;124mf\u001B[39m\u001B[38;5;124m'\u001B[39m\u001B[38;5;124m_set_option() got an unexpected keyword argument \u001B[39m\u001B[38;5;124m\"\u001B[39m\u001B[38;5;132;01m{\u001B[39;00mkwarg\u001B[38;5;132;01m}\u001B[39;00m\u001B[38;5;124m\"\u001B[39m\u001B[38;5;124m'\u001B[39m)\n\u001B[0;32m    166\u001B[0m \u001B[38;5;28;01mfor\u001B[39;00m k, v \u001B[38;5;129;01min\u001B[39;00m \u001B[38;5;28mzip\u001B[39m(args[::\u001B[38;5;241m2\u001B[39m], args[\u001B[38;5;241m1\u001B[39m::\u001B[38;5;241m2\u001B[39m]):\n\u001B[1;32m--> 167\u001B[0m     key \u001B[38;5;241m=\u001B[39m _get_single_key(k, silent)\n\u001B[0;32m    169\u001B[0m     o \u001B[38;5;241m=\u001B[39m _get_registered_option(key)\n\u001B[0;32m    170\u001B[0m     \u001B[38;5;28;01mif\u001B[39;00m o \u001B[38;5;129;01mand\u001B[39;00m o\u001B[38;5;241m.\u001B[39mvalidator:\n",
      "File \u001B[1;32m~\\miniconda3\\Lib\\site-packages\\pandas\\_config\\config.py:134\u001B[0m, in \u001B[0;36m_get_single_key\u001B[1;34m(pat, silent)\u001B[0m\n\u001B[0;32m    132\u001B[0m     \u001B[38;5;28;01mraise\u001B[39;00m OptionError(\u001B[38;5;124mf\u001B[39m\u001B[38;5;124m\"\u001B[39m\u001B[38;5;124mNo such keys(s): \u001B[39m\u001B[38;5;132;01m{\u001B[39;00m\u001B[38;5;28mrepr\u001B[39m(pat)\u001B[38;5;132;01m}\u001B[39;00m\u001B[38;5;124m\"\u001B[39m)\n\u001B[0;32m    133\u001B[0m \u001B[38;5;28;01mif\u001B[39;00m \u001B[38;5;28mlen\u001B[39m(keys) \u001B[38;5;241m>\u001B[39m \u001B[38;5;241m1\u001B[39m:\n\u001B[1;32m--> 134\u001B[0m     \u001B[38;5;28;01mraise\u001B[39;00m OptionError(\u001B[38;5;124m\"\u001B[39m\u001B[38;5;124mPattern matched multiple keys\u001B[39m\u001B[38;5;124m\"\u001B[39m)\n\u001B[0;32m    135\u001B[0m key \u001B[38;5;241m=\u001B[39m keys[\u001B[38;5;241m0\u001B[39m]\n\u001B[0;32m    137\u001B[0m \u001B[38;5;28;01mif\u001B[39;00m \u001B[38;5;129;01mnot\u001B[39;00m silent:\n",
      "\u001B[1;31mOptionError\u001B[0m: Pattern matched multiple keys"
     ]
    }
   ],
   "execution_count": 187
  },
  {
   "cell_type": "code",
   "id": "e130504d-22b0-4b29-a6f5-aba46dfc2d9c",
   "metadata": {
    "ExecuteTime": {
     "end_time": "2024-07-01T23:55:52.177525Z",
     "start_time": "2024-07-01T23:55:52.162452Z"
    }
   },
   "source": "peso.describe()",
   "outputs": [
    {
     "data": {
      "text/plain": [
       "          Vanesa      Kevin   Fernanda   Patricia\n",
       "count   4.000000   4.000000   4.000000   4.000000\n",
       "mean   66.500000  88.250000  60.250000  67.500000\n",
       "std     1.290994   2.217356   1.258306   2.081666\n",
       "min    65.000000  85.000000  59.000000  65.000000\n",
       "25%    65.750000  88.000000  59.750000  66.500000\n",
       "50%    66.500000  89.000000  60.000000  67.500000\n",
       "75%    67.250000  89.250000  60.500000  68.500000\n",
       "max    68.000000  90.000000  62.000000  70.000000"
      ],
      "text/html": [
       "<div>\n",
       "<style scoped>\n",
       "    .dataframe tbody tr th:only-of-type {\n",
       "        vertical-align: middle;\n",
       "    }\n",
       "\n",
       "    .dataframe tbody tr th {\n",
       "        vertical-align: top;\n",
       "    }\n",
       "\n",
       "    .dataframe thead th {\n",
       "        text-align: right;\n",
       "    }\n",
       "</style>\n",
       "<table border=\"1\" class=\"dataframe\">\n",
       "  <thead>\n",
       "    <tr style=\"text-align: right;\">\n",
       "      <th></th>\n",
       "      <th>Vanesa</th>\n",
       "      <th>Kevin</th>\n",
       "      <th>Fernanda</th>\n",
       "      <th>Patricia</th>\n",
       "    </tr>\n",
       "  </thead>\n",
       "  <tbody>\n",
       "    <tr>\n",
       "      <th>count</th>\n",
       "      <td>4.000000</td>\n",
       "      <td>4.000000</td>\n",
       "      <td>4.000000</td>\n",
       "      <td>4.000000</td>\n",
       "    </tr>\n",
       "    <tr>\n",
       "      <th>mean</th>\n",
       "      <td>66.500000</td>\n",
       "      <td>88.250000</td>\n",
       "      <td>60.250000</td>\n",
       "      <td>67.500000</td>\n",
       "    </tr>\n",
       "    <tr>\n",
       "      <th>std</th>\n",
       "      <td>1.290994</td>\n",
       "      <td>2.217356</td>\n",
       "      <td>1.258306</td>\n",
       "      <td>2.081666</td>\n",
       "    </tr>\n",
       "    <tr>\n",
       "      <th>min</th>\n",
       "      <td>65.000000</td>\n",
       "      <td>85.000000</td>\n",
       "      <td>59.000000</td>\n",
       "      <td>65.000000</td>\n",
       "    </tr>\n",
       "    <tr>\n",
       "      <th>25%</th>\n",
       "      <td>65.750000</td>\n",
       "      <td>88.000000</td>\n",
       "      <td>59.750000</td>\n",
       "      <td>66.500000</td>\n",
       "    </tr>\n",
       "    <tr>\n",
       "      <th>50%</th>\n",
       "      <td>66.500000</td>\n",
       "      <td>89.000000</td>\n",
       "      <td>60.000000</td>\n",
       "      <td>67.500000</td>\n",
       "    </tr>\n",
       "    <tr>\n",
       "      <th>75%</th>\n",
       "      <td>67.250000</td>\n",
       "      <td>89.250000</td>\n",
       "      <td>60.500000</td>\n",
       "      <td>68.500000</td>\n",
       "    </tr>\n",
       "    <tr>\n",
       "      <th>max</th>\n",
       "      <td>68.000000</td>\n",
       "      <td>90.000000</td>\n",
       "      <td>62.000000</td>\n",
       "      <td>70.000000</td>\n",
       "    </tr>\n",
       "  </tbody>\n",
       "</table>\n",
       "</div>"
      ]
     },
     "execution_count": 177,
     "metadata": {},
     "output_type": "execute_result"
    }
   ],
   "execution_count": 177
  },
  {
   "cell_type": "markdown",
   "id": "62e66306-03f4-443a-917e-f3d10a1e7603",
   "metadata": {},
   "source": [
    "Y también se pueden aplicar los metodos de estadistica descriptiva individuales como mean"
   ]
  },
  {
   "cell_type": "code",
   "id": "81950ce6-bf4a-4d18-8de5-5a58d24c64ca",
   "metadata": {
    "ExecuteTime": {
     "end_time": "2024-07-01T23:57:20.138674Z",
     "start_time": "2024-07-01T23:57:20.132071Z"
    }
   },
   "source": "peso.mean()",
   "outputs": [
    {
     "data": {
      "text/plain": [
       "Vanesa      66.50\n",
       "Kevin       88.25\n",
       "Fernanda    60.25\n",
       "Patricia    67.50\n",
       "dtype: float64"
      ]
     },
     "execution_count": 188,
     "metadata": {},
     "output_type": "execute_result"
    }
   ],
   "execution_count": 188
  },
  {
   "cell_type": "markdown",
   "id": "467812ad-6fc3-4458-908b-4033b8d8e1b5",
   "metadata": {},
   "source": [
    "##### Transponer\n",
    "\n",
    "Si quisieramos voltear el dataframe, tendríamos que hacer el método T"
   ]
  },
  {
   "cell_type": "code",
   "id": "c7e2e759-2640-4b2d-8b39-0cd8c411b222",
   "metadata": {
    "ExecuteTime": {
     "end_time": "2024-07-01T23:57:25.006505Z",
     "start_time": "2024-07-01T23:57:24.998480Z"
    }
   },
   "source": "peso.T",
   "outputs": [
    {
     "data": {
      "text/plain": [
       "          Mes 1  Mes 2  Mes 3  Mes 4\n",
       "Vanesa       68     67     66     65\n",
       "Kevin        89     89     90     85\n",
       "Fernanda     59     60     60     62\n",
       "Patricia     70     68     67     65"
      ],
      "text/html": [
       "<div>\n",
       "<style scoped>\n",
       "    .dataframe tbody tr th:only-of-type {\n",
       "        vertical-align: middle;\n",
       "    }\n",
       "\n",
       "    .dataframe tbody tr th {\n",
       "        vertical-align: top;\n",
       "    }\n",
       "\n",
       "    .dataframe thead th {\n",
       "        text-align: right;\n",
       "    }\n",
       "</style>\n",
       "<table border=\"1\" class=\"dataframe\">\n",
       "  <thead>\n",
       "    <tr style=\"text-align: right;\">\n",
       "      <th></th>\n",
       "      <th>Mes 1</th>\n",
       "      <th>Mes 2</th>\n",
       "      <th>Mes 3</th>\n",
       "      <th>Mes 4</th>\n",
       "    </tr>\n",
       "  </thead>\n",
       "  <tbody>\n",
       "    <tr>\n",
       "      <th>Vanesa</th>\n",
       "      <td>68</td>\n",
       "      <td>67</td>\n",
       "      <td>66</td>\n",
       "      <td>65</td>\n",
       "    </tr>\n",
       "    <tr>\n",
       "      <th>Kevin</th>\n",
       "      <td>89</td>\n",
       "      <td>89</td>\n",
       "      <td>90</td>\n",
       "      <td>85</td>\n",
       "    </tr>\n",
       "    <tr>\n",
       "      <th>Fernanda</th>\n",
       "      <td>59</td>\n",
       "      <td>60</td>\n",
       "      <td>60</td>\n",
       "      <td>62</td>\n",
       "    </tr>\n",
       "    <tr>\n",
       "      <th>Patricia</th>\n",
       "      <td>70</td>\n",
       "      <td>68</td>\n",
       "      <td>67</td>\n",
       "      <td>65</td>\n",
       "    </tr>\n",
       "  </tbody>\n",
       "</table>\n",
       "</div>"
      ]
     },
     "execution_count": 189,
     "metadata": {},
     "output_type": "execute_result"
    }
   ],
   "execution_count": 189
  },
  {
   "cell_type": "markdown",
   "id": "6e48f3ca-e4a7-41ae-8d72-ad5ad28645d8",
   "metadata": {},
   "source": [
    "Y ahora eso nos ayudaría a sacar los estadísticos para los meses en vez de para las personas"
   ]
  },
  {
   "cell_type": "code",
   "id": "ce0909d6-6404-499c-aa41-866a88d836dd",
   "metadata": {
    "ExecuteTime": {
     "end_time": "2024-07-01T23:57:46.072278Z",
     "start_time": "2024-07-01T23:57:46.066066Z"
    }
   },
   "source": "peso.T.mean()\n",
   "outputs": [
    {
     "data": {
      "text/plain": [
       "Mes 1    71.50\n",
       "Mes 2    71.00\n",
       "Mes 3    70.75\n",
       "Mes 4    69.25\n",
       "dtype: float64"
      ]
     },
     "execution_count": 190,
     "metadata": {},
     "output_type": "execute_result"
    }
   ],
   "execution_count": 190
  },
  {
   "cell_type": "markdown",
   "id": "8066a37e-b1d7-43f9-ab02-2fdc92eb76fb",
   "metadata": {},
   "source": [
    "Y el peso promedio por mes de nuestra gente"
   ]
  },
  {
   "cell_type": "code",
   "id": "64970fa2-ceed-45c3-a87d-dda435d321f1",
   "metadata": {
    "ExecuteTime": {
     "end_time": "2024-07-01T23:58:01.071698Z",
     "start_time": "2024-07-01T23:58:01.058694Z"
    }
   },
   "source": "peso.T.describe()",
   "outputs": [
    {
     "data": {
      "text/plain": [
       "          Mes 1      Mes 2      Mes 3     Mes 4\n",
       "count   4.00000   4.000000   4.000000   4.00000\n",
       "mean   71.50000  71.000000  70.750000  69.25000\n",
       "std    12.60952  12.516656  13.200379  10.59481\n",
       "min    59.00000  60.000000  60.000000  62.00000\n",
       "25%    65.75000  65.250000  64.500000  64.25000\n",
       "50%    69.00000  67.500000  66.500000  65.00000\n",
       "75%    74.75000  73.250000  72.750000  70.00000\n",
       "max    89.00000  89.000000  90.000000  85.00000"
      ],
      "text/html": [
       "<div>\n",
       "<style scoped>\n",
       "    .dataframe tbody tr th:only-of-type {\n",
       "        vertical-align: middle;\n",
       "    }\n",
       "\n",
       "    .dataframe tbody tr th {\n",
       "        vertical-align: top;\n",
       "    }\n",
       "\n",
       "    .dataframe thead th {\n",
       "        text-align: right;\n",
       "    }\n",
       "</style>\n",
       "<table border=\"1\" class=\"dataframe\">\n",
       "  <thead>\n",
       "    <tr style=\"text-align: right;\">\n",
       "      <th></th>\n",
       "      <th>Mes 1</th>\n",
       "      <th>Mes 2</th>\n",
       "      <th>Mes 3</th>\n",
       "      <th>Mes 4</th>\n",
       "    </tr>\n",
       "  </thead>\n",
       "  <tbody>\n",
       "    <tr>\n",
       "      <th>count</th>\n",
       "      <td>4.00000</td>\n",
       "      <td>4.000000</td>\n",
       "      <td>4.000000</td>\n",
       "      <td>4.00000</td>\n",
       "    </tr>\n",
       "    <tr>\n",
       "      <th>mean</th>\n",
       "      <td>71.50000</td>\n",
       "      <td>71.000000</td>\n",
       "      <td>70.750000</td>\n",
       "      <td>69.25000</td>\n",
       "    </tr>\n",
       "    <tr>\n",
       "      <th>std</th>\n",
       "      <td>12.60952</td>\n",
       "      <td>12.516656</td>\n",
       "      <td>13.200379</td>\n",
       "      <td>10.59481</td>\n",
       "    </tr>\n",
       "    <tr>\n",
       "      <th>min</th>\n",
       "      <td>59.00000</td>\n",
       "      <td>60.000000</td>\n",
       "      <td>60.000000</td>\n",
       "      <td>62.00000</td>\n",
       "    </tr>\n",
       "    <tr>\n",
       "      <th>25%</th>\n",
       "      <td>65.75000</td>\n",
       "      <td>65.250000</td>\n",
       "      <td>64.500000</td>\n",
       "      <td>64.25000</td>\n",
       "    </tr>\n",
       "    <tr>\n",
       "      <th>50%</th>\n",
       "      <td>69.00000</td>\n",
       "      <td>67.500000</td>\n",
       "      <td>66.500000</td>\n",
       "      <td>65.00000</td>\n",
       "    </tr>\n",
       "    <tr>\n",
       "      <th>75%</th>\n",
       "      <td>74.75000</td>\n",
       "      <td>73.250000</td>\n",
       "      <td>72.750000</td>\n",
       "      <td>70.00000</td>\n",
       "    </tr>\n",
       "    <tr>\n",
       "      <th>max</th>\n",
       "      <td>89.00000</td>\n",
       "      <td>89.000000</td>\n",
       "      <td>90.000000</td>\n",
       "      <td>85.00000</td>\n",
       "    </tr>\n",
       "  </tbody>\n",
       "</table>\n",
       "</div>"
      ]
     },
     "execution_count": 192,
     "metadata": {},
     "output_type": "execute_result"
    }
   ],
   "execution_count": 192
  },
  {
   "cell_type": "markdown",
   "id": "b49b3eee-2eae-409c-8977-e731035f11ce",
   "metadata": {},
   "source": [
    "##### Ordenar el Dataframe\n",
    "\n",
    "Ahora vamos a arreglar el dataframe por fila, con los indices en orden descendente"
   ]
  },
  {
   "cell_type": "code",
   "id": "3e95f594-f9b0-4ba5-a9ca-63485e8197af",
   "metadata": {
    "ExecuteTime": {
     "end_time": "2024-07-01T23:58:16.156535Z",
     "start_time": "2024-07-01T23:58:16.148797Z"
    }
   },
   "source": "peso.sort_index(ascending=False)",
   "outputs": [
    {
     "data": {
      "text/plain": [
       "       Vanesa  Kevin  Fernanda  Patricia\n",
       "Mes 4      65     85        62        65\n",
       "Mes 3      66     90        60        67\n",
       "Mes 2      67     89        60        68\n",
       "Mes 1      68     89        59        70"
      ],
      "text/html": [
       "<div>\n",
       "<style scoped>\n",
       "    .dataframe tbody tr th:only-of-type {\n",
       "        vertical-align: middle;\n",
       "    }\n",
       "\n",
       "    .dataframe tbody tr th {\n",
       "        vertical-align: top;\n",
       "    }\n",
       "\n",
       "    .dataframe thead th {\n",
       "        text-align: right;\n",
       "    }\n",
       "</style>\n",
       "<table border=\"1\" class=\"dataframe\">\n",
       "  <thead>\n",
       "    <tr style=\"text-align: right;\">\n",
       "      <th></th>\n",
       "      <th>Vanesa</th>\n",
       "      <th>Kevin</th>\n",
       "      <th>Fernanda</th>\n",
       "      <th>Patricia</th>\n",
       "    </tr>\n",
       "  </thead>\n",
       "  <tbody>\n",
       "    <tr>\n",
       "      <th>Mes 4</th>\n",
       "      <td>65</td>\n",
       "      <td>85</td>\n",
       "      <td>62</td>\n",
       "      <td>65</td>\n",
       "    </tr>\n",
       "    <tr>\n",
       "      <th>Mes 3</th>\n",
       "      <td>66</td>\n",
       "      <td>90</td>\n",
       "      <td>60</td>\n",
       "      <td>67</td>\n",
       "    </tr>\n",
       "    <tr>\n",
       "      <th>Mes 2</th>\n",
       "      <td>67</td>\n",
       "      <td>89</td>\n",
       "      <td>60</td>\n",
       "      <td>68</td>\n",
       "    </tr>\n",
       "    <tr>\n",
       "      <th>Mes 1</th>\n",
       "      <td>68</td>\n",
       "      <td>89</td>\n",
       "      <td>59</td>\n",
       "      <td>70</td>\n",
       "    </tr>\n",
       "  </tbody>\n",
       "</table>\n",
       "</div>"
      ]
     },
     "execution_count": 193,
     "metadata": {},
     "output_type": "execute_result"
    }
   ],
   "execution_count": 193
  },
  {
   "cell_type": "markdown",
   "id": "69f1fef4-c2e4-4930-b82d-8b1f8bd73c48",
   "metadata": {},
   "source": "peso.Las columnas en orden ascendente"
  },
  {
   "cell_type": "code",
   "id": "82e908f9-97ea-48f0-9b53-7340985b9566",
   "metadata": {
    "ExecuteTime": {
     "end_time": "2024-07-01T23:58:37.828397Z",
     "start_time": "2024-07-01T23:58:37.820266Z"
    }
   },
   "source": "peso.sort_index(axis=1)",
   "outputs": [
    {
     "data": {
      "text/plain": [
       "       Fernanda  Kevin  Patricia  Vanesa\n",
       "Mes 1        59     89        70      68\n",
       "Mes 2        60     89        68      67\n",
       "Mes 3        60     90        67      66\n",
       "Mes 4        62     85        65      65"
      ],
      "text/html": [
       "<div>\n",
       "<style scoped>\n",
       "    .dataframe tbody tr th:only-of-type {\n",
       "        vertical-align: middle;\n",
       "    }\n",
       "\n",
       "    .dataframe tbody tr th {\n",
       "        vertical-align: top;\n",
       "    }\n",
       "\n",
       "    .dataframe thead th {\n",
       "        text-align: right;\n",
       "    }\n",
       "</style>\n",
       "<table border=\"1\" class=\"dataframe\">\n",
       "  <thead>\n",
       "    <tr style=\"text-align: right;\">\n",
       "      <th></th>\n",
       "      <th>Fernanda</th>\n",
       "      <th>Kevin</th>\n",
       "      <th>Patricia</th>\n",
       "      <th>Vanesa</th>\n",
       "    </tr>\n",
       "  </thead>\n",
       "  <tbody>\n",
       "    <tr>\n",
       "      <th>Mes 1</th>\n",
       "      <td>59</td>\n",
       "      <td>89</td>\n",
       "      <td>70</td>\n",
       "      <td>68</td>\n",
       "    </tr>\n",
       "    <tr>\n",
       "      <th>Mes 2</th>\n",
       "      <td>60</td>\n",
       "      <td>89</td>\n",
       "      <td>68</td>\n",
       "      <td>67</td>\n",
       "    </tr>\n",
       "    <tr>\n",
       "      <th>Mes 3</th>\n",
       "      <td>60</td>\n",
       "      <td>90</td>\n",
       "      <td>67</td>\n",
       "      <td>66</td>\n",
       "    </tr>\n",
       "    <tr>\n",
       "      <th>Mes 4</th>\n",
       "      <td>62</td>\n",
       "      <td>85</td>\n",
       "      <td>65</td>\n",
       "      <td>65</td>\n",
       "    </tr>\n",
       "  </tbody>\n",
       "</table>\n",
       "</div>"
      ]
     },
     "execution_count": 194,
     "metadata": {},
     "output_type": "execute_result"
    }
   ],
   "execution_count": 194
  },
  {
   "cell_type": "markdown",
   "id": "29f1f219-b455-4984-ac22-864e7c088638",
   "metadata": {},
   "source": [
    "Y también se vale ordenar los valores según una fila o columna especifica.  El siguiente código ordena de forma descendente los datos del DataFrame con respecto\n",
    "a los valores del Mes 1."
   ]
  },
  {
   "cell_type": "code",
   "id": "cf6c2851-8e01-4996-a057-c903645feb59",
   "metadata": {
    "ExecuteTime": {
     "end_time": "2024-07-01T23:59:05.617032Z",
     "start_time": "2024-07-01T23:59:05.611046Z"
    }
   },
   "source": "peso.loc['Mes 1'].sort_values(ascending=False)",
   "outputs": [
    {
     "data": {
      "text/plain": [
       "Kevin       89\n",
       "Patricia    70\n",
       "Vanesa      68\n",
       "Fernanda    59\n",
       "Name: Mes 1, dtype: int64"
      ]
     },
     "execution_count": 195,
     "metadata": {},
     "output_type": "execute_result"
    }
   ],
   "execution_count": 195
  },
  {
   "cell_type": "code",
   "id": "65255a14-b79c-4ce5-81bc-1ce0e774d059",
   "metadata": {
    "ExecuteTime": {
     "end_time": "2024-06-29T01:50:38.411705Z",
     "start_time": "2024-06-29T01:50:38.408027Z"
    }
   },
   "source": [],
   "outputs": [],
   "execution_count": 17
  }
 ],
 "metadata": {
  "kernelspec": {
   "display_name": "Python 3",
   "language": "python",
   "name": "python3"
  },
  "language_info": {
   "codemirror_mode": {
    "name": "ipython",
    "version": 3
   },
   "file_extension": ".py",
   "mimetype": "text/x-python",
   "name": "python",
   "nbconvert_exporter": "python",
   "pygments_lexer": "ipython3",
   "version": "3.8.8"
  }
 },
 "nbformat": 4,
 "nbformat_minor": 5
}
